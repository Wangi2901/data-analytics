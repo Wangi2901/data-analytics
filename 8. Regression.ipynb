{
 "cells": [
  {
   "cell_type": "markdown",
   "id": "376afbc8-2fb8-498c-9954-1bc27e313b24",
   "metadata": {},
   "source": [
    "# 8. (Lineare) Regression\n",
    "## Anforderungen an Projektumsetzung: Regression\n",
    "---\n",
    "**AUFGABE:**\n",
    "\n",
    "- Entscheiden Sie, ob Sie mit der linearen Regression modellieren, prädizieren, oder beides erreichen wollen.\n",
    "- Führen Sie die entsprechende(n) Analyse(n) methodisch sauber durch und berichten Sie entsprechend der    eingeführten Kriterien und Evaluationsmaße das Ergebnis.\n",
    "- Wenn Sie sowohl modellieren als auch prädizieren wollen, führen Sie die Modellierung nur auf den Trainingsdaten durch, um zu vermeiden, dass Sie ungewollt aus Ihren Testdaten lernen. Trainieren Sie das Prädiktionsmodell im zweiten Schritt aufgrund der Erkenntnisse der Modellierung.\n",
    "----\n",
    "Ein prädiktives Modell wurde nicht angewendet, da die Prädiktion wie eine Klassifikation nur ohne Zielvariablen ist und eine Klassifikation auf diesem Datensatz keine aussagekräftigen Ergebnisse lieferte.\n",
    "Daher wird die lineare Regression nur modelliert. "
   ]
  },
  {
   "cell_type": "code",
   "execution_count": 1,
   "id": "14cbff10-5cdd-4f31-bd47-47de5970d35b",
   "metadata": {},
   "outputs": [],
   "source": [
    "import statsmodels.api as sm\n",
    "import pandas as pd\n",
    "\n",
    "from statsmodels.formula.api import ols\n",
    "from statsmodels.stats.anova import anova_lm"
   ]
  },
  {
   "cell_type": "code",
   "execution_count": 2,
   "id": "b50d8ee0-37cb-4684-a56a-830edab3b56c",
   "metadata": {},
   "outputs": [],
   "source": [
    "apps = pd.read_csv(\"Daten/Google-Playstore_Edit2.csv\")"
   ]
  },
  {
   "cell_type": "code",
   "execution_count": 3,
   "id": "1f9fbb10-fbae-4f83-a50c-c9ee0dd3441b",
   "metadata": {},
   "outputs": [
    {
     "data": {
      "text/plain": [
       "App Name              object\n",
       "App Id                object\n",
       "Category              object\n",
       "Rating               float64\n",
       "Rating Count         float64\n",
       "Installs              object\n",
       "Minimum Installs     float64\n",
       "Maximum Installs       int64\n",
       "Free                    bool\n",
       "Price                float64\n",
       "Currency              object\n",
       "Size                 float64\n",
       "Minimum Android       object\n",
       "Developer Id          object\n",
       "Developer Website     object\n",
       "Developer Email       object\n",
       "Released              object\n",
       "Last Updated          object\n",
       "Content Rating        object\n",
       "Privacy Policy        object\n",
       "Ad Supported            bool\n",
       "In App Purchases        bool\n",
       "Editors Choice          bool\n",
       "Scraped Time          object\n",
       "Released Year        float64\n",
       "dtype: object"
      ]
     },
     "execution_count": 3,
     "metadata": {},
     "output_type": "execute_result"
    }
   ],
   "source": [
    "apps.dtypes"
   ]
  },
  {
   "cell_type": "markdown",
   "id": "4d20c286-379f-4a6c-b570-f24faa8b8186",
   "metadata": {},
   "source": [
    "#### Datenaufbereitung"
   ]
  },
  {
   "cell_type": "code",
   "execution_count": 4,
   "id": "73a7aff9-d59e-46e1-aa4f-a6264186afd9",
   "metadata": {},
   "outputs": [],
   "source": [
    "apps['Free']             = apps['Free'].astype(float)\n",
    "apps['Ad Supported']     = apps['Ad Supported'].astype(float)\n",
    "apps['Editors Choice']   = apps['Editors Choice'].astype(float)\n",
    "apps['In App Purchases'] = apps['In App Purchases'].astype(float)\n",
    "apps['Maximum Installs'] = apps['Maximum Installs'].astype(float)"
   ]
  },
  {
   "cell_type": "code",
   "execution_count": 5,
   "id": "7041b321-285f-4e16-bbcd-acf69f428973",
   "metadata": {},
   "outputs": [
    {
     "data": {
      "text/html": [
       "<div>\n",
       "<style scoped>\n",
       "    .dataframe tbody tr th:only-of-type {\n",
       "        vertical-align: middle;\n",
       "    }\n",
       "\n",
       "    .dataframe tbody tr th {\n",
       "        vertical-align: top;\n",
       "    }\n",
       "\n",
       "    .dataframe thead th {\n",
       "        text-align: right;\n",
       "    }\n",
       "</style>\n",
       "<table border=\"1\" class=\"dataframe\">\n",
       "  <thead>\n",
       "    <tr style=\"text-align: right;\">\n",
       "      <th></th>\n",
       "      <th>App Name</th>\n",
       "      <th>App Id</th>\n",
       "      <th>Category</th>\n",
       "      <th>Rating</th>\n",
       "      <th>Rating Count</th>\n",
       "      <th>Installs</th>\n",
       "      <th>Minimum Installs</th>\n",
       "      <th>Maximum Installs</th>\n",
       "      <th>Free</th>\n",
       "      <th>Price</th>\n",
       "      <th>...</th>\n",
       "      <th>Developer Email</th>\n",
       "      <th>Released</th>\n",
       "      <th>Last Updated</th>\n",
       "      <th>Content Rating</th>\n",
       "      <th>Privacy Policy</th>\n",
       "      <th>Ad Supported</th>\n",
       "      <th>In App Purchases</th>\n",
       "      <th>Editors Choice</th>\n",
       "      <th>Scraped Time</th>\n",
       "      <th>Released Year</th>\n",
       "    </tr>\n",
       "  </thead>\n",
       "  <tbody>\n",
       "    <tr>\n",
       "      <th>0</th>\n",
       "      <td>BBD Store - Best Budget Deals</td>\n",
       "      <td>com.app.BBD_Store</td>\n",
       "      <td>Shopping</td>\n",
       "      <td>5.0</td>\n",
       "      <td>20.0</td>\n",
       "      <td>100+</td>\n",
       "      <td>100.0</td>\n",
       "      <td>179.0</td>\n",
       "      <td>1.0</td>\n",
       "      <td>0.0</td>\n",
       "      <td>...</td>\n",
       "      <td>bbdstore9137@gmail.com</td>\n",
       "      <td>2020-12-31</td>\n",
       "      <td>2021-05-27</td>\n",
       "      <td>Everyone</td>\n",
       "      <td>https://bbd-store-0.flycricket.io/privacy.html</td>\n",
       "      <td>1.0</td>\n",
       "      <td>0.0</td>\n",
       "      <td>0.0</td>\n",
       "      <td>2021-06-16 00:05:22</td>\n",
       "      <td>2020.0</td>\n",
       "    </tr>\n",
       "    <tr>\n",
       "      <th>1</th>\n",
       "      <td>아가펫츠</td>\n",
       "      <td>com.suholdings.agapets</td>\n",
       "      <td>Lifestyle</td>\n",
       "      <td>5.0</td>\n",
       "      <td>8.0</td>\n",
       "      <td>100+</td>\n",
       "      <td>100.0</td>\n",
       "      <td>152.0</td>\n",
       "      <td>1.0</td>\n",
       "      <td>0.0</td>\n",
       "      <td>...</td>\n",
       "      <td>info@agapets.com</td>\n",
       "      <td>2020-06-16</td>\n",
       "      <td>2020-08-06</td>\n",
       "      <td>Teen</td>\n",
       "      <td>http://www.agapets.com/terms/terms_privacy.html</td>\n",
       "      <td>1.0</td>\n",
       "      <td>0.0</td>\n",
       "      <td>0.0</td>\n",
       "      <td>2021-06-16 02:17:56</td>\n",
       "      <td>2020.0</td>\n",
       "    </tr>\n",
       "    <tr>\n",
       "      <th>2</th>\n",
       "      <td>Zákamenné</td>\n",
       "      <td>com.impoinfo.zakamenne</td>\n",
       "      <td>Communication</td>\n",
       "      <td>5.0</td>\n",
       "      <td>8.0</td>\n",
       "      <td>1,000+</td>\n",
       "      <td>1000.0</td>\n",
       "      <td>1338.0</td>\n",
       "      <td>1.0</td>\n",
       "      <td>0.0</td>\n",
       "      <td>...</td>\n",
       "      <td>adsupra.com@gmail.com</td>\n",
       "      <td>2020-06-25</td>\n",
       "      <td>2020-01-20</td>\n",
       "      <td>Everyone</td>\n",
       "      <td>http://www.impoinfo.com/policy_sk.html</td>\n",
       "      <td>0.0</td>\n",
       "      <td>0.0</td>\n",
       "      <td>0.0</td>\n",
       "      <td>2021-06-16 05:12:07</td>\n",
       "      <td>2020.0</td>\n",
       "    </tr>\n",
       "    <tr>\n",
       "      <th>3</th>\n",
       "      <td>Parihans social app</td>\n",
       "      <td>com.wParihansVideocallingandmessenger_11521310</td>\n",
       "      <td>Social</td>\n",
       "      <td>5.0</td>\n",
       "      <td>22.0</td>\n",
       "      <td>100+</td>\n",
       "      <td>100.0</td>\n",
       "      <td>145.0</td>\n",
       "      <td>1.0</td>\n",
       "      <td>0.0</td>\n",
       "      <td>...</td>\n",
       "      <td>parihans2931@gmail.com</td>\n",
       "      <td>2020-07-10</td>\n",
       "      <td>2020-12-02</td>\n",
       "      <td>Teen</td>\n",
       "      <td>https://sites.google.com/view/parihans-vlog/pr...</td>\n",
       "      <td>0.0</td>\n",
       "      <td>0.0</td>\n",
       "      <td>0.0</td>\n",
       "      <td>2021-06-16 05:39:39</td>\n",
       "      <td>2020.0</td>\n",
       "    </tr>\n",
       "    <tr>\n",
       "      <th>4</th>\n",
       "      <td>CHATRIS 2019 - Match 3 Puzzle Game</td>\n",
       "      <td>com.Doosin.CHATRIS1</td>\n",
       "      <td>Puzzle</td>\n",
       "      <td>5.0</td>\n",
       "      <td>13.0</td>\n",
       "      <td>50+</td>\n",
       "      <td>50.0</td>\n",
       "      <td>69.0</td>\n",
       "      <td>1.0</td>\n",
       "      <td>0.0</td>\n",
       "      <td>...</td>\n",
       "      <td>doosin97@gmail.com</td>\n",
       "      <td>2019-09-11</td>\n",
       "      <td>2019-09-12</td>\n",
       "      <td>Everyone</td>\n",
       "      <td>https://blog.naver.com/hd9172/221612868565</td>\n",
       "      <td>1.0</td>\n",
       "      <td>1.0</td>\n",
       "      <td>0.0</td>\n",
       "      <td>2021-06-16 02:36:45</td>\n",
       "      <td>2019.0</td>\n",
       "    </tr>\n",
       "  </tbody>\n",
       "</table>\n",
       "<p>5 rows × 25 columns</p>\n",
       "</div>"
      ],
      "text/plain": [
       "                             App Name  \\\n",
       "0       BBD Store - Best Budget Deals   \n",
       "1                                아가펫츠   \n",
       "2                           Zákamenné   \n",
       "3                 Parihans social app   \n",
       "4  CHATRIS 2019 - Match 3 Puzzle Game   \n",
       "\n",
       "                                           App Id       Category  Rating  \\\n",
       "0                               com.app.BBD_Store       Shopping     5.0   \n",
       "1                          com.suholdings.agapets      Lifestyle     5.0   \n",
       "2                          com.impoinfo.zakamenne  Communication     5.0   \n",
       "3  com.wParihansVideocallingandmessenger_11521310         Social     5.0   \n",
       "4                             com.Doosin.CHATRIS1         Puzzle     5.0   \n",
       "\n",
       "   Rating Count Installs  Minimum Installs  Maximum Installs  Free  Price  \\\n",
       "0          20.0     100+             100.0             179.0   1.0    0.0   \n",
       "1           8.0     100+             100.0             152.0   1.0    0.0   \n",
       "2           8.0   1,000+            1000.0            1338.0   1.0    0.0   \n",
       "3          22.0     100+             100.0             145.0   1.0    0.0   \n",
       "4          13.0      50+              50.0              69.0   1.0    0.0   \n",
       "\n",
       "   ...         Developer Email    Released Last Updated Content Rating  \\\n",
       "0  ...  bbdstore9137@gmail.com  2020-12-31   2021-05-27       Everyone   \n",
       "1  ...        info@agapets.com  2020-06-16   2020-08-06           Teen   \n",
       "2  ...   adsupra.com@gmail.com  2020-06-25   2020-01-20       Everyone   \n",
       "3  ...  parihans2931@gmail.com  2020-07-10   2020-12-02           Teen   \n",
       "4  ...      doosin97@gmail.com  2019-09-11   2019-09-12       Everyone   \n",
       "\n",
       "                                      Privacy Policy Ad Supported  \\\n",
       "0     https://bbd-store-0.flycricket.io/privacy.html          1.0   \n",
       "1    http://www.agapets.com/terms/terms_privacy.html          1.0   \n",
       "2             http://www.impoinfo.com/policy_sk.html          0.0   \n",
       "3  https://sites.google.com/view/parihans-vlog/pr...          0.0   \n",
       "4         https://blog.naver.com/hd9172/221612868565          1.0   \n",
       "\n",
       "  In App Purchases Editors Choice         Scraped Time Released Year  \n",
       "0              0.0            0.0  2021-06-16 00:05:22        2020.0  \n",
       "1              0.0            0.0  2021-06-16 02:17:56        2020.0  \n",
       "2              0.0            0.0  2021-06-16 05:12:07        2020.0  \n",
       "3              0.0            0.0  2021-06-16 05:39:39        2020.0  \n",
       "4              1.0            0.0  2021-06-16 02:36:45        2019.0  \n",
       "\n",
       "[5 rows x 25 columns]"
      ]
     },
     "execution_count": 5,
     "metadata": {},
     "output_type": "execute_result"
    }
   ],
   "source": [
    "apps.head()"
   ]
  },
  {
   "cell_type": "code",
   "execution_count": 6,
   "id": "17476c80-0ded-4790-819f-d41303a79005",
   "metadata": {},
   "outputs": [],
   "source": [
    "# Um den OLS anwenden zu können, müssen die notwenidigen Features numerisch umcodiert werden\n",
    "# Und alle Features löschen, die nur Unique-Werte besitzen, zu viel Rechenkapazität benötigen und für eine lineare Regression irrelvant sind\n",
    "\n",
    "apps.drop(columns=['App Name', 'App Id', 'Installs', 'Minimum Installs', 'Developer Id', 'Developer Website', 'Minimum Android', 'Developer Email', 'Privacy Policy', 'Released', 'Scraped Time', 'Last Updated', 'Currency', 'Category', 'Editors Choice'], inplace=True)\n",
    "#apps = apps.dropna()\n",
    "\n",
    "numerical_cols = list(apps.select_dtypes(include=\"float\").columns)\n",
    "categorical_cols = list(apps.select_dtypes(include=\"object\").columns)\n",
    "\n",
    "object_encode = pd.get_dummies(apps[categorical_cols])"
   ]
  },
  {
   "cell_type": "code",
   "execution_count": 7,
   "id": "abc57bc3-3ca6-4aa5-ad2e-360051b97e72",
   "metadata": {},
   "outputs": [
    {
     "data": {
      "text/html": [
       "<div>\n",
       "<style scoped>\n",
       "    .dataframe tbody tr th:only-of-type {\n",
       "        vertical-align: middle;\n",
       "    }\n",
       "\n",
       "    .dataframe tbody tr th {\n",
       "        vertical-align: top;\n",
       "    }\n",
       "\n",
       "    .dataframe thead th {\n",
       "        text-align: right;\n",
       "    }\n",
       "</style>\n",
       "<table border=\"1\" class=\"dataframe\">\n",
       "  <thead>\n",
       "    <tr style=\"text-align: right;\">\n",
       "      <th></th>\n",
       "      <th>Rating</th>\n",
       "      <th>Rating Count</th>\n",
       "      <th>Maximum Installs</th>\n",
       "      <th>Free</th>\n",
       "      <th>Price</th>\n",
       "      <th>Size</th>\n",
       "      <th>Ad Supported</th>\n",
       "      <th>In App Purchases</th>\n",
       "      <th>Released Year</th>\n",
       "      <th>Content Rating_Adults only 18+</th>\n",
       "      <th>Content Rating_Everyone</th>\n",
       "      <th>Content Rating_Everyone 10+</th>\n",
       "      <th>Content Rating_Mature 17+</th>\n",
       "      <th>Content Rating_Teen</th>\n",
       "      <th>Content Rating_Unrated</th>\n",
       "    </tr>\n",
       "  </thead>\n",
       "  <tbody>\n",
       "    <tr>\n",
       "      <th>0</th>\n",
       "      <td>5.0</td>\n",
       "      <td>20.0</td>\n",
       "      <td>179.0</td>\n",
       "      <td>1.0</td>\n",
       "      <td>0.0</td>\n",
       "      <td>6.7</td>\n",
       "      <td>1.0</td>\n",
       "      <td>0.0</td>\n",
       "      <td>2020.0</td>\n",
       "      <td>0</td>\n",
       "      <td>1</td>\n",
       "      <td>0</td>\n",
       "      <td>0</td>\n",
       "      <td>0</td>\n",
       "      <td>0</td>\n",
       "    </tr>\n",
       "    <tr>\n",
       "      <th>1</th>\n",
       "      <td>5.0</td>\n",
       "      <td>8.0</td>\n",
       "      <td>152.0</td>\n",
       "      <td>1.0</td>\n",
       "      <td>0.0</td>\n",
       "      <td>71.0</td>\n",
       "      <td>1.0</td>\n",
       "      <td>0.0</td>\n",
       "      <td>2020.0</td>\n",
       "      <td>0</td>\n",
       "      <td>0</td>\n",
       "      <td>0</td>\n",
       "      <td>0</td>\n",
       "      <td>1</td>\n",
       "      <td>0</td>\n",
       "    </tr>\n",
       "    <tr>\n",
       "      <th>2</th>\n",
       "      <td>5.0</td>\n",
       "      <td>8.0</td>\n",
       "      <td>1338.0</td>\n",
       "      <td>1.0</td>\n",
       "      <td>0.0</td>\n",
       "      <td>2.4</td>\n",
       "      <td>0.0</td>\n",
       "      <td>0.0</td>\n",
       "      <td>2020.0</td>\n",
       "      <td>0</td>\n",
       "      <td>1</td>\n",
       "      <td>0</td>\n",
       "      <td>0</td>\n",
       "      <td>0</td>\n",
       "      <td>0</td>\n",
       "    </tr>\n",
       "    <tr>\n",
       "      <th>3</th>\n",
       "      <td>5.0</td>\n",
       "      <td>22.0</td>\n",
       "      <td>145.0</td>\n",
       "      <td>1.0</td>\n",
       "      <td>0.0</td>\n",
       "      <td>50.0</td>\n",
       "      <td>0.0</td>\n",
       "      <td>0.0</td>\n",
       "      <td>2020.0</td>\n",
       "      <td>0</td>\n",
       "      <td>0</td>\n",
       "      <td>0</td>\n",
       "      <td>0</td>\n",
       "      <td>1</td>\n",
       "      <td>0</td>\n",
       "    </tr>\n",
       "    <tr>\n",
       "      <th>4</th>\n",
       "      <td>5.0</td>\n",
       "      <td>13.0</td>\n",
       "      <td>69.0</td>\n",
       "      <td>1.0</td>\n",
       "      <td>0.0</td>\n",
       "      <td>18.0</td>\n",
       "      <td>1.0</td>\n",
       "      <td>1.0</td>\n",
       "      <td>2019.0</td>\n",
       "      <td>0</td>\n",
       "      <td>1</td>\n",
       "      <td>0</td>\n",
       "      <td>0</td>\n",
       "      <td>0</td>\n",
       "      <td>0</td>\n",
       "    </tr>\n",
       "  </tbody>\n",
       "</table>\n",
       "</div>"
      ],
      "text/plain": [
       "   Rating  Rating Count  Maximum Installs  Free  Price  Size  Ad Supported  \\\n",
       "0     5.0          20.0             179.0   1.0    0.0   6.7           1.0   \n",
       "1     5.0           8.0             152.0   1.0    0.0  71.0           1.0   \n",
       "2     5.0           8.0            1338.0   1.0    0.0   2.4           0.0   \n",
       "3     5.0          22.0             145.0   1.0    0.0  50.0           0.0   \n",
       "4     5.0          13.0              69.0   1.0    0.0  18.0           1.0   \n",
       "\n",
       "   In App Purchases  Released Year  Content Rating_Adults only 18+  \\\n",
       "0               0.0         2020.0                               0   \n",
       "1               0.0         2020.0                               0   \n",
       "2               0.0         2020.0                               0   \n",
       "3               0.0         2020.0                               0   \n",
       "4               1.0         2019.0                               0   \n",
       "\n",
       "   Content Rating_Everyone  Content Rating_Everyone 10+  \\\n",
       "0                        1                            0   \n",
       "1                        0                            0   \n",
       "2                        1                            0   \n",
       "3                        0                            0   \n",
       "4                        1                            0   \n",
       "\n",
       "   Content Rating_Mature 17+  Content Rating_Teen  Content Rating_Unrated  \n",
       "0                          0                    0                       0  \n",
       "1                          0                    1                       0  \n",
       "2                          0                    0                       0  \n",
       "3                          0                    1                       0  \n",
       "4                          0                    0                       0  "
      ]
     },
     "execution_count": 7,
     "metadata": {},
     "output_type": "execute_result"
    }
   ],
   "source": [
    "numeric = pd.concat([apps[numerical_cols], object_encode], axis = 1)\n",
    "numeric = numeric.dropna()\n",
    "numeric.head()"
   ]
  },
  {
   "cell_type": "code",
   "execution_count": 8,
   "id": "786d67fe-d864-4cd4-9261-8f56e8705194",
   "metadata": {},
   "outputs": [],
   "source": [
    "numeric.rename(columns={'Maximum Installs':'Maximum_Installs', 'Rating Count':'Rating_Count', 'Ad Supported':'Ad_Supported', 'In App Purchases':'In_App_Purchases', 'Released Year':'Released_Year', 'Content Rating_Adults only 18+':'Content_Rating_Adults_only_over18', 'Content Rating_Everyone':'Content_Rating_Everyone', 'Content Rating_Everyone 10+':'Content_Rating_Everyone_over10', 'Content Rating_Mature 17+':'Content_Rating_Mature_over17', 'Content Rating_Teen':'Content_Rating_Teen', 'Content Rating_Unrated':'Content_Rating_Unrated'}, inplace=True)"
   ]
  },
  {
   "cell_type": "code",
   "execution_count": 9,
   "id": "144ea137-57ce-4a1b-82cb-8f16a7d70320",
   "metadata": {},
   "outputs": [
    {
     "name": "stdout",
     "output_type": "stream",
     "text": [
      "             Rating  Rating_Count  Maximum_Installs          Free  \\\n",
      "count  2.241671e+06  2.241671e+06      2.241671e+06  2.241671e+06   \n",
      "mean   2.204496e+00  2.751521e+03      3.091149e+05  9.802772e-01   \n",
      "std    2.108366e+00  1.984663e+05      2.208515e+07  1.390461e-01   \n",
      "min    0.000000e+00  0.000000e+00      0.000000e+00  0.000000e+00   \n",
      "25%    0.000000e+00  0.000000e+00      8.500000e+01  1.000000e+00   \n",
      "50%    3.000000e+00  6.000000e+00      7.040000e+02  1.000000e+00   \n",
      "75%    4.300000e+00  4.200000e+01      7.400000e+03  1.000000e+00   \n",
      "max    5.000000e+00  1.385576e+08      1.205763e+10  1.000000e+00   \n",
      "\n",
      "              Price          Size  Ad_Supported  In_App_Purchases  \\\n",
      "count  2.241671e+06  2.241671e+06  2.241671e+06      2.241671e+06   \n",
      "mean   1.048762e-01  1.872470e+01  5.064160e-01      8.543671e-02   \n",
      "std    2.658829e+00  2.371425e+01  4.999589e-01      2.795305e-01   \n",
      "min    0.000000e+00  0.000000e+00  0.000000e+00      0.000000e+00   \n",
      "25%    0.000000e+00  4.700000e+00  0.000000e+00      0.000000e+00   \n",
      "50%    0.000000e+00  9.800000e+00  1.000000e+00      0.000000e+00   \n",
      "75%    0.000000e+00  2.400000e+01  1.000000e+00      0.000000e+00   \n",
      "max    4.000000e+02  1.020000e+03  1.000000e+00      1.000000e+00   \n",
      "\n",
      "       Released_Year  Content_Rating_Adults_only_over18  \\\n",
      "count   2.241671e+06                       2.241671e+06   \n",
      "mean    2.018169e+03                       5.799245e-05   \n",
      "std     2.146138e+00                       7.615058e-03   \n",
      "min     2.010000e+03                       0.000000e+00   \n",
      "25%     2.017000e+03                       0.000000e+00   \n",
      "50%     2.019000e+03                       0.000000e+00   \n",
      "75%     2.020000e+03                       0.000000e+00   \n",
      "max     2.021000e+03                       1.000000e+00   \n",
      "\n",
      "       Content_Rating_Everyone  Content_Rating_Everyone_over10  \\\n",
      "count             2.241671e+06                    2.241671e+06   \n",
      "mean              8.742367e-01                    1.464220e-02   \n",
      "std               3.315825e-01                    1.201158e-01   \n",
      "min               0.000000e+00                    0.000000e+00   \n",
      "25%               1.000000e+00                    0.000000e+00   \n",
      "50%               1.000000e+00                    0.000000e+00   \n",
      "75%               1.000000e+00                    0.000000e+00   \n",
      "max               1.000000e+00                    1.000000e+00   \n",
      "\n",
      "       Content_Rating_Mature_over17  Content_Rating_Teen  \\\n",
      "count                  2.241671e+06         2.241671e+06   \n",
      "mean                   2.617289e-02         8.482244e-02   \n",
      "std                    1.596492e-01         2.786173e-01   \n",
      "min                    0.000000e+00         0.000000e+00   \n",
      "25%                    0.000000e+00         0.000000e+00   \n",
      "50%                    0.000000e+00         0.000000e+00   \n",
      "75%                    0.000000e+00         0.000000e+00   \n",
      "max                    1.000000e+00         1.000000e+00   \n",
      "\n",
      "       Content_Rating_Unrated  \n",
      "count            2.241671e+06  \n",
      "mean             6.780656e-05  \n",
      "std              8.234197e-03  \n",
      "min              0.000000e+00  \n",
      "25%              0.000000e+00  \n",
      "50%              0.000000e+00  \n",
      "75%              0.000000e+00  \n",
      "max              1.000000e+00  \n"
     ]
    }
   ],
   "source": [
    "print(numeric.describe())"
   ]
  },
  {
   "cell_type": "markdown",
   "id": "69f13ee9-3dce-470d-bdcb-40192ba4d86c",
   "metadata": {},
   "source": [
    "----------\n",
    "## 1. Hypothese: Gut bewertete Anwendungen haben mehr Installationen.\n",
    "------"
   ]
  },
  {
   "cell_type": "code",
   "execution_count": 10,
   "id": "6179b78a-fd90-42fc-9151-3b64baa3b559",
   "metadata": {},
   "outputs": [
    {
     "name": "stdout",
     "output_type": "stream",
     "text": [
      "                            OLS Regression Results                            \n",
      "==============================================================================\n",
      "Dep. Variable:       Maximum_Installs   R-squared:                       0.000\n",
      "Model:                            OLS   Adj. R-squared:                  0.000\n",
      "Method:                 Least Squares   F-statistic:                     383.0\n",
      "Date:                Mon, 20 Dec 2021   Prob (F-statistic):           2.80e-85\n",
      "Time:                        11:34:16   Log-Likelihood:            -4.1088e+07\n",
      "No. Observations:             2241671   AIC:                         8.218e+07\n",
      "Df Residuals:                 2241669   BIC:                         8.218e+07\n",
      "Df Model:                           1                                         \n",
      "Covariance Type:            nonrobust                                         \n",
      "==============================================================================\n",
      "                 coef    std err          t      P>|t|      [0.025      0.975]\n",
      "------------------------------------------------------------------------------\n",
      "Intercept   7296.5136   2.13e+04      0.342      0.732   -3.45e+04    4.91e+04\n",
      "Rating      1.369e+05   6995.705     19.571      0.000    1.23e+05    1.51e+05\n",
      "================================================================================\n",
      "Omnibus:                 12455919.932   Durbin-Watson:                     2.000\n",
      "Prob(Omnibus):                  0.000   Jarque-Bera (JB):   1460332774328407.750\n",
      "Skew:                         316.595   Prob(JB):                           0.00\n",
      "Kurtosis:                  125040.428   Cond. No.                           4.67\n",
      "================================================================================\n",
      "\n",
      "Notes:\n",
      "[1] Standard Errors assume that the covariance matrix of the errors is correctly specified.\n"
     ]
    }
   ],
   "source": [
    "# Syntax für die Regressionsgleichung: Zielwert ~ Feature 1 + Feature 2 + ...\n",
    "first_hypo_basic = ols(\"Maximum_Installs ~ Rating\", numeric).fit()\n",
    "\n",
    "print(first_hypo_basic.summary())"
   ]
  },
  {
   "cell_type": "code",
   "execution_count": 11,
   "id": "63ef8c33-8096-4d50-bf44-1a11e8d67ce2",
   "metadata": {},
   "outputs": [
    {
     "name": "stdout",
     "output_type": "stream",
     "text": [
      "                            OLS Regression Results                            \n",
      "==============================================================================\n",
      "Dep. Variable:       Maximum_Installs   R-squared:                       0.292\n",
      "Model:                            OLS   Adj. R-squared:                  0.292\n",
      "Method:                 Least Squares   F-statistic:                 7.127e+04\n",
      "Date:                Mon, 20 Dec 2021   Prob (F-statistic):               0.00\n",
      "Time:                        11:34:19   Log-Likelihood:            -4.0701e+07\n",
      "No. Observations:             2241671   AIC:                         8.140e+07\n",
      "Df Residuals:                 2241657   BIC:                         8.140e+07\n",
      "Df Model:                          13                                         \n",
      "Covariance Type:            nonrobust                                         \n",
      "=====================================================================================================\n",
      "                                        coef    std err          t      P>|t|      [0.025      0.975]\n",
      "-----------------------------------------------------------------------------------------------------\n",
      "Intercept                          1.895e+08   1.24e+07     15.267      0.000    1.65e+08    2.14e+08\n",
      "Rating                             3.577e+04   6232.833      5.739      0.000    2.36e+04     4.8e+04\n",
      "Rating_Count                         60.1331      0.063    961.151      0.000      60.010      60.256\n",
      "Free                                3.92e+05   9.44e+04      4.151      0.000    2.07e+05    5.77e+05\n",
      "Price                               787.5638   4858.491      0.162      0.871   -8734.909    1.03e+04\n",
      "Size                              -1520.9141    538.786     -2.823      0.005   -2576.916    -464.912\n",
      "Ad_Supported                      -3.936e+04   2.59e+04     -1.521      0.128   -9.01e+04    1.14e+04\n",
      "In_App_Purchases                   1.519e+05   4.61e+04      3.295      0.001    6.15e+04    2.42e+05\n",
      "Released_Year                     -9.426e+04   6118.855    -15.405      0.000   -1.06e+05   -8.23e+04\n",
      "Content_Rating_Adults_only_over18   2.19e+05   2.22e+06      0.099      0.921   -4.13e+06    4.57e+06\n",
      "Content_Rating_Everyone            4.764e+05   1.51e+06      0.316      0.752   -2.48e+06    3.43e+06\n",
      "Content_Rating_Everyone_over10     2.869e+05   1.51e+06      0.190      0.849   -2.67e+06    3.25e+06\n",
      "Content_Rating_Mature_over17       3.871e+05   1.51e+06      0.257      0.798   -2.57e+06    3.34e+06\n",
      "Content_Rating_Teen                6.005e+05   1.51e+06      0.398      0.690   -2.35e+06    3.56e+06\n",
      "================================================================================\n",
      "Omnibus:                 12232471.442   Durbin-Watson:                     2.000\n",
      "Prob(Omnibus):                  0.000   Jarque-Bera (JB):   1542384375485638.250\n",
      "Skew:                         295.801   Prob(JB):                           0.00\n",
      "Kurtosis:                  128505.445   Cond. No.                       1.99e+08\n",
      "================================================================================\n",
      "\n",
      "Notes:\n",
      "[1] Standard Errors assume that the covariance matrix of the errors is correctly specified.\n",
      "[2] The condition number is large, 1.99e+08. This might indicate that there are\n",
      "strong multicollinearity or other numerical problems.\n"
     ]
    }
   ],
   "source": [
    "# Syntax für die Regressionsgleichung: Zielwert ~ Feature 1 + Feature 2 + ...\n",
    "first_hypo_full = ols(\"Maximum_Installs ~ Rating + Rating_Count + Free + Price + Size + Ad_Supported + In_App_Purchases + Released_Year + Content_Rating_Adults_only_over18 + Content_Rating_Everyone + Content_Rating_Everyone_over10 + Content_Rating_Mature_over17 + Content_Rating_Teen\", numeric).fit()\n",
    "\n",
    "print(first_hypo_full.summary())"
   ]
  },
  {
   "cell_type": "markdown",
   "id": "13ce5886-4620-4b11-bc38-410da0af6658",
   "metadata": {},
   "source": [
    "----\n",
    "- first_hypo_full sagt deutlich mehr Varianz aus als das first_hypo_basic Modell\n",
    "- Varianz dennoch klein, da der R-Squared unter 0.36 liegt und somit als `schwach` gilt\n",
    "- für das Modell werden nach P>|t| die Features Rating, Rating_Count, Free, In-App-Purchases, Editors_Choice und Released_Year relevant sein\n",
    "----"
   ]
  },
  {
   "cell_type": "code",
   "execution_count": 12,
   "id": "4e63e5a1-23f8-4c76-9a87-6aed6595c8d0",
   "metadata": {},
   "outputs": [
    {
     "name": "stdout",
     "output_type": "stream",
     "text": [
      "                            OLS Regression Results                            \n",
      "==============================================================================\n",
      "Dep. Variable:       Maximum_Installs   R-squared:                       0.292\n",
      "Model:                            OLS   Adj. R-squared:                  0.292\n",
      "Method:                 Least Squares   F-statistic:                 1.853e+05\n",
      "Date:                Mon, 20 Dec 2021   Prob (F-statistic):               0.00\n",
      "Time:                        11:34:20   Log-Likelihood:            -4.0701e+07\n",
      "No. Observations:             2241671   AIC:                         8.140e+07\n",
      "Df Residuals:                 2241665   BIC:                         8.140e+07\n",
      "Df Model:                           5                                         \n",
      "Covariance Type:            nonrobust                                         \n",
      "====================================================================================\n",
      "                       coef    std err          t      P>|t|      [0.025      0.975]\n",
      "------------------------------------------------------------------------------------\n",
      "Intercept         1.948e+08   1.22e+07     16.021      0.000    1.71e+08    2.19e+08\n",
      "Rating            3.335e+04   6137.900      5.434      0.000    2.13e+04    4.54e+04\n",
      "Rating_Count        60.1310      0.063    961.233      0.000      60.008      60.254\n",
      "Free              3.824e+05   9.01e+04      4.243      0.000    2.06e+05    5.59e+05\n",
      "In_App_Purchases  1.216e+05    4.5e+04      2.704      0.007    3.34e+04     2.1e+05\n",
      "Released_Year    -9.666e+04   6027.851    -16.035      0.000   -1.08e+05   -8.48e+04\n",
      "================================================================================\n",
      "Omnibus:                 12232545.720   Durbin-Watson:                     2.000\n",
      "Prob(Omnibus):                  0.000   Jarque-Bera (JB):   1542415752842015.500\n",
      "Skew:                         295.807   Prob(JB):                           0.00\n",
      "Kurtosis:                  128506.752   Cond. No.                       1.94e+08\n",
      "================================================================================\n",
      "\n",
      "Notes:\n",
      "[1] Standard Errors assume that the covariance matrix of the errors is correctly specified.\n",
      "[2] The condition number is large, 1.94e+08. This might indicate that there are\n",
      "strong multicollinearity or other numerical problems.\n"
     ]
    }
   ],
   "source": [
    "# Syntax für die Regressionsgleichung: Zielwert ~ Feature 1 + Feature 2 + ...\n",
    "first_hypo_opt = ols(\"Maximum_Installs ~ Rating + Rating_Count + Free + In_App_Purchases + Released_Year\", numeric).fit()\n",
    "\n",
    "print(first_hypo_opt.summary())"
   ]
  },
  {
   "cell_type": "markdown",
   "id": "0e7aa095-0c28-4448-a0dc-a503b171e7ef",
   "metadata": {},
   "source": [
    "----\n",
    "- Varianz hat sich weder verschlechtert noch verbessert\n",
    "----"
   ]
  },
  {
   "cell_type": "code",
   "execution_count": 13,
   "id": "e348b3ca-1ede-4a4b-b24b-9660fb505fbf",
   "metadata": {},
   "outputs": [
    {
     "name": "stdout",
     "output_type": "stream",
     "text": [
      "\n",
      "ANOVA results\n",
      "    df_resid           ssr  df_diff       ss_diff              F   Pr(>F)\n",
      "0  2241669.0  1.093197e+21      0.0           NaN            NaN      NaN\n",
      "1  2241665.0  7.736369e+20      4.0  3.195600e+20  231488.176010  0.00000\n",
      "2  2241657.0  7.736291e+20      8.0  7.769463e+15       2.814086  0.00405\n"
     ]
    }
   ],
   "source": [
    "anova_results = anova_lm(first_hypo_basic,first_hypo_opt,first_hypo_full )\n",
    "\n",
    "print('\\nANOVA results')\n",
    "print(anova_results)\n",
    "\n",
    "# Die Modelle werden nach der Größe nach angegeben, also mit den meisten Termen zuerst: 0 - full, 1 - opt, 2 - basic\n",
    "# Erste Ausgabezeile wird egal sein, weil für first_hypo_full kein Vorgänger vorhanden ist"
   ]
  },
  {
   "cell_type": "markdown",
   "id": "207c8f33-d9ca-41b2-ab74-969227af56b5",
   "metadata": {},
   "source": [
    "----\n",
    "- Sowohl der Vergleich von _opt mit _basic als auch der Vergleich von _full mit _opt ist signifikant\n",
    "- _full ist also tatsächlich besser als _opt (und damit auch als _basic)\n",
    "----"
   ]
  },
  {
   "cell_type": "code",
   "execution_count": null,
   "id": "4265dde8-0507-4ab2-a39d-15a4aa28f296",
   "metadata": {},
   "outputs": [],
   "source": []
  },
  {
   "cell_type": "code",
   "execution_count": null,
   "id": "ea686753-45b2-4be9-a2b1-dd61ddacab7f",
   "metadata": {},
   "outputs": [],
   "source": []
  },
  {
   "cell_type": "code",
   "execution_count": null,
   "id": "0eb6f3b2-b673-4d31-8610-d1b432766e86",
   "metadata": {},
   "outputs": [],
   "source": []
  },
  {
   "cell_type": "markdown",
   "id": "e9c735c0-dd5d-41ee-ba31-a3264f19c035",
   "metadata": {},
   "source": [
    "### 2. Hypothese: Günstigere/kostenlose Anwendungen haben mehr Installationen."
   ]
  },
  {
   "cell_type": "code",
   "execution_count": 14,
   "id": "3623066e-e32a-4209-8654-53f5abfd076a",
   "metadata": {},
   "outputs": [
    {
     "name": "stdout",
     "output_type": "stream",
     "text": [
      "                            OLS Regression Results                            \n",
      "==============================================================================\n",
      "Dep. Variable:       Maximum_Installs   R-squared:                       0.000\n",
      "Model:                            OLS   Adj. R-squared:                 -0.000\n",
      "Method:                 Least Squares   F-statistic:                    0.6340\n",
      "Date:                Mon, 20 Dec 2021   Prob (F-statistic):              0.426\n",
      "Time:                        11:34:21   Log-Likelihood:            -4.1088e+07\n",
      "No. Observations:             2241671   AIC:                         8.218e+07\n",
      "Df Residuals:                 2241669   BIC:                         8.218e+07\n",
      "Df Model:                           1                                         \n",
      "Covariance Type:            nonrobust                                         \n",
      "==============================================================================\n",
      "                 coef    std err          t      P>|t|      [0.025      0.975]\n",
      "------------------------------------------------------------------------------\n",
      "Intercept   3.096e+05   1.48e+04     20.971      0.000    2.81e+05    3.39e+05\n",
      "Price      -4417.5770   5547.845     -0.796      0.426   -1.53e+04    6456.005\n",
      "================================================================================\n",
      "Omnibus:                 12455454.798   Durbin-Watson:                     2.000\n",
      "Prob(Omnibus):                  0.000   Jarque-Bera (JB):   1459701572873713.500\n",
      "Skew:                         316.551   Prob(JB):                           0.00\n",
      "Kurtosis:                  125013.402   Cond. No.                           2.66\n",
      "================================================================================\n",
      "\n",
      "Notes:\n",
      "[1] Standard Errors assume that the covariance matrix of the errors is correctly specified.\n"
     ]
    }
   ],
   "source": [
    "# Syntax für die Regressionsgleichung: Zielwert ~ Feature 1 + Feature 2 + ...\n",
    "snd_hypo_price = ols(\"Maximum_Installs ~ Price\", numeric).fit()\n",
    "\n",
    "print(snd_hypo_price.summary())"
   ]
  },
  {
   "cell_type": "markdown",
   "id": "65bebe40-a025-45a8-beab-82572bae9ed3",
   "metadata": {},
   "source": [
    "----\n",
    "- negativer Koeffizient, da Price, reale Werte besitzt\n",
    "- Erkenntnis: jeder weiterer Dollar für eine Anwendung, kosten rund 4417 Installationen pro Anwendung weniger\n",
    "----"
   ]
  },
  {
   "cell_type": "code",
   "execution_count": 15,
   "id": "844e17b6-4907-4160-805e-135fd522ca20",
   "metadata": {},
   "outputs": [
    {
     "name": "stdout",
     "output_type": "stream",
     "text": [
      "                            OLS Regression Results                            \n",
      "==============================================================================\n",
      "Dep. Variable:       Maximum_Installs   R-squared:                       0.000\n",
      "Model:                            OLS   Adj. R-squared:                  0.000\n",
      "Method:                 Least Squares   F-statistic:                     7.926\n",
      "Date:                Mon, 20 Dec 2021   Prob (F-statistic):            0.00487\n",
      "Time:                        11:34:21   Log-Likelihood:            -4.1088e+07\n",
      "No. Observations:             2241671   AIC:                         8.218e+07\n",
      "Df Residuals:                 2241669   BIC:                         8.218e+07\n",
      "Df Model:                           1                                         \n",
      "Covariance Type:            nonrobust                                         \n",
      "==============================================================================\n",
      "                 coef    std err          t      P>|t|      [0.025      0.975]\n",
      "------------------------------------------------------------------------------\n",
      "Intercept   1.634e+04   1.05e+05      0.156      0.876    -1.9e+05    2.22e+05\n",
      "Free        2.987e+05   1.06e+05      2.815      0.005    9.07e+04    5.07e+05\n",
      "================================================================================\n",
      "Omnibus:                 12455463.339   Durbin-Watson:                     2.000\n",
      "Prob(Omnibus):                  0.000   Jarque-Bera (JB):   1459713299581671.250\n",
      "Skew:                         316.552   Prob(JB):                           0.00\n",
      "Kurtosis:                  125013.904   Cond. No.                           14.2\n",
      "================================================================================\n",
      "\n",
      "Notes:\n",
      "[1] Standard Errors assume that the covariance matrix of the errors is correctly specified.\n"
     ]
    }
   ],
   "source": [
    "# Syntax für die Regressionsgleichung: Zielwert ~ Feature 1 + Feature 2 + ...\n",
    "snd_hypo_basic = ols(\"Maximum_Installs ~ Free\", numeric).fit()\n",
    "\n",
    "print(snd_hypo_basic.summary())"
   ]
  },
  {
   "cell_type": "markdown",
   "id": "174348f6-2e12-48ce-82fe-e29f8bc1b5b1",
   "metadata": {},
   "source": [
    "---\n",
    "- sinkender Modellterm mit wachsendem Zielwert\n",
    "- diese Hypothese sollte theoretisch gesehen einen negativen Koffizienten haben, da wir einen sinkenden Modellterm und einen wachsenden Zielwert besitzen\n",
    "- positiver Koeefizient, weil Free nur aus 0 und 1 bestehen\n",
    "---"
   ]
  },
  {
   "cell_type": "code",
   "execution_count": 16,
   "id": "7768c3a5-b15b-4f66-8952-d7c508cf9187",
   "metadata": {},
   "outputs": [
    {
     "name": "stdout",
     "output_type": "stream",
     "text": [
      "                            OLS Regression Results                            \n",
      "==============================================================================\n",
      "Dep. Variable:       Maximum_Installs   R-squared:                       0.292\n",
      "Model:                            OLS   Adj. R-squared:                  0.292\n",
      "Method:                 Least Squares   F-statistic:                 7.127e+04\n",
      "Date:                Mon, 20 Dec 2021   Prob (F-statistic):               0.00\n",
      "Time:                        11:34:25   Log-Likelihood:            -4.0701e+07\n",
      "No. Observations:             2241671   AIC:                         8.140e+07\n",
      "Df Residuals:                 2241657   BIC:                         8.140e+07\n",
      "Df Model:                          13                                         \n",
      "Covariance Type:            nonrobust                                         \n",
      "=====================================================================================================\n",
      "                                        coef    std err          t      P>|t|      [0.025      0.975]\n",
      "-----------------------------------------------------------------------------------------------------\n",
      "Intercept                          1.895e+08   1.24e+07     15.267      0.000    1.65e+08    2.14e+08\n",
      "Free                                3.92e+05   9.44e+04      4.151      0.000    2.07e+05    5.77e+05\n",
      "Rating                             3.577e+04   6232.833      5.739      0.000    2.36e+04     4.8e+04\n",
      "Rating_Count                         60.1331      0.063    961.151      0.000      60.010      60.256\n",
      "Price                               787.5638   4858.491      0.162      0.871   -8734.909    1.03e+04\n",
      "Size                              -1520.9141    538.786     -2.823      0.005   -2576.916    -464.912\n",
      "Ad_Supported                      -3.936e+04   2.59e+04     -1.521      0.128   -9.01e+04    1.14e+04\n",
      "In_App_Purchases                   1.519e+05   4.61e+04      3.295      0.001    6.15e+04    2.42e+05\n",
      "Released_Year                     -9.426e+04   6118.855    -15.405      0.000   -1.06e+05   -8.23e+04\n",
      "Content_Rating_Adults_only_over18   2.19e+05   2.22e+06      0.099      0.921   -4.13e+06    4.57e+06\n",
      "Content_Rating_Everyone            4.764e+05   1.51e+06      0.316      0.752   -2.48e+06    3.43e+06\n",
      "Content_Rating_Everyone_over10     2.869e+05   1.51e+06      0.190      0.849   -2.67e+06    3.25e+06\n",
      "Content_Rating_Mature_over17       3.871e+05   1.51e+06      0.257      0.798   -2.57e+06    3.34e+06\n",
      "Content_Rating_Teen                6.005e+05   1.51e+06      0.398      0.690   -2.35e+06    3.56e+06\n",
      "================================================================================\n",
      "Omnibus:                 12232471.442   Durbin-Watson:                     2.000\n",
      "Prob(Omnibus):                  0.000   Jarque-Bera (JB):   1542384375486012.250\n",
      "Skew:                         295.801   Prob(JB):                           0.00\n",
      "Kurtosis:                  128505.445   Cond. No.                       1.99e+08\n",
      "================================================================================\n",
      "\n",
      "Notes:\n",
      "[1] Standard Errors assume that the covariance matrix of the errors is correctly specified.\n",
      "[2] The condition number is large, 1.99e+08. This might indicate that there are\n",
      "strong multicollinearity or other numerical problems.\n"
     ]
    }
   ],
   "source": [
    "# Syntax für die Regressionsgleichung: Zielwert ~ Feature 1 + Feature 2 + ...\n",
    "snd_hypo_full = ols(\"Maximum_Installs ~ Free + Rating + Rating_Count + Price + Size + Ad_Supported + In_App_Purchases + Released_Year + Content_Rating_Adults_only_over18 + Content_Rating_Everyone + Content_Rating_Everyone_over10 + Content_Rating_Mature_over17 + Content_Rating_Teen\", numeric).fit()\n",
    "\n",
    "print(snd_hypo_full.summary())"
   ]
  },
  {
   "cell_type": "markdown",
   "id": "38bf5e8c-b4d8-45d8-a8d7-94da56cd022f",
   "metadata": {},
   "source": [
    "---\n",
    "- snd_hypo_full sagt deutlich mehr Varianz aus als das snd_hypo_basic Modell\n",
    "- Varianz dennoch klein, da der R-Squared unter 0.36 liegt und somit als `schwach` gilt\n",
    "- für das Modell werden nach P>|t| die Features Rating, Rating_Count, Free, In-App-Purchases, Editors_Choice und Released_Year relevant sein\n",
    "---"
   ]
  },
  {
   "cell_type": "code",
   "execution_count": 17,
   "id": "02f37f00-9f9b-4915-aa37-e4237391a0bc",
   "metadata": {},
   "outputs": [
    {
     "name": "stdout",
     "output_type": "stream",
     "text": [
      "                            OLS Regression Results                            \n",
      "==============================================================================\n",
      "Dep. Variable:       Maximum_Installs   R-squared:                       0.292\n",
      "Model:                            OLS   Adj. R-squared:                  0.292\n",
      "Method:                 Least Squares   F-statistic:                 1.853e+05\n",
      "Date:                Mon, 20 Dec 2021   Prob (F-statistic):               0.00\n",
      "Time:                        11:34:26   Log-Likelihood:            -4.0701e+07\n",
      "No. Observations:             2241671   AIC:                         8.140e+07\n",
      "Df Residuals:                 2241665   BIC:                         8.140e+07\n",
      "Df Model:                           5                                         \n",
      "Covariance Type:            nonrobust                                         \n",
      "====================================================================================\n",
      "                       coef    std err          t      P>|t|      [0.025      0.975]\n",
      "------------------------------------------------------------------------------------\n",
      "Intercept         1.948e+08   1.22e+07     16.021      0.000    1.71e+08    2.19e+08\n",
      "Free              3.824e+05   9.01e+04      4.243      0.000    2.06e+05    5.59e+05\n",
      "Rating            3.335e+04   6137.900      5.434      0.000    2.13e+04    4.54e+04\n",
      "Rating_Count        60.1310      0.063    961.233      0.000      60.008      60.254\n",
      "In_App_Purchases  1.216e+05    4.5e+04      2.704      0.007    3.34e+04     2.1e+05\n",
      "Released_Year    -9.666e+04   6027.851    -16.035      0.000   -1.08e+05   -8.48e+04\n",
      "================================================================================\n",
      "Omnibus:                 12232545.720   Durbin-Watson:                     2.000\n",
      "Prob(Omnibus):                  0.000   Jarque-Bera (JB):   1542415752840436.500\n",
      "Skew:                         295.807   Prob(JB):                           0.00\n",
      "Kurtosis:                  128506.752   Cond. No.                       1.94e+08\n",
      "================================================================================\n",
      "\n",
      "Notes:\n",
      "[1] Standard Errors assume that the covariance matrix of the errors is correctly specified.\n",
      "[2] The condition number is large, 1.94e+08. This might indicate that there are\n",
      "strong multicollinearity or other numerical problems.\n"
     ]
    }
   ],
   "source": [
    "# Syntax für die Regressionsgleichung: Zielwert ~ Feature 1 + Feature 2 + ...\n",
    "snd_hypo_opt = ols(\"Maximum_Installs ~ Free + Rating + Rating_Count + In_App_Purchases + Released_Year\", numeric).fit()\n",
    "\n",
    "print(snd_hypo_opt.summary())"
   ]
  },
  {
   "cell_type": "markdown",
   "id": "24f35b5f-126e-46c0-8fab-0b6f71318e98",
   "metadata": {},
   "source": [
    "----\n",
    "- Varianz hat sich weder verschlechtert noch verbessert\n",
    "----"
   ]
  },
  {
   "cell_type": "code",
   "execution_count": 111,
   "id": "319c78af-8ef1-4cc7-8155-79b0ab91ec06",
   "metadata": {},
   "outputs": [
    {
     "name": "stdout",
     "output_type": "stream",
     "text": [
      "\n",
      "ANOVA results\n",
      "    df_resid           ssr  df_diff       ss_diff              F   Pr(>F)\n",
      "0  2241669.0  1.093383e+21      0.0           NaN            NaN      NaN\n",
      "1  2241665.0  7.736369e+20      4.0  3.197465e+20  231623.256755  0.00000\n",
      "2  2241657.0  7.736291e+20      8.0  7.769463e+15       2.814086  0.00405\n"
     ]
    }
   ],
   "source": [
    "anova_results = anova_lm(snd_hypo_price,snd_hypo_opt,snd_hypo_full)\n",
    "\n",
    "print('\\nANOVA results')\n",
    "print(anova_results)\n",
    "\n",
    "# Die Modelle werden nach der Größe nach angegeben, also mit den meisten Termen zuerst: 0 - full, 1 - opt, 2 - basic\n",
    "# Erste Ausgabezeile wird egal sein, weil für snd_hypo_full kein Vorgänger vorhanden ist"
   ]
  },
  {
   "cell_type": "markdown",
   "id": "dd7ad18b-71df-493f-b282-d4cec55b0765",
   "metadata": {},
   "source": [
    "----\n",
    "- Sowohl der Vergleich von _opt mit _basic als auch der Vergleich von _full mit _opt ist signifikant\n",
    "- _full ist also tatsächlich besser als _opt (und damit auch als _basic)\n",
    "----"
   ]
  },
  {
   "cell_type": "code",
   "execution_count": null,
   "id": "90d3fd02-8e47-40f4-84cd-cf4de21e283c",
   "metadata": {},
   "outputs": [],
   "source": []
  },
  {
   "cell_type": "code",
   "execution_count": null,
   "id": "2a8f4e13-8e9b-4de7-be77-3d0aa9788e18",
   "metadata": {},
   "outputs": [],
   "source": []
  },
  {
   "cell_type": "code",
   "execution_count": null,
   "id": "f8995c1b-4213-4a2b-9cc1-ec8a678794e3",
   "metadata": {},
   "outputs": [],
   "source": []
  },
  {
   "cell_type": "markdown",
   "id": "2fad94dd-1a77-437d-bb74-98bc13e0523e",
   "metadata": {},
   "source": [
    "### 3. Hypothese: Anwendungen für Erwachsene (Content_Rating_Adults_only_over18) sind eher kostenpflichtig.\n",
    "----"
   ]
  },
  {
   "cell_type": "code",
   "execution_count": 19,
   "id": "32b49614-b393-40b7-aa54-007639a04015",
   "metadata": {},
   "outputs": [
    {
     "name": "stdout",
     "output_type": "stream",
     "text": [
      "                            OLS Regression Results                            \n",
      "==============================================================================\n",
      "Dep. Variable:                   Free   R-squared:                       0.000\n",
      "Model:                            OLS   Adj. R-squared:                  0.000\n",
      "Method:                 Least Squares   F-statistic:                     2.616\n",
      "Date:                Mon, 20 Dec 2021   Prob (F-statistic):              0.106\n",
      "Time:                        11:34:26   Log-Likelihood:             1.2419e+06\n",
      "No. Observations:             2241671   AIC:                        -2.484e+06\n",
      "Df Residuals:                 2241669   BIC:                        -2.484e+06\n",
      "Df Model:                           1                                         \n",
      "Covariance Type:            nonrobust                                         \n",
      "=====================================================================================================\n",
      "                                        coef    std err          t      P>|t|      [0.025      0.975]\n",
      "-----------------------------------------------------------------------------------------------------\n",
      "Intercept                             0.9803   9.29e-05   1.06e+04      0.000       0.980       0.980\n",
      "Content_Rating_Adults_only_over18     0.0197      0.012      1.617      0.106      -0.004       0.044\n",
      "==============================================================================\n",
      "Omnibus:                  2719902.280   Durbin-Watson:                   1.992\n",
      "Prob(Omnibus):                  0.000   Jarque-Bera (JB):        213095430.950\n",
      "Skew:                          -6.908   Prob(JB):                         0.00\n",
      "Kurtosis:                      48.723   Cond. No.                         131.\n",
      "==============================================================================\n",
      "\n",
      "Notes:\n",
      "[1] Standard Errors assume that the covariance matrix of the errors is correctly specified.\n"
     ]
    }
   ],
   "source": [
    "# Syntax für die Regressionsgleichung: Zielwert ~ Feature 1 + Feature 2 + ...\n",
    "trd_hypo_basic = ols(\"Free ~ Content_Rating_Adults_only_over18\", numeric).fit()\n",
    "\n",
    "print(trd_hypo_basic.summary())"
   ]
  },
  {
   "cell_type": "code",
   "execution_count": 20,
   "id": "213f0c62-63aa-4941-9542-609be3d21af0",
   "metadata": {},
   "outputs": [
    {
     "name": "stdout",
     "output_type": "stream",
     "text": [
      "                            OLS Regression Results                            \n",
      "==============================================================================\n",
      "Dep. Variable:                   Free   R-squared:                       0.107\n",
      "Model:                            OLS   Adj. R-squared:                  0.107\n",
      "Method:                 Least Squares   F-statistic:                 2.064e+04\n",
      "Date:                Mon, 20 Dec 2021   Prob (F-statistic):               0.00\n",
      "Time:                        11:34:30   Log-Likelihood:             1.3686e+06\n",
      "No. Observations:             2241671   AIC:                        -2.737e+06\n",
      "Df Residuals:                 2241657   BIC:                        -2.737e+06\n",
      "Df Model:                          13                                         \n",
      "Covariance Type:            nonrobust                                         \n",
      "=====================================================================================================\n",
      "                                        coef    std err          t      P>|t|      [0.025      0.975]\n",
      "-----------------------------------------------------------------------------------------------------\n",
      "Intercept                           -15.3090      0.087   -175.578      0.000     -15.480     -15.138\n",
      "Content_Rating_Adults_only_over18    -0.0074      0.016     -0.471      0.637      -0.038       0.023\n",
      "Maximum_Installs                   1.961e-11   4.72e-12      4.151      0.000    1.04e-11    2.89e-11\n",
      "Rating                                0.0001   4.41e-05      2.826      0.005    3.82e-05       0.000\n",
      "Rating_Count                       1.499e-09   5.26e-10      2.850      0.004    4.68e-10    2.53e-09\n",
      "Price                                -0.0141    3.3e-05   -427.432      0.000      -0.014      -0.014\n",
      "Size                              -6.086e-05   3.81e-06    -15.969      0.000   -6.83e-05   -5.34e-05\n",
      "Ad_Supported                          0.0310      0.000    170.461      0.000       0.031       0.031\n",
      "In_App_Purchases                      0.0021      0.000      6.566      0.000       0.002       0.003\n",
      "Released_Year                         0.0081   4.29e-05    188.020      0.000       0.008       0.008\n",
      "Content_Rating_Everyone              -0.0202      0.011     -1.895      0.058      -0.041       0.001\n",
      "Content_Rating_Everyone_over10       -0.0467      0.011     -4.373      0.000      -0.068      -0.026\n",
      "Content_Rating_Mature_over17         -0.0218      0.011     -2.042      0.041      -0.043      -0.001\n",
      "Content_Rating_Teen                  -0.0211      0.011     -1.977      0.048      -0.042      -0.000\n",
      "==============================================================================\n",
      "Omnibus:                  2437903.079   Durbin-Watson:                   1.995\n",
      "Prob(Omnibus):                  0.000   Jarque-Bera (JB):        537651261.549\n",
      "Skew:                          -5.190   Prob(JB):                         0.00\n",
      "Kurtosis:                      78.157   Cond. No.                     2.20e+10\n",
      "==============================================================================\n",
      "\n",
      "Notes:\n",
      "[1] Standard Errors assume that the covariance matrix of the errors is correctly specified.\n",
      "[2] The condition number is large, 2.2e+10. This might indicate that there are\n",
      "strong multicollinearity or other numerical problems.\n"
     ]
    }
   ],
   "source": [
    "# Syntax für die Regressionsgleichung: Zielwert ~ Feature 1 + Feature 2 + ...\n",
    "trd_hypo_full = ols(\"Free ~ Content_Rating_Adults_only_over18 + Maximum_Installs + Rating + Rating_Count + Price + Size + Ad_Supported + In_App_Purchases + Released_Year + Content_Rating_Everyone + Content_Rating_Everyone_over10 + Content_Rating_Mature_over17 + Content_Rating_Teen\", numeric).fit()\n",
    "\n",
    "print(trd_hypo_full.summary())"
   ]
  },
  {
   "cell_type": "markdown",
   "id": "8098ecc3-f973-4782-9707-b67ba7dc0de8",
   "metadata": {},
   "source": [
    "---\n",
    "- trd_hypo_full sagt deutlich mehr Varianz aus als das trd_hypo_basic Modell\n",
    "- Varianz dennoch klein, da der R-Squared unter 0.36 liegt und somit als `schwach` gilt\n",
    "- für das Modell werden nach P>|t| die Features Maximum Installs, Price, Size, Ad-Supported, In_App_Purchases, Released_Year und Content_Rating_Everyone_over10 relevant sein\n",
    "---"
   ]
  },
  {
   "cell_type": "code",
   "execution_count": 21,
   "id": "51cd96ea-a7ed-4025-90db-56172e13cd21",
   "metadata": {},
   "outputs": [
    {
     "name": "stdout",
     "output_type": "stream",
     "text": [
      "                            OLS Regression Results                            \n",
      "==============================================================================\n",
      "Dep. Variable:                   Free   R-squared:                       0.107\n",
      "Model:                            OLS   Adj. R-squared:                  0.107\n",
      "Method:                 Least Squares   F-statistic:                 3.353e+04\n",
      "Date:                Mon, 20 Dec 2021   Prob (F-statistic):               0.00\n",
      "Time:                        11:34:32   Log-Likelihood:             1.3686e+06\n",
      "No. Observations:             2241671   AIC:                        -2.737e+06\n",
      "Df Residuals:                 2241662   BIC:                        -2.737e+06\n",
      "Df Model:                           8                                         \n",
      "Covariance Type:            nonrobust                                         \n",
      "=====================================================================================================\n",
      "                                        coef    std err          t      P>|t|      [0.025      0.975]\n",
      "-----------------------------------------------------------------------------------------------------\n",
      "Intercept                           -15.2456      0.084   -182.310      0.000     -15.410     -15.082\n",
      "Content_Rating_Adults_only_over18     0.0130      0.012      1.126      0.260      -0.010       0.036\n",
      "Maximum_Installs                   2.688e-11   3.98e-12      6.760      0.000    1.91e-11    3.47e-11\n",
      "Price                                -0.0141    3.3e-05   -427.465      0.000      -0.014      -0.014\n",
      "Size                              -6.039e-05    3.8e-06    -15.892      0.000   -6.78e-05   -5.29e-05\n",
      "Ad_Supported                          0.0310      0.000    173.950      0.000       0.031       0.031\n",
      "In_App_Purchases                      0.0022      0.000      6.777      0.000       0.002       0.003\n",
      "Released_Year                         0.0080   4.14e-05    193.850      0.000       0.008       0.008\n",
      "Content_Rating_Everyone_over10       -0.0264      0.001    -35.913      0.000      -0.028      -0.025\n",
      "==============================================================================\n",
      "Omnibus:                  2437911.910   Durbin-Watson:                   1.995\n",
      "Prob(Omnibus):                  0.000   Jarque-Bera (JB):        537718126.650\n",
      "Skew:                          -5.190   Prob(JB):                         0.00\n",
      "Kurtosis:                      78.161   Cond. No.                     2.10e+10\n",
      "==============================================================================\n",
      "\n",
      "Notes:\n",
      "[1] Standard Errors assume that the covariance matrix of the errors is correctly specified.\n",
      "[2] The condition number is large, 2.1e+10. This might indicate that there are\n",
      "strong multicollinearity or other numerical problems.\n"
     ]
    }
   ],
   "source": [
    "# Syntax für die Regressionsgleichung: Zielwert ~ Feature 1 + Feature 2 + ...\n",
    "trd_hypo_opt = ols(\"Free ~ Content_Rating_Adults_only_over18 + Maximum_Installs + Price + Size + Ad_Supported + In_App_Purchases + Released_Year + Content_Rating_Everyone_over10\", numeric).fit()\n",
    "\n",
    "print(trd_hypo_opt.summary())"
   ]
  },
  {
   "cell_type": "markdown",
   "id": "46cf4d32-7c2b-4450-a961-ae23f0e9f18e",
   "metadata": {},
   "source": [
    "----\n",
    "- Varianz hat sich weder verschlechtert noch verbessert\n",
    "- aber der P>|t| hat sich verbessert im Gegensatz zum _full\n",
    "----"
   ]
  },
  {
   "cell_type": "code",
   "execution_count": 22,
   "id": "78910715-4cc5-4ee3-9c97-88f866b86ab2",
   "metadata": {},
   "outputs": [
    {
     "name": "stdout",
     "output_type": "stream",
     "text": [
      "\n",
      "ANOVA results\n",
      "    df_resid           ssr  df_diff      ss_diff             F    Pr(>F)\n",
      "0  2241669.0  43339.965563      0.0          NaN           NaN       NaN\n",
      "1  2241662.0  38708.466450      7.0  4631.499113  38317.169512  0.000000\n",
      "2  2241657.0  38707.871094      5.0     0.595356      6.895672  0.000002\n"
     ]
    }
   ],
   "source": [
    "anova_results = anova_lm(trd_hypo_basic,trd_hypo_opt,trd_hypo_full)\n",
    "\n",
    "print('\\nANOVA results')\n",
    "print(anova_results)\n",
    "\n",
    "# Die Modelle werden nach der Größe nach angegeben, also mit den meisten Termen zuerst: 0 - full, 1 - opt, 2 - basic\n",
    "# Erste Ausgabezeile wird egal sein, weil für snd_hypo_full kein Vorgänger vorhanden ist"
   ]
  },
  {
   "cell_type": "markdown",
   "id": "88c52e03-1313-47fc-9493-43c1e0406c0d",
   "metadata": {},
   "source": [
    "----\n",
    "- Sowohl der Vergleich von _opt mit _basic als auch der Vergleich von _full mit _opt ist signifikant\n",
    "- aber _opt ist also tatsächlich besser als _full (und damit auch als _basic) \n",
    "----"
   ]
  },
  {
   "cell_type": "code",
   "execution_count": null,
   "id": "0f33e479-00e0-4880-8971-269925a219f4",
   "metadata": {},
   "outputs": [],
   "source": []
  },
  {
   "cell_type": "code",
   "execution_count": null,
   "id": "ff160597-17e1-48d7-9c6f-1f7bf949a159",
   "metadata": {},
   "outputs": [],
   "source": []
  },
  {
   "cell_type": "code",
   "execution_count": null,
   "id": "2c518013-8083-4ea3-ad65-b7795fc0e2b3",
   "metadata": {},
   "outputs": [],
   "source": []
  },
  {
   "cell_type": "markdown",
   "id": "51a0cbab-8377-4bc9-a01c-9632ba508f5a",
   "metadata": {},
   "source": [
    "----\n",
    "### Prädiktion\n",
    "\n",
    "Y ~ B*X + e --> Y soll durch ein oder mehrere X bestimmt bzw. vorhergesagt werden\n",
    "\n",
    "***Voraussetzungen:*** \n",
    "- Regressant (Y) und Prädiktoren (X) sollten möglich linear sein\n",
    "- Y sollte metrisch sein, also keine Kategoriale Variablen oder booleansche Variablen\n",
    "\n",
    "Wir bestimmen/vorhersagen also die Installationen mit Hilfe von Ratings, Rating Counts und Price."
   ]
  },
  {
   "cell_type": "code",
   "execution_count": 82,
   "id": "17b5b1c8-a0d3-4f34-94ca-de943ce1e263",
   "metadata": {},
   "outputs": [],
   "source": [
    "from sklearn.linear_model import LinearRegression\n",
    "from sklearn.model_selection import train_test_split\n",
    "import matplotlib.pyplot as plt\n",
    "import matplotlib.lines as mlines\n",
    "import matplotlib.transforms as mtransforms"
   ]
  },
  {
   "cell_type": "code",
   "execution_count": 83,
   "id": "5aede418-a326-4103-8bb8-ad3b2a66b856",
   "metadata": {},
   "outputs": [],
   "source": [
    "X = numeric[['Rating', 'Rating_Count','Price']]\n",
    "Y = pd.DataFrame(numeric['Maximum_Installs'])"
   ]
  },
  {
   "cell_type": "code",
   "execution_count": 84,
   "id": "e81172a3-71f0-4b48-892d-4f997bfb7bfe",
   "metadata": {},
   "outputs": [
    {
     "data": {
      "text/plain": [
       "LinearRegression()"
      ]
     },
     "execution_count": 84,
     "metadata": {},
     "output_type": "execute_result"
    }
   ],
   "source": [
    "model= LinearRegression()\n",
    "model.fit(X, Y)"
   ]
  },
  {
   "cell_type": "code",
   "execution_count": 85,
   "id": "92ddcff3-37e1-4306-a724-7a367804ecf5",
   "metadata": {},
   "outputs": [
    {
     "name": "stdout",
     "output_type": "stream",
     "text": [
      "-----Lineare Regression-----\n",
      "Intercept: 11989.464572794212\n",
      "Slope: 59810.333794247636\n",
      "Coefficient of determination: 0.2923523175066215\n"
     ]
    }
   ],
   "source": [
    "intercept = model.intercept_[0]\n",
    "slope = model.coef_[0, 0]\n",
    "r_sq = model.score(X, Y)\n",
    "\n",
    "print(\"-----Lineare Regression-----\")\n",
    "print(\"Intercept:\", intercept)\n",
    "print(\"Slope:\", slope)\n",
    "print(\"Coefficient of determination:\", r_sq)"
   ]
  },
  {
   "cell_type": "code",
   "execution_count": 86,
   "id": "28d340d4-96af-4ce6-b101-1c98d07bef6d",
   "metadata": {},
   "outputs": [
    {
     "data": {
      "image/png": "[encoded data removed]",
      "text/plain": [
       "<Figure size 432x288 with 1 Axes>"
      ]
     },
     "metadata": {
      "needs_background": "light"
     },
     "output_type": "display_data"
    }
   ],
   "source": [
    "Y_pred = model.predict(X)\n",
    "\n",
    "# Plot\n",
    "plt.scatter(numeric['Maximum_Installs'], Y_pred, alpha=0.7)\n",
    "plt.title(\"App Vorhersage\")\n",
    "plt.xlabel(\"Installationen\")\n",
    "plt.ylabel(\"Prognose\")\n",
    "plt.xlim(0, 5000)\n",
    "plt.ylim(0, 5000)\n",
    "ax = plt.gca()\n",
    "line = mlines.Line2D([0, 1], [0, 1], color=\"red\")\n",
    "transform = ax.transAxes\n",
    "line.set_transform(transform)\n",
    "ax.add_line(line)\n",
    "plt.show()"
   ]
  },
  {
   "cell_type": "code",
   "execution_count": 105,
   "id": "ee8e6d73-9503-49e6-bbe2-931d2769f8e0",
   "metadata": {},
   "outputs": [],
   "source": [
    "cols_ratio = ['Rating', 'Rating_Count','Price']\n",
    "cols_target = ['Maximum_Installs']\n",
    "\n",
    "dataSet_ratio = numeric.loc[:, cols_ratio]\n",
    "dataSet_target = numeric[cols_target]"
   ]
  },
  {
   "cell_type": "code",
   "execution_count": 106,
   "id": "b9a4cc25-009f-45db-966f-82a5189cd859",
   "metadata": {},
   "outputs": [],
   "source": [
    "X2 = dataSet_ratio[['Price']]\n",
    "Y2 = numeric[cols_target]"
   ]
  },
  {
   "cell_type": "code",
   "execution_count": 107,
   "id": "9924e1a7-5c85-46e4-aee5-fe7bc0022d1c",
   "metadata": {},
   "outputs": [],
   "source": [
    "from sklearn.model_selection import train_test_split\n",
    " \n",
    "X_train, X_test, y_train, y_test = train_test_split(X2, Y2,\n",
    "                                                    test_size = 0.3,    \n",
    "                                                    random_state = None)"
   ]
  },
  {
   "cell_type": "code",
   "execution_count": 108,
   "id": "10efc885-9adf-401b-bccf-38f116d093d9",
   "metadata": {},
   "outputs": [
    {
     "data": {
      "text/plain": [
       "LinearRegression()"
      ]
     },
     "execution_count": 108,
     "metadata": {},
     "output_type": "execute_result"
    }
   ],
   "source": [
    "lr = LinearRegression()\n",
    "lr.fit(X_train, y_train)"
   ]
  },
  {
   "cell_type": "code",
   "execution_count": 109,
   "id": "33d937fc-631b-4239-9d4d-c9518c37c36d",
   "metadata": {},
   "outputs": [
    {
     "name": "stdout",
     "output_type": "stream",
     "text": [
      "------ Lineare Regression -----\n",
      "Funktion via sklearn: y = -4344.438 * x + 311607.143\n",
      "Intercept: [311607.14305347]\n",
      "Slope: [-4344.43807227]\n",
      "Training Set R² Score: 0.00\n",
      "Test Set R² Score: 0.00\n",
      "\n",
      "\n"
     ]
    }
   ],
   "source": [
    "print('------ Lineare Regression -----')\n",
    "print('Funktion via sklearn: y = %.3f * x + %.3f' % (lr.coef_[0], lr.intercept_))\n",
    "print(\"Intercept: {}\".format(lr.intercept_))\n",
    "print(\"Slope: {}\".format(lr.coef_[0]))\n",
    "print(\"Training Set R² Score: {:.2f}\".format(lr.score(X_train, y_train)))\n",
    "print(\"Test Set R² Score: {:.2f}\".format(lr.score(X_test, y_test)))\n",
    "print(\"\\n\")"
   ]
  },
  {
   "cell_type": "code",
   "execution_count": 110,
   "id": "ca72e88f-baf2-4d4d-8e1e-ace17dc7e72c",
   "metadata": {},
   "outputs": [
    {
     "data": {
      "image/png": "[encoded data removed]",
      "text/plain": [
       "<Figure size 720x720 with 1 Axes>"
      ]
     },
     "metadata": {
      "needs_background": "light"
     },
     "output_type": "display_data"
    }
   ],
   "source": [
    "plt.figure(figsize=(10,10))\n",
    "plt.scatter(X_train, y_train, color = 'blue')                 # Blaue Punkte sind Trainingsdaten\n",
    "plt.scatter(X_test, y_test, color = 'green')                  # Grüne Punkte sind Testdaten\n",
    "plt.plot(X_train, lr.predict(X_train), color = 'red')         # Hier ensteht die Gerade (x, y) = (x, lr.predict(x)\n",
    "plt.xlabel(X_train.columns[0])\n",
    "plt.ylabel(cols_target[0])\n",
    "plt.show()"
   ]
  },
  {
   "cell_type": "code",
   "execution_count": null,
   "id": "3f1376c4-8466-47ee-9447-7244b18d02c0",
   "metadata": {},
   "outputs": [],
   "source": []
  }
 ],
 "metadata": {
  "kernelspec": {
   "display_name": "Python 3 (ipykernel)",
   "language": "python",
   "name": "python3"
  },
  "language_info": {
   "codemirror_mode": {
    "name": "ipython",
    "version": 3
   },
   "file_extension": ".py",
   "mimetype": "text/x-python",
   "name": "python",
   "nbconvert_exporter": "python",
   "pygments_lexer": "ipython3",
   "version": "3.8.10"
  }
 },
 "nbformat": 4,
 "nbformat_minor": 5
}
