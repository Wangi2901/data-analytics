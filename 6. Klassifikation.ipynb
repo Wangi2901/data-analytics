{
 "cells": [
  {
   "cell_type": "markdown",
   "id": "bb112475",
   "metadata": {},
   "source": [
    "# 6. Klassifikation\n",
    "## Anforderungen an Projektumsetzung: Klassifikation"
   ]
  },
  {
   "cell_type": "markdown",
   "id": "209840c1",
   "metadata": {},
   "source": [
    "---\n",
    "**AUFGABE:**\n",
    "\n",
    "- Führen Sie mit dem Algorithmus Ihrer Wahl eine Klassifikationsaufgabe auf Ihren Daten durch.\n",
    "- Teilen Sie dazu zunächst die Daten auf, um Overfitting beim Trainieren des Algorithmus und bei der Parameterauswahl zu vermeiden. Erklären Sie die gewählte Strategie und die Größenverhältnisse.\n",
    "- Wählen Sie geeignete Features aus und setzen Sie die Parameter des Algorithmus. Beschreiben Sie das gewälhte Vorgehen für die Auswahl der Features und Parameter. Berichten Sie den Parameterraum und die final gewählten Parameter. Geben Sie die Performanz auf den Trainingsdaten (bzw. Entwicklungsdaten, falls verwendet) an.\n",
    "- Evaluieren Sie die Klassifikation auf den ungesehenen Testdaten. Betrachten Sie Precision und Recall sowie den F-Wert. Welches Maß ist für Ihre Anwendung wichtiger? Bewerten Sie Ihr Ergebnis. Ist es in der Praxis voraussichtlich zufriedenstellend?"
   ]
  },
  {
   "cell_type": "code",
   "execution_count": 1,
   "id": "b9f6cfe8",
   "metadata": {},
   "outputs": [],
   "source": [
    "# Imports für unten\n",
    "\n",
    "from sklearn.model_selection import train_test_split\n",
    "from sklearn.feature_extraction.text import TfidfVectorizer\n",
    "from sklearn.feature_selection import SelectFromModel\n",
    "from sklearn.svm import LinearSVC\n",
    "from sklearn.pipeline import Pipeline\n",
    "from sklearn.svm import SVC\n",
    "from sklearn.model_selection import GridSearchCV\n",
    "from sklearn.metrics import classification_report, confusion_matrix\n",
    "from sklearn.model_selection import cross_val_predict\n",
    "from sklearn.preprocessing import LabelEncoder\n",
    "from sklearn.neighbors import KNeighborsClassifier\n",
    "import pandas as pd"
   ]
  },
  {
   "cell_type": "code",
   "execution_count": 2,
   "id": "858bdb16",
   "metadata": {},
   "outputs": [],
   "source": [
    "apps = pd.read_csv(\"Daten/Google-Playstore_Edit2.csv\")"
   ]
  },
  {
   "cell_type": "code",
   "execution_count": 3,
   "id": "c6e0bc42",
   "metadata": {},
   "outputs": [
    {
     "data": {
      "text/html": [
       "<div>\n",
       "<style scoped>\n",
       "    .dataframe tbody tr th:only-of-type {\n",
       "        vertical-align: middle;\n",
       "    }\n",
       "\n",
       "    .dataframe tbody tr th {\n",
       "        vertical-align: top;\n",
       "    }\n",
       "\n",
       "    .dataframe thead th {\n",
       "        text-align: right;\n",
       "    }\n",
       "</style>\n",
       "<table border=\"1\" class=\"dataframe\">\n",
       "  <thead>\n",
       "    <tr style=\"text-align: right;\">\n",
       "      <th></th>\n",
       "      <th>App Name</th>\n",
       "      <th>App Id</th>\n",
       "      <th>Category</th>\n",
       "      <th>Rating</th>\n",
       "      <th>Rating Count</th>\n",
       "      <th>Installs</th>\n",
       "      <th>Minimum Installs</th>\n",
       "      <th>Maximum Installs</th>\n",
       "      <th>Free</th>\n",
       "      <th>Price</th>\n",
       "      <th>...</th>\n",
       "      <th>Developer Email</th>\n",
       "      <th>Released</th>\n",
       "      <th>Last Updated</th>\n",
       "      <th>Content Rating</th>\n",
       "      <th>Privacy Policy</th>\n",
       "      <th>Ad Supported</th>\n",
       "      <th>In App Purchases</th>\n",
       "      <th>Editors Choice</th>\n",
       "      <th>Scraped Time</th>\n",
       "      <th>Released Year</th>\n",
       "    </tr>\n",
       "  </thead>\n",
       "  <tbody>\n",
       "    <tr>\n",
       "      <th>0</th>\n",
       "      <td>BBD Store - Best Budget Deals</td>\n",
       "      <td>com.app.BBD_Store</td>\n",
       "      <td>Shopping</td>\n",
       "      <td>5.0</td>\n",
       "      <td>20.0</td>\n",
       "      <td>100+</td>\n",
       "      <td>100.0</td>\n",
       "      <td>179</td>\n",
       "      <td>True</td>\n",
       "      <td>0.0</td>\n",
       "      <td>...</td>\n",
       "      <td>bbdstore9137@gmail.com</td>\n",
       "      <td>2020-12-31</td>\n",
       "      <td>2021-05-27</td>\n",
       "      <td>Everyone</td>\n",
       "      <td>https://bbd-store-0.flycricket.io/privacy.html</td>\n",
       "      <td>True</td>\n",
       "      <td>False</td>\n",
       "      <td>False</td>\n",
       "      <td>2021-06-16 00:05:22</td>\n",
       "      <td>2020.0</td>\n",
       "    </tr>\n",
       "    <tr>\n",
       "      <th>1</th>\n",
       "      <td>아가펫츠</td>\n",
       "      <td>com.suholdings.agapets</td>\n",
       "      <td>Lifestyle</td>\n",
       "      <td>5.0</td>\n",
       "      <td>8.0</td>\n",
       "      <td>100+</td>\n",
       "      <td>100.0</td>\n",
       "      <td>152</td>\n",
       "      <td>True</td>\n",
       "      <td>0.0</td>\n",
       "      <td>...</td>\n",
       "      <td>info@agapets.com</td>\n",
       "      <td>2020-06-16</td>\n",
       "      <td>2020-08-06</td>\n",
       "      <td>Teen</td>\n",
       "      <td>http://www.agapets.com/terms/terms_privacy.html</td>\n",
       "      <td>True</td>\n",
       "      <td>False</td>\n",
       "      <td>False</td>\n",
       "      <td>2021-06-16 02:17:56</td>\n",
       "      <td>2020.0</td>\n",
       "    </tr>\n",
       "  </tbody>\n",
       "</table>\n",
       "<p>2 rows × 25 columns</p>\n",
       "</div>"
      ],
      "text/plain": [
       "                        App Name                  App Id   Category  Rating  \\\n",
       "0  BBD Store - Best Budget Deals       com.app.BBD_Store   Shopping     5.0   \n",
       "1                           아가펫츠  com.suholdings.agapets  Lifestyle     5.0   \n",
       "\n",
       "   Rating Count Installs  Minimum Installs  Maximum Installs  Free  Price  \\\n",
       "0          20.0     100+             100.0               179  True    0.0   \n",
       "1           8.0     100+             100.0               152  True    0.0   \n",
       "\n",
       "   ...         Developer Email    Released Last Updated Content Rating  \\\n",
       "0  ...  bbdstore9137@gmail.com  2020-12-31   2021-05-27       Everyone   \n",
       "1  ...        info@agapets.com  2020-06-16   2020-08-06           Teen   \n",
       "\n",
       "                                    Privacy Policy Ad Supported  \\\n",
       "0   https://bbd-store-0.flycricket.io/privacy.html         True   \n",
       "1  http://www.agapets.com/terms/terms_privacy.html         True   \n",
       "\n",
       "  In App Purchases Editors Choice         Scraped Time Released Year  \n",
       "0            False          False  2021-06-16 00:05:22        2020.0  \n",
       "1            False          False  2021-06-16 02:17:56        2020.0  \n",
       "\n",
       "[2 rows x 25 columns]"
      ]
     },
     "execution_count": 3,
     "metadata": {},
     "output_type": "execute_result"
    }
   ],
   "source": [
    "apps.head(2)"
   ]
  },
  {
   "cell_type": "code",
   "execution_count": 4,
   "id": "fa970da5",
   "metadata": {},
   "outputs": [],
   "source": [
    "# Reihenfolge des Dataframes geändert\n",
    "apps = apps[['App Name', 'App Id', 'Rating', 'Rating Count', 'Installs', 'Minimum Installs', 'Maximum Installs', 'Free', \n",
    "             'Price', 'Currency', 'Size', 'Minimum Android', 'Developer Id', 'Developer Website', 'Developer Email', \n",
    "             'Released', 'Last Updated', 'Content Rating', 'Privacy Policy', 'Ad Supported', 'In App Purchases', 'Editors Choice', 'Scraped Time', 'Category']]"
   ]
  },
  {
   "cell_type": "code",
   "execution_count": 5,
   "id": "110275fe",
   "metadata": {},
   "outputs": [],
   "source": [
    "# Alle Spalten mit Unique-Werten werden gedropped - zu viel Rechenkapa notwendig\n",
    "# apps_v2 = apps.copy()\n",
    "apps.drop(columns=['App Name', 'App Id', 'Developer Id', 'Developer Website','Minimum Android', 'Developer Email', 'Privacy Policy', 'Released', 'Scraped Time', 'Last Updated'], inplace=True)"
   ]
  },
  {
   "cell_type": "code",
   "execution_count": 6,
   "id": "987426a1",
   "metadata": {},
   "outputs": [],
   "source": [
    "apps['Free']             = apps['Free'].astype(float)\n",
    "apps['Ad Supported']     = apps['Ad Supported'].astype(float)\n",
    "apps['Editors Choice']   = apps['Editors Choice'].astype(float)\n",
    "apps['In App Purchases'] = apps['In App Purchases'].astype(float)"
   ]
  },
  {
   "cell_type": "code",
   "execution_count": 7,
   "id": "49dc358b",
   "metadata": {},
   "outputs": [
    {
     "data": {
      "text/html": [
       "<div>\n",
       "<style scoped>\n",
       "    .dataframe tbody tr th:only-of-type {\n",
       "        vertical-align: middle;\n",
       "    }\n",
       "\n",
       "    .dataframe tbody tr th {\n",
       "        vertical-align: top;\n",
       "    }\n",
       "\n",
       "    .dataframe thead th {\n",
       "        text-align: right;\n",
       "    }\n",
       "</style>\n",
       "<table border=\"1\" class=\"dataframe\">\n",
       "  <thead>\n",
       "    <tr style=\"text-align: right;\">\n",
       "      <th></th>\n",
       "      <th>Installs</th>\n",
       "      <th>Currency</th>\n",
       "      <th>Content Rating</th>\n",
       "      <th>Category</th>\n",
       "    </tr>\n",
       "  </thead>\n",
       "  <tbody>\n",
       "    <tr>\n",
       "      <th>0</th>\n",
       "      <td>100+</td>\n",
       "      <td>USD</td>\n",
       "      <td>Everyone</td>\n",
       "      <td>Shopping</td>\n",
       "    </tr>\n",
       "    <tr>\n",
       "      <th>1</th>\n",
       "      <td>100+</td>\n",
       "      <td>USD</td>\n",
       "      <td>Teen</td>\n",
       "      <td>Lifestyle</td>\n",
       "    </tr>\n",
       "    <tr>\n",
       "      <th>2</th>\n",
       "      <td>1,000+</td>\n",
       "      <td>USD</td>\n",
       "      <td>Everyone</td>\n",
       "      <td>Communication</td>\n",
       "    </tr>\n",
       "    <tr>\n",
       "      <th>3</th>\n",
       "      <td>100+</td>\n",
       "      <td>USD</td>\n",
       "      <td>Teen</td>\n",
       "      <td>Social</td>\n",
       "    </tr>\n",
       "    <tr>\n",
       "      <th>4</th>\n",
       "      <td>50+</td>\n",
       "      <td>USD</td>\n",
       "      <td>Everyone</td>\n",
       "      <td>Puzzle</td>\n",
       "    </tr>\n",
       "    <tr>\n",
       "      <th>...</th>\n",
       "      <td>...</td>\n",
       "      <td>...</td>\n",
       "      <td>...</td>\n",
       "      <td>...</td>\n",
       "    </tr>\n",
       "    <tr>\n",
       "      <th>2290043</th>\n",
       "      <td>10+</td>\n",
       "      <td>USD</td>\n",
       "      <td>Everyone</td>\n",
       "      <td>Health &amp; Fitness</td>\n",
       "    </tr>\n",
       "    <tr>\n",
       "      <th>2290044</th>\n",
       "      <td>10+</td>\n",
       "      <td>USD</td>\n",
       "      <td>Everyone</td>\n",
       "      <td>Finance</td>\n",
       "    </tr>\n",
       "    <tr>\n",
       "      <th>2290045</th>\n",
       "      <td>5+</td>\n",
       "      <td>USD</td>\n",
       "      <td>Everyone</td>\n",
       "      <td>Auto &amp; Vehicles</td>\n",
       "    </tr>\n",
       "    <tr>\n",
       "      <th>2290046</th>\n",
       "      <td>500+</td>\n",
       "      <td>USD</td>\n",
       "      <td>Everyone</td>\n",
       "      <td>Productivity</td>\n",
       "    </tr>\n",
       "    <tr>\n",
       "      <th>2290047</th>\n",
       "      <td>1,000+</td>\n",
       "      <td>USD</td>\n",
       "      <td>Everyone</td>\n",
       "      <td>Travel &amp; Local</td>\n",
       "    </tr>\n",
       "  </tbody>\n",
       "</table>\n",
       "<p>2290028 rows × 4 columns</p>\n",
       "</div>"
      ],
      "text/plain": [
       "        Installs Currency Content Rating          Category\n",
       "0           100+      USD       Everyone          Shopping\n",
       "1           100+      USD           Teen         Lifestyle\n",
       "2         1,000+      USD       Everyone     Communication\n",
       "3           100+      USD           Teen            Social\n",
       "4            50+      USD       Everyone            Puzzle\n",
       "...          ...      ...            ...               ...\n",
       "2290043      10+      USD       Everyone  Health & Fitness\n",
       "2290044      10+      USD       Everyone           Finance\n",
       "2290045       5+      USD       Everyone   Auto & Vehicles\n",
       "2290046     500+      USD       Everyone      Productivity\n",
       "2290047   1,000+      USD       Everyone    Travel & Local\n",
       "\n",
       "[2290028 rows x 4 columns]"
      ]
     },
     "execution_count": 7,
     "metadata": {},
     "output_type": "execute_result"
    }
   ],
   "source": [
    "# Daten aufbereiten und in Test- und Trainingsdaten aufteilen\n",
    "apps = apps.dropna()\n",
    "apps.select_dtypes(include=['object'])\n",
    "\n",
    "# dataset1 = apps.dropna().loc[:,['Rating','Rating Count', 'Size', 'Minimum Installs', 'Maximum Installs', 'Price']] \n",
    "# dataset2 = apps.dropna().loc[:, 'Rating':'Editors Choice'] \n",
    "# list = dataset2.select_dtypes(include=[\"object\"])\n",
    "# X_onehot = pd.get_dummies(list)"
   ]
  },
  {
   "cell_type": "code",
   "execution_count": 8,
   "id": "f1282b7b",
   "metadata": {},
   "outputs": [
    {
     "data": {
      "text/plain": [
       "Rating              float64\n",
       "Rating Count        float64\n",
       "Installs             object\n",
       "Minimum Installs    float64\n",
       "Maximum Installs      int64\n",
       "Free                float64\n",
       "Price               float64\n",
       "Currency             object\n",
       "Size                float64\n",
       "Content Rating       object\n",
       "Ad Supported        float64\n",
       "In App Purchases    float64\n",
       "Editors Choice      float64\n",
       "Category             object\n",
       "dtype: object"
      ]
     },
     "execution_count": 8,
     "metadata": {},
     "output_type": "execute_result"
    }
   ],
   "source": [
    "apps.dtypes"
   ]
  },
  {
   "cell_type": "code",
   "execution_count": 9,
   "id": "4eeb1fbb",
   "metadata": {},
   "outputs": [],
   "source": [
    "numerical_cols = list(apps.select_dtypes(include=\"float\").columns)\n",
    "categorical_cols = list(apps.select_dtypes(include=\"object\").columns)"
   ]
  },
  {
   "cell_type": "code",
   "execution_count": 10,
   "id": "aa83c631",
   "metadata": {},
   "outputs": [
    {
     "data": {
      "text/plain": [
       "['Installs', 'Currency', 'Content Rating']"
      ]
     },
     "execution_count": 10,
     "metadata": {},
     "output_type": "execute_result"
    }
   ],
   "source": [
    "categorical_cols.remove(\"Category\")\n",
    "categorical_cols"
   ]
  },
  {
   "cell_type": "code",
   "execution_count": 11,
   "id": "9830fea4",
   "metadata": {},
   "outputs": [],
   "source": [
    "X_dumm = pd.get_dummies(apps[categorical_cols])"
   ]
  },
  {
   "cell_type": "code",
   "execution_count": 12,
   "id": "f3605df2",
   "metadata": {},
   "outputs": [
    {
     "data": {
      "text/html": [
       "<div>\n",
       "<style scoped>\n",
       "    .dataframe tbody tr th:only-of-type {\n",
       "        vertical-align: middle;\n",
       "    }\n",
       "\n",
       "    .dataframe tbody tr th {\n",
       "        vertical-align: top;\n",
       "    }\n",
       "\n",
       "    .dataframe thead th {\n",
       "        text-align: right;\n",
       "    }\n",
       "</style>\n",
       "<table border=\"1\" class=\"dataframe\">\n",
       "  <thead>\n",
       "    <tr style=\"text-align: right;\">\n",
       "      <th></th>\n",
       "      <th>Installs_0+</th>\n",
       "      <th>Installs_1+</th>\n",
       "      <th>Installs_1,000+</th>\n",
       "      <th>Installs_1,000,000+</th>\n",
       "      <th>Installs_1,000,000,000+</th>\n",
       "      <th>Installs_10+</th>\n",
       "      <th>Installs_10,000+</th>\n",
       "      <th>Installs_10,000,000+</th>\n",
       "      <th>Installs_10,000,000,000+</th>\n",
       "      <th>Installs_100+</th>\n",
       "      <th>...</th>\n",
       "      <th>Currency_USD</th>\n",
       "      <th>Currency_VND</th>\n",
       "      <th>Currency_XXX</th>\n",
       "      <th>Currency_ZAR</th>\n",
       "      <th>Content Rating_Adults only 18+</th>\n",
       "      <th>Content Rating_Everyone</th>\n",
       "      <th>Content Rating_Everyone 10+</th>\n",
       "      <th>Content Rating_Mature 17+</th>\n",
       "      <th>Content Rating_Teen</th>\n",
       "      <th>Content Rating_Unrated</th>\n",
       "    </tr>\n",
       "  </thead>\n",
       "  <tbody>\n",
       "    <tr>\n",
       "      <th>0</th>\n",
       "      <td>0</td>\n",
       "      <td>0</td>\n",
       "      <td>0</td>\n",
       "      <td>0</td>\n",
       "      <td>0</td>\n",
       "      <td>0</td>\n",
       "      <td>0</td>\n",
       "      <td>0</td>\n",
       "      <td>0</td>\n",
       "      <td>1</td>\n",
       "      <td>...</td>\n",
       "      <td>1</td>\n",
       "      <td>0</td>\n",
       "      <td>0</td>\n",
       "      <td>0</td>\n",
       "      <td>0</td>\n",
       "      <td>1</td>\n",
       "      <td>0</td>\n",
       "      <td>0</td>\n",
       "      <td>0</td>\n",
       "      <td>0</td>\n",
       "    </tr>\n",
       "    <tr>\n",
       "      <th>1</th>\n",
       "      <td>0</td>\n",
       "      <td>0</td>\n",
       "      <td>0</td>\n",
       "      <td>0</td>\n",
       "      <td>0</td>\n",
       "      <td>0</td>\n",
       "      <td>0</td>\n",
       "      <td>0</td>\n",
       "      <td>0</td>\n",
       "      <td>1</td>\n",
       "      <td>...</td>\n",
       "      <td>1</td>\n",
       "      <td>0</td>\n",
       "      <td>0</td>\n",
       "      <td>0</td>\n",
       "      <td>0</td>\n",
       "      <td>0</td>\n",
       "      <td>0</td>\n",
       "      <td>0</td>\n",
       "      <td>1</td>\n",
       "      <td>0</td>\n",
       "    </tr>\n",
       "  </tbody>\n",
       "</table>\n",
       "<p>2 rows × 41 columns</p>\n",
       "</div>"
      ],
      "text/plain": [
       "   Installs_0+  Installs_1+  Installs_1,000+  Installs_1,000,000+  \\\n",
       "0            0            0                0                    0   \n",
       "1            0            0                0                    0   \n",
       "\n",
       "   Installs_1,000,000,000+  Installs_10+  Installs_10,000+  \\\n",
       "0                        0             0                 0   \n",
       "1                        0             0                 0   \n",
       "\n",
       "   Installs_10,000,000+  Installs_10,000,000,000+  Installs_100+  ...  \\\n",
       "0                     0                         0              1  ...   \n",
       "1                     0                         0              1  ...   \n",
       "\n",
       "   Currency_USD  Currency_VND  Currency_XXX  Currency_ZAR  \\\n",
       "0             1             0             0             0   \n",
       "1             1             0             0             0   \n",
       "\n",
       "   Content Rating_Adults only 18+  Content Rating_Everyone  \\\n",
       "0                               0                        1   \n",
       "1                               0                        0   \n",
       "\n",
       "   Content Rating_Everyone 10+  Content Rating_Mature 17+  \\\n",
       "0                            0                          0   \n",
       "1                            0                          0   \n",
       "\n",
       "   Content Rating_Teen  Content Rating_Unrated  \n",
       "0                    0                       0  \n",
       "1                    1                       0  \n",
       "\n",
       "[2 rows x 41 columns]"
      ]
     },
     "execution_count": 12,
     "metadata": {},
     "output_type": "execute_result"
    }
   ],
   "source": [
    "X_dumm.head(2)"
   ]
  },
  {
   "cell_type": "code",
   "execution_count": 13,
   "id": "1c53a7a2",
   "metadata": {},
   "outputs": [],
   "source": [
    "X = pd.concat([apps[numerical_cols], X_dumm], axis = 1)"
   ]
  },
  {
   "cell_type": "code",
   "execution_count": 14,
   "id": "b4723164",
   "metadata": {},
   "outputs": [
    {
     "data": {
      "text/html": [
       "<div>\n",
       "<style scoped>\n",
       "    .dataframe tbody tr th:only-of-type {\n",
       "        vertical-align: middle;\n",
       "    }\n",
       "\n",
       "    .dataframe tbody tr th {\n",
       "        vertical-align: top;\n",
       "    }\n",
       "\n",
       "    .dataframe thead th {\n",
       "        text-align: right;\n",
       "    }\n",
       "</style>\n",
       "<table border=\"1\" class=\"dataframe\">\n",
       "  <thead>\n",
       "    <tr style=\"text-align: right;\">\n",
       "      <th></th>\n",
       "      <th>Rating</th>\n",
       "      <th>Rating Count</th>\n",
       "      <th>Minimum Installs</th>\n",
       "      <th>Free</th>\n",
       "      <th>Price</th>\n",
       "      <th>Size</th>\n",
       "      <th>Ad Supported</th>\n",
       "      <th>In App Purchases</th>\n",
       "      <th>Editors Choice</th>\n",
       "      <th>Installs_0+</th>\n",
       "      <th>...</th>\n",
       "      <th>Currency_USD</th>\n",
       "      <th>Currency_VND</th>\n",
       "      <th>Currency_XXX</th>\n",
       "      <th>Currency_ZAR</th>\n",
       "      <th>Content Rating_Adults only 18+</th>\n",
       "      <th>Content Rating_Everyone</th>\n",
       "      <th>Content Rating_Everyone 10+</th>\n",
       "      <th>Content Rating_Mature 17+</th>\n",
       "      <th>Content Rating_Teen</th>\n",
       "      <th>Content Rating_Unrated</th>\n",
       "    </tr>\n",
       "  </thead>\n",
       "  <tbody>\n",
       "    <tr>\n",
       "      <th>0</th>\n",
       "      <td>5.0</td>\n",
       "      <td>20.0</td>\n",
       "      <td>100.0</td>\n",
       "      <td>1.0</td>\n",
       "      <td>0.0</td>\n",
       "      <td>6.7</td>\n",
       "      <td>1.0</td>\n",
       "      <td>0.0</td>\n",
       "      <td>0.0</td>\n",
       "      <td>0</td>\n",
       "      <td>...</td>\n",
       "      <td>1</td>\n",
       "      <td>0</td>\n",
       "      <td>0</td>\n",
       "      <td>0</td>\n",
       "      <td>0</td>\n",
       "      <td>1</td>\n",
       "      <td>0</td>\n",
       "      <td>0</td>\n",
       "      <td>0</td>\n",
       "      <td>0</td>\n",
       "    </tr>\n",
       "    <tr>\n",
       "      <th>1</th>\n",
       "      <td>5.0</td>\n",
       "      <td>8.0</td>\n",
       "      <td>100.0</td>\n",
       "      <td>1.0</td>\n",
       "      <td>0.0</td>\n",
       "      <td>71.0</td>\n",
       "      <td>1.0</td>\n",
       "      <td>0.0</td>\n",
       "      <td>0.0</td>\n",
       "      <td>0</td>\n",
       "      <td>...</td>\n",
       "      <td>1</td>\n",
       "      <td>0</td>\n",
       "      <td>0</td>\n",
       "      <td>0</td>\n",
       "      <td>0</td>\n",
       "      <td>0</td>\n",
       "      <td>0</td>\n",
       "      <td>0</td>\n",
       "      <td>1</td>\n",
       "      <td>0</td>\n",
       "    </tr>\n",
       "    <tr>\n",
       "      <th>2</th>\n",
       "      <td>5.0</td>\n",
       "      <td>8.0</td>\n",
       "      <td>1000.0</td>\n",
       "      <td>1.0</td>\n",
       "      <td>0.0</td>\n",
       "      <td>2.4</td>\n",
       "      <td>0.0</td>\n",
       "      <td>0.0</td>\n",
       "      <td>0.0</td>\n",
       "      <td>0</td>\n",
       "      <td>...</td>\n",
       "      <td>1</td>\n",
       "      <td>0</td>\n",
       "      <td>0</td>\n",
       "      <td>0</td>\n",
       "      <td>0</td>\n",
       "      <td>1</td>\n",
       "      <td>0</td>\n",
       "      <td>0</td>\n",
       "      <td>0</td>\n",
       "      <td>0</td>\n",
       "    </tr>\n",
       "    <tr>\n",
       "      <th>3</th>\n",
       "      <td>5.0</td>\n",
       "      <td>22.0</td>\n",
       "      <td>100.0</td>\n",
       "      <td>1.0</td>\n",
       "      <td>0.0</td>\n",
       "      <td>50.0</td>\n",
       "      <td>0.0</td>\n",
       "      <td>0.0</td>\n",
       "      <td>0.0</td>\n",
       "      <td>0</td>\n",
       "      <td>...</td>\n",
       "      <td>1</td>\n",
       "      <td>0</td>\n",
       "      <td>0</td>\n",
       "      <td>0</td>\n",
       "      <td>0</td>\n",
       "      <td>0</td>\n",
       "      <td>0</td>\n",
       "      <td>0</td>\n",
       "      <td>1</td>\n",
       "      <td>0</td>\n",
       "    </tr>\n",
       "    <tr>\n",
       "      <th>4</th>\n",
       "      <td>5.0</td>\n",
       "      <td>13.0</td>\n",
       "      <td>50.0</td>\n",
       "      <td>1.0</td>\n",
       "      <td>0.0</td>\n",
       "      <td>18.0</td>\n",
       "      <td>1.0</td>\n",
       "      <td>1.0</td>\n",
       "      <td>0.0</td>\n",
       "      <td>0</td>\n",
       "      <td>...</td>\n",
       "      <td>1</td>\n",
       "      <td>0</td>\n",
       "      <td>0</td>\n",
       "      <td>0</td>\n",
       "      <td>0</td>\n",
       "      <td>1</td>\n",
       "      <td>0</td>\n",
       "      <td>0</td>\n",
       "      <td>0</td>\n",
       "      <td>0</td>\n",
       "    </tr>\n",
       "  </tbody>\n",
       "</table>\n",
       "<p>5 rows × 50 columns</p>\n",
       "</div>"
      ],
      "text/plain": [
       "   Rating  Rating Count  Minimum Installs  Free  Price  Size  Ad Supported  \\\n",
       "0     5.0          20.0             100.0   1.0    0.0   6.7           1.0   \n",
       "1     5.0           8.0             100.0   1.0    0.0  71.0           1.0   \n",
       "2     5.0           8.0            1000.0   1.0    0.0   2.4           0.0   \n",
       "3     5.0          22.0             100.0   1.0    0.0  50.0           0.0   \n",
       "4     5.0          13.0              50.0   1.0    0.0  18.0           1.0   \n",
       "\n",
       "   In App Purchases  Editors Choice  Installs_0+  ...  Currency_USD  \\\n",
       "0               0.0             0.0            0  ...             1   \n",
       "1               0.0             0.0            0  ...             1   \n",
       "2               0.0             0.0            0  ...             1   \n",
       "3               0.0             0.0            0  ...             1   \n",
       "4               1.0             0.0            0  ...             1   \n",
       "\n",
       "   Currency_VND  Currency_XXX  Currency_ZAR  Content Rating_Adults only 18+  \\\n",
       "0             0             0             0                               0   \n",
       "1             0             0             0                               0   \n",
       "2             0             0             0                               0   \n",
       "3             0             0             0                               0   \n",
       "4             0             0             0                               0   \n",
       "\n",
       "   Content Rating_Everyone  Content Rating_Everyone 10+  \\\n",
       "0                        1                            0   \n",
       "1                        0                            0   \n",
       "2                        1                            0   \n",
       "3                        0                            0   \n",
       "4                        1                            0   \n",
       "\n",
       "   Content Rating_Mature 17+  Content Rating_Teen  Content Rating_Unrated  \n",
       "0                          0                    0                       0  \n",
       "1                          0                    1                       0  \n",
       "2                          0                    0                       0  \n",
       "3                          0                    1                       0  \n",
       "4                          0                    0                       0  \n",
       "\n",
       "[5 rows x 50 columns]"
      ]
     },
     "execution_count": 14,
     "metadata": {},
     "output_type": "execute_result"
    }
   ],
   "source": [
    "X.head()"
   ]
  },
  {
   "cell_type": "code",
   "execution_count": 15,
   "id": "2cb8941b",
   "metadata": {},
   "outputs": [
    {
     "name": "stdout",
     "output_type": "stream",
     "text": [
      "X und y haben gleiche Anzahl: True\n"
     ]
    }
   ],
   "source": [
    "y = apps['Category'] #.copy()\n",
    "print(f\"X und y haben gleiche Anzahl: {X.shape[0] == y.shape[0]}\")\n",
    "# Wenn die Daten noch (weiter) aufgeteilt werden müssen, geht das am besten mit der \n",
    "# Methode sklearn.model_selection.train_test_split\n",
    "# Sie liefert Features und Zielklassen für test und train zurück und lässt sich umfassend parametrisieren.\n",
    "\n",
    "# Wir können also noch Entwicklungsdaten erzeugen, die 20% (test_size=0.2) der Trainingsdaten umfassen und alle vier Zielklassen \n",
    "# gleichermaßen berücksichtigen (stratifizieren, stratify=target_train):\n",
    "\n",
    "# X_train, X_test, y_train, y_test = train_test_split(X_concat, target_dataset, test_size=0.2, random_state=42, stratify=target_dataset)"
   ]
  },
  {
   "cell_type": "code",
   "execution_count": 16,
   "id": "0e8433bd",
   "metadata": {},
   "outputs": [],
   "source": [
    "label_encoder = LabelEncoder()"
   ]
  },
  {
   "cell_type": "code",
   "execution_count": 17,
   "id": "3ea95f90",
   "metadata": {},
   "outputs": [],
   "source": [
    "y = label_encoder.fit_transform(y) # macht alles zu 0, 1, 2,3 ..."
   ]
  },
  {
   "cell_type": "code",
   "execution_count": 18,
   "id": "be4808e7",
   "metadata": {},
   "outputs": [],
   "source": [
    "X_train, X_test1, y_train, y_test1 = train_test_split(X, y, test_size=0.2, random_state=42, stratify=y)\n",
    "\n",
    "# Testdaten in Entwicklung und echten Test aufteilen (50-50, stratifiziert)\n",
    "X_dev, X_test, y_dev, y_test = train_test_split(X_test1, y_test1, test_size=0.5, stratify=y_test1, random_state=42)"
   ]
  },
  {
   "cell_type": "code",
   "execution_count": 19,
   "id": "9ca75fd9",
   "metadata": {},
   "outputs": [],
   "source": [
    "# Features auswählen\n",
    "# mit threshold=None wird ein absoluter default-Schwellwert verwendet\n",
    "# feature_selection = SelectFromModel(LinearSVC(penalty=\"l1\", dual=False), threshold='mean')\n",
    "# TfidfVectorizer wird nicht durchgeführt, da keine txt-Datein im Datensatz vorhanden sind"
   ]
  },
  {
   "cell_type": "code",
   "execution_count": 20,
   "id": "91f7a584",
   "metadata": {},
   "outputs": [
    {
     "name": "stdout",
     "output_type": "stream",
     "text": [
      "Fitting 5 folds for each of 4 candidates, totalling 20 fits\n",
      "[CV 1/5; 1/4] START classifier__kernel=linear, feature_selection__threshold=None\n"
     ]
    },
    {
     "name": "stderr",
     "output_type": "stream",
     "text": [
      "/home/user/.local/lib/python3.8/site-packages/sklearn/model_selection/_split.py:676: UserWarning: The least populated class in y has only 1 members, which is less than n_splits=5.\n",
      "  warnings.warn(\n",
      "/home/user/.local/lib/python3.8/site-packages/sklearn/svm/_base.py:1206: ConvergenceWarning: Liblinear failed to converge, increase the number of iterations.\n",
      "  warnings.warn(\n"
     ]
    },
    {
     "name": "stdout",
     "output_type": "stream",
     "text": [
      "[CV 1/5; 1/4] END classifier__kernel=linear, feature_selection__threshold=None;, score=0.000 total time= 2.4min\n",
      "[CV 2/5; 1/4] START classifier__kernel=linear, feature_selection__threshold=None\n"
     ]
    },
    {
     "name": "stderr",
     "output_type": "stream",
     "text": [
      "/home/user/.local/lib/python3.8/site-packages/sklearn/svm/_base.py:1206: ConvergenceWarning: Liblinear failed to converge, increase the number of iterations.\n",
      "  warnings.warn(\n"
     ]
    },
    {
     "name": "stdout",
     "output_type": "stream",
     "text": [
      "[CV 2/5; 1/4] END classifier__kernel=linear, feature_selection__threshold=None;, score=0.100 total time=   1.9s\n",
      "[CV 3/5; 1/4] START classifier__kernel=linear, feature_selection__threshold=None\n"
     ]
    },
    {
     "name": "stderr",
     "output_type": "stream",
     "text": [
      "/home/user/.local/lib/python3.8/site-packages/sklearn/svm/_base.py:1206: ConvergenceWarning: Liblinear failed to converge, increase the number of iterations.\n",
      "  warnings.warn(\n"
     ]
    },
    {
     "name": "stdout",
     "output_type": "stream",
     "text": [
      "[CV 3/5; 1/4] END classifier__kernel=linear, feature_selection__threshold=None;, score=0.100 total time=  39.0s\n",
      "[CV 4/5; 1/4] START classifier__kernel=linear, feature_selection__threshold=None\n"
     ]
    },
    {
     "name": "stderr",
     "output_type": "stream",
     "text": [
      "/home/user/.local/lib/python3.8/site-packages/sklearn/svm/_base.py:1206: ConvergenceWarning: Liblinear failed to converge, increase the number of iterations.\n",
      "  warnings.warn(\n"
     ]
    },
    {
     "name": "stdout",
     "output_type": "stream",
     "text": [
      "[CV 4/5; 1/4] END classifier__kernel=linear, feature_selection__threshold=None;, score=0.100 total time=   7.9s\n",
      "[CV 5/5; 1/4] START classifier__kernel=linear, feature_selection__threshold=None\n"
     ]
    },
    {
     "name": "stderr",
     "output_type": "stream",
     "text": [
      "/home/user/.local/lib/python3.8/site-packages/sklearn/svm/_base.py:1206: ConvergenceWarning: Liblinear failed to converge, increase the number of iterations.\n",
      "  warnings.warn(\n"
     ]
    },
    {
     "name": "stdout",
     "output_type": "stream",
     "text": [
      "[CV 5/5; 1/4] END classifier__kernel=linear, feature_selection__threshold=None;, score=0.000 total time=  39.5s\n",
      "[CV 1/5; 2/4] START classifier__kernel=linear, feature_selection__threshold=mean\n",
      "[CV 1/5; 2/4] END classifier__kernel=linear, feature_selection__threshold=mean;, score=0.100 total time=   0.0s\n",
      "[CV 2/5; 2/4] START classifier__kernel=linear, feature_selection__threshold=mean\n",
      "[CV 2/5; 2/4] END classifier__kernel=linear, feature_selection__threshold=mean;, score=0.000 total time=   0.0s\n",
      "[CV 3/5; 2/4] START classifier__kernel=linear, feature_selection__threshold=mean\n",
      "[CV 3/5; 2/4] END classifier__kernel=linear, feature_selection__threshold=mean;, score=0.100 total time=   0.0s\n",
      "[CV 4/5; 2/4] START classifier__kernel=linear, feature_selection__threshold=mean\n"
     ]
    },
    {
     "name": "stderr",
     "output_type": "stream",
     "text": [
      "/home/user/.local/lib/python3.8/site-packages/sklearn/svm/_base.py:1206: ConvergenceWarning: Liblinear failed to converge, increase the number of iterations.\n",
      "  warnings.warn(\n",
      "/home/user/.local/lib/python3.8/site-packages/sklearn/svm/_base.py:1206: ConvergenceWarning: Liblinear failed to converge, increase the number of iterations.\n",
      "  warnings.warn(\n",
      "/home/user/.local/lib/python3.8/site-packages/sklearn/svm/_base.py:1206: ConvergenceWarning: Liblinear failed to converge, increase the number of iterations.\n",
      "  warnings.warn(\n",
      "/home/user/.local/lib/python3.8/site-packages/sklearn/svm/_base.py:1206: ConvergenceWarning: Liblinear failed to converge, increase the number of iterations.\n",
      "  warnings.warn(\n"
     ]
    },
    {
     "name": "stdout",
     "output_type": "stream",
     "text": [
      "[CV 4/5; 2/4] END classifier__kernel=linear, feature_selection__threshold=mean;, score=0.000 total time=   0.6s\n",
      "[CV 5/5; 2/4] START classifier__kernel=linear, feature_selection__threshold=mean\n",
      "[CV 5/5; 2/4] END classifier__kernel=linear, feature_selection__threshold=mean;, score=0.100 total time=   0.0s\n",
      "[CV 1/5; 3/4] START classifier__kernel=rbf, feature_selection__threshold=None...\n",
      "[CV 1/5; 3/4] END classifier__kernel=rbf, feature_selection__threshold=None;, score=0.100 total time=   0.0s\n",
      "[CV 2/5; 3/4] START classifier__kernel=rbf, feature_selection__threshold=None...\n",
      "[CV 2/5; 3/4] END classifier__kernel=rbf, feature_selection__threshold=None;, score=0.100 total time=   0.0s\n",
      "[CV 3/5; 3/4] START classifier__kernel=rbf, feature_selection__threshold=None...\n",
      "[CV 3/5; 3/4] END classifier__kernel=rbf, feature_selection__threshold=None;, score=0.100 total time=   0.0s\n",
      "[CV 4/5; 3/4] START classifier__kernel=rbf, feature_selection__threshold=None...\n",
      "[CV 4/5; 3/4] END classifier__kernel=rbf, feature_selection__threshold=None;, score=0.100 total time=   0.0s\n",
      "[CV 5/5; 3/4] START classifier__kernel=rbf, feature_selection__threshold=None...\n",
      "[CV 5/5; 3/4] END classifier__kernel=rbf, feature_selection__threshold=None;, score=0.100 total time=   0.0s\n",
      "[CV 1/5; 4/4] START classifier__kernel=rbf, feature_selection__threshold=mean...\n",
      "[CV 1/5; 4/4] END classifier__kernel=rbf, feature_selection__threshold=mean;, score=0.100 total time=   0.0s\n",
      "[CV 2/5; 4/4] START classifier__kernel=rbf, feature_selection__threshold=mean...\n",
      "[CV 2/5; 4/4] END classifier__kernel=rbf, feature_selection__threshold=mean;, score=0.100 total time=   0.0s\n",
      "[CV 3/5; 4/4] START classifier__kernel=rbf, feature_selection__threshold=mean...\n",
      "[CV 3/5; 4/4] END classifier__kernel=rbf, feature_selection__threshold=mean;, score=0.100 total time=   0.0s\n",
      "[CV 4/5; 4/4] START classifier__kernel=rbf, feature_selection__threshold=mean...\n"
     ]
    },
    {
     "name": "stderr",
     "output_type": "stream",
     "text": [
      "/home/user/.local/lib/python3.8/site-packages/sklearn/svm/_base.py:1206: ConvergenceWarning: Liblinear failed to converge, increase the number of iterations.\n",
      "  warnings.warn(\n",
      "/home/user/.local/lib/python3.8/site-packages/sklearn/svm/_base.py:1206: ConvergenceWarning: Liblinear failed to converge, increase the number of iterations.\n",
      "  warnings.warn(\n",
      "/home/user/.local/lib/python3.8/site-packages/sklearn/svm/_base.py:1206: ConvergenceWarning: Liblinear failed to converge, increase the number of iterations.\n",
      "  warnings.warn(\n",
      "/home/user/.local/lib/python3.8/site-packages/sklearn/svm/_base.py:1206: ConvergenceWarning: Liblinear failed to converge, increase the number of iterations.\n",
      "  warnings.warn(\n",
      "/home/user/.local/lib/python3.8/site-packages/sklearn/svm/_base.py:1206: ConvergenceWarning: Liblinear failed to converge, increase the number of iterations.\n",
      "  warnings.warn(\n",
      "/home/user/.local/lib/python3.8/site-packages/sklearn/svm/_base.py:1206: ConvergenceWarning: Liblinear failed to converge, increase the number of iterations.\n",
      "  warnings.warn(\n",
      "/home/user/.local/lib/python3.8/site-packages/sklearn/svm/_base.py:1206: ConvergenceWarning: Liblinear failed to converge, increase the number of iterations.\n",
      "  warnings.warn(\n",
      "/home/user/.local/lib/python3.8/site-packages/sklearn/svm/_base.py:1206: ConvergenceWarning: Liblinear failed to converge, increase the number of iterations.\n",
      "  warnings.warn(\n",
      "/home/user/.local/lib/python3.8/site-packages/sklearn/svm/_base.py:1206: ConvergenceWarning: Liblinear failed to converge, increase the number of iterations.\n",
      "  warnings.warn(\n",
      "/home/user/.local/lib/python3.8/site-packages/sklearn/svm/_base.py:1206: ConvergenceWarning: Liblinear failed to converge, increase the number of iterations.\n",
      "  warnings.warn(\n"
     ]
    },
    {
     "name": "stdout",
     "output_type": "stream",
     "text": [
      "[CV 4/5; 4/4] END classifier__kernel=rbf, feature_selection__threshold=mean;, score=0.100 total time=   0.0s\n",
      "[CV 5/5; 4/4] START classifier__kernel=rbf, feature_selection__threshold=mean...\n",
      "[CV 5/5; 4/4] END classifier__kernel=rbf, feature_selection__threshold=mean;, score=0.100 total time=   0.0s\n"
     ]
    },
    {
     "name": "stderr",
     "output_type": "stream",
     "text": [
      "/home/user/.local/lib/python3.8/site-packages/sklearn/svm/_base.py:1206: ConvergenceWarning: Liblinear failed to converge, increase the number of iterations.\n",
      "  warnings.warn(\n",
      "/home/user/.local/lib/python3.8/site-packages/sklearn/svm/_base.py:1206: ConvergenceWarning: Liblinear failed to converge, increase the number of iterations.\n",
      "  warnings.warn(\n"
     ]
    },
    {
     "data": {
      "text/plain": [
       "GridSearchCV(estimator=Pipeline(steps=[('feature_selection',\n",
       "                                        SelectFromModel(estimator=LinearSVC(dual=False,\n",
       "                                                                            penalty='l1'))),\n",
       "                                       ('classifier', SVC())]),\n",
       "             param_grid={'classifier__kernel': ('linear', 'rbf'),\n",
       "                         'feature_selection__threshold': (None, 'mean')},\n",
       "             verbose=10)"
      ]
     },
     "execution_count": 20,
     "metadata": {},
     "output_type": "execute_result"
    }
   ],
   "source": [
    "# Parameter des Algorithmus setzen\n",
    "# Pipeline neu definieren - ohne Parametersetzen \n",
    "\n",
    "feature_selection=SelectFromModel(LinearSVC(penalty=\"l1\", dual=False))\n",
    "classifier = SVC()\n",
    "\n",
    "pipeline = Pipeline([('feature_selection', feature_selection), ('classifier', classifier)])\n",
    "\n",
    "# # Parameterraum definieren: key ist schrittname__parametername, value die zu prüfenden Werte\n",
    "\n",
    "parameters = {  \n",
    "    'feature_selection__threshold': (None, 'mean'), \n",
    "    'classifier__kernel': ('linear','rbf'),\n",
    "}\n",
    "\n",
    "# alles manuell statt gridsearch durchführen\n",
    "# also 2x feature selection jeweilis mit None und mean, dann innerhalb dieser zwei feature selection jeweils test und traindaten auswerten --> In Summe 4 Ergebnisse\n",
    "# also 2x classifier jeweilis mit linear und rbf, dann innerhalb dieser zwei classifier jeweils test und traindaten auswerten --> In Summe 4 Ergebnisse\n",
    "\n",
    "# Suche über den gesamten Parameterraum (cross validation über die Trainingsdaten)\n",
    "grid_search = GridSearchCV(pipeline, param_grid=parameters, verbose=10)\n",
    "\n",
    "grid_search.fit(X_train[:50], y_train[:50])"
   ]
  },
  {
   "cell_type": "code",
   "execution_count": 21,
   "id": "926434b0",
   "metadata": {},
   "outputs": [
    {
     "name": "stdout",
     "output_type": "stream",
     "text": [
      "Pipeline(steps=[('feature_selection',\n",
      "                 SelectFromModel(estimator=LinearSVC(dual=False,\n",
      "                                                     penalty='l1'))),\n",
      "                ('classifier', SVC())])\n"
     ]
    }
   ],
   "source": [
    "# Welche Parameterkombination ist die beste?\n",
    "\n",
    "print(grid_search.best_estimator_)\n",
    "\n",
    "# Wenn kein expliziter Parameter angegeben ist, hat der default am besten funktioniert.\n",
    "# Wir wählen also  \n",
    "# 'feature_selection__threshold': None, \n",
    "# 'classifier__kernel': 'rbf'"
   ]
  },
  {
   "cell_type": "code",
   "execution_count": 22,
   "id": "8065f8ea",
   "metadata": {},
   "outputs": [
    {
     "name": "stderr",
     "output_type": "stream",
     "text": [
      "/home/user/.local/lib/python3.8/site-packages/sklearn/model_selection/_split.py:676: UserWarning: The least populated class in y has only 1 members, which is less than n_splits=5.\n",
      "  warnings.warn(\n",
      "/home/user/.local/lib/python3.8/site-packages/sklearn/svm/_base.py:1206: ConvergenceWarning: Liblinear failed to converge, increase the number of iterations.\n",
      "  warnings.warn(\n",
      "/home/user/.local/lib/python3.8/site-packages/sklearn/svm/_base.py:1206: ConvergenceWarning: Liblinear failed to converge, increase the number of iterations.\n",
      "  warnings.warn(\n",
      "/home/user/.local/lib/python3.8/site-packages/sklearn/svm/_base.py:1206: ConvergenceWarning: Liblinear failed to converge, increase the number of iterations.\n",
      "  warnings.warn(\n",
      "/home/user/.local/lib/python3.8/site-packages/sklearn/svm/_base.py:1206: ConvergenceWarning: Liblinear failed to converge, increase the number of iterations.\n",
      "  warnings.warn(\n",
      "/home/user/.local/lib/python3.8/site-packages/sklearn/svm/_base.py:1206: ConvergenceWarning: Liblinear failed to converge, increase the number of iterations.\n",
      "  warnings.warn(\n"
     ]
    },
    {
     "name": "stdout",
     "output_type": "stream",
     "text": [
      "              precision    recall  f1-score   support\n",
      "\n",
      "           0       0.00      0.00      0.00        24\n",
      "           1       0.00      0.00      0.00        18\n",
      "           2       0.00      0.00      0.00        53\n",
      "           3       0.00      0.00      0.00        14\n",
      "           4       0.00      0.00      0.00        18\n",
      "           5       0.00      0.00      0.00         7\n",
      "           6       0.00      0.00      0.00        10\n",
      "           7       0.00      0.00      0.00       103\n",
      "           8       0.00      0.00      0.00       122\n",
      "           9       0.00      0.00      0.00         9\n",
      "          10       0.00      0.00      0.00         3\n",
      "          11       0.00      0.00      0.00        48\n",
      "          12       0.00      0.00      0.00         1\n",
      "          13       0.00      0.00      0.00        38\n",
      "          14       0.00      0.00      0.00         6\n",
      "          15       0.11      1.00      0.19       213\n",
      "          16       0.00      0.00      0.00        17\n",
      "          17       0.00      0.00      0.00       140\n",
      "          18       0.00      0.00      0.00        16\n",
      "          19       0.00      0.00      0.00        53\n",
      "          20       0.00      0.00      0.00        56\n",
      "          21       0.00      0.00      0.00        66\n",
      "          22       0.00      0.00      0.00        11\n",
      "          23       0.00      0.00      0.00         5\n",
      "          24       0.00      0.00      0.00       103\n",
      "          25       0.00      0.00      0.00        18\n",
      "          26       0.00      0.00      0.00        28\n",
      "          27       0.00      0.00      0.00         1\n",
      "          28       0.00      0.00      0.00       140\n",
      "          29       0.00      0.00      0.00        38\n",
      "          30       0.00      0.00      0.00         1\n",
      "          31       0.00      0.00      0.00        74\n",
      "          32       0.00      0.00      0.00        31\n",
      "          33       0.00      0.00      0.00        72\n",
      "          34       0.00      0.00      0.00        33\n",
      "          35       0.00      0.00      0.00        11\n",
      "          36       0.00      0.00      0.00        12\n",
      "          37       0.00      0.00      0.00        84\n",
      "          38       0.00      0.00      0.00        22\n",
      "          39       0.00      0.00      0.00        44\n",
      "          40       0.00      0.00      0.00        41\n",
      "          41       0.00      0.00      0.00        10\n",
      "          42       0.00      0.00      0.00       103\n",
      "          43       0.00      0.00      0.00        58\n",
      "          44       0.00      0.00      0.00         8\n",
      "          45       0.00      0.00      0.00        10\n",
      "          46       0.00      0.00      0.00         2\n",
      "          47       0.00      0.00      0.00         5\n",
      "\n",
      "    accuracy                           0.11      2000\n",
      "   macro avg       0.00      0.02      0.00      2000\n",
      "weighted avg       0.01      0.11      0.02      2000\n",
      "\n"
     ]
    },
    {
     "name": "stderr",
     "output_type": "stream",
     "text": [
      "/home/user/.local/lib/python3.8/site-packages/sklearn/metrics/_classification.py:1308: UndefinedMetricWarning: Precision and F-score are ill-defined and being set to 0.0 in labels with no predicted samples. Use `zero_division` parameter to control this behavior.\n",
      "  _warn_prf(average, modifier, msg_start, len(result))\n",
      "/home/user/.local/lib/python3.8/site-packages/sklearn/metrics/_classification.py:1308: UndefinedMetricWarning: Precision and F-score are ill-defined and being set to 0.0 in labels with no predicted samples. Use `zero_division` parameter to control this behavior.\n",
      "  _warn_prf(average, modifier, msg_start, len(result))\n",
      "/home/user/.local/lib/python3.8/site-packages/sklearn/metrics/_classification.py:1308: UndefinedMetricWarning: Precision and F-score are ill-defined and being set to 0.0 in labels with no predicted samples. Use `zero_division` parameter to control this behavior.\n",
      "  _warn_prf(average, modifier, msg_start, len(result))\n"
     ]
    }
   ],
   "source": [
    "# Pipeline für die beste Feature-Kombination definieren\n",
    "final_pipeline = Pipeline(steps=[('feature_selection',\n",
    "                 SelectFromModel(estimator=LinearSVC(dual=False,\n",
    "                                                     penalty='l1'))),\n",
    "                ('classifier', SVC())])\n",
    "\n",
    "# Wie gut ist der fertige Lerner auf den Trainingsdaten? \n",
    "# Evaluation per Crossvalidation (analog zur Parametersuche)\n",
    "# Mit cross_val_predict merken wir uns die Vorhersage für jeden Datenpunkt, die gemacht wird, wenn er zum Testset \n",
    "# gehört; die Vorhersagen sind also ungesehen und liegen für den gesamten Datensatz vor.\n",
    "\n",
    "train_labels = cross_val_predict(final_pipeline, X_train[:2000] , y_train[:2000], cv=5)\n",
    "\n",
    "# Precision/Recall/F-Wert berechnen\n",
    "\n",
    "print(classification_report(y_train[:2000], train_labels[:2000]))"
   ]
  },
  {
   "cell_type": "code",
   "execution_count": 23,
   "id": "763ab4b6",
   "metadata": {},
   "outputs": [
    {
     "name": "stderr",
     "output_type": "stream",
     "text": [
      "/home/user/.local/lib/python3.8/site-packages/sklearn/svm/_base.py:1206: ConvergenceWarning: Liblinear failed to converge, increase the number of iterations.\n",
      "  warnings.warn(\n"
     ]
    },
    {
     "name": "stdout",
     "output_type": "stream",
     "text": [
      "Default-Score des Klassifizierers: Accuracy= 0.10536543189390532 \n",
      "\n"
     ]
    },
    {
     "name": "stderr",
     "output_type": "stream",
     "text": [
      "/home/user/.local/lib/python3.8/site-packages/sklearn/metrics/_classification.py:1308: UndefinedMetricWarning: Precision and F-score are ill-defined and being set to 0.0 in labels with no predicted samples. Use `zero_division` parameter to control this behavior.\n",
      "  _warn_prf(average, modifier, msg_start, len(result))\n",
      "/home/user/.local/lib/python3.8/site-packages/sklearn/metrics/_classification.py:1308: UndefinedMetricWarning: Precision and F-score are ill-defined and being set to 0.0 in labels with no predicted samples. Use `zero_division` parameter to control this behavior.\n",
      "  _warn_prf(average, modifier, msg_start, len(result))\n"
     ]
    },
    {
     "name": "stdout",
     "output_type": "stream",
     "text": [
      "              precision    recall  f1-score   support\n",
      "\n",
      "           0       0.00      0.00      0.00      2682\n",
      "           1       0.00      0.00      0.00      2279\n",
      "           2       0.00      0.00      0.00      5271\n",
      "           3       0.00      0.00      0.00      1839\n",
      "           4       0.00      0.00      0.00      1795\n",
      "           5       0.00      0.00      0.00      1170\n",
      "           6       0.00      0.00      0.00      1045\n",
      "           7       0.00      0.00      0.00     11649\n",
      "           8       0.00      0.00      0.00     14215\n",
      "           9       0.00      0.00      0.00       804\n",
      "          10       0.00      0.00      0.00       504\n",
      "          11       0.05      0.01      0.01      4925\n",
      "          12       0.00      0.00      0.00       282\n",
      "          13       0.00      0.00      0.00      4754\n",
      "          14       0.00      0.00      0.00       645\n",
      "          15       0.11      0.99      0.19     23979\n",
      "          16       0.00      0.00      0.00      2106\n",
      "          17       0.07      0.02      0.03     13758\n",
      "          18       0.00      0.00      0.00      1267\n",
      "          19       0.00      0.00      0.00      6473\n",
      "          20       0.00      0.00      0.00      7345\n",
      "          21       0.00      0.00      0.00      8260\n",
      "          22       0.00      0.00      0.00      1417\n",
      "          23       0.00      0.00      0.00       507\n",
      "          24       0.00      0.00      0.00     11776\n",
      "          25       0.00      0.00      0.00      2635\n",
      "          26       0.00      0.00      0.00      3169\n",
      "          27       0.00      0.00      0.00       415\n",
      "          28       0.00      0.00      0.00     15458\n",
      "          29       0.00      0.00      0.00      4258\n",
      "          30       0.00      0.00      0.00       377\n",
      "          31       0.00      0.00      0.00      8901\n",
      "          32       0.00      0.00      0.00      3538\n",
      "          33       0.00      0.00      0.00      7825\n",
      "          34       0.00      0.00      0.00      5027\n",
      "          35       0.00      0.00      0.00      1018\n",
      "          36       0.00      0.00      0.00       965\n",
      "          37       0.00      0.00      0.00      7475\n",
      "          38       0.00      0.00      0.00      2272\n",
      "          39       0.00      0.00      0.00      4404\n",
      "          40       0.00      0.00      0.00      4705\n",
      "          41       0.00      0.00      0.00       823\n",
      "          42       0.09      0.00      0.01     14197\n",
      "          43       0.00      0.00      0.00      6666\n",
      "          44       0.00      0.00      0.00      1169\n",
      "          45       0.00      0.00      0.00      1393\n",
      "          46       0.00      0.00      0.00       713\n",
      "          47       0.00      0.00      0.00       853\n",
      "\n",
      "    accuracy                           0.11    229003\n",
      "   macro avg       0.01      0.02      0.01    229003\n",
      "weighted avg       0.02      0.11      0.02    229003\n",
      "\n"
     ]
    },
    {
     "name": "stderr",
     "output_type": "stream",
     "text": [
      "/home/user/.local/lib/python3.8/site-packages/sklearn/metrics/_classification.py:1308: UndefinedMetricWarning: Precision and F-score are ill-defined and being set to 0.0 in labels with no predicted samples. Use `zero_division` parameter to control this behavior.\n",
      "  _warn_prf(average, modifier, msg_start, len(result))\n"
     ]
    }
   ],
   "source": [
    "# Schritt 5: Vorhersagen auf Testdaten machen und evaluieren\n",
    "\n",
    "from sklearn.metrics import classification_report, confusion_matrix\n",
    "\n",
    "# Jetzt den Lerner ein letztes Mal auf allen Trainingsdaten trainieren und dann auf den Testdaten evaluieren\n",
    "\n",
    "# Lerner auf den gesamten Trainingsdaten trainieren\n",
    "final_pipeline.fit(X_train[:2000], y_train[:2000])\n",
    "\n",
    "# Lerner auf den Testdaten evaluieren\n",
    "\n",
    "# Mit dem default score des Lerners: (durchschnittliche Accuracy bei SVC)\n",
    "\n",
    "print(\"Default-Score des Klassifizierers: Accuracy=\", final_pipeline.score(X_test, y_test), \"\\n\")\n",
    "\n",
    "# Labels vorhersagen lassen und dann Precision/Recall/F-Wert berechnen\n",
    "test_labels = final_pipeline.predict(X_dev)\n",
    "\n",
    "print(classification_report(y_dev, test_labels))"
   ]
  },
  {
   "cell_type": "raw",
   "id": "91eceb57-97d5-4bae-9083-3bc57581509d",
   "metadata": {},
   "source": [
    "# Parameter des Algorithmus setzen\n",
    "# Pipeline neu definieren - ohne Parametersetzen \n",
    "\n",
    "from sklearn.ensemble import RandomForestClassifier\n",
    "\n",
    "feature_selection=SelectFromModel(estimator=RandomForestClassifier().fit(X,y))\n",
    "classifier = RandomForestClassifier(n_estimators=10)\n",
    "\n",
    "pipeline = Pipeline([('feature_selection', feature_selection),\n",
    "                     ('classifier', classifier)])\n",
    "\n",
    "# # Parameterraum definieren: key ist schrittname__parametername, value die zu prüfenden Werte\n",
    "\n",
    "parameters = {  \n",
    "    'feature_selection__: (), \n",
    "    'classifier__': (),\n",
    "}\n",
    "\n",
    "# Suche über den gesamten Parameterraum (cross validation über die Trainingsdaten)\n",
    "grid_search = GridSearchCV(pipeline, param_grid=parameters, verbose=10)\n",
    "\n",
    "grid_search.fit(X_train[:50], y_train[:50])"
   ]
  },
  {
   "cell_type": "markdown",
   "id": "07d716dd-abb6-4f5c-955b-715ee8d573c9",
   "metadata": {},
   "source": [
    "**Notes:**\n",
    "\n",
    "- "
   ]
  }
 ],
 "metadata": {
  "kernelspec": {
   "display_name": "Python 3 (ipykernel)",
   "language": "python",
   "name": "python3"
  },
  "language_info": {
   "codemirror_mode": {
    "name": "ipython",
    "version": 3
   },
   "file_extension": ".py",
   "mimetype": "text/x-python",
   "name": "python",
   "nbconvert_exporter": "python",
   "pygments_lexer": "ipython3",
   "version": "3.8.10"
  }
 },
 "nbformat": 4,
 "nbformat_minor": 5
}
