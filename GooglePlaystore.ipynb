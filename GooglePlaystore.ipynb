{
 "cells": [
  {
   "cell_type": "markdown",
   "id": "7c5de737-0877-4080-af78-3deff068aa44",
   "metadata": {
    "tags": []
   },
   "source": [
    "# Data Understanding und Data Preparation\n",
    "## Anforderungen an Projektumsetzung: NumPy und pandas\n",
    "\n",
    "\n",
    "- Erstellen Sie NumPy-Arrays mit (Teil-)Daten aus Ihrem Projekt - es sollten verschiedene Datentypen (Ganzzahl, Kommazahl, String, Boolean, etc.) vorhanden sein\n",
    "- Filtern Sie ein NumPy-Array basierend auf mindestens 2 Bedingungen auf mindestens 2 Arrays/Spalten\n",
    "- Berechnen Sie mind. 2 Statistiken auf mind. 2 Arrays\n",
    "- Laden Sie eine Datei von der Festplatte oder einer URL als pandas-DataFrame\n",
    "- Fügen Sie mindestens eine neue Spalte hinzu, die aus mindestens einer anderen Spalte berechnet wurde\n",
    "- Ändern Sie Reihenfolge und Benennung der Spalten\n",
    "- Löschen Sie mindestens eine Spalte\n",
    "- Verwenden Sie mindestens eine Funktion aus dem str-Accessor\n",
    "- Speichern Sie Ihr pandas DataFrame in eine Datei"
   ]
  },
  {
   "cell_type": "code",
   "execution_count": 1,
   "id": "3435a650-2151-4d12-873f-2336ac1fe94e",
   "metadata": {},
   "outputs": [],
   "source": [
    "import numpy as np\n",
    "import pandas as pd"
   ]
  },
  {
   "cell_type": "markdown",
   "id": "7a3507f7-babc-4204-be01-656ce8d5ddf6",
   "metadata": {},
   "source": [
    "**AUFGABE:**\n",
    "\n",
    "Laden Sie eine Datei von der Festplatte oder einer URL als pandas-DataFrame."
   ]
  },
  {
   "cell_type": "code",
   "execution_count": 2,
   "id": "e75f2073-3b2e-4a55-b895-91c1e13a509d",
   "metadata": {},
   "outputs": [
    {
     "data": {
      "text/html": [
       "<div>\n",
       "<style scoped>\n",
       "    .dataframe tbody tr th:only-of-type {\n",
       "        vertical-align: middle;\n",
       "    }\n",
       "\n",
       "    .dataframe tbody tr th {\n",
       "        vertical-align: top;\n",
       "    }\n",
       "\n",
       "    .dataframe thead th {\n",
       "        text-align: right;\n",
       "    }\n",
       "</style>\n",
       "<table border=\"1\" class=\"dataframe\">\n",
       "  <thead>\n",
       "    <tr style=\"text-align: right;\">\n",
       "      <th></th>\n",
       "      <th>Unnamed: 0</th>\n",
       "      <th>App Name</th>\n",
       "      <th>Category</th>\n",
       "      <th>Rating</th>\n",
       "      <th>Number of Rating</th>\n",
       "      <th>Installs</th>\n",
       "      <th>Minimum Installs</th>\n",
       "      <th>Maximum Installs</th>\n",
       "      <th>Free of Charge</th>\n",
       "      <th>App Price</th>\n",
       "      <th>...</th>\n",
       "      <th>App Id</th>\n",
       "      <th>Developer Id</th>\n",
       "      <th>Developer Website</th>\n",
       "      <th>Released</th>\n",
       "      <th>Last Updated</th>\n",
       "      <th>Content Rating</th>\n",
       "      <th>Privacy Policy</th>\n",
       "      <th>Ad Supported</th>\n",
       "      <th>In App Purchases</th>\n",
       "      <th>Editors Choice</th>\n",
       "    </tr>\n",
       "  </thead>\n",
       "  <tbody>\n",
       "    <tr>\n",
       "      <th>0</th>\n",
       "      <td>0</td>\n",
       "      <td>Gakondo</td>\n",
       "      <td>Adventure</td>\n",
       "      <td>0.0</td>\n",
       "      <td>0.0</td>\n",
       "      <td>10+</td>\n",
       "      <td>10.0</td>\n",
       "      <td>15</td>\n",
       "      <td>True</td>\n",
       "      <td>0.0</td>\n",
       "      <td>...</td>\n",
       "      <td>com.ishakwe.gakondo</td>\n",
       "      <td>Jean Confident Irénée NIYIZIBYOSE</td>\n",
       "      <td>https://beniyizibyose.tk/#/</td>\n",
       "      <td>Feb 26, 2020</td>\n",
       "      <td>Feb 26, 2020</td>\n",
       "      <td>Everyone</td>\n",
       "      <td>https://beniyizibyose.tk/projects/</td>\n",
       "      <td>False</td>\n",
       "      <td>False</td>\n",
       "      <td>False</td>\n",
       "    </tr>\n",
       "    <tr>\n",
       "      <th>1</th>\n",
       "      <td>1</td>\n",
       "      <td>Ampere Battery Info</td>\n",
       "      <td>Tools</td>\n",
       "      <td>4.4</td>\n",
       "      <td>64.0</td>\n",
       "      <td>5,000+</td>\n",
       "      <td>5000.0</td>\n",
       "      <td>7662</td>\n",
       "      <td>True</td>\n",
       "      <td>0.0</td>\n",
       "      <td>...</td>\n",
       "      <td>com.webserveis.batteryinfo</td>\n",
       "      <td>Webserveis</td>\n",
       "      <td>https://webserveis.netlify.app/</td>\n",
       "      <td>May 21, 2020</td>\n",
       "      <td>May 06, 2021</td>\n",
       "      <td>Everyone</td>\n",
       "      <td>https://dev4phones.wordpress.com/licencia-de-uso/</td>\n",
       "      <td>True</td>\n",
       "      <td>False</td>\n",
       "      <td>False</td>\n",
       "    </tr>\n",
       "    <tr>\n",
       "      <th>2</th>\n",
       "      <td>2</td>\n",
       "      <td>Vibook</td>\n",
       "      <td>Productivity</td>\n",
       "      <td>0.0</td>\n",
       "      <td>0.0</td>\n",
       "      <td>50+</td>\n",
       "      <td>50.0</td>\n",
       "      <td>58</td>\n",
       "      <td>True</td>\n",
       "      <td>0.0</td>\n",
       "      <td>...</td>\n",
       "      <td>com.doantiepvien.crm</td>\n",
       "      <td>Cabin Crew</td>\n",
       "      <td>NaN</td>\n",
       "      <td>Aug 9, 2019</td>\n",
       "      <td>Aug 19, 2019</td>\n",
       "      <td>Everyone</td>\n",
       "      <td>https://www.vietnamairlines.com/vn/en/terms-an...</td>\n",
       "      <td>False</td>\n",
       "      <td>False</td>\n",
       "      <td>False</td>\n",
       "    </tr>\n",
       "    <tr>\n",
       "      <th>3</th>\n",
       "      <td>3</td>\n",
       "      <td>Smart City Trichy Public Service Vehicles 17UC...</td>\n",
       "      <td>Communication</td>\n",
       "      <td>5.0</td>\n",
       "      <td>5.0</td>\n",
       "      <td>10+</td>\n",
       "      <td>10.0</td>\n",
       "      <td>19</td>\n",
       "      <td>True</td>\n",
       "      <td>0.0</td>\n",
       "      <td>...</td>\n",
       "      <td>cst.stJoseph.ug17ucs548</td>\n",
       "      <td>Climate Smart Tech2</td>\n",
       "      <td>http://www.climatesmarttech.com/</td>\n",
       "      <td>Sep 10, 2018</td>\n",
       "      <td>Oct 13, 2018</td>\n",
       "      <td>Everyone</td>\n",
       "      <td>NaN</td>\n",
       "      <td>True</td>\n",
       "      <td>False</td>\n",
       "      <td>False</td>\n",
       "    </tr>\n",
       "    <tr>\n",
       "      <th>4</th>\n",
       "      <td>4</td>\n",
       "      <td>GROW.me</td>\n",
       "      <td>Tools</td>\n",
       "      <td>0.0</td>\n",
       "      <td>0.0</td>\n",
       "      <td>100+</td>\n",
       "      <td>100.0</td>\n",
       "      <td>478</td>\n",
       "      <td>True</td>\n",
       "      <td>0.0</td>\n",
       "      <td>...</td>\n",
       "      <td>com.horodyski.grower</td>\n",
       "      <td>Rafal Milek-Horodyski</td>\n",
       "      <td>http://www.horodyski.com.pl</td>\n",
       "      <td>Feb 21, 2020</td>\n",
       "      <td>Nov 12, 2018</td>\n",
       "      <td>Everyone</td>\n",
       "      <td>http://www.horodyski.com.pl</td>\n",
       "      <td>False</td>\n",
       "      <td>False</td>\n",
       "      <td>False</td>\n",
       "    </tr>\n",
       "    <tr>\n",
       "      <th>5</th>\n",
       "      <td>5</td>\n",
       "      <td>IMOCCI</td>\n",
       "      <td>Social</td>\n",
       "      <td>0.0</td>\n",
       "      <td>0.0</td>\n",
       "      <td>50+</td>\n",
       "      <td>50.0</td>\n",
       "      <td>89</td>\n",
       "      <td>True</td>\n",
       "      <td>0.0</td>\n",
       "      <td>...</td>\n",
       "      <td>com.imocci</td>\n",
       "      <td>Imocci GmbH</td>\n",
       "      <td>http://www.imocci.com</td>\n",
       "      <td>Dec 24, 2018</td>\n",
       "      <td>Dec 20, 2019</td>\n",
       "      <td>Teen</td>\n",
       "      <td>https://www.imocci.com/wp-content/uploads/2018...</td>\n",
       "      <td>False</td>\n",
       "      <td>True</td>\n",
       "      <td>False</td>\n",
       "    </tr>\n",
       "    <tr>\n",
       "      <th>6</th>\n",
       "      <td>6</td>\n",
       "      <td>unlimited 4G data prank free app</td>\n",
       "      <td>Libraries &amp; Demo</td>\n",
       "      <td>4.5</td>\n",
       "      <td>12.0</td>\n",
       "      <td>1,000+</td>\n",
       "      <td>1000.0</td>\n",
       "      <td>2567</td>\n",
       "      <td>True</td>\n",
       "      <td>0.0</td>\n",
       "      <td>...</td>\n",
       "      <td>getfreedata.superfatiza.unlimitedjiodataprank</td>\n",
       "      <td>android developer779</td>\n",
       "      <td>NaN</td>\n",
       "      <td>Sep 23, 2019</td>\n",
       "      <td>Sep 27, 2019</td>\n",
       "      <td>Everyone</td>\n",
       "      <td>https://sites.google.com/view/unlimited4gdatap...</td>\n",
       "      <td>True</td>\n",
       "      <td>False</td>\n",
       "      <td>False</td>\n",
       "    </tr>\n",
       "    <tr>\n",
       "      <th>7</th>\n",
       "      <td>7</td>\n",
       "      <td>The Everyday Calendar</td>\n",
       "      <td>Lifestyle</td>\n",
       "      <td>2.0</td>\n",
       "      <td>39.0</td>\n",
       "      <td>500+</td>\n",
       "      <td>500.0</td>\n",
       "      <td>702</td>\n",
       "      <td>True</td>\n",
       "      <td>0.0</td>\n",
       "      <td>...</td>\n",
       "      <td>com.mozaix.simoneboard</td>\n",
       "      <td>Mozaix LLC</td>\n",
       "      <td>NaN</td>\n",
       "      <td>Jun 21, 2019</td>\n",
       "      <td>Jun 21, 2019</td>\n",
       "      <td>Everyone</td>\n",
       "      <td>https://www.freeprivacypolicy.com/privacy/view...</td>\n",
       "      <td>False</td>\n",
       "      <td>False</td>\n",
       "      <td>False</td>\n",
       "    </tr>\n",
       "    <tr>\n",
       "      <th>8</th>\n",
       "      <td>8</td>\n",
       "      <td>WhatsOpen</td>\n",
       "      <td>Communication</td>\n",
       "      <td>0.0</td>\n",
       "      <td>0.0</td>\n",
       "      <td>10+</td>\n",
       "      <td>10.0</td>\n",
       "      <td>18</td>\n",
       "      <td>True</td>\n",
       "      <td>0.0</td>\n",
       "      <td>...</td>\n",
       "      <td>com.whatsopen.app</td>\n",
       "      <td>Yilver Molina Hurtatiz</td>\n",
       "      <td>http://yilvermolinah.com</td>\n",
       "      <td>NaN</td>\n",
       "      <td>Dec 07, 2018</td>\n",
       "      <td>Teen</td>\n",
       "      <td>http://elcafedelamanana.yilvermolinah.com/poli...</td>\n",
       "      <td>False</td>\n",
       "      <td>False</td>\n",
       "      <td>False</td>\n",
       "    </tr>\n",
       "    <tr>\n",
       "      <th>9</th>\n",
       "      <td>9</td>\n",
       "      <td>Neon 3d Iron Tech Keyboard Theme</td>\n",
       "      <td>Personalization</td>\n",
       "      <td>4.7</td>\n",
       "      <td>820.0</td>\n",
       "      <td>50,000+</td>\n",
       "      <td>50000.0</td>\n",
       "      <td>62433</td>\n",
       "      <td>True</td>\n",
       "      <td>0.0</td>\n",
       "      <td>...</td>\n",
       "      <td>com.ikeyboard.theme.neon_3d.iron.tech</td>\n",
       "      <td>Free 2021 Themes for Emoji keyboard</td>\n",
       "      <td>https://trendyteme888-31139.web.app</td>\n",
       "      <td>Sep 22, 2019</td>\n",
       "      <td>Oct 07, 2020</td>\n",
       "      <td>Everyone</td>\n",
       "      <td>http://bit.ly/EmojiThemePro</td>\n",
       "      <td>True</td>\n",
       "      <td>False</td>\n",
       "      <td>False</td>\n",
       "    </tr>\n",
       "  </tbody>\n",
       "</table>\n",
       "<p>10 rows × 24 columns</p>\n",
       "</div>"
      ],
      "text/plain": [
       "   Unnamed: 0                                           App Name  \\\n",
       "0           0                                            Gakondo   \n",
       "1           1                                Ampere Battery Info   \n",
       "2           2                                             Vibook   \n",
       "3           3  Smart City Trichy Public Service Vehicles 17UC...   \n",
       "4           4                                            GROW.me   \n",
       "5           5                                             IMOCCI   \n",
       "6           6                   unlimited 4G data prank free app   \n",
       "7           7                              The Everyday Calendar   \n",
       "8           8                                          WhatsOpen   \n",
       "9           9                   Neon 3d Iron Tech Keyboard Theme   \n",
       "\n",
       "           Category  Rating  Number of Rating Installs  Minimum Installs  \\\n",
       "0         Adventure     0.0               0.0      10+              10.0   \n",
       "1             Tools     4.4              64.0   5,000+            5000.0   \n",
       "2      Productivity     0.0               0.0      50+              50.0   \n",
       "3     Communication     5.0               5.0      10+              10.0   \n",
       "4             Tools     0.0               0.0     100+             100.0   \n",
       "5            Social     0.0               0.0      50+              50.0   \n",
       "6  Libraries & Demo     4.5              12.0   1,000+            1000.0   \n",
       "7         Lifestyle     2.0              39.0     500+             500.0   \n",
       "8     Communication     0.0               0.0      10+              10.0   \n",
       "9   Personalization     4.7             820.0  50,000+           50000.0   \n",
       "\n",
       "   Maximum Installs  Free of Charge  App Price  ...  \\\n",
       "0                15            True        0.0  ...   \n",
       "1              7662            True        0.0  ...   \n",
       "2                58            True        0.0  ...   \n",
       "3                19            True        0.0  ...   \n",
       "4               478            True        0.0  ...   \n",
       "5                89            True        0.0  ...   \n",
       "6              2567            True        0.0  ...   \n",
       "7               702            True        0.0  ...   \n",
       "8                18            True        0.0  ...   \n",
       "9             62433            True        0.0  ...   \n",
       "\n",
       "                                          App Id  \\\n",
       "0                            com.ishakwe.gakondo   \n",
       "1                     com.webserveis.batteryinfo   \n",
       "2                           com.doantiepvien.crm   \n",
       "3                        cst.stJoseph.ug17ucs548   \n",
       "4                           com.horodyski.grower   \n",
       "5                                     com.imocci   \n",
       "6  getfreedata.superfatiza.unlimitedjiodataprank   \n",
       "7                         com.mozaix.simoneboard   \n",
       "8                              com.whatsopen.app   \n",
       "9          com.ikeyboard.theme.neon_3d.iron.tech   \n",
       "\n",
       "                          Developer Id                    Developer Website  \\\n",
       "0    Jean Confident Irénée NIYIZIBYOSE          https://beniyizibyose.tk/#/   \n",
       "1                           Webserveis      https://webserveis.netlify.app/   \n",
       "2                           Cabin Crew                                  NaN   \n",
       "3                  Climate Smart Tech2     http://www.climatesmarttech.com/   \n",
       "4                Rafal Milek-Horodyski          http://www.horodyski.com.pl   \n",
       "5                          Imocci GmbH                http://www.imocci.com   \n",
       "6                 android developer779                                  NaN   \n",
       "7                           Mozaix LLC                                  NaN   \n",
       "8               Yilver Molina Hurtatiz             http://yilvermolinah.com   \n",
       "9  Free 2021 Themes for Emoji keyboard  https://trendyteme888-31139.web.app   \n",
       "\n",
       "       Released  Last Updated Content Rating  \\\n",
       "0  Feb 26, 2020  Feb 26, 2020       Everyone   \n",
       "1  May 21, 2020  May 06, 2021       Everyone   \n",
       "2   Aug 9, 2019  Aug 19, 2019       Everyone   \n",
       "3  Sep 10, 2018  Oct 13, 2018       Everyone   \n",
       "4  Feb 21, 2020  Nov 12, 2018       Everyone   \n",
       "5  Dec 24, 2018  Dec 20, 2019           Teen   \n",
       "6  Sep 23, 2019  Sep 27, 2019       Everyone   \n",
       "7  Jun 21, 2019  Jun 21, 2019       Everyone   \n",
       "8           NaN  Dec 07, 2018           Teen   \n",
       "9  Sep 22, 2019  Oct 07, 2020       Everyone   \n",
       "\n",
       "                                      Privacy Policy Ad Supported  \\\n",
       "0                 https://beniyizibyose.tk/projects/        False   \n",
       "1  https://dev4phones.wordpress.com/licencia-de-uso/         True   \n",
       "2  https://www.vietnamairlines.com/vn/en/terms-an...        False   \n",
       "3                                                NaN         True   \n",
       "4                        http://www.horodyski.com.pl        False   \n",
       "5  https://www.imocci.com/wp-content/uploads/2018...        False   \n",
       "6  https://sites.google.com/view/unlimited4gdatap...         True   \n",
       "7  https://www.freeprivacypolicy.com/privacy/view...        False   \n",
       "8  http://elcafedelamanana.yilvermolinah.com/poli...        False   \n",
       "9                        http://bit.ly/EmojiThemePro         True   \n",
       "\n",
       "  In App Purchases Editors Choice  \n",
       "0            False          False  \n",
       "1            False          False  \n",
       "2            False          False  \n",
       "3            False          False  \n",
       "4            False          False  \n",
       "5             True          False  \n",
       "6            False          False  \n",
       "7            False          False  \n",
       "8            False          False  \n",
       "9            False          False  \n",
       "\n",
       "[10 rows x 24 columns]"
      ]
     },
     "execution_count": 2,
     "metadata": {},
     "output_type": "execute_result"
    }
   ],
   "source": [
    "apps = pd.read_csv(\"Daten/Google-Playstore.csv\")\n",
    "apps.head(10)"
   ]
  },
  {
   "cell_type": "markdown",
   "id": "70262c25-5665-482e-81ac-5f7d877d0ed2",
   "metadata": {},
   "source": [
    "**AUFGABE:**\n",
    "\n",
    "Erstellen Sie NumPy-Arrays mit (Teil-)Daten aus Ihrem Projekt - es sollten verschiedene Datentypen (Ganzzahl, Kommazahl, String, Boolean, etc.) vorhanden sein"
   ]
  },
  {
   "cell_type": "code",
   "execution_count": 3,
   "id": "cd1aac42-c346-4e4d-8a38-e7f72a3232e1",
   "metadata": {},
   "outputs": [],
   "source": [
    "np_apps = np.array([\n",
    "    [\"Gakondo\", \"com.ishakwe.gakondo\", \"Adventure\", 0.0, 0.0, \"10+\", 10.0, 15, True, 0.0, \"Feb 26, 2020\"],\n",
    "    [\"Ampere Battery Info\", \"com.webserveis.batteryinfo\", \"Tools\", 4.4, 64.0, \"5000+\", 5000.0, 7662, True, 0.0, \"May 21, 2020\"],\n",
    "    [\"Vibook\", \"com.doantiepvien.crm\", \"Productivity\", 0.0, 0.0, \"50+\", 50.0, 58, True, 0.0, \"Aug 9, 2019\"],\n",
    "    [\"Smart City Trichy Public Service Vehicles 17UCS548\", \"cst.stJoseph.ug17ucs548\", \"Communication\", 5.0, 5.0, \"10+\", 10.0, 19, True, 0.0, \"Sep 10, 2018\"],\n",
    "    [\"GROW.me\", \"com.horodyski.grower\", \"Tools\", 0.0, 0.0, \"100+\", 100.0, 478, True, 0.0, \"Feb 21, 2020\"],\n",
    "    [\"Standalone Golf GPS by Hole19\", \"com.hole19golf.wear\", \"Sports\", 2.8, 160.0, \"10,000+\", 10000.0, 10407, False, 4.99, \"Feb 07, 2017\"],\n",
    "])"
   ]
  },
  {
   "cell_type": "markdown",
   "id": "11c7b6f3-6902-41aa-b280-5913fd8c1171",
   "metadata": {},
   "source": [
    "**AUFGABE:**\n",
    "\n",
    "Filtern Sie ein NumPy-Array basierend auf mindestens 2 Bedingungen auf mindestens 2 Arrays/Spalten"
   ]
  },
  {
   "cell_type": "code",
   "execution_count": 4,
   "id": "46a3a16b-5bd7-492e-81dc-b3243ecd1a19",
   "metadata": {},
   "outputs": [
    {
     "name": "stdout",
     "output_type": "stream",
     "text": [
      "Kostenlose Apps bis 3 Sterne:  ['Gakondo' 'Vibook' 'GROW.me']\n"
     ]
    }
   ],
   "source": [
    "app_name = np_apps[:, 0]  # Alle Zeilen aus Spalte 0\n",
    "ratings = np_apps[:, 3].astype(np.float64)\n",
    "free = np_apps[:, 8]\n",
    "\n",
    "print(\"Kostenlose Apps bis 3 Sterne: \", app_name[(ratings <= 3.0) & (free == \"True\")])"
   ]
  },
  {
   "cell_type": "markdown",
   "id": "b0aa8391-dc0d-4f27-8b6d-b5e5b14e4b22",
   "metadata": {},
   "source": [
    "**AUFGABE:**\n",
    "\n",
    "- Berechnen Sie mind. 2 Statistiken auf mind. 2 Arrays\n",
    "- Verwenden Sie mindestens eine Funktion aus dem str-Accessor"
   ]
  },
  {
   "cell_type": "code",
   "execution_count": 15,
   "id": "44e32de2-a309-4ab6-abc9-8b5d937b1766",
   "metadata": {},
   "outputs": [
    {
     "name": "stdout",
     "output_type": "stream",
     "text": [
      "Durchschnitt: 2.033333333333333\n",
      "Maximum Bewertung: 5.0\n",
      "Minimum Bewertung: 0.0\n",
      "Summe Rating Counts: 229.0\n",
      "Durchschnitt Rating Counts: 38.166666666666664\n"
     ]
    }
   ],
   "source": [
    "avg_ratings = np.average(ratings)\n",
    "max_ratings = ratings[np.argmax(ratings)]\n",
    "min_ratings = np.min(ratings)\n",
    "\n",
    "sum_rating_count = np.sum(np_apps[:, 4].astype(np.float64))\n",
    "avg_rating_count = np.average(np_apps[:, 4].astype(np.float64))\n",
    "\n",
    "\n",
    "print(\"Durchschnitt: \" + str(avg_ratings) + \n",
    "      \"\\nMaximum Bewertung: \" + str(max_ratings) + \n",
    "      \"\\nMinimum Bewertung: \" + str(min_ratings) + \n",
    "      \"\\nSumme Rating Counts: \" + str(sum_rating_count) + \n",
    "      \"\\nDurchschnitt Rating Counts: \" + str(avg_rating_count)\n",
    "     )"
   ]
  },
  {
   "cell_type": "markdown",
   "id": "c4068d37-c05b-4fc9-abf1-d05c34d50623",
   "metadata": {},
   "source": [
    "**AUFGABE:**\n",
    "\n",
    "Fügen Sie mindestens eine neue Spalte hinzu, die aus mindestens einer anderen Spalte berechnet wurde.\n",
    "\n",
    "In unseren Fall: `Revenue = Maximum Installs * Price`"
   ]
  },
  {
   "cell_type": "code",
   "execution_count": null,
   "id": "e10a3808-0e47-4626-bb8d-ecbd0d36b04d",
   "metadata": {},
   "outputs": [
    {
     "data": {
      "text/plain": [
       "0      15.0\n",
       "1    7662.0\n",
       "2      58.0\n",
       "3      19.0\n",
       "4     478.0\n",
       "Name: Maximum Installs, dtype: float64"
      ]
     },
     "execution_count": 18,
     "metadata": {},
     "output_type": "execute_result"
    }
   ],
   "source": [
    "max_inst = apps['Maximum Installs'].astype(np.float64)\n",
    "app_price = apps['App Price'].astype(np.float64)"
   ]
  },
  {
   "cell_type": "code",
   "execution_count": null,
   "id": "b061a212-ac61-4a82-976c-9d32d18eba76",
   "metadata": {},
   "outputs": [
    {
     "data": {
      "text/plain": [
       "0    0.0\n",
       "1    0.0\n",
       "2    0.0\n",
       "3    0.0\n",
       "4    0.0\n",
       "Name: App Price, dtype: float64"
      ]
     },
     "execution_count": 19,
     "metadata": {},
     "output_type": "execute_result"
    }
   ],
   "source": [
    "max_inst.head()"
   ]
  },
  {
   "cell_type": "code",
   "execution_count": null,
   "id": "58c15767-31d2-4ec5-a782-76b5933c330c",
   "metadata": {},
   "outputs": [],
   "source": [
    "app_price.head()"
   ]
  },
  {
   "cell_type": "code",
   "execution_count": null,
   "id": "0c65fc91-cce7-49ec-9eb6-e722cd7e56fe",
   "metadata": {},
   "outputs": [],
   "source": [
    "# Berechnung Umsatz\n",
    "app_revenue = max_inst * app_price\n",
    "apps.insert(apps.columns.get_loc('Price') + 1, 'Revenue', app_revenue)  # inplace=True notwendig"
   ]
  },
  {
   "cell_type": "code",
   "execution_count": null,
   "id": "5e4018eb-c351-46a0-a19a-7d3886e7040c",
   "metadata": {},
   "outputs": [],
   "source": [
    "test = apps['Free'] == False\n",
    "apps.loc[test, 'Installs':'Minimum Android']"
   ]
  },
  {
   "cell_type": "markdown",
   "id": "c5bd51bc-f21e-42c3-ad96-a8f8584d54c7",
   "metadata": {},
   "source": [
    "**AUFGABE:**\n",
    "\n",
    "- Ändern Sie Reihenfolge und Benennung der Spalten\n",
    "- Rating Count: Number of Ratings\n",
    "- Free: Free of Charge\n",
    "- Price: App Price\n",
    "- Currency nach Price und App Id vor Developer Id"
   ]
  },
  {
   "cell_type": "code",
   "execution_count": null,
   "id": "71c6adef-a5ee-4b2d-9ec9-e4189fa41e9d",
   "metadata": {},
   "outputs": [],
   "source": [
    "apps.rename(columns={'Rating Count':'Number of Rating' , 'Free':'Free of Charge', 'Price':'App Price'}, inplace=True)\n",
    "apps = apps[['App Name', 'Category', 'Rating', 'Number of Rating', 'Installs', 'Minimum Installs', 'Maximum Installs', 'Free of Charge', \n",
    "             'App Price', 'Currency', 'Revenue', 'Size', 'Minimum Android', 'App Id', 'Developer Id', 'Developer Website', 'Developer Email', \n",
    "             'Released', 'Last Updated', 'Content Rating', 'Privacy Policy', 'Ad Supported', 'In App Purchases', 'Editors Choice', 'Scraped Time']]\n",
    "apps.head()"
   ]
  },
  {
   "cell_type": "markdown",
   "id": "11e8b150-f965-49eb-8175-93f64befbc56",
   "metadata": {},
   "source": [
    "**AUFGABE:**\n",
    "\n",
    "Löschen Sie mindestens eine Spalte"
   ]
  },
  {
   "cell_type": "code",
   "execution_count": null,
   "id": "88443f4f-8901-4a6c-ac5b-9de2d0874755",
   "metadata": {},
   "outputs": [],
   "source": [
    "apps.drop(columns=['Developer Email', 'Scraped Time'], inplace=True)\n",
    "apps.head()"
   ]
  },
  {
   "cell_type": "markdown",
   "id": "abae04e4-ce38-4869-b464-51a79810e8a5",
   "metadata": {},
   "source": [
    "**AUFGABE:**\n",
    "\n",
    "- Speichern Sie Ihr pandas DataFrame in eine Datei\n",
    "- Eine Änderung der Reihenfolge wäre hier auch möglich gewesen"
   ]
  },
  {
   "cell_type": "code",
   "execution_count": null,
   "id": "2b7b4ace-fef6-4f32-9d37-20c103894f05",
   "metadata": {},
   "outputs": [],
   "source": [
    "apps_after_1st_req = apps\n",
    "#apps_after_1st_req[['App Name', 'Category', 'Rating', 'Number of Rating', 'Installs', 'Minimum Installs', 'Maximum Installs', 'Free of Charge', \n",
    "#             'App Price', 'Currency', 'Revenue', 'Size', 'Minimum Android', 'App Id', 'Developer Id', 'Developer Website', 'Released', \n",
    "#             'Last Updated', 'Content Rating', 'Privacy Policy', 'Ad Supported', 'In App Purchases', 'Editors Choice']].to_csv('/home/user/data-analytics/Google-Playstore_Edit1.csv')\n",
    "apps_after_1st_req.to_csv('Daten/Google-Playstore.csv')"
   ]
  },
  {
   "cell_type": "markdown",
   "id": "35243d86-4ba2-46a9-a965-bf964afd93e6",
   "metadata": {},
   "source": [
    "# Data Understanding und Data Preparation\n",
    "## Anforderungen an Projektumsetzung: Datenexploration\n",
    "\n",
    "- Erstellen Sie jeweils eine Visualisierung zu jedem der folgenden Charttypen. Beschreiben Sie textuell was Sie in dem Chart sehen und ggfs. eine Interpretation\n",
    "    - Line-Chart ()\n",
    "    - Bar-Chart (Free or not)\n",
    "    - Histogramm (Kategorien --> Anzahl der Installs)\n",
    "    - Box-Plot (Rating, später Size)\n",
    "    - Scatter-Plot (Innerhalb einer Kateogrie wv Installs --> Zw. Kategorie und max installs\n",
    "- Sortieren Sie den Datensatz entweder dauerhaft oder für eine bestimmte Analyse - warum ist diese Sortierung sinnvoll?\n",
    "- Erstellen Sie eine statistische Zusammenfassung von mindestens 1 Spalte\n",
    "- Führen Sie mindestens eine Gruppierung durch - warum war diese sinnvoll?\n",
    "- Dokumentieren Sie jeweils mindestens eine Erkenntnis bzgl. Datenstruktur, Daten und geschäftliche Domäne"
   ]
  },
  {
   "cell_type": "code",
   "execution_count": 24,
   "id": "ed0c0288-9fec-44e3-bc01-be7d00817d86",
   "metadata": {},
   "outputs": [],
   "source": [
    "import matplotlib.pyplot as plt"
   ]
  },
  {
   "cell_type": "code",
   "execution_count": 33,
   "id": "e614afd7-67b2-4296-95cc-1e8109b53d4e",
   "metadata": {},
   "outputs": [
    {
     "data": {
      "text/plain": [
       "0              Adventure\n",
       "1                  Tools\n",
       "2           Productivity\n",
       "3          Communication\n",
       "4                  Tools\n",
       "               ...      \n",
       "2312939     Role Playing\n",
       "2312940        Education\n",
       "2312941        Education\n",
       "2312942    Music & Audio\n",
       "2312943           Trivia\n",
       "Name: Category, Length: 2312944, dtype: object"
      ]
     },
     "execution_count": 33,
     "metadata": {},
     "output_type": "execute_result"
    }
   ],
   "source": [
    "count_apps = apps['Category']\n",
    "count_apps"
   ]
  },
  {
   "cell_type": "markdown",
   "id": "63d2dc0b-d917-447c-a4f5-062c62ea49ea",
   "metadata": {},
   "source": [
    "HISTOGRAMM - Free or not"
   ]
  },
  {
   "cell_type": "code",
   "execution_count": 112,
   "id": "229ff444-b404-42bb-a01e-80edb9a294a3",
   "metadata": {},
   "outputs": [
    {
     "ename": "SyntaxError",
     "evalue": "invalid syntax (Temp/ipykernel_11208/2518823702.py, line 8)",
     "output_type": "error",
     "traceback": [
      "\u001b[1;36m  File \u001b[1;32m\"C:\\Users\\fidel\\AppData\\Local\\Temp/ipykernel_11208/2518823702.py\"\u001b[1;36m, line \u001b[1;32m8\u001b[0m\n\u001b[1;33m    cats.\u001b[0m\n\u001b[1;37m         ^\u001b[0m\n\u001b[1;31mSyntaxError\u001b[0m\u001b[1;31m:\u001b[0m invalid syntax\n"
     ]
    }
   ],
   "source": [
    "fig, ax = plt.subplots(figsize=(10,10))\n",
    "cats = apps.groupby('Category')\n",
    "ax_right.set_title('Anzahl der Kategorien')\n",
    "\n",
    "count_cat = cats.barh(apps[\"Category\"], width=cats['Maximum Installs'])\n",
    "cats.bar_label(length_bars, padding=-45)\n",
    "\n",
    "cats.\n",
    "plt.show()"
   ]
  },
  {
   "cell_type": "markdown",
   "id": "b05b546a-14f7-470b-b2de-cc8c424f8dcc",
   "metadata": {},
   "source": [
    "**BOX-PLOTT: Anzahl der Installationen**"
   ]
  },
  {
   "cell_type": "code",
   "execution_count": 114,
   "id": "2ddc729a-2df6-4b62-ba25-92c7104e9020",
   "metadata": {},
   "outputs": [
    {
     "name": "stdout",
     "output_type": "stream",
     "text": [
      "Schwellenwert: 18259.0\n"
     ]
    },
    {
     "data": {
      "image/png": "[encoded data removed]",
      "text/plain": [
       "<Figure size 720x720 with 2 Axes>"
      ]
     },
     "metadata": {
      "needs_background": "light"
     },
     "output_type": "display_data"
    }
   ],
   "source": [
    "Q1 = apps['Maximum Installs'].quantile(0.25)\n",
    "Q2 = apps['Maximum Installs'].quantile(0.75)\n",
    "upper_threshold = Q2 + 1.5 * (Q2 - Q1)\n",
    "print(\"Schwellenwert: \" + str(upper_threshold))\n",
    "\n",
    "apps_18300 = apps[apps['Maximum Installs'] <= 18300]\n",
    "fig, ax = plt.subplots(ncols=2, figsize=(10,10))\n",
    "ax[0].boxplot(apps['Maximum Installs'], labels=['Anzahl Installationen'])\n",
    "ax[1].boxplot(apps_18300['Maximum Installs'], labels=['Anzahl Installationen'])\n",
    "plt.show()"
   ]
  },
  {
   "cell_type": "markdown",
   "id": "892643fd-e529-4a5f-87fb-600c23a15530",
   "metadata": {},
   "source": [
    "**HISTOGRAMM: Bewertungen**"
   ]
  },
  {
   "cell_type": "code",
   "execution_count": 89,
   "id": "5a24fbc0-7dd9-4f8c-98f5-16693e3b8dcc",
   "metadata": {},
   "outputs": [
    {
     "data": {
      "image/png": "[encoded data removed]",
      "text/plain": [
       "<Figure size 720x432 with 1 Axes>"
      ]
     },
     "metadata": {
      "needs_background": "light"
     },
     "output_type": "display_data"
    }
   ],
   "source": [
    "fig, ax = plt.subplots(figsize=(10,6))\n",
    "ax.hist(apps['Rating'], bins=[0y.0, 0.25, 0.5, 0.75, 1.0, 1.25, 1.5, 1.75, 2.0, 2.25, 2.5, 2.75, 3.0, 3.25, 3.5, 3.75, 4.0, 4.25, 4.5, 4.75, 5.0])\n",
    "plt.show()"
   ]
  },
  {
   "cell_type": "code",
   "execution_count": null,
   "id": "67a72b67-262b-46a3-87da-ad7278408963",
   "metadata": {},
   "outputs": [],
   "source": []
  }
 ],
 "metadata": {
  "kernelspec": {
   "display_name": "Python 3 (ipykernel)",
   "language": "python",
   "name": "python3"
  },
  "language_info": {
   "codemirror_mode": {
    "name": "ipython",
    "version": 3
   },
   "file_extension": ".py",
   "mimetype": "text/x-python",
   "name": "python",
   "nbconvert_exporter": "python",
   "pygments_lexer": "ipython3",
   "version": "3.9.0"
  }
 },
 "nbformat": 4,
 "nbformat_minor": 5
}
