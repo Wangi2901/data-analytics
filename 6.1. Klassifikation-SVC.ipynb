{
 "cells": [
  {
   "cell_type": "markdown",
   "id": "bb112475",
   "metadata": {},
   "source": [
    "# 6. Klassifikation - Modeling\n",
    "#### Überwachtes Klassifikationsverfahren\n",
    "## Anforderungen an Projektumsetzung: Klassifikation"
   ]
  },
  {
   "cell_type": "markdown",
   "id": "209840c1",
   "metadata": {},
   "source": [
    "---\n",
    "**AUFGABE:**\n",
    "\n",
    "- Führen Sie mit dem Algorithmus Ihrer Wahl eine Klassifikationsaufgabe auf Ihren Daten durch.\n",
    "- Teilen Sie dazu zunächst die Daten auf, um Overfitting beim Trainieren des Algorithmus und bei der Parameterauswahl zu vermeiden. Erklären Sie die gewählte Strategie und die Größenverhältnisse.\n",
    "- Wählen Sie geeignete Features aus und setzen Sie die Parameter des Algorithmus. Beschreiben Sie das gewälhte Vorgehen für die Auswahl der Features und Parameter. Berichten Sie den Parameterraum und die final gewählten Parameter. Geben Sie die Performanz auf den Trainingsdaten (bzw. Entwicklungsdaten, falls verwendet) an.\n",
    "- Evaluieren Sie die Klassifikation auf den ungesehenen Testdaten. Betrachten Sie Precision und Recall sowie den F-Wert. Welches Maß ist für Ihre Anwendung wichtiger? Bewerten Sie Ihr Ergebnis. Ist es in der Praxis voraussichtlich zufriedenstellend?"
   ]
  },
  {
   "cell_type": "code",
   "execution_count": 1,
   "id": "b9f6cfe8",
   "metadata": {},
   "outputs": [],
   "source": [
    "# Imports für unten\n",
    "\n",
    "from sklearn.model_selection import train_test_split\n",
    "from sklearn.feature_extraction.text import TfidfVectorizer\n",
    "from sklearn.feature_selection import SelectFromModel\n",
    "from sklearn.svm import LinearSVC\n",
    "from sklearn.pipeline import Pipeline\n",
    "from sklearn.svm import SVC\n",
    "from sklearn.model_selection import GridSearchCV\n",
    "from sklearn.metrics import classification_report, confusion_matrix\n",
    "from sklearn.model_selection import cross_val_predict\n",
    "from sklearn.preprocessing import LabelEncoder\n",
    "from sklearn.neighbors import KNeighborsClassifier\n",
    "import pandas as pd"
   ]
  },
  {
   "cell_type": "code",
   "execution_count": 2,
   "id": "858bdb16",
   "metadata": {},
   "outputs": [],
   "source": [
    "apps = pd.read_csv(\"Daten/Google-Playstore_Edit2.csv\")"
   ]
  },
  {
   "cell_type": "code",
   "execution_count": null,
   "id": "7b205c6b-e7b6-487c-924d-74e2adf9c68b",
   "metadata": {},
   "outputs": [],
   "source": []
  },
  {
   "cell_type": "code",
   "execution_count": 3,
   "id": "2aeb9b71-ab9e-4efe-bc08-fea5697ac2e6",
   "metadata": {
    "tags": []
   },
   "outputs": [],
   "source": [
    "# alle Kategorien löschen, die für uns als Unternehmen irrelevant und für eine Entwicklung ausgeschlossen sind\n",
    "less_apps = apps[apps['Category'] == 'Action'] + apps[apps['Category'] == 'Arcade'] + apps[apps['Category'] == 'Beauty'] + apps[apps['Category'] == 'Casino'] + apps[apps['Category'] == 'Comics'] + apps[apps['Category'] == 'Dating'] + apps[apps['Category'] == 'Educational'] + apps[apps['Category'] == 'Puzzle'] + apps[apps['Category'] == 'Racing'] + apps[apps['Category'] == 'Role Playing'] + apps[apps['Category'] == 'Shopping'] + apps[apps['Category'] == 'Trivia'] + apps[apps['Category'] == 'Video Players & Editors'] \n",
    "            \n",
    "apps.drop(less_apps.index, axis=0, inplace=True)            "
   ]
  },
  {
   "cell_type": "code",
   "execution_count": 4,
   "id": "28c07895-4c94-4b1f-afbd-843a9d365c81",
   "metadata": {},
   "outputs": [
    {
     "data": {
      "text/plain": [
       "Category\n",
       "Adventure             23196\n",
       "Art & Design          18538\n",
       "Auto & Vehicles       18278\n",
       "Board                 10588\n",
       "Books & Reference    116726\n",
       "Business             143761\n",
       "Card                   8179\n",
       "Casual                50797\n",
       "Communication         48159\n",
       "Education            241075\n",
       "Entertainment        138268\n",
       "Events                12839\n",
       "Finance               65456\n",
       "Food & Drink          73920\n",
       "Health & Fitness      83501\n",
       "House & Home          14369\n",
       "Libraries & Demo       5196\n",
       "Lifestyle            118324\n",
       "Maps & Navigation     26722\n",
       "Medical               32063\n",
       "Music                  4202\n",
       "Music & Audio        154898\n",
       "News & Magazines      42804\n",
       "Parenting              3810\n",
       "Personalization       89210\n",
       "Photography           35552\n",
       "Productivity          79686\n",
       "Simulation            23276\n",
       "Social                44729\n",
       "Sports                47478\n",
       "Strategy               8525\n",
       "Tools                143976\n",
       "Travel & Local        67282\n",
       "Weather                7245\n",
       "Word                   8630\n",
       "Name: Category, dtype: int64"
      ]
     },
     "execution_count": 4,
     "metadata": {},
     "output_type": "execute_result"
    }
   ],
   "source": [
    "cat = apps.groupby('Category')\n",
    "cat['Category'].count()"
   ]
  },
  {
   "cell_type": "code",
   "execution_count": 5,
   "id": "542c625d-644f-4d8f-a0e7-498620fca092",
   "metadata": {},
   "outputs": [],
   "source": [
    "# Datensatz random auf die Hälfte reduzieren und neues DataFrame erstellen\n",
    "half_apps = apps.sample(frac = 0.5)"
   ]
  },
  {
   "cell_type": "code",
   "execution_count": 6,
   "id": "110275fe",
   "metadata": {},
   "outputs": [],
   "source": [
    "# Alle Spalten mit Unique-Werten werden gedropped - zu viel Rechenkapa notwendig\n",
    "# apps_v2 = apps.copy()\n",
    "half_apps.drop(columns=['App Name', 'App Id', 'Developer Id', 'Developer Website','Minimum Android', 'Developer Email', 'Privacy Policy', 'Released', 'Scraped Time', 'Last Updated'], inplace=True)"
   ]
  },
  {
   "cell_type": "code",
   "execution_count": 7,
   "id": "987426a1",
   "metadata": {},
   "outputs": [],
   "source": [
    "# Umwandlung in Float-Werte\n",
    "half_apps['Free']             = half_apps['Free'].astype(float)\n",
    "half_apps['Ad Supported']     = half_apps['Ad Supported'].astype(float)\n",
    "half_apps['Editors Choice']   = half_apps['Editors Choice'].astype(float)\n",
    "half_apps['In App Purchases'] = half_apps['In App Purchases'].astype(float)\n",
    "half_apps['Maximum Installs'] = half_apps['Maximum Installs'].astype(float)"
   ]
  },
  {
   "cell_type": "code",
   "execution_count": 8,
   "id": "f1282b7b",
   "metadata": {
    "tags": []
   },
   "outputs": [
    {
     "data": {
      "text/plain": [
       "Category             object\n",
       "Rating              float64\n",
       "Rating Count        float64\n",
       "Installs             object\n",
       "Minimum Installs    float64\n",
       "Maximum Installs    float64\n",
       "Free                float64\n",
       "Price               float64\n",
       "Currency             object\n",
       "Size                float64\n",
       "Content Rating       object\n",
       "Ad Supported        float64\n",
       "In App Purchases    float64\n",
       "Editors Choice      float64\n",
       "Released Year       float64\n",
       "dtype: object"
      ]
     },
     "execution_count": 8,
     "metadata": {},
     "output_type": "execute_result"
    }
   ],
   "source": [
    "half_apps.dtypes"
   ]
  },
  {
   "cell_type": "code",
   "execution_count": 9,
   "id": "49dc358b",
   "metadata": {},
   "outputs": [
    {
     "data": {
      "text/html": [
       "<div>\n",
       "<style scoped>\n",
       "    .dataframe tbody tr th:only-of-type {\n",
       "        vertical-align: middle;\n",
       "    }\n",
       "\n",
       "    .dataframe tbody tr th {\n",
       "        vertical-align: top;\n",
       "    }\n",
       "\n",
       "    .dataframe thead th {\n",
       "        text-align: right;\n",
       "    }\n",
       "</style>\n",
       "<table border=\"1\" class=\"dataframe\">\n",
       "  <thead>\n",
       "    <tr style=\"text-align: right;\">\n",
       "      <th></th>\n",
       "      <th>Category</th>\n",
       "      <th>Installs</th>\n",
       "      <th>Currency</th>\n",
       "      <th>Content Rating</th>\n",
       "    </tr>\n",
       "  </thead>\n",
       "  <tbody>\n",
       "    <tr>\n",
       "      <th>2091952</th>\n",
       "      <td>Business</td>\n",
       "      <td>100+</td>\n",
       "      <td>USD</td>\n",
       "      <td>Teen</td>\n",
       "    </tr>\n",
       "    <tr>\n",
       "      <th>1078145</th>\n",
       "      <td>Finance</td>\n",
       "      <td>5,000+</td>\n",
       "      <td>USD</td>\n",
       "      <td>Everyone</td>\n",
       "    </tr>\n",
       "    <tr>\n",
       "      <th>2273313</th>\n",
       "      <td>Tools</td>\n",
       "      <td>10+</td>\n",
       "      <td>USD</td>\n",
       "      <td>Everyone</td>\n",
       "    </tr>\n",
       "    <tr>\n",
       "      <th>1038383</th>\n",
       "      <td>Simulation</td>\n",
       "      <td>100,000+</td>\n",
       "      <td>USD</td>\n",
       "      <td>Everyone</td>\n",
       "    </tr>\n",
       "    <tr>\n",
       "      <th>1434153</th>\n",
       "      <td>Education</td>\n",
       "      <td>10+</td>\n",
       "      <td>USD</td>\n",
       "      <td>Everyone</td>\n",
       "    </tr>\n",
       "    <tr>\n",
       "      <th>...</th>\n",
       "      <td>...</td>\n",
       "      <td>...</td>\n",
       "      <td>...</td>\n",
       "      <td>...</td>\n",
       "    </tr>\n",
       "    <tr>\n",
       "      <th>348272</th>\n",
       "      <td>Communication</td>\n",
       "      <td>1,000+</td>\n",
       "      <td>USD</td>\n",
       "      <td>Everyone</td>\n",
       "    </tr>\n",
       "    <tr>\n",
       "      <th>590096</th>\n",
       "      <td>Education</td>\n",
       "      <td>10,000+</td>\n",
       "      <td>USD</td>\n",
       "      <td>Everyone</td>\n",
       "    </tr>\n",
       "    <tr>\n",
       "      <th>1576720</th>\n",
       "      <td>Education</td>\n",
       "      <td>5+</td>\n",
       "      <td>USD</td>\n",
       "      <td>Everyone</td>\n",
       "    </tr>\n",
       "    <tr>\n",
       "      <th>747676</th>\n",
       "      <td>Productivity</td>\n",
       "      <td>1,000+</td>\n",
       "      <td>USD</td>\n",
       "      <td>Everyone</td>\n",
       "    </tr>\n",
       "    <tr>\n",
       "      <th>558303</th>\n",
       "      <td>Productivity</td>\n",
       "      <td>100,000+</td>\n",
       "      <td>USD</td>\n",
       "      <td>Everyone</td>\n",
       "    </tr>\n",
       "  </tbody>\n",
       "</table>\n",
       "<p>975252 rows × 4 columns</p>\n",
       "</div>"
      ],
      "text/plain": [
       "              Category  Installs Currency Content Rating\n",
       "2091952       Business      100+      USD           Teen\n",
       "1078145        Finance    5,000+      USD       Everyone\n",
       "2273313          Tools       10+      USD       Everyone\n",
       "1038383     Simulation  100,000+      USD       Everyone\n",
       "1434153      Education       10+      USD       Everyone\n",
       "...                ...       ...      ...            ...\n",
       "348272   Communication    1,000+      USD       Everyone\n",
       "590096       Education   10,000+      USD       Everyone\n",
       "1576720      Education        5+      USD       Everyone\n",
       "747676    Productivity    1,000+      USD       Everyone\n",
       "558303    Productivity  100,000+      USD       Everyone\n",
       "\n",
       "[975252 rows x 4 columns]"
      ]
     },
     "execution_count": 9,
     "metadata": {},
     "output_type": "execute_result"
    }
   ],
   "source": [
    "# Selektion von den Spalten vom Typ object\n",
    "half_apps = half_apps.dropna()\n",
    "half_apps.select_dtypes(include=['object'])"
   ]
  },
  {
   "cell_type": "code",
   "execution_count": 10,
   "id": "4eeb1fbb",
   "metadata": {},
   "outputs": [],
   "source": [
    "# Aufteilung in Listen mit numerischen und mit noch kategorischen Werten\n",
    "numerical_cols = list(half_apps.select_dtypes(include=\"float\").columns)\n",
    "categorical_cols = list(half_apps.select_dtypes(include=\"object\").columns)"
   ]
  },
  {
   "cell_type": "code",
   "execution_count": 11,
   "id": "aa83c631",
   "metadata": {},
   "outputs": [
    {
     "data": {
      "text/plain": [
       "['Installs', 'Currency', 'Content Rating']"
      ]
     },
     "execution_count": 11,
     "metadata": {},
     "output_type": "execute_result"
    }
   ],
   "source": [
    "# Löschen von Category, da dies dann als Zielklasse verwendet werden soll\n",
    "categorical_cols.remove(\"Category\")\n",
    "categorical_cols"
   ]
  },
  {
   "cell_type": "code",
   "execution_count": 12,
   "id": "9830fea4",
   "metadata": {},
   "outputs": [],
   "source": [
    "# Da Klassifikation nur mit numerischen Daten funktioniert, werden mittels\n",
    "# One-Hot-Endcoding aus den kategorischen Spalten, numerische Daten generiert\n",
    "X_dumm = pd.get_dummies(half_apps[categorical_cols])"
   ]
  },
  {
   "cell_type": "code",
   "execution_count": 13,
   "id": "f3605df2",
   "metadata": {},
   "outputs": [
    {
     "data": {
      "text/html": [
       "<div>\n",
       "<style scoped>\n",
       "    .dataframe tbody tr th:only-of-type {\n",
       "        vertical-align: middle;\n",
       "    }\n",
       "\n",
       "    .dataframe tbody tr th {\n",
       "        vertical-align: top;\n",
       "    }\n",
       "\n",
       "    .dataframe thead th {\n",
       "        text-align: right;\n",
       "    }\n",
       "</style>\n",
       "<table border=\"1\" class=\"dataframe\">\n",
       "  <thead>\n",
       "    <tr style=\"text-align: right;\">\n",
       "      <th></th>\n",
       "      <th>Installs_0+</th>\n",
       "      <th>Installs_1+</th>\n",
       "      <th>Installs_1,000+</th>\n",
       "      <th>Installs_1,000,000+</th>\n",
       "      <th>Installs_1,000,000,000+</th>\n",
       "      <th>Installs_10+</th>\n",
       "      <th>Installs_10,000+</th>\n",
       "      <th>Installs_10,000,000+</th>\n",
       "      <th>Installs_100+</th>\n",
       "      <th>Installs_100,000+</th>\n",
       "      <th>...</th>\n",
       "      <th>Currency_USD</th>\n",
       "      <th>Currency_VND</th>\n",
       "      <th>Currency_XXX</th>\n",
       "      <th>Currency_ZAR</th>\n",
       "      <th>Content Rating_Adults only 18+</th>\n",
       "      <th>Content Rating_Everyone</th>\n",
       "      <th>Content Rating_Everyone 10+</th>\n",
       "      <th>Content Rating_Mature 17+</th>\n",
       "      <th>Content Rating_Teen</th>\n",
       "      <th>Content Rating_Unrated</th>\n",
       "    </tr>\n",
       "  </thead>\n",
       "  <tbody>\n",
       "    <tr>\n",
       "      <th>2091952</th>\n",
       "      <td>0</td>\n",
       "      <td>0</td>\n",
       "      <td>0</td>\n",
       "      <td>0</td>\n",
       "      <td>0</td>\n",
       "      <td>0</td>\n",
       "      <td>0</td>\n",
       "      <td>0</td>\n",
       "      <td>1</td>\n",
       "      <td>0</td>\n",
       "      <td>...</td>\n",
       "      <td>1</td>\n",
       "      <td>0</td>\n",
       "      <td>0</td>\n",
       "      <td>0</td>\n",
       "      <td>0</td>\n",
       "      <td>0</td>\n",
       "      <td>0</td>\n",
       "      <td>0</td>\n",
       "      <td>1</td>\n",
       "      <td>0</td>\n",
       "    </tr>\n",
       "    <tr>\n",
       "      <th>1078145</th>\n",
       "      <td>0</td>\n",
       "      <td>0</td>\n",
       "      <td>0</td>\n",
       "      <td>0</td>\n",
       "      <td>0</td>\n",
       "      <td>0</td>\n",
       "      <td>0</td>\n",
       "      <td>0</td>\n",
       "      <td>0</td>\n",
       "      <td>0</td>\n",
       "      <td>...</td>\n",
       "      <td>1</td>\n",
       "      <td>0</td>\n",
       "      <td>0</td>\n",
       "      <td>0</td>\n",
       "      <td>0</td>\n",
       "      <td>1</td>\n",
       "      <td>0</td>\n",
       "      <td>0</td>\n",
       "      <td>0</td>\n",
       "      <td>0</td>\n",
       "    </tr>\n",
       "  </tbody>\n",
       "</table>\n",
       "<p>2 rows × 37 columns</p>\n",
       "</div>"
      ],
      "text/plain": [
       "         Installs_0+  Installs_1+  Installs_1,000+  Installs_1,000,000+  \\\n",
       "2091952            0            0                0                    0   \n",
       "1078145            0            0                0                    0   \n",
       "\n",
       "         Installs_1,000,000,000+  Installs_10+  Installs_10,000+  \\\n",
       "2091952                        0             0                 0   \n",
       "1078145                        0             0                 0   \n",
       "\n",
       "         Installs_10,000,000+  Installs_100+  Installs_100,000+  ...  \\\n",
       "2091952                     0              1                  0  ...   \n",
       "1078145                     0              0                  0  ...   \n",
       "\n",
       "         Currency_USD  Currency_VND  Currency_XXX  Currency_ZAR  \\\n",
       "2091952             1             0             0             0   \n",
       "1078145             1             0             0             0   \n",
       "\n",
       "         Content Rating_Adults only 18+  Content Rating_Everyone  \\\n",
       "2091952                               0                        0   \n",
       "1078145                               0                        1   \n",
       "\n",
       "         Content Rating_Everyone 10+  Content Rating_Mature 17+  \\\n",
       "2091952                            0                          0   \n",
       "1078145                            0                          0   \n",
       "\n",
       "         Content Rating_Teen  Content Rating_Unrated  \n",
       "2091952                    1                       0  \n",
       "1078145                    0                       0  \n",
       "\n",
       "[2 rows x 37 columns]"
      ]
     },
     "execution_count": 13,
     "metadata": {},
     "output_type": "execute_result"
    }
   ],
   "source": [
    "X_dumm.head(2)"
   ]
  },
  {
   "cell_type": "code",
   "execution_count": 14,
   "id": "1c53a7a2",
   "metadata": {},
   "outputs": [],
   "source": [
    "# Zusammenfügen beider numerischen Listen\n",
    "X = pd.concat([half_apps[numerical_cols], X_dumm], axis = 1)"
   ]
  },
  {
   "cell_type": "code",
   "execution_count": 15,
   "id": "b4723164",
   "metadata": {},
   "outputs": [
    {
     "data": {
      "text/html": [
       "<div>\n",
       "<style scoped>\n",
       "    .dataframe tbody tr th:only-of-type {\n",
       "        vertical-align: middle;\n",
       "    }\n",
       "\n",
       "    .dataframe tbody tr th {\n",
       "        vertical-align: top;\n",
       "    }\n",
       "\n",
       "    .dataframe thead th {\n",
       "        text-align: right;\n",
       "    }\n",
       "</style>\n",
       "<table border=\"1\" class=\"dataframe\">\n",
       "  <thead>\n",
       "    <tr style=\"text-align: right;\">\n",
       "      <th></th>\n",
       "      <th>Rating</th>\n",
       "      <th>Rating Count</th>\n",
       "      <th>Minimum Installs</th>\n",
       "      <th>Maximum Installs</th>\n",
       "      <th>Free</th>\n",
       "      <th>Price</th>\n",
       "      <th>Size</th>\n",
       "      <th>Ad Supported</th>\n",
       "      <th>In App Purchases</th>\n",
       "      <th>Editors Choice</th>\n",
       "      <th>...</th>\n",
       "      <th>Currency_USD</th>\n",
       "      <th>Currency_VND</th>\n",
       "      <th>Currency_XXX</th>\n",
       "      <th>Currency_ZAR</th>\n",
       "      <th>Content Rating_Adults only 18+</th>\n",
       "      <th>Content Rating_Everyone</th>\n",
       "      <th>Content Rating_Everyone 10+</th>\n",
       "      <th>Content Rating_Mature 17+</th>\n",
       "      <th>Content Rating_Teen</th>\n",
       "      <th>Content Rating_Unrated</th>\n",
       "    </tr>\n",
       "  </thead>\n",
       "  <tbody>\n",
       "    <tr>\n",
       "      <th>2091952</th>\n",
       "      <td>0.0</td>\n",
       "      <td>0.0</td>\n",
       "      <td>100.0</td>\n",
       "      <td>173.0</td>\n",
       "      <td>1.0</td>\n",
       "      <td>0.0</td>\n",
       "      <td>28.0</td>\n",
       "      <td>0.0</td>\n",
       "      <td>0.0</td>\n",
       "      <td>0.0</td>\n",
       "      <td>...</td>\n",
       "      <td>1</td>\n",
       "      <td>0</td>\n",
       "      <td>0</td>\n",
       "      <td>0</td>\n",
       "      <td>0</td>\n",
       "      <td>0</td>\n",
       "      <td>0</td>\n",
       "      <td>0</td>\n",
       "      <td>1</td>\n",
       "      <td>0</td>\n",
       "    </tr>\n",
       "    <tr>\n",
       "      <th>1078145</th>\n",
       "      <td>3.3</td>\n",
       "      <td>36.0</td>\n",
       "      <td>5000.0</td>\n",
       "      <td>7805.0</td>\n",
       "      <td>1.0</td>\n",
       "      <td>0.0</td>\n",
       "      <td>4.0</td>\n",
       "      <td>1.0</td>\n",
       "      <td>1.0</td>\n",
       "      <td>0.0</td>\n",
       "      <td>...</td>\n",
       "      <td>1</td>\n",
       "      <td>0</td>\n",
       "      <td>0</td>\n",
       "      <td>0</td>\n",
       "      <td>0</td>\n",
       "      <td>1</td>\n",
       "      <td>0</td>\n",
       "      <td>0</td>\n",
       "      <td>0</td>\n",
       "      <td>0</td>\n",
       "    </tr>\n",
       "    <tr>\n",
       "      <th>2273313</th>\n",
       "      <td>0.0</td>\n",
       "      <td>0.0</td>\n",
       "      <td>10.0</td>\n",
       "      <td>47.0</td>\n",
       "      <td>1.0</td>\n",
       "      <td>0.0</td>\n",
       "      <td>6.4</td>\n",
       "      <td>1.0</td>\n",
       "      <td>0.0</td>\n",
       "      <td>0.0</td>\n",
       "      <td>...</td>\n",
       "      <td>1</td>\n",
       "      <td>0</td>\n",
       "      <td>0</td>\n",
       "      <td>0</td>\n",
       "      <td>0</td>\n",
       "      <td>1</td>\n",
       "      <td>0</td>\n",
       "      <td>0</td>\n",
       "      <td>0</td>\n",
       "      <td>0</td>\n",
       "    </tr>\n",
       "    <tr>\n",
       "      <th>1038383</th>\n",
       "      <td>3.4</td>\n",
       "      <td>1974.0</td>\n",
       "      <td>100000.0</td>\n",
       "      <td>146164.0</td>\n",
       "      <td>1.0</td>\n",
       "      <td>0.0</td>\n",
       "      <td>28.0</td>\n",
       "      <td>1.0</td>\n",
       "      <td>0.0</td>\n",
       "      <td>0.0</td>\n",
       "      <td>...</td>\n",
       "      <td>1</td>\n",
       "      <td>0</td>\n",
       "      <td>0</td>\n",
       "      <td>0</td>\n",
       "      <td>0</td>\n",
       "      <td>1</td>\n",
       "      <td>0</td>\n",
       "      <td>0</td>\n",
       "      <td>0</td>\n",
       "      <td>0</td>\n",
       "    </tr>\n",
       "    <tr>\n",
       "      <th>1434153</th>\n",
       "      <td>0.0</td>\n",
       "      <td>0.0</td>\n",
       "      <td>10.0</td>\n",
       "      <td>11.0</td>\n",
       "      <td>1.0</td>\n",
       "      <td>0.0</td>\n",
       "      <td>3.5</td>\n",
       "      <td>1.0</td>\n",
       "      <td>0.0</td>\n",
       "      <td>0.0</td>\n",
       "      <td>...</td>\n",
       "      <td>1</td>\n",
       "      <td>0</td>\n",
       "      <td>0</td>\n",
       "      <td>0</td>\n",
       "      <td>0</td>\n",
       "      <td>1</td>\n",
       "      <td>0</td>\n",
       "      <td>0</td>\n",
       "      <td>0</td>\n",
       "      <td>0</td>\n",
       "    </tr>\n",
       "  </tbody>\n",
       "</table>\n",
       "<p>5 rows × 48 columns</p>\n",
       "</div>"
      ],
      "text/plain": [
       "         Rating  Rating Count  Minimum Installs  Maximum Installs  Free  \\\n",
       "2091952     0.0           0.0             100.0             173.0   1.0   \n",
       "1078145     3.3          36.0            5000.0            7805.0   1.0   \n",
       "2273313     0.0           0.0              10.0              47.0   1.0   \n",
       "1038383     3.4        1974.0          100000.0          146164.0   1.0   \n",
       "1434153     0.0           0.0              10.0              11.0   1.0   \n",
       "\n",
       "         Price  Size  Ad Supported  In App Purchases  Editors Choice  ...  \\\n",
       "2091952    0.0  28.0           0.0               0.0             0.0  ...   \n",
       "1078145    0.0   4.0           1.0               1.0             0.0  ...   \n",
       "2273313    0.0   6.4           1.0               0.0             0.0  ...   \n",
       "1038383    0.0  28.0           1.0               0.0             0.0  ...   \n",
       "1434153    0.0   3.5           1.0               0.0             0.0  ...   \n",
       "\n",
       "         Currency_USD  Currency_VND  Currency_XXX  Currency_ZAR  \\\n",
       "2091952             1             0             0             0   \n",
       "1078145             1             0             0             0   \n",
       "2273313             1             0             0             0   \n",
       "1038383             1             0             0             0   \n",
       "1434153             1             0             0             0   \n",
       "\n",
       "         Content Rating_Adults only 18+  Content Rating_Everyone  \\\n",
       "2091952                               0                        0   \n",
       "1078145                               0                        1   \n",
       "2273313                               0                        1   \n",
       "1038383                               0                        1   \n",
       "1434153                               0                        1   \n",
       "\n",
       "         Content Rating_Everyone 10+  Content Rating_Mature 17+  \\\n",
       "2091952                            0                          0   \n",
       "1078145                            0                          0   \n",
       "2273313                            0                          0   \n",
       "1038383                            0                          0   \n",
       "1434153                            0                          0   \n",
       "\n",
       "         Content Rating_Teen  Content Rating_Unrated  \n",
       "2091952                    1                       0  \n",
       "1078145                    0                       0  \n",
       "2273313                    0                       0  \n",
       "1038383                    0                       0  \n",
       "1434153                    0                       0  \n",
       "\n",
       "[5 rows x 48 columns]"
      ]
     },
     "execution_count": 15,
     "metadata": {},
     "output_type": "execute_result"
    }
   ],
   "source": [
    "X.head()"
   ]
  },
  {
   "cell_type": "code",
   "execution_count": 16,
   "id": "2cb8941b",
   "metadata": {},
   "outputs": [
    {
     "name": "stdout",
     "output_type": "stream",
     "text": [
      "X und y haben gleiche Anzahl: True\n"
     ]
    }
   ],
   "source": [
    "y = half_apps['Category'] #.copy()\n",
    "print(f\"X und y haben gleiche Anzahl: {X.shape[0] == y.shape[0]}\")"
   ]
  },
  {
   "cell_type": "code",
   "execution_count": 17,
   "id": "0e8433bd",
   "metadata": {},
   "outputs": [],
   "source": [
    "label_encoder = LabelEncoder()"
   ]
  },
  {
   "cell_type": "code",
   "execution_count": 18,
   "id": "3ea95f90",
   "metadata": {},
   "outputs": [],
   "source": [
    "y = label_encoder.fit_transform(y) # macht alles zu 0, 1, 2, 3 ..."
   ]
  },
  {
   "cell_type": "code",
   "execution_count": 19,
   "id": "be4808e7",
   "metadata": {},
   "outputs": [],
   "source": [
    "# Daten in Trainings- und Test aufteilen\n",
    "X_train, X_test1, y_train, y_test1 = train_test_split(X, y, test_size=0.2, random_state=42, stratify=y)\n",
    "\n",
    "# Testdaten in Entwicklung und echten Test aufteilen (50-50, stratifiziert)\n",
    "X_dev, X_test, y_dev, y_test = train_test_split(X_test1, y_test1, test_size=0.5, stratify=y_test1, random_state=42)"
   ]
  },
  {
   "cell_type": "markdown",
   "id": "c10bc23a-4c84-4dad-be66-2006ed05374e",
   "metadata": {},
   "source": [
    "- alles manuell statt gridsearch durchführen\n",
    "- also 2x feature selection jeweilis mit None und mean, dann innerhalb dieser zwei feature selection jeweils test und traindaten auswerten --> In Summe 4 Ergebnisse\n",
    "- also 2x classifier jeweilis mit linear und rbf, dann innerhalb dieser zwei classifier jeweils test und traindaten auswerten --> In Summe 4 Ergebnisse"
   ]
  },
  {
   "cell_type": "markdown",
   "id": "4b79fe1d-d9db-435c-9f14-c9dcd2a2487b",
   "metadata": {},
   "source": [
    "### Vorhersagen auf den Trainingsdaten"
   ]
  },
  {
   "cell_type": "code",
   "execution_count": 21,
   "id": "2f66ed47-73b4-4b73-b4dc-aacfefa8cb74",
   "metadata": {},
   "outputs": [
    {
     "name": "stderr",
     "output_type": "stream",
     "text": [
      "/home/user/.local/lib/python3.8/site-packages/sklearn/svm/_base.py:1206: ConvergenceWarning: Liblinear failed to converge, increase the number of iterations.\n",
      "  warnings.warn(\n"
     ]
    },
    {
     "name": "stdout",
     "output_type": "stream",
     "text": [
      "              precision    recall  f1-score   support\n",
      "\n",
      "           0       0.00      0.00      0.00        63\n",
      "           1       0.00      0.00      0.00        35\n",
      "           2       0.00      0.00      0.00        38\n",
      "           3       0.00      0.00      0.00        28\n",
      "           4       0.00      0.00      0.00       322\n",
      "           5       0.00      0.00      0.00       387\n",
      "           6       0.00      0.00      0.00        19\n",
      "           7       0.25      0.02      0.04       128\n",
      "           8       0.00      0.00      0.00       102\n",
      "           9       0.12      1.00      0.22       615\n",
      "          10       0.30      0.01      0.02       338\n",
      "          11       0.00      0.00      0.00        33\n",
      "          12       0.00      0.00      0.00       154\n",
      "          13       0.00      0.00      0.00       182\n",
      "          14       0.00      0.00      0.00       210\n",
      "          15       0.00      0.00      0.00        31\n",
      "          16       0.00      0.00      0.00        12\n",
      "          17       1.00      0.00      0.01       315\n",
      "          18       0.00      0.00      0.00        76\n",
      "          19       0.00      0.00      0.00        79\n",
      "          20       0.00      0.00      0.00        14\n",
      "          21       0.00      0.00      0.00       399\n",
      "          22       0.00      0.00      0.00       100\n",
      "          23       0.00      0.00      0.00         8\n",
      "          24       0.00      0.00      0.00       209\n",
      "          25       0.00      0.00      0.00        91\n",
      "          26       0.00      0.00      0.00       178\n",
      "          27       0.12      0.02      0.04        49\n",
      "          28       1.00      0.01      0.02       100\n",
      "          29       0.00      0.00      0.00       117\n",
      "          30       1.00      0.07      0.13        14\n",
      "          31       1.00      0.00      0.01       351\n",
      "          32       0.00      0.00      0.00       157\n",
      "          33       0.00      0.00      0.00        24\n",
      "          34       0.00      0.00      0.00        22\n",
      "\n",
      "    accuracy                           0.13      5000\n",
      "   macro avg       0.14      0.03      0.01      5000\n",
      "weighted avg       0.20      0.13      0.03      5000\n",
      "\n"
     ]
    },
    {
     "name": "stderr",
     "output_type": "stream",
     "text": [
      "/home/user/.local/lib/python3.8/site-packages/sklearn/metrics/_classification.py:1308: UndefinedMetricWarning: Precision and F-score are ill-defined and being set to 0.0 in labels with no predicted samples. Use `zero_division` parameter to control this behavior.\n",
      "  _warn_prf(average, modifier, msg_start, len(result))\n",
      "/home/user/.local/lib/python3.8/site-packages/sklearn/metrics/_classification.py:1308: UndefinedMetricWarning: Precision and F-score are ill-defined and being set to 0.0 in labels with no predicted samples. Use `zero_division` parameter to control this behavior.\n",
      "  _warn_prf(average, modifier, msg_start, len(result))\n",
      "/home/user/.local/lib/python3.8/site-packages/sklearn/metrics/_classification.py:1308: UndefinedMetricWarning: Precision and F-score are ill-defined and being set to 0.0 in labels with no predicted samples. Use `zero_division` parameter to control this behavior.\n",
      "  _warn_prf(average, modifier, msg_start, len(result))\n"
     ]
    }
   ],
   "source": [
    "# Parameter des Algorithmus setzen\n",
    "# Mit SelectFromModel-Parameter threshold=None und SVC-Parameter kernel=rbf --> alles default-Werte\n",
    "\n",
    "pipeline1 = Pipeline(steps=[\n",
    "                ('feature_selection',\n",
    "                 SelectFromModel(estimator=LinearSVC(dual=False,\n",
    "                                                     penalty='l1'))),\n",
    "                ('classifier', SVC(kernel='rbf'))])\n",
    "\n",
    "pipeline1.fit(X_train[:5000], y_train[:5000])\n",
    "\n",
    "train_labels1 = pipeline1.predict(X_train[:5000])\n",
    "      \n",
    "print(classification_report(y_train[:5000], train_labels1[:5000]))"
   ]
  },
  {
   "cell_type": "code",
   "execution_count": 22,
   "id": "3fbcc675-223b-43e8-8d4f-105683b62332",
   "metadata": {},
   "outputs": [
    {
     "name": "stderr",
     "output_type": "stream",
     "text": [
      "/home/user/.local/lib/python3.8/site-packages/sklearn/svm/_base.py:1206: ConvergenceWarning: Liblinear failed to converge, increase the number of iterations.\n",
      "  warnings.warn(\n"
     ]
    },
    {
     "name": "stdout",
     "output_type": "stream",
     "text": [
      "              precision    recall  f1-score   support\n",
      "\n",
      "           0       0.00      0.00      0.00        63\n",
      "           1       0.00      0.00      0.00        35\n",
      "           2       0.00      0.00      0.00        38\n",
      "           3       0.00      0.00      0.00        28\n",
      "           4       0.14      0.08      0.10       322\n",
      "           5       0.15      0.82      0.25       387\n",
      "           6       0.00      0.00      0.00        19\n",
      "           7       0.33      0.03      0.06       128\n",
      "           8       0.00      0.00      0.00       102\n",
      "           9       0.14      0.45      0.21       615\n",
      "          10       0.42      0.01      0.03       338\n",
      "          11       0.00      0.00      0.00        33\n",
      "          12       0.00      0.00      0.00       154\n",
      "          13       0.00      0.00      0.00       182\n",
      "          14       0.00      0.00      0.00       210\n",
      "          15       0.00      0.00      0.00        31\n",
      "          16       0.00      0.00      0.00        12\n",
      "          17       0.00      0.00      0.00       315\n",
      "          18       0.00      0.00      0.00        76\n",
      "          19       0.00      0.00      0.00        79\n",
      "          20       0.00      0.00      0.00        14\n",
      "          21       0.36      0.24      0.29       399\n",
      "          22       0.26      0.14      0.18       100\n",
      "          23       0.00      0.00      0.00         8\n",
      "          24       0.24      0.02      0.04       209\n",
      "          25       0.00      0.00      0.00        91\n",
      "          26       1.00      0.01      0.01       178\n",
      "          27       0.14      0.02      0.04        49\n",
      "          28       0.27      0.46      0.34       100\n",
      "          29       1.00      0.03      0.05       117\n",
      "          30       0.00      0.00      0.00        14\n",
      "          31       0.18      0.03      0.06       351\n",
      "          32       0.00      0.00      0.00       157\n",
      "          33       0.00      0.00      0.00        24\n",
      "          34       0.00      0.00      0.00        22\n",
      "\n",
      "    accuracy                           0.16      5000\n",
      "   macro avg       0.13      0.07      0.05      5000\n",
      "weighted avg       0.20      0.16      0.10      5000\n",
      "\n"
     ]
    },
    {
     "name": "stderr",
     "output_type": "stream",
     "text": [
      "/home/user/.local/lib/python3.8/site-packages/sklearn/metrics/_classification.py:1308: UndefinedMetricWarning: Precision and F-score are ill-defined and being set to 0.0 in labels with no predicted samples. Use `zero_division` parameter to control this behavior.\n",
      "  _warn_prf(average, modifier, msg_start, len(result))\n",
      "/home/user/.local/lib/python3.8/site-packages/sklearn/metrics/_classification.py:1308: UndefinedMetricWarning: Precision and F-score are ill-defined and being set to 0.0 in labels with no predicted samples. Use `zero_division` parameter to control this behavior.\n",
      "  _warn_prf(average, modifier, msg_start, len(result))\n",
      "/home/user/.local/lib/python3.8/site-packages/sklearn/metrics/_classification.py:1308: UndefinedMetricWarning: Precision and F-score are ill-defined and being set to 0.0 in labels with no predicted samples. Use `zero_division` parameter to control this behavior.\n",
      "  _warn_prf(average, modifier, msg_start, len(result))\n"
     ]
    }
   ],
   "source": [
    "# Parameter des Algorithmus setzen\n",
    "# Mit SelectFromModel-Parameter threshold='mean' und SVC-Parameter kernel=rbf\n",
    "\n",
    "pipeline2 = Pipeline(steps=[\n",
    "                ('feature_selection',\n",
    "                 SelectFromModel(estimator=LinearSVC(dual=False,\n",
    "                                                     penalty='l1'), threshold='mean')),\n",
    "                ('classifier', SVC())])\n",
    "\n",
    "pipeline2.fit(X_train[:5000], y_train[:5000])\n",
    "\n",
    "train_labels2 = pipeline2.predict(X_train[:5000])\n",
    "      \n",
    "print(classification_report(y_train[:5000], train_labels2[:5000]))"
   ]
  },
  {
   "cell_type": "code",
   "execution_count": 23,
   "id": "5208f4c8-6abd-4ad4-aa1f-6d31025ecfc7",
   "metadata": {},
   "outputs": [
    {
     "name": "stderr",
     "output_type": "stream",
     "text": [
      "/home/user/.local/lib/python3.8/site-packages/sklearn/svm/_base.py:1206: ConvergenceWarning: Liblinear failed to converge, increase the number of iterations.\n",
      "  warnings.warn(\n"
     ]
    },
    {
     "name": "stdout",
     "output_type": "stream",
     "text": [
      "              precision    recall  f1-score   support\n",
      "\n",
      "           0       0.25      0.02      0.03        63\n",
      "           1       0.00      0.00      0.00        35\n",
      "           2       0.00      0.00      0.00        38\n",
      "           3       0.00      0.00      0.00        28\n",
      "           4       0.12      0.06      0.08       322\n",
      "           5       0.15      0.81      0.25       387\n",
      "           6       0.00      0.00      0.00        19\n",
      "           7       0.29      0.02      0.03       128\n",
      "           8       0.00      0.00      0.00       102\n",
      "           9       0.13      0.44      0.21       615\n",
      "          10       0.33      0.02      0.03       338\n",
      "          11       0.00      0.00      0.00        33\n",
      "          12       0.50      0.01      0.03       154\n",
      "          13       0.00      0.00      0.00       182\n",
      "          14       0.00      0.00      0.00       210\n",
      "          15       0.00      0.00      0.00        31\n",
      "          16       0.00      0.00      0.00        12\n",
      "          17       0.09      0.02      0.03       315\n",
      "          18       0.00      0.00      0.00        76\n",
      "          19       0.00      0.00      0.00        79\n",
      "          20       0.00      0.00      0.00        14\n",
      "          21       0.36      0.23      0.28       399\n",
      "          22       0.23      0.11      0.15       100\n",
      "          23       0.00      0.00      0.00         8\n",
      "          24       0.20      0.02      0.03       209\n",
      "          25       0.00      0.00      0.00        91\n",
      "          26       0.00      0.00      0.00       178\n",
      "          27       0.18      0.08      0.11        49\n",
      "          28       0.25      0.47      0.33       100\n",
      "          29       0.56      0.04      0.08       117\n",
      "          30       0.00      0.00      0.00        14\n",
      "          31       0.22      0.03      0.05       351\n",
      "          32       0.00      0.00      0.00       157\n",
      "          33       0.00      0.00      0.00        24\n",
      "          34       0.00      0.00      0.00        22\n",
      "\n",
      "    accuracy                           0.16      5000\n",
      "   macro avg       0.11      0.07      0.05      5000\n",
      "weighted avg       0.17      0.16      0.10      5000\n",
      "\n"
     ]
    },
    {
     "name": "stderr",
     "output_type": "stream",
     "text": [
      "/home/user/.local/lib/python3.8/site-packages/sklearn/metrics/_classification.py:1308: UndefinedMetricWarning: Precision and F-score are ill-defined and being set to 0.0 in labels with no predicted samples. Use `zero_division` parameter to control this behavior.\n",
      "  _warn_prf(average, modifier, msg_start, len(result))\n",
      "/home/user/.local/lib/python3.8/site-packages/sklearn/metrics/_classification.py:1308: UndefinedMetricWarning: Precision and F-score are ill-defined and being set to 0.0 in labels with no predicted samples. Use `zero_division` parameter to control this behavior.\n",
      "  _warn_prf(average, modifier, msg_start, len(result))\n",
      "/home/user/.local/lib/python3.8/site-packages/sklearn/metrics/_classification.py:1308: UndefinedMetricWarning: Precision and F-score are ill-defined and being set to 0.0 in labels with no predicted samples. Use `zero_division` parameter to control this behavior.\n",
      "  _warn_prf(average, modifier, msg_start, len(result))\n"
     ]
    }
   ],
   "source": [
    "# Parameter des Algorithmus setzen\n",
    "# Mit SelectFromModel-Parameter threshold='mean' und SVC-Parameter kernel='linear'\n",
    "\n",
    "pipeline3 = Pipeline(steps=[\n",
    "                ('feature_selection',\n",
    "                 SelectFromModel(estimator=LinearSVC(dual=False,\n",
    "                                                     penalty='l1'), threshold='mean')),\n",
    "                ('classifier', SVC(kernel='linear'))])\n",
    "\n",
    "pipeline3.fit(X_train[:5000], y_train[:5000])\n",
    "\n",
    "train_labels3 = pipeline3.predict(X_train[:5000])\n",
    "      \n",
    "print(classification_report(y_train[:5000], train_labels3[:5000]))"
   ]
  },
  {
   "cell_type": "code",
   "execution_count": null,
   "id": "4339c253-312d-4931-a1fd-f505c66d0ba0",
   "metadata": {},
   "outputs": [
    {
     "name": "stderr",
     "output_type": "stream",
     "text": [
      "/home/user/.local/lib/python3.8/site-packages/sklearn/svm/_base.py:1206: ConvergenceWarning: Liblinear failed to converge, increase the number of iterations.\n",
      "  warnings.warn(\n"
     ]
    }
   ],
   "source": [
    "# Parameter des Algorithmus setzen\n",
    "# Mit SelectFromModel-Parameter threshold=None und SVC-Parameter kernel='linear' \n",
    "# Abbruch (nach 30 min) dieses Szenarios, aufgrund von zu langer Auswertung \n",
    "pipeline4 = Pipeline(steps=[\n",
    "                ('feature_selection',\n",
    "                 SelectFromModel(estimator=LinearSVC(dual=False,\n",
    "                                                     penalty='l1'), threshold=None)),\n",
    "                ('classifier', SVC(kernel='linear'))])\n",
    "\n",
    "pipeline4.fit(X_train[:5000], y_train[:5000])\n",
    "\n",
    "train_labels4 = pipeline4.predict(X_train[:5000])\n",
    "      de\n",
    "print(classification_report(y_train[:5000], train_labels4[:5000]))"
   ]
  },
  {
   "cell_type": "markdown",
   "id": "2b9930da-0e8a-4946-b693-83c83b199b6b",
   "metadata": {},
   "source": [
    "### Vorhersage auf den Entwicklungsdaten --> X_dev"
   ]
  },
  {
   "cell_type": "code",
   "execution_count": 24,
   "id": "4e0b0556-8b65-4d06-8010-6ce79b199ea3",
   "metadata": {},
   "outputs": [
    {
     "name": "stderr",
     "output_type": "stream",
     "text": [
      "/home/user/.local/lib/python3.8/site-packages/sklearn/svm/_base.py:1206: ConvergenceWarning: Liblinear failed to converge, increase the number of iterations.\n",
      "  warnings.warn(\n"
     ]
    },
    {
     "name": "stdout",
     "output_type": "stream",
     "text": [
      "Default-Score des Klassifizierers: Accuracy= 0.14556192995678052 \n",
      "\n",
      "              precision    recall  f1-score   support\n",
      "\n",
      "           0       0.00      0.00      0.00      1131\n",
      "           1       0.00      0.00      0.00       907\n",
      "           2       0.00      0.00      0.00       854\n",
      "           3       0.00      0.00      0.00       506\n",
      "           4       0.08      0.05      0.06      5768\n",
      "           5       0.14      0.82      0.23      6843\n",
      "           6       0.00      0.00      0.00       401\n",
      "           7       0.16      0.01      0.02      2437\n",
      "           8       0.00      0.00      0.00      2309\n",
      "           9       0.13      0.43      0.20     11821\n",
      "          10       0.14      0.00      0.01      6792\n",
      "          11       0.00      0.00      0.00       616\n",
      "          12       0.00      0.00      0.00      3112\n",
      "          13       0.00      0.00      0.00      3564\n",
      "          14       0.00      0.00      0.00      4049\n",
      "          15       0.00      0.00      0.00       679\n",
      "          16       0.00      0.00      0.00       236\n",
      "          17       0.10      0.00      0.00      5757\n",
      "          18       0.00      0.00      0.00      1251\n",
      "          19       0.00      0.00      0.00      1518\n",
      "          20       0.00      0.00      0.00       202\n",
      "          21       0.34      0.26      0.29      7652\n",
      "          22       0.15      0.08      0.11      2091\n",
      "          23       0.00      0.00      0.00       175\n",
      "          24       0.10      0.01      0.01      4466\n",
      "          25       0.00      0.00      0.00      1752\n",
      "          26       0.07      0.00      0.00      3776\n",
      "          27       0.17      0.03      0.05      1110\n",
      "          28       0.25      0.39      0.30      2150\n",
      "          29       0.03      0.00      0.00      2281\n",
      "          30       0.00      0.00      0.00       399\n",
      "          31       0.13      0.02      0.04      6914\n",
      "          32       0.00      0.00      0.00      3232\n",
      "          33       0.00      0.00      0.00       349\n",
      "          34       0.00      0.00      0.00       425\n",
      "\n",
      "    accuracy                           0.15     97525\n",
      "   macro avg       0.06      0.06      0.04     97525\n",
      "weighted avg       0.10      0.15      0.08     97525\n",
      "\n"
     ]
    },
    {
     "name": "stderr",
     "output_type": "stream",
     "text": [
      "/home/user/.local/lib/python3.8/site-packages/sklearn/metrics/_classification.py:1308: UndefinedMetricWarning: Precision and F-score are ill-defined and being set to 0.0 in labels with no predicted samples. Use `zero_division` parameter to control this behavior.\n",
      "  _warn_prf(average, modifier, msg_start, len(result))\n",
      "/home/user/.local/lib/python3.8/site-packages/sklearn/metrics/_classification.py:1308: UndefinedMetricWarning: Precision and F-score are ill-defined and being set to 0.0 in labels with no predicted samples. Use `zero_division` parameter to control this behavior.\n",
      "  _warn_prf(average, modifier, msg_start, len(result))\n",
      "/home/user/.local/lib/python3.8/site-packages/sklearn/metrics/_classification.py:1308: UndefinedMetricWarning: Precision and F-score are ill-defined and being set to 0.0 in labels with no predicted samples. Use `zero_division` parameter to control this behavior.\n",
      "  _warn_prf(average, modifier, msg_start, len(result))\n"
     ]
    }
   ],
   "source": [
    "# Parameter des Algorithmus setzen\n",
    "# Mit SelectFromModel-Parameter threshold='mean' und SVC-Parameter kernel=rbf \n",
    "\n",
    "pipeline5 = Pipeline(steps=[\n",
    "                ('feature_selection',\n",
    "                 SelectFromModel(estimator=LinearSVC(dual=False,\n",
    "                                                     penalty='l1'), threshold='mean')),\n",
    "                ('classifier', SVC())])\n",
    "\n",
    "pipeline5.fit(X_train[:5000], y_train[:5000])\n",
    "\n",
    "print(\"Default-Score des Klassifizierers: Accuracy=\",pipeline5.score(X_test1, y_test1), \"\\n\")\n",
    "\n",
    "train_labels5 = pipeline5.predict(X_dev)\n",
    "      \n",
    "print(classification_report(y_dev, train_labels5))"
   ]
  },
  {
   "cell_type": "code",
   "execution_count": 25,
   "id": "68ba8119-2716-4a83-a753-a06776c5825f",
   "metadata": {},
   "outputs": [
    {
     "name": "stderr",
     "output_type": "stream",
     "text": [
      "/home/user/.local/lib/python3.8/site-packages/sklearn/svm/_base.py:1206: ConvergenceWarning: Liblinear failed to converge, increase the number of iterations.\n",
      "  warnings.warn(\n"
     ]
    },
    {
     "name": "stdout",
     "output_type": "stream",
     "text": [
      "Default-Score des Klassifizierers: Accuracy= 0.1214349067679735 \n",
      "\n",
      "              precision    recall  f1-score   support\n",
      "\n",
      "           0       0.00      0.00      0.00      1131\n",
      "           1       0.00      0.00      0.00       907\n",
      "           2       0.00      0.00      0.00       854\n",
      "           3       0.00      0.00      0.00       506\n",
      "           4       0.00      0.00      0.00      5768\n",
      "           5       0.00      0.00      0.00      6843\n",
      "           6       0.00      0.00      0.00       401\n",
      "           7       0.06      0.00      0.00      2437\n",
      "           8       0.00      0.00      0.00      2309\n",
      "           9       0.12      1.00      0.22     11821\n",
      "          10       0.06      0.00      0.01      6792\n",
      "          11       0.00      0.00      0.00       616\n",
      "          12       0.00      0.00      0.00      3112\n",
      "          13       0.00      0.00      0.00      3564\n",
      "          14       0.00      0.00      0.00      4049\n",
      "          15       0.00      0.00      0.00       679\n",
      "          16       0.00      0.00      0.00       236\n",
      "          17       0.05      0.00      0.00      5757\n",
      "          18       0.00      0.00      0.00      1251\n",
      "          19       0.00      0.00      0.00      1518\n",
      "          20       0.00      0.00      0.00       202\n",
      "          21       0.00      0.00      0.00      7652\n",
      "          22       0.00      0.00      0.00      2091\n",
      "          23       0.00      0.00      0.00       175\n",
      "          24       0.00      0.00      0.00      4466\n",
      "          25       0.00      0.00      0.00      1752\n",
      "          26       0.00      0.00      0.00      3776\n",
      "          27       0.15      0.01      0.03      1110\n",
      "          28       0.00      0.00      0.00      2150\n",
      "          29       0.09      0.00      0.00      2281\n",
      "          30       0.00      0.00      0.00       399\n",
      "          31       0.50      0.00      0.00      6914\n",
      "          32       0.00      0.00      0.00      3232\n",
      "          33       0.00      0.00      0.00       349\n",
      "          34       0.00      0.00      0.00       425\n",
      "\n",
      "    accuracy                           0.12     97525\n",
      "   macro avg       0.03      0.03      0.01     97525\n",
      "weighted avg       0.06      0.12      0.03     97525\n",
      "\n"
     ]
    },
    {
     "name": "stderr",
     "output_type": "stream",
     "text": [
      "/home/user/.local/lib/python3.8/site-packages/sklearn/metrics/_classification.py:1308: UndefinedMetricWarning: Precision and F-score are ill-defined and being set to 0.0 in labels with no predicted samples. Use `zero_division` parameter to control this behavior.\n",
      "  _warn_prf(average, modifier, msg_start, len(result))\n",
      "/home/user/.local/lib/python3.8/site-packages/sklearn/metrics/_classification.py:1308: UndefinedMetricWarning: Precision and F-score are ill-defined and being set to 0.0 in labels with no predicted samples. Use `zero_division` parameter to control this behavior.\n",
      "  _warn_prf(average, modifier, msg_start, len(result))\n",
      "/home/user/.local/lib/python3.8/site-packages/sklearn/metrics/_classification.py:1308: UndefinedMetricWarning: Precision and F-score are ill-defined and being set to 0.0 in labels with no predicted samples. Use `zero_division` parameter to control this behavior.\n",
      "  _warn_prf(average, modifier, msg_start, len(result))\n"
     ]
    }
   ],
   "source": [
    "# Parameter des Algorithmus setzen\n",
    "# Mit SelectFromModel-Parameter threshold=None und SVC-Parameter kernel=rbf --> alles default-Werte\n",
    "\n",
    "pipeline6 = Pipeline(steps=[\n",
    "                ('feature_selection',\n",
    "                 SelectFromModel(estimator=LinearSVC(dual=False,\n",
    "                                                     penalty='l1'))),\n",
    "                ('classifier', SVC(kernel='rbf'))])\n",
    "\n",
    "pipeline6.fit(X_train[:5000], y_train[:5000])\n",
    "\n",
    "print(\"Default-Score des Klassifizierers: Accuracy=\",pipeline6.score(X_test1, y_test1), \"\\n\")\n",
    "\n",
    "train_labels6 = pipeline6.predict(X_dev)\n",
    "      \n",
    "print(classification_report(y_dev, train_labels6))"
   ]
  },
  {
   "cell_type": "code",
   "execution_count": 26,
   "id": "cf5df458-9d1b-4897-aa6f-79d059f7332f",
   "metadata": {},
   "outputs": [
    {
     "name": "stderr",
     "output_type": "stream",
     "text": [
      "/home/user/.local/lib/python3.8/site-packages/sklearn/svm/_base.py:1206: ConvergenceWarning: Liblinear failed to converge, increase the number of iterations.\n",
      "  warnings.warn(\n"
     ]
    },
    {
     "name": "stdout",
     "output_type": "stream",
     "text": [
      "Default-Score des Klassifizierers: Accuracy= 0.1455773105495486 \n",
      "\n",
      "              precision    recall  f1-score   support\n",
      "\n",
      "           0       0.14      0.01      0.02      1131\n",
      "           1       0.00      0.00      0.00       907\n",
      "           2       0.00      0.00      0.00       854\n",
      "           3       0.00      0.00      0.00       506\n",
      "           4       0.08      0.04      0.05      5768\n",
      "           5       0.14      0.82      0.23      6843\n",
      "           6       0.00      0.00      0.00       401\n",
      "           7       0.16      0.00      0.01      2437\n",
      "           8       0.02      0.00      0.00      2309\n",
      "           9       0.13      0.43      0.20     11821\n",
      "          10       0.16      0.01      0.01      6792\n",
      "          11       0.00      0.00      0.00       616\n",
      "          12       0.19      0.00      0.00      3112\n",
      "          13       0.00      0.00      0.00      3564\n",
      "          14       0.00      0.00      0.00      4049\n",
      "          15       0.00      0.00      0.00       679\n",
      "          16       0.00      0.00      0.00       236\n",
      "          17       0.07      0.01      0.02      5757\n",
      "          18       0.00      0.00      0.00      1251\n",
      "          19       0.00      0.00      0.00      1518\n",
      "          20       0.00      0.00      0.00       202\n",
      "          21       0.35      0.26      0.30      7652\n",
      "          22       0.17      0.08      0.11      2091\n",
      "          23       0.00      0.00      0.00       175\n",
      "          24       0.13      0.01      0.02      4466\n",
      "          25       0.00      0.00      0.00      1752\n",
      "          26       0.00      0.00      0.00      3776\n",
      "          27       0.15      0.05      0.08      1110\n",
      "          28       0.23      0.39      0.29      2150\n",
      "          29       0.05      0.00      0.01      2281\n",
      "          30       0.00      0.00      0.00       399\n",
      "          31       0.11      0.01      0.02      6914\n",
      "          32       0.00      0.00      0.00      3232\n",
      "          33       0.00      0.00      0.00       349\n",
      "          34       0.00      0.00      0.00       425\n",
      "\n",
      "    accuracy                           0.15     97525\n",
      "   macro avg       0.06      0.06      0.04     97525\n",
      "weighted avg       0.11      0.15      0.08     97525\n",
      "\n"
     ]
    },
    {
     "name": "stderr",
     "output_type": "stream",
     "text": [
      "/home/user/.local/lib/python3.8/site-packages/sklearn/metrics/_classification.py:1308: UndefinedMetricWarning: Precision and F-score are ill-defined and being set to 0.0 in labels with no predicted samples. Use `zero_division` parameter to control this behavior.\n",
      "  _warn_prf(average, modifier, msg_start, len(result))\n",
      "/home/user/.local/lib/python3.8/site-packages/sklearn/metrics/_classification.py:1308: UndefinedMetricWarning: Precision and F-score are ill-defined and being set to 0.0 in labels with no predicted samples. Use `zero_division` parameter to control this behavior.\n",
      "  _warn_prf(average, modifier, msg_start, len(result))\n",
      "/home/user/.local/lib/python3.8/site-packages/sklearn/metrics/_classification.py:1308: UndefinedMetricWarning: Precision and F-score are ill-defined and being set to 0.0 in labels with no predicted samples. Use `zero_division` parameter to control this behavior.\n",
      "  _warn_prf(average, modifier, msg_start, len(result))\n"
     ]
    }
   ],
   "source": [
    "# Parameter des Algorithmus setzen\n",
    "# Mit SelectFromModel-Parameter threshold='mean' und SVC-Parameter kernel='linear' \n",
    "\n",
    "pipeline7 = Pipeline(steps=[\n",
    "                ('feature_selection',\n",
    "                 SelectFromModel(estimator=LinearSVC(dual=False,\n",
    "                                                     penalty='l1'), threshold='mean')),\n",
    "                ('classifier', SVC(kernel='linear'))])\n",
    "\n",
    "pipeline7.fit(X_train[:5000], y_train[:5000])\n",
    "\n",
    "print(\"Default-Score des Klassifizierers: Accuracy=\",pipeline7.score(X_test1, y_test1), \"\\n\")\n",
    "\n",
    "train_labels7 = pipeline7.predict(X_dev)\n",
    "      \n",
    "print(classification_report(y_dev, train_labels7))"
   ]
  },
  {
   "cell_type": "code",
   "execution_count": null,
   "id": "b9c35221-02a8-4fa1-aa24-0ec4c5460305",
   "metadata": {},
   "outputs": [
    {
     "name": "stderr",
     "output_type": "stream",
     "text": [
      "/home/user/.local/lib/python3.8/site-packages/sklearn/svm/_base.py:1206: ConvergenceWarning: Liblinear failed to converge, increase the number of iterations.\n",
      "  warnings.warn(\n"
     ]
    }
   ],
   "source": [
    "# Parameter des Algorithmus setzen\n",
    "# Mit SelectFromModel-Parameter threshold=None und SVC-Parameter kernel='linear'\n",
    "# Abbruch (nach 30 min) dieses Szenarios, aufgrund von zu langer Auswertung \n",
    "pipeline8 = Pipeline(steps=[\n",
    "                ('feature_selection',\n",
    "                 SelectFromModel(estimator=LinearSVC(dual=False,\n",
    "                                                     penalty='l1'), threshold=None)),\n",
    "                ('classifier', SVC(kernel='linear'))])\n",
    "\n",
    "pipeline8.fit(X_train[:5000], y_train[:5000])\n",
    "\n",
    "print(\"Default-Score des Klassifizierers: Accuracy=\",pipeline8.score(X_test1, y_test1), \"\\n\")\n",
    "\n",
    "train_labels8 = pipeline8.predict(X_dev)\n",
    "      \n",
    "print(classification_report(y_dev, train_labels8))"
   ]
  },
  {
   "cell_type": "markdown",
   "id": "a25b2220-b561-4692-bc37-ae30aa84a03e",
   "metadata": {},
   "source": [
    "### Auswertung Trainings- vs. Testdaten\n",
    "- grundsätzlich haben die Trainingsdaten eine höhere Accuracy als die Entwicklungs- bzw. Testdaten\n",
    "- bei den Vorhersagen auf den Trainings- und Testdaten schneiden die Werte jeweils dem SelectFromModel-Parameter threshold='mean' besser als also bei threshold=None\n",
    "- mit den Parametern Threshold='mean' und kernel='linear' jedoch noch besser als mit kernel='rbf' (bei den Vorhersagen auf den Testdaten)\n",
    "----\n",
    "Trotz zufälliger Halbierung des Datensatzes, Eliminierung von NaN-Werten und Eingrenzung der Zielklassen, können aufgrund der zahlreichen Datensätze keine Schlüsse gezogen werden. Die Accuracy liegt bei allen Vorhersagen recht niedrig, da bei vielen Zielklassen die Precision und F-score `0.0` bewertet wurden, da zu den jeweiligen Zielklassen keine aussagekräftigen Trainings- oder Testdaten zugeordnet werden konnten."
   ]
  },
  {
   "cell_type": "code",
   "execution_count": null,
   "id": "e36ac7d2-954c-4338-9fa1-ed4731a32585",
   "metadata": {},
   "outputs": [],
   "source": []
  }
 ],
 "metadata": {
  "kernelspec": {
   "display_name": "Python 3 (ipykernel)",
   "language": "python",
   "name": "python3"
  },
  "language_info": {
   "codemirror_mode": {
    "name": "ipython",
    "version": 3
   },
   "file_extension": ".py",
   "mimetype": "text/x-python",
   "name": "python",
   "nbconvert_exporter": "python",
   "pygments_lexer": "ipython3",
   "version": "3.8.10"
  }
 },
 "nbformat": 4,
 "nbformat_minor": 5
}
