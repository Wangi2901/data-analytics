{
 "cells": [
  {
   "cell_type": "markdown",
   "id": "bb112475",
   "metadata": {},
   "source": [
    "# 6. Klassifikation - Modeling\n",
    "#### Überwachtes Klassifikationsverfahren\n",
    "## Anforderungen an Projektumsetzung: Klassifikation"
   ]
  },
  {
   "cell_type": "markdown",
   "id": "209840c1",
   "metadata": {},
   "source": [
    "---\n",
    "**AUFGABE:**\n",
    "\n",
    "- Führen Sie mit dem Algorithmus Ihrer Wahl eine Klassifikationsaufgabe auf Ihren Daten durch.\n",
    "- Teilen Sie dazu zunächst die Daten auf, um Overfitting beim Trainieren des Algorithmus und bei der Parameterauswahl zu vermeiden. Erklären Sie die gewählte Strategie und die Größenverhältnisse.\n",
    "- Wählen Sie geeignete Features aus und setzen Sie die Parameter des Algorithmus. Beschreiben Sie das gewälhte Vorgehen für die Auswahl der Features und Parameter. Berichten Sie den Parameterraum und die final gewählten Parameter. Geben Sie die Performanz auf den Trainingsdaten (bzw. Entwicklungsdaten, falls verwendet) an.\n",
    "- Evaluieren Sie die Klassifikation auf den ungesehenen Testdaten. Betrachten Sie Precision und Recall sowie den F-Wert. Welches Maß ist für Ihre Anwendung wichtiger? Bewerten Sie Ihr Ergebnis. Ist es in der Praxis voraussichtlich zufriedenstellend?"
   ]
  },
  {
   "cell_type": "code",
   "execution_count": 1,
   "id": "b9f6cfe8",
   "metadata": {},
   "outputs": [],
   "source": [
    "# Imports für unten\n",
    "\n",
    "from sklearn.model_selection import train_test_split\n",
    "from sklearn.feature_extraction.text import TfidfVectorizer\n",
    "from sklearn.feature_selection import SelectFromModel\n",
    "from sklearn.svm import LinearSVC\n",
    "from sklearn.pipeline import Pipeline\n",
    "from sklearn.svm import SVC\n",
    "from sklearn.model_selection import GridSearchCV\n",
    "from sklearn.metrics import classification_report, confusion_matrix\n",
    "from sklearn.model_selection import cross_val_predict\n",
    "from sklearn.preprocessing import LabelEncoder\n",
    "from sklearn.neighbors import KNeighborsClassifier\n",
    "from sklearn.ensemble import RandomForestClassifier\n",
    "import pandas as pd"
   ]
  },
  {
   "cell_type": "code",
   "execution_count": 2,
   "id": "858bdb16",
   "metadata": {},
   "outputs": [],
   "source": [
    "apps = pd.read_csv(\"Daten/Google-Playstore_Edit2.csv\")"
   ]
  },
  {
   "cell_type": "code",
   "execution_count": null,
   "id": "7b205c6b-e7b6-487c-924d-74e2adf9c68b",
   "metadata": {},
   "outputs": [],
   "source": []
  },
  {
   "cell_type": "code",
   "execution_count": 3,
   "id": "2aeb9b71-ab9e-4efe-bc08-fea5697ac2e6",
   "metadata": {
    "tags": []
   },
   "outputs": [],
   "source": [
    "# alle Kategorien löschen, die für uns als Unternehmen irrelevant und für eine Entwicklung ausgeschlossen sind\n",
    "less_apps = apps[apps['Category'] == 'Action'] + apps[apps['Category'] == 'Arcade'] + apps[apps['Category'] == 'Beauty'] + apps[apps['Category'] == 'Casino'] + apps[apps['Category'] == 'Comics'] + apps[apps['Category'] == 'Dating'] + apps[apps['Category'] == 'Educational'] + apps[apps['Category'] == 'Puzzle'] + apps[apps['Category'] == 'Racing'] + apps[apps['Category'] == 'Role Playing'] + apps[apps['Category'] == 'Shopping'] + apps[apps['Category'] == 'Trivia'] + apps[apps['Category'] == 'Video Players & Editors'] \n",
    "            \n",
    "apps.drop(less_apps.index, axis=0, inplace=True)            "
   ]
  },
  {
   "cell_type": "code",
   "execution_count": 4,
   "id": "28c07895-4c94-4b1f-afbd-843a9d365c81",
   "metadata": {},
   "outputs": [
    {
     "data": {
      "text/plain": [
       "Category\n",
       "Adventure             23196\n",
       "Art & Design          18538\n",
       "Auto & Vehicles       18278\n",
       "Board                 10588\n",
       "Books & Reference    116726\n",
       "Business             143761\n",
       "Card                   8179\n",
       "Casual                50797\n",
       "Communication         48159\n",
       "Education            241075\n",
       "Entertainment        138268\n",
       "Events                12839\n",
       "Finance               65456\n",
       "Food & Drink          73920\n",
       "Health & Fitness      83501\n",
       "House & Home          14369\n",
       "Libraries & Demo       5196\n",
       "Lifestyle            118324\n",
       "Maps & Navigation     26722\n",
       "Medical               32063\n",
       "Music                  4202\n",
       "Music & Audio        154898\n",
       "News & Magazines      42804\n",
       "Parenting              3810\n",
       "Personalization       89210\n",
       "Photography           35552\n",
       "Productivity          79686\n",
       "Simulation            23276\n",
       "Social                44729\n",
       "Sports                47478\n",
       "Strategy               8525\n",
       "Tools                143976\n",
       "Travel & Local        67282\n",
       "Weather                7245\n",
       "Word                   8630\n",
       "Name: Category, dtype: int64"
      ]
     },
     "execution_count": 4,
     "metadata": {},
     "output_type": "execute_result"
    }
   ],
   "source": [
    "cat = apps.groupby('Category')\n",
    "cat['Category'].count()"
   ]
  },
  {
   "cell_type": "code",
   "execution_count": 5,
   "id": "542c625d-644f-4d8f-a0e7-498620fca092",
   "metadata": {},
   "outputs": [],
   "source": [
    "# Datensatz random auf die Hälfte reduzieren und neues DataFrame erstellen\n",
    "half_apps = apps.sample(frac = 0.5)"
   ]
  },
  {
   "cell_type": "code",
   "execution_count": 6,
   "id": "110275fe",
   "metadata": {},
   "outputs": [],
   "source": [
    "# Alle Spalten mit Unique-Werten werden gedropped - zu viel Rechenkapa notwendig\n",
    "# apps_v2 = apps.copy()\n",
    "half_apps.drop(columns=['App Name', 'App Id', 'Developer Id', 'Developer Website','Minimum Android', 'Developer Email', 'Privacy Policy', 'Released', 'Scraped Time', 'Last Updated'], inplace=True)"
   ]
  },
  {
   "cell_type": "code",
   "execution_count": 7,
   "id": "987426a1",
   "metadata": {},
   "outputs": [],
   "source": [
    "# Umwandlung in Float-Werte\n",
    "half_apps['Free']             = half_apps['Free'].astype(float)\n",
    "half_apps['Ad Supported']     = half_apps['Ad Supported'].astype(float)\n",
    "half_apps['Editors Choice']   = half_apps['Editors Choice'].astype(float)\n",
    "half_apps['In App Purchases'] = half_apps['In App Purchases'].astype(float)\n",
    "half_apps['Maximum Installs'] = half_apps['Maximum Installs'].astype(float)"
   ]
  },
  {
   "cell_type": "code",
   "execution_count": 8,
   "id": "f1282b7b",
   "metadata": {
    "tags": []
   },
   "outputs": [
    {
     "data": {
      "text/plain": [
       "Category             object\n",
       "Rating              float64\n",
       "Rating Count        float64\n",
       "Installs             object\n",
       "Minimum Installs    float64\n",
       "Maximum Installs    float64\n",
       "Free                float64\n",
       "Price               float64\n",
       "Currency             object\n",
       "Size                float64\n",
       "Content Rating       object\n",
       "Ad Supported        float64\n",
       "In App Purchases    float64\n",
       "Editors Choice      float64\n",
       "Released Year       float64\n",
       "dtype: object"
      ]
     },
     "execution_count": 8,
     "metadata": {},
     "output_type": "execute_result"
    }
   ],
   "source": [
    "half_apps.dtypes"
   ]
  },
  {
   "cell_type": "code",
   "execution_count": 9,
   "id": "49dc358b",
   "metadata": {},
   "outputs": [
    {
     "data": {
      "text/html": [
       "<div>\n",
       "<style scoped>\n",
       "    .dataframe tbody tr th:only-of-type {\n",
       "        vertical-align: middle;\n",
       "    }\n",
       "\n",
       "    .dataframe tbody tr th {\n",
       "        vertical-align: top;\n",
       "    }\n",
       "\n",
       "    .dataframe thead th {\n",
       "        text-align: right;\n",
       "    }\n",
       "</style>\n",
       "<table border=\"1\" class=\"dataframe\">\n",
       "  <thead>\n",
       "    <tr style=\"text-align: right;\">\n",
       "      <th></th>\n",
       "      <th>Category</th>\n",
       "      <th>Installs</th>\n",
       "      <th>Currency</th>\n",
       "      <th>Content Rating</th>\n",
       "    </tr>\n",
       "  </thead>\n",
       "  <tbody>\n",
       "    <tr>\n",
       "      <th>1032616</th>\n",
       "      <td>Tools</td>\n",
       "      <td>10,000+</td>\n",
       "      <td>USD</td>\n",
       "      <td>Everyone</td>\n",
       "    </tr>\n",
       "    <tr>\n",
       "      <th>737983</th>\n",
       "      <td>Entertainment</td>\n",
       "      <td>5,000+</td>\n",
       "      <td>USD</td>\n",
       "      <td>Everyone</td>\n",
       "    </tr>\n",
       "    <tr>\n",
       "      <th>132989</th>\n",
       "      <td>Books &amp; Reference</td>\n",
       "      <td>10,000+</td>\n",
       "      <td>USD</td>\n",
       "      <td>Everyone</td>\n",
       "    </tr>\n",
       "    <tr>\n",
       "      <th>2277604</th>\n",
       "      <td>Lifestyle</td>\n",
       "      <td>5+</td>\n",
       "      <td>USD</td>\n",
       "      <td>Everyone</td>\n",
       "    </tr>\n",
       "    <tr>\n",
       "      <th>1457434</th>\n",
       "      <td>Medical</td>\n",
       "      <td>100+</td>\n",
       "      <td>USD</td>\n",
       "      <td>Everyone</td>\n",
       "    </tr>\n",
       "    <tr>\n",
       "      <th>...</th>\n",
       "      <td>...</td>\n",
       "      <td>...</td>\n",
       "      <td>...</td>\n",
       "      <td>...</td>\n",
       "    </tr>\n",
       "    <tr>\n",
       "      <th>1058296</th>\n",
       "      <td>Business</td>\n",
       "      <td>10,000+</td>\n",
       "      <td>USD</td>\n",
       "      <td>Everyone</td>\n",
       "    </tr>\n",
       "    <tr>\n",
       "      <th>1241051</th>\n",
       "      <td>Tools</td>\n",
       "      <td>10+</td>\n",
       "      <td>USD</td>\n",
       "      <td>Everyone</td>\n",
       "    </tr>\n",
       "    <tr>\n",
       "      <th>1306746</th>\n",
       "      <td>Personalization</td>\n",
       "      <td>1+</td>\n",
       "      <td>USD</td>\n",
       "      <td>Everyone</td>\n",
       "    </tr>\n",
       "    <tr>\n",
       "      <th>1270299</th>\n",
       "      <td>Entertainment</td>\n",
       "      <td>100+</td>\n",
       "      <td>USD</td>\n",
       "      <td>Mature 17+</td>\n",
       "    </tr>\n",
       "    <tr>\n",
       "      <th>1603470</th>\n",
       "      <td>Casual</td>\n",
       "      <td>5+</td>\n",
       "      <td>USD</td>\n",
       "      <td>Everyone</td>\n",
       "    </tr>\n",
       "  </tbody>\n",
       "</table>\n",
       "<p>975019 rows × 4 columns</p>\n",
       "</div>"
      ],
      "text/plain": [
       "                  Category Installs Currency Content Rating\n",
       "1032616              Tools  10,000+      USD       Everyone\n",
       "737983       Entertainment   5,000+      USD       Everyone\n",
       "132989   Books & Reference  10,000+      USD       Everyone\n",
       "2277604          Lifestyle       5+      USD       Everyone\n",
       "1457434            Medical     100+      USD       Everyone\n",
       "...                    ...      ...      ...            ...\n",
       "1058296           Business  10,000+      USD       Everyone\n",
       "1241051              Tools      10+      USD       Everyone\n",
       "1306746    Personalization       1+      USD       Everyone\n",
       "1270299      Entertainment     100+      USD     Mature 17+\n",
       "1603470             Casual       5+      USD       Everyone\n",
       "\n",
       "[975019 rows x 4 columns]"
      ]
     },
     "execution_count": 9,
     "metadata": {},
     "output_type": "execute_result"
    }
   ],
   "source": [
    "# Selektion von den Spalten vom Typ object\n",
    "half_apps = half_apps.dropna()\n",
    "half_apps.select_dtypes(include=['object'])"
   ]
  },
  {
   "cell_type": "code",
   "execution_count": 10,
   "id": "4eeb1fbb",
   "metadata": {},
   "outputs": [],
   "source": [
    "# Aufteilung in Listen mit numerischen und mit noch kategorischen Werten\n",
    "numerical_cols = list(half_apps.select_dtypes(include=\"float\").columns)\n",
    "categorical_cols = list(half_apps.select_dtypes(include=\"object\").columns)"
   ]
  },
  {
   "cell_type": "code",
   "execution_count": 11,
   "id": "aa83c631",
   "metadata": {},
   "outputs": [
    {
     "data": {
      "text/plain": [
       "['Installs', 'Currency', 'Content Rating']"
      ]
     },
     "execution_count": 11,
     "metadata": {},
     "output_type": "execute_result"
    }
   ],
   "source": [
    "# Löschen von Category, da dies dann als Zielklasse verwendet werden soll\n",
    "categorical_cols.remove(\"Category\")\n",
    "categorical_cols"
   ]
  },
  {
   "cell_type": "code",
   "execution_count": 12,
   "id": "9830fea4",
   "metadata": {},
   "outputs": [],
   "source": [
    "# Da Klassifikation nur mit numerischen Daten funktioniert, werden mittels\n",
    "# One-Hot-Endcoding aus den kategorischen Spalten, numerische Daten generiert\n",
    "X_dumm = pd.get_dummies(half_apps[categorical_cols])"
   ]
  },
  {
   "cell_type": "code",
   "execution_count": 13,
   "id": "f3605df2",
   "metadata": {},
   "outputs": [
    {
     "data": {
      "text/html": [
       "<div>\n",
       "<style scoped>\n",
       "    .dataframe tbody tr th:only-of-type {\n",
       "        vertical-align: middle;\n",
       "    }\n",
       "\n",
       "    .dataframe tbody tr th {\n",
       "        vertical-align: top;\n",
       "    }\n",
       "\n",
       "    .dataframe thead th {\n",
       "        text-align: right;\n",
       "    }\n",
       "</style>\n",
       "<table border=\"1\" class=\"dataframe\">\n",
       "  <thead>\n",
       "    <tr style=\"text-align: right;\">\n",
       "      <th></th>\n",
       "      <th>Installs_0+</th>\n",
       "      <th>Installs_1+</th>\n",
       "      <th>Installs_1,000+</th>\n",
       "      <th>Installs_1,000,000+</th>\n",
       "      <th>Installs_1,000,000,000+</th>\n",
       "      <th>Installs_10+</th>\n",
       "      <th>Installs_10,000+</th>\n",
       "      <th>Installs_10,000,000+</th>\n",
       "      <th>Installs_10,000,000,000+</th>\n",
       "      <th>Installs_100+</th>\n",
       "      <th>...</th>\n",
       "      <th>Currency_INR</th>\n",
       "      <th>Currency_USD</th>\n",
       "      <th>Currency_VND</th>\n",
       "      <th>Currency_XXX</th>\n",
       "      <th>Content Rating_Adults only 18+</th>\n",
       "      <th>Content Rating_Everyone</th>\n",
       "      <th>Content Rating_Everyone 10+</th>\n",
       "      <th>Content Rating_Mature 17+</th>\n",
       "      <th>Content Rating_Teen</th>\n",
       "      <th>Content Rating_Unrated</th>\n",
       "    </tr>\n",
       "  </thead>\n",
       "  <tbody>\n",
       "    <tr>\n",
       "      <th>1032616</th>\n",
       "      <td>0</td>\n",
       "      <td>0</td>\n",
       "      <td>0</td>\n",
       "      <td>0</td>\n",
       "      <td>0</td>\n",
       "      <td>0</td>\n",
       "      <td>1</td>\n",
       "      <td>0</td>\n",
       "      <td>0</td>\n",
       "      <td>0</td>\n",
       "      <td>...</td>\n",
       "      <td>0</td>\n",
       "      <td>1</td>\n",
       "      <td>0</td>\n",
       "      <td>0</td>\n",
       "      <td>0</td>\n",
       "      <td>1</td>\n",
       "      <td>0</td>\n",
       "      <td>0</td>\n",
       "      <td>0</td>\n",
       "      <td>0</td>\n",
       "    </tr>\n",
       "    <tr>\n",
       "      <th>737983</th>\n",
       "      <td>0</td>\n",
       "      <td>0</td>\n",
       "      <td>0</td>\n",
       "      <td>0</td>\n",
       "      <td>0</td>\n",
       "      <td>0</td>\n",
       "      <td>0</td>\n",
       "      <td>0</td>\n",
       "      <td>0</td>\n",
       "      <td>0</td>\n",
       "      <td>...</td>\n",
       "      <td>0</td>\n",
       "      <td>1</td>\n",
       "      <td>0</td>\n",
       "      <td>0</td>\n",
       "      <td>0</td>\n",
       "      <td>1</td>\n",
       "      <td>0</td>\n",
       "      <td>0</td>\n",
       "      <td>0</td>\n",
       "      <td>0</td>\n",
       "    </tr>\n",
       "  </tbody>\n",
       "</table>\n",
       "<p>2 rows × 36 columns</p>\n",
       "</div>"
      ],
      "text/plain": [
       "         Installs_0+  Installs_1+  Installs_1,000+  Installs_1,000,000+  \\\n",
       "1032616            0            0                0                    0   \n",
       "737983             0            0                0                    0   \n",
       "\n",
       "         Installs_1,000,000,000+  Installs_10+  Installs_10,000+  \\\n",
       "1032616                        0             0                 1   \n",
       "737983                         0             0                 0   \n",
       "\n",
       "         Installs_10,000,000+  Installs_10,000,000,000+  Installs_100+  ...  \\\n",
       "1032616                     0                         0              0  ...   \n",
       "737983                      0                         0              0  ...   \n",
       "\n",
       "         Currency_INR  Currency_USD  Currency_VND  Currency_XXX  \\\n",
       "1032616             0             1             0             0   \n",
       "737983              0             1             0             0   \n",
       "\n",
       "         Content Rating_Adults only 18+  Content Rating_Everyone  \\\n",
       "1032616                               0                        1   \n",
       "737983                                0                        1   \n",
       "\n",
       "         Content Rating_Everyone 10+  Content Rating_Mature 17+  \\\n",
       "1032616                            0                          0   \n",
       "737983                             0                          0   \n",
       "\n",
       "         Content Rating_Teen  Content Rating_Unrated  \n",
       "1032616                    0                       0  \n",
       "737983                     0                       0  \n",
       "\n",
       "[2 rows x 36 columns]"
      ]
     },
     "execution_count": 13,
     "metadata": {},
     "output_type": "execute_result"
    }
   ],
   "source": [
    "X_dumm.head(2)"
   ]
  },
  {
   "cell_type": "code",
   "execution_count": 14,
   "id": "1c53a7a2",
   "metadata": {},
   "outputs": [],
   "source": [
    "# Zusammenfügen beider numerischen Listen\n",
    "X = pd.concat([half_apps[numerical_cols], X_dumm], axis = 1)"
   ]
  },
  {
   "cell_type": "code",
   "execution_count": 15,
   "id": "b4723164",
   "metadata": {},
   "outputs": [
    {
     "data": {
      "text/html": [
       "<div>\n",
       "<style scoped>\n",
       "    .dataframe tbody tr th:only-of-type {\n",
       "        vertical-align: middle;\n",
       "    }\n",
       "\n",
       "    .dataframe tbody tr th {\n",
       "        vertical-align: top;\n",
       "    }\n",
       "\n",
       "    .dataframe thead th {\n",
       "        text-align: right;\n",
       "    }\n",
       "</style>\n",
       "<table border=\"1\" class=\"dataframe\">\n",
       "  <thead>\n",
       "    <tr style=\"text-align: right;\">\n",
       "      <th></th>\n",
       "      <th>Rating</th>\n",
       "      <th>Rating Count</th>\n",
       "      <th>Minimum Installs</th>\n",
       "      <th>Maximum Installs</th>\n",
       "      <th>Free</th>\n",
       "      <th>Price</th>\n",
       "      <th>Size</th>\n",
       "      <th>Ad Supported</th>\n",
       "      <th>In App Purchases</th>\n",
       "      <th>Editors Choice</th>\n",
       "      <th>...</th>\n",
       "      <th>Currency_INR</th>\n",
       "      <th>Currency_USD</th>\n",
       "      <th>Currency_VND</th>\n",
       "      <th>Currency_XXX</th>\n",
       "      <th>Content Rating_Adults only 18+</th>\n",
       "      <th>Content Rating_Everyone</th>\n",
       "      <th>Content Rating_Everyone 10+</th>\n",
       "      <th>Content Rating_Mature 17+</th>\n",
       "      <th>Content Rating_Teen</th>\n",
       "      <th>Content Rating_Unrated</th>\n",
       "    </tr>\n",
       "  </thead>\n",
       "  <tbody>\n",
       "    <tr>\n",
       "      <th>1032616</th>\n",
       "      <td>3.5</td>\n",
       "      <td>26.0</td>\n",
       "      <td>10000.0</td>\n",
       "      <td>13230.0</td>\n",
       "      <td>1.0</td>\n",
       "      <td>0.0</td>\n",
       "      <td>0.392</td>\n",
       "      <td>1.0</td>\n",
       "      <td>0.0</td>\n",
       "      <td>0.0</td>\n",
       "      <td>...</td>\n",
       "      <td>0</td>\n",
       "      <td>1</td>\n",
       "      <td>0</td>\n",
       "      <td>0</td>\n",
       "      <td>0</td>\n",
       "      <td>1</td>\n",
       "      <td>0</td>\n",
       "      <td>0</td>\n",
       "      <td>0</td>\n",
       "      <td>0</td>\n",
       "    </tr>\n",
       "    <tr>\n",
       "      <th>737983</th>\n",
       "      <td>4.1</td>\n",
       "      <td>53.0</td>\n",
       "      <td>5000.0</td>\n",
       "      <td>5571.0</td>\n",
       "      <td>1.0</td>\n",
       "      <td>0.0</td>\n",
       "      <td>10.000</td>\n",
       "      <td>1.0</td>\n",
       "      <td>0.0</td>\n",
       "      <td>0.0</td>\n",
       "      <td>...</td>\n",
       "      <td>0</td>\n",
       "      <td>1</td>\n",
       "      <td>0</td>\n",
       "      <td>0</td>\n",
       "      <td>0</td>\n",
       "      <td>1</td>\n",
       "      <td>0</td>\n",
       "      <td>0</td>\n",
       "      <td>0</td>\n",
       "      <td>0</td>\n",
       "    </tr>\n",
       "    <tr>\n",
       "      <th>132989</th>\n",
       "      <td>4.9</td>\n",
       "      <td>240.0</td>\n",
       "      <td>10000.0</td>\n",
       "      <td>34276.0</td>\n",
       "      <td>1.0</td>\n",
       "      <td>0.0</td>\n",
       "      <td>0.522</td>\n",
       "      <td>0.0</td>\n",
       "      <td>0.0</td>\n",
       "      <td>0.0</td>\n",
       "      <td>...</td>\n",
       "      <td>0</td>\n",
       "      <td>1</td>\n",
       "      <td>0</td>\n",
       "      <td>0</td>\n",
       "      <td>0</td>\n",
       "      <td>1</td>\n",
       "      <td>0</td>\n",
       "      <td>0</td>\n",
       "      <td>0</td>\n",
       "      <td>0</td>\n",
       "    </tr>\n",
       "    <tr>\n",
       "      <th>2277604</th>\n",
       "      <td>0.0</td>\n",
       "      <td>0.0</td>\n",
       "      <td>5.0</td>\n",
       "      <td>5.0</td>\n",
       "      <td>1.0</td>\n",
       "      <td>0.0</td>\n",
       "      <td>21.000</td>\n",
       "      <td>0.0</td>\n",
       "      <td>0.0</td>\n",
       "      <td>0.0</td>\n",
       "      <td>...</td>\n",
       "      <td>0</td>\n",
       "      <td>1</td>\n",
       "      <td>0</td>\n",
       "      <td>0</td>\n",
       "      <td>0</td>\n",
       "      <td>1</td>\n",
       "      <td>0</td>\n",
       "      <td>0</td>\n",
       "      <td>0</td>\n",
       "      <td>0</td>\n",
       "    </tr>\n",
       "    <tr>\n",
       "      <th>1457434</th>\n",
       "      <td>0.0</td>\n",
       "      <td>0.0</td>\n",
       "      <td>100.0</td>\n",
       "      <td>297.0</td>\n",
       "      <td>1.0</td>\n",
       "      <td>0.0</td>\n",
       "      <td>15.000</td>\n",
       "      <td>0.0</td>\n",
       "      <td>0.0</td>\n",
       "      <td>0.0</td>\n",
       "      <td>...</td>\n",
       "      <td>0</td>\n",
       "      <td>1</td>\n",
       "      <td>0</td>\n",
       "      <td>0</td>\n",
       "      <td>0</td>\n",
       "      <td>1</td>\n",
       "      <td>0</td>\n",
       "      <td>0</td>\n",
       "      <td>0</td>\n",
       "      <td>0</td>\n",
       "    </tr>\n",
       "  </tbody>\n",
       "</table>\n",
       "<p>5 rows × 47 columns</p>\n",
       "</div>"
      ],
      "text/plain": [
       "         Rating  Rating Count  Minimum Installs  Maximum Installs  Free  \\\n",
       "1032616     3.5          26.0           10000.0           13230.0   1.0   \n",
       "737983      4.1          53.0            5000.0            5571.0   1.0   \n",
       "132989      4.9         240.0           10000.0           34276.0   1.0   \n",
       "2277604     0.0           0.0               5.0               5.0   1.0   \n",
       "1457434     0.0           0.0             100.0             297.0   1.0   \n",
       "\n",
       "         Price    Size  Ad Supported  In App Purchases  Editors Choice  ...  \\\n",
       "1032616    0.0   0.392           1.0               0.0             0.0  ...   \n",
       "737983     0.0  10.000           1.0               0.0             0.0  ...   \n",
       "132989     0.0   0.522           0.0               0.0             0.0  ...   \n",
       "2277604    0.0  21.000           0.0               0.0             0.0  ...   \n",
       "1457434    0.0  15.000           0.0               0.0             0.0  ...   \n",
       "\n",
       "         Currency_INR  Currency_USD  Currency_VND  Currency_XXX  \\\n",
       "1032616             0             1             0             0   \n",
       "737983              0             1             0             0   \n",
       "132989              0             1             0             0   \n",
       "2277604             0             1             0             0   \n",
       "1457434             0             1             0             0   \n",
       "\n",
       "         Content Rating_Adults only 18+  Content Rating_Everyone  \\\n",
       "1032616                               0                        1   \n",
       "737983                                0                        1   \n",
       "132989                                0                        1   \n",
       "2277604                               0                        1   \n",
       "1457434                               0                        1   \n",
       "\n",
       "         Content Rating_Everyone 10+  Content Rating_Mature 17+  \\\n",
       "1032616                            0                          0   \n",
       "737983                             0                          0   \n",
       "132989                             0                          0   \n",
       "2277604                            0                          0   \n",
       "1457434                            0                          0   \n",
       "\n",
       "         Content Rating_Teen  Content Rating_Unrated  \n",
       "1032616                    0                       0  \n",
       "737983                     0                       0  \n",
       "132989                     0                       0  \n",
       "2277604                    0                       0  \n",
       "1457434                    0                       0  \n",
       "\n",
       "[5 rows x 47 columns]"
      ]
     },
     "execution_count": 15,
     "metadata": {},
     "output_type": "execute_result"
    }
   ],
   "source": [
    "X.head()"
   ]
  },
  {
   "cell_type": "code",
   "execution_count": 16,
   "id": "2cb8941b",
   "metadata": {},
   "outputs": [
    {
     "name": "stdout",
     "output_type": "stream",
     "text": [
      "X und y haben gleiche Anzahl: True\n"
     ]
    }
   ],
   "source": [
    "y = half_apps['Category'] #.copy()\n",
    "print(f\"X und y haben gleiche Anzahl: {X.shape[0] == y.shape[0]}\")"
   ]
  },
  {
   "cell_type": "code",
   "execution_count": 17,
   "id": "0e8433bd",
   "metadata": {},
   "outputs": [],
   "source": [
    "label_encoder = LabelEncoder()"
   ]
  },
  {
   "cell_type": "code",
   "execution_count": 18,
   "id": "3ea95f90",
   "metadata": {},
   "outputs": [],
   "source": [
    "y = label_encoder.fit_transform(y) # macht alles zu 0, 1, 2,3 ..."
   ]
  },
  {
   "cell_type": "code",
   "execution_count": 19,
   "id": "be4808e7",
   "metadata": {},
   "outputs": [],
   "source": [
    "# Daten in Trainings- und Test aufteilen\n",
    "X_train, X_test1, y_train, y_test1 = train_test_split(X, y, test_size=0.2, random_state=42, stratify=y)\n",
    "\n",
    "# Testdaten in Entwicklung und echten Test aufteilen (50-50, stratifiziert)\n",
    "X_dev, X_test, y_dev, y_test = train_test_split(X_test1, y_test1, test_size=0.5, stratify=y_test1, random_state=42)"
   ]
  },
  {
   "cell_type": "markdown",
   "id": "f6bce9e5-ceed-4287-b2dc-241ca701c8fe",
   "metadata": {},
   "source": [
    "- Gridsearch durchführen\n",
    "- manuelle Vorhersagen ebenso durchführen"
   ]
  },
  {
   "cell_type": "code",
   "execution_count": 21,
   "id": "dc27ea0c-0a9f-4085-9ab6-acdeb3c530b0",
   "metadata": {},
   "outputs": [
    {
     "name": "stdout",
     "output_type": "stream",
     "text": [
      "Fitting 5 folds for each of 4 candidates, totalling 20 fits\n",
      "[CV 1/5; 1/4] START classifier__criterion=gini, feature_selection__threshold=None\n"
     ]
    },
    {
     "name": "stderr",
     "output_type": "stream",
     "text": [
      "/home/user/.local/lib/python3.8/site-packages/sklearn/svm/_base.py:1206: ConvergenceWarning: Liblinear failed to converge, increase the number of iterations.\n",
      "  warnings.warn(\n"
     ]
    },
    {
     "name": "stdout",
     "output_type": "stream",
     "text": [
      "[CV 1/5; 1/4] END classifier__criterion=gini, feature_selection__threshold=None;, score=0.152 total time= 1.2min\n",
      "[CV 2/5; 1/4] START classifier__criterion=gini, feature_selection__threshold=None\n"
     ]
    },
    {
     "name": "stderr",
     "output_type": "stream",
     "text": [
      "/home/user/.local/lib/python3.8/site-packages/sklearn/svm/_base.py:1206: ConvergenceWarning: Liblinear failed to converge, increase the number of iterations.\n",
      "  warnings.warn(\n"
     ]
    },
    {
     "name": "stdout",
     "output_type": "stream",
     "text": [
      "[CV 2/5; 1/4] END classifier__criterion=gini, feature_selection__threshold=None;, score=0.146 total time= 1.0min\n",
      "[CV 3/5; 1/4] START classifier__criterion=gini, feature_selection__threshold=None\n"
     ]
    },
    {
     "name": "stderr",
     "output_type": "stream",
     "text": [
      "/home/user/.local/lib/python3.8/site-packages/sklearn/svm/_base.py:1206: ConvergenceWarning: Liblinear failed to converge, increase the number of iterations.\n",
      "  warnings.warn(\n"
     ]
    },
    {
     "name": "stdout",
     "output_type": "stream",
     "text": [
      "[CV 3/5; 1/4] END classifier__criterion=gini, feature_selection__threshold=None;, score=0.146 total time= 1.2min\n",
      "[CV 4/5; 1/4] START classifier__criterion=gini, feature_selection__threshold=None\n"
     ]
    },
    {
     "name": "stderr",
     "output_type": "stream",
     "text": [
      "/home/user/.local/lib/python3.8/site-packages/sklearn/svm/_base.py:1206: ConvergenceWarning: Liblinear failed to converge, increase the number of iterations.\n",
      "  warnings.warn(\n"
     ]
    },
    {
     "name": "stdout",
     "output_type": "stream",
     "text": [
      "[CV 4/5; 1/4] END classifier__criterion=gini, feature_selection__threshold=None;, score=0.153 total time= 1.2min\n",
      "[CV 5/5; 1/4] START classifier__criterion=gini, feature_selection__threshold=None\n"
     ]
    },
    {
     "name": "stderr",
     "output_type": "stream",
     "text": [
      "/home/user/.local/lib/python3.8/site-packages/sklearn/svm/_base.py:1206: ConvergenceWarning: Liblinear failed to converge, increase the number of iterations.\n",
      "  warnings.warn(\n"
     ]
    },
    {
     "name": "stdout",
     "output_type": "stream",
     "text": [
      "[CV 5/5; 1/4] END classifier__criterion=gini, feature_selection__threshold=None;, score=0.160 total time= 1.1min\n",
      "[CV 1/5; 2/4] START classifier__criterion=gini, feature_selection__threshold=mean\n"
     ]
    },
    {
     "name": "stderr",
     "output_type": "stream",
     "text": [
      "/home/user/.local/lib/python3.8/site-packages/sklearn/svm/_base.py:1206: ConvergenceWarning: Liblinear failed to converge, increase the number of iterations.\n",
      "  warnings.warn(\n"
     ]
    },
    {
     "name": "stdout",
     "output_type": "stream",
     "text": [
      "[CV 1/5; 2/4] END classifier__criterion=gini, feature_selection__threshold=mean;, score=0.148 total time= 1.1min\n",
      "[CV 2/5; 2/4] START classifier__criterion=gini, feature_selection__threshold=mean\n"
     ]
    },
    {
     "name": "stderr",
     "output_type": "stream",
     "text": [
      "/home/user/.local/lib/python3.8/site-packages/sklearn/svm/_base.py:1206: ConvergenceWarning: Liblinear failed to converge, increase the number of iterations.\n",
      "  warnings.warn(\n"
     ]
    },
    {
     "name": "stdout",
     "output_type": "stream",
     "text": [
      "[CV 2/5; 2/4] END classifier__criterion=gini, feature_selection__threshold=mean;, score=0.156 total time= 1.1min\n",
      "[CV 3/5; 2/4] START classifier__criterion=gini, feature_selection__threshold=mean\n"
     ]
    },
    {
     "name": "stderr",
     "output_type": "stream",
     "text": [
      "/home/user/.local/lib/python3.8/site-packages/sklearn/svm/_base.py:1206: ConvergenceWarning: Liblinear failed to converge, increase the number of iterations.\n",
      "  warnings.warn(\n"
     ]
    },
    {
     "name": "stdout",
     "output_type": "stream",
     "text": [
      "[CV 3/5; 2/4] END classifier__criterion=gini, feature_selection__threshold=mean;, score=0.151 total time= 1.1min\n",
      "[CV 4/5; 2/4] START classifier__criterion=gini, feature_selection__threshold=mean\n"
     ]
    },
    {
     "name": "stderr",
     "output_type": "stream",
     "text": [
      "/home/user/.local/lib/python3.8/site-packages/sklearn/svm/_base.py:1206: ConvergenceWarning: Liblinear failed to converge, increase the number of iterations.\n",
      "  warnings.warn(\n"
     ]
    },
    {
     "name": "stdout",
     "output_type": "stream",
     "text": [
      "[CV 4/5; 2/4] END classifier__criterion=gini, feature_selection__threshold=mean;, score=0.152 total time= 1.1min\n",
      "[CV 5/5; 2/4] START classifier__criterion=gini, feature_selection__threshold=mean\n"
     ]
    },
    {
     "name": "stderr",
     "output_type": "stream",
     "text": [
      "/home/user/.local/lib/python3.8/site-packages/sklearn/svm/_base.py:1206: ConvergenceWarning: Liblinear failed to converge, increase the number of iterations.\n",
      "  warnings.warn(\n"
     ]
    },
    {
     "name": "stdout",
     "output_type": "stream",
     "text": [
      "[CV 5/5; 2/4] END classifier__criterion=gini, feature_selection__threshold=mean;, score=0.143 total time= 1.1min\n",
      "[CV 1/5; 3/4] START classifier__criterion=entropy, feature_selection__threshold=None\n"
     ]
    },
    {
     "name": "stderr",
     "output_type": "stream",
     "text": [
      "/home/user/.local/lib/python3.8/site-packages/sklearn/svm/_base.py:1206: ConvergenceWarning: Liblinear failed to converge, increase the number of iterations.\n",
      "  warnings.warn(\n"
     ]
    },
    {
     "name": "stdout",
     "output_type": "stream",
     "text": [
      "[CV 1/5; 3/4] END classifier__criterion=entropy, feature_selection__threshold=None;, score=0.148 total time= 1.1min\n",
      "[CV 2/5; 3/4] START classifier__criterion=entropy, feature_selection__threshold=None\n"
     ]
    },
    {
     "name": "stderr",
     "output_type": "stream",
     "text": [
      "/home/user/.local/lib/python3.8/site-packages/sklearn/svm/_base.py:1206: ConvergenceWarning: Liblinear failed to converge, increase the number of iterations.\n",
      "  warnings.warn(\n"
     ]
    },
    {
     "name": "stdout",
     "output_type": "stream",
     "text": [
      "[CV 2/5; 3/4] END classifier__criterion=entropy, feature_selection__threshold=None;, score=0.145 total time= 1.2min\n",
      "[CV 3/5; 3/4] START classifier__criterion=entropy, feature_selection__threshold=None\n"
     ]
    },
    {
     "name": "stderr",
     "output_type": "stream",
     "text": [
      "/home/user/.local/lib/python3.8/site-packages/sklearn/svm/_base.py:1206: ConvergenceWarning: Liblinear failed to converge, increase the number of iterations.\n",
      "  warnings.warn(\n"
     ]
    },
    {
     "name": "stdout",
     "output_type": "stream",
     "text": [
      "[CV 3/5; 3/4] END classifier__criterion=entropy, feature_selection__threshold=None;, score=0.147 total time= 1.1min\n",
      "[CV 4/5; 3/4] START classifier__criterion=entropy, feature_selection__threshold=None\n"
     ]
    },
    {
     "name": "stderr",
     "output_type": "stream",
     "text": [
      "/home/user/.local/lib/python3.8/site-packages/sklearn/svm/_base.py:1206: ConvergenceWarning: Liblinear failed to converge, increase the number of iterations.\n",
      "  warnings.warn(\n"
     ]
    },
    {
     "name": "stdout",
     "output_type": "stream",
     "text": [
      "[CV 4/5; 3/4] END classifier__criterion=entropy, feature_selection__threshold=None;, score=0.156 total time= 1.2min\n",
      "[CV 5/5; 3/4] START classifier__criterion=entropy, feature_selection__threshold=None\n"
     ]
    },
    {
     "name": "stderr",
     "output_type": "stream",
     "text": [
      "/home/user/.local/lib/python3.8/site-packages/sklearn/svm/_base.py:1206: ConvergenceWarning: Liblinear failed to converge, increase the number of iterations.\n",
      "  warnings.warn(\n"
     ]
    },
    {
     "name": "stdout",
     "output_type": "stream",
     "text": [
      "[CV 5/5; 3/4] END classifier__criterion=entropy, feature_selection__threshold=None;, score=0.151 total time= 1.1min\n",
      "[CV 1/5; 4/4] START classifier__criterion=entropy, feature_selection__threshold=mean\n"
     ]
    },
    {
     "name": "stderr",
     "output_type": "stream",
     "text": [
      "/home/user/.local/lib/python3.8/site-packages/sklearn/svm/_base.py:1206: ConvergenceWarning: Liblinear failed to converge, increase the number of iterations.\n",
      "  warnings.warn(\n"
     ]
    },
    {
     "name": "stdout",
     "output_type": "stream",
     "text": [
      "[CV 1/5; 4/4] END classifier__criterion=entropy, feature_selection__threshold=mean;, score=0.151 total time= 1.1min\n",
      "[CV 2/5; 4/4] START classifier__criterion=entropy, feature_selection__threshold=mean\n"
     ]
    },
    {
     "name": "stderr",
     "output_type": "stream",
     "text": [
      "/home/user/.local/lib/python3.8/site-packages/sklearn/svm/_base.py:1206: ConvergenceWarning: Liblinear failed to converge, increase the number of iterations.\n",
      "  warnings.warn(\n"
     ]
    },
    {
     "name": "stdout",
     "output_type": "stream",
     "text": [
      "[CV 2/5; 4/4] END classifier__criterion=entropy, feature_selection__threshold=mean;, score=0.158 total time= 1.1min\n",
      "[CV 3/5; 4/4] START classifier__criterion=entropy, feature_selection__threshold=mean\n"
     ]
    },
    {
     "name": "stderr",
     "output_type": "stream",
     "text": [
      "/home/user/.local/lib/python3.8/site-packages/sklearn/svm/_base.py:1206: ConvergenceWarning: Liblinear failed to converge, increase the number of iterations.\n",
      "  warnings.warn(\n"
     ]
    },
    {
     "name": "stdout",
     "output_type": "stream",
     "text": [
      "[CV 3/5; 4/4] END classifier__criterion=entropy, feature_selection__threshold=mean;, score=0.143 total time= 1.1min\n",
      "[CV 4/5; 4/4] START classifier__criterion=entropy, feature_selection__threshold=mean\n"
     ]
    },
    {
     "name": "stderr",
     "output_type": "stream",
     "text": [
      "/home/user/.local/lib/python3.8/site-packages/sklearn/svm/_base.py:1206: ConvergenceWarning: Liblinear failed to converge, increase the number of iterations.\n",
      "  warnings.warn(\n"
     ]
    },
    {
     "name": "stdout",
     "output_type": "stream",
     "text": [
      "[CV 4/5; 4/4] END classifier__criterion=entropy, feature_selection__threshold=mean;, score=0.149 total time= 1.2min\n",
      "[CV 5/5; 4/4] START classifier__criterion=entropy, feature_selection__threshold=mean\n"
     ]
    },
    {
     "name": "stderr",
     "output_type": "stream",
     "text": [
      "/home/user/.local/lib/python3.8/site-packages/sklearn/svm/_base.py:1206: ConvergenceWarning: Liblinear failed to converge, increase the number of iterations.\n",
      "  warnings.warn(\n"
     ]
    },
    {
     "name": "stdout",
     "output_type": "stream",
     "text": [
      "[CV 5/5; 4/4] END classifier__criterion=entropy, feature_selection__threshold=mean;, score=0.143 total time= 1.1min\n"
     ]
    },
    {
     "name": "stderr",
     "output_type": "stream",
     "text": [
      "/home/user/.local/lib/python3.8/site-packages/sklearn/svm/_base.py:1206: ConvergenceWarning: Liblinear failed to converge, increase the number of iterations.\n",
      "  warnings.warn(\n"
     ]
    },
    {
     "data": {
      "text/plain": [
       "GridSearchCV(estimator=Pipeline(steps=[('feature_selection',\n",
       "                                        SelectFromModel(estimator=LinearSVC(dual=False,\n",
       "                                                                            penalty='l1'))),\n",
       "                                       ('classifier',\n",
       "                                        RandomForestClassifier(n_estimators=20,\n",
       "                                                               random_state=0))]),\n",
       "             param_grid={'classifier__criterion': ('gini', 'entropy'),\n",
       "                         'feature_selection__threshold': (None, 'mean')},\n",
       "             verbose=10)"
      ]
     },
     "execution_count": 21,
     "metadata": {},
     "output_type": "execute_result"
    }
   ],
   "source": [
    "# Parameter des Algorithmus setzen\n",
    "# Pipeline neu definieren - ohne Parametersetzen \n",
    "\n",
    "feature_selection=SelectFromModel(LinearSVC(penalty=\"l1\", dual=False))\n",
    "classifier = RandomForestClassifier(n_estimators=20, random_state=0)\n",
    "\n",
    "pipeline = Pipeline([('feature_selection', feature_selection), ('classifier', classifier)])\n",
    "\n",
    "# Parameterraum definieren: key ist schrittname__parametername, value die zu prüfenden Werte\n",
    "\n",
    "parameters = {  \n",
    "    'feature_selection__threshold': (None, 'mean'), \n",
    "    'classifier__criterion': ('gini','entropy')\n",
    "}\n",
    "\n",
    "# Suche über den gesamten Parameterraum (cross validation über die Trainingsdaten)\n",
    "grid_search = GridSearchCV(pipeline, param_grid=parameters, verbose=10)\n",
    "\n",
    "grid_search.fit(X_train[:50000], y_train[:50000])"
   ]
  },
  {
   "cell_type": "code",
   "execution_count": 22,
   "id": "9ab5f240-932b-499f-87ed-0975cb141604",
   "metadata": {},
   "outputs": [
    {
     "name": "stdout",
     "output_type": "stream",
     "text": [
      "Pipeline(steps=[('feature_selection',\n",
      "                 SelectFromModel(estimator=LinearSVC(dual=False,\n",
      "                                                     penalty='l1'))),\n",
      "                ('classifier',\n",
      "                 RandomForestClassifier(n_estimators=20, random_state=0))])\n"
     ]
    }
   ],
   "source": [
    "# Welche Parameterkombination ist die beste?\n",
    "print(grid_search.best_estimator_)"
   ]
  },
  {
   "cell_type": "code",
   "execution_count": 24,
   "id": "db530e32-6966-47ce-b929-cad1f2db2642",
   "metadata": {},
   "outputs": [
    {
     "name": "stderr",
     "output_type": "stream",
     "text": [
      "/home/user/.local/lib/python3.8/site-packages/sklearn/svm/_base.py:1206: ConvergenceWarning: Liblinear failed to converge, increase the number of iterations.\n",
      "  warnings.warn(\n",
      "/home/user/.local/lib/python3.8/site-packages/sklearn/svm/_base.py:1206: ConvergenceWarning: Liblinear failed to converge, increase the number of iterations.\n",
      "  warnings.warn(\n",
      "/home/user/.local/lib/python3.8/site-packages/sklearn/svm/_base.py:1206: ConvergenceWarning: Liblinear failed to converge, increase the number of iterations.\n",
      "  warnings.warn(\n",
      "/home/user/.local/lib/python3.8/site-packages/sklearn/svm/_base.py:1206: ConvergenceWarning: Liblinear failed to converge, increase the number of iterations.\n",
      "  warnings.warn(\n",
      "/home/user/.local/lib/python3.8/site-packages/sklearn/svm/_base.py:1206: ConvergenceWarning: Liblinear failed to converge, increase the number of iterations.\n",
      "  warnings.warn(\n",
      "/home/user/.local/lib/python3.8/site-packages/sklearn/svm/_base.py:1206: ConvergenceWarning: Liblinear failed to converge, increase the number of iterations.\n",
      "  warnings.warn(\n",
      "/home/user/.local/lib/python3.8/site-packages/sklearn/svm/_base.py:1206: ConvergenceWarning: Liblinear failed to converge, increase the number of iterations.\n",
      "  warnings.warn(\n",
      "/home/user/.local/lib/python3.8/site-packages/sklearn/svm/_base.py:1206: ConvergenceWarning: Liblinear failed to converge, increase the number of iterations.\n",
      "  warnings.warn(\n",
      "/home/user/.local/lib/python3.8/site-packages/sklearn/svm/_base.py:1206: ConvergenceWarning: Liblinear failed to converge, increase the number of iterations.\n",
      "  warnings.warn(\n",
      "/home/user/.local/lib/python3.8/site-packages/sklearn/svm/_base.py:1206: ConvergenceWarning: Liblinear failed to converge, increase the number of iterations.\n",
      "  warnings.warn(\n"
     ]
    },
    {
     "name": "stdout",
     "output_type": "stream",
     "text": [
      "              precision    recall  f1-score   support\n",
      "\n",
      "           0       0.25      0.02      0.04       582\n",
      "           1       0.00      0.00      0.00       477\n",
      "           2       0.00      0.00      0.00       415\n",
      "           3       0.25      0.00      0.01       283\n",
      "           4       0.20      0.00      0.01      2977\n",
      "           5       0.12      0.02      0.04      3637\n",
      "           6       0.00      0.00      0.00       200\n",
      "           7       0.00      0.00      0.00      1262\n",
      "           8       0.00      0.00      0.00      1170\n",
      "           9       0.13      0.93      0.23      6089\n",
      "          10       0.07      0.00      0.00      3457\n",
      "          11       0.00      0.00      0.00       328\n",
      "          12       0.25      0.00      0.00      1618\n",
      "          13       0.00      0.00      0.00      1829\n",
      "          14       0.00      0.00      0.00      2073\n",
      "          15       0.00      0.00      0.00       358\n",
      "          16       0.00      0.00      0.00       139\n",
      "          17       0.50      0.00      0.00      2887\n",
      "          18       0.21      0.00      0.01       633\n",
      "          19       0.00      0.00      0.00       754\n",
      "          20       0.00      0.00      0.00       110\n",
      "          21       0.24      0.29      0.26      3885\n",
      "          22       0.15      0.07      0.10      1021\n",
      "          23       0.00      0.00      0.00        87\n",
      "          24       0.22      0.02      0.04      2304\n",
      "          25       0.00      0.00      0.00       889\n",
      "          26       0.00      0.00      0.00      1910\n",
      "          27       0.15      0.00      0.01       590\n",
      "          28       0.24      0.11      0.15      1156\n",
      "          29       0.00      0.00      0.00      1096\n",
      "          30       0.22      0.03      0.05       217\n",
      "          31       0.15      0.02      0.03      3545\n",
      "          32       0.20      0.00      0.00      1631\n",
      "          33       0.00      0.00      0.00       170\n",
      "          34       0.00      0.00      0.00       221\n",
      "\n",
      "    accuracy                           0.15     50000\n",
      "   macro avg       0.10      0.04      0.03     50000\n",
      "weighted avg       0.14      0.15      0.06     50000\n",
      "\n"
     ]
    },
    {
     "name": "stderr",
     "output_type": "stream",
     "text": [
      "/home/user/.local/lib/python3.8/site-packages/sklearn/metrics/_classification.py:1308: UndefinedMetricWarning: Precision and F-score are ill-defined and being set to 0.0 in labels with no predicted samples. Use `zero_division` parameter to control this behavior.\n",
      "  _warn_prf(average, modifier, msg_start, len(result))\n",
      "/home/user/.local/lib/python3.8/site-packages/sklearn/metrics/_classification.py:1308: UndefinedMetricWarning: Precision and F-score are ill-defined and being set to 0.0 in labels with no predicted samples. Use `zero_division` parameter to control this behavior.\n",
      "  _warn_prf(average, modifier, msg_start, len(result))\n",
      "/home/user/.local/lib/python3.8/site-packages/sklearn/metrics/_classification.py:1308: UndefinedMetricWarning: Precision and F-score are ill-defined and being set to 0.0 in labels with no predicted samples. Use `zero_division` parameter to control this behavior.\n",
      "  _warn_prf(average, modifier, msg_start, len(result))\n"
     ]
    }
   ],
   "source": [
    "# Pipeline für die beste Feature-Kombination definieren\n",
    "# Parameter aus dem .best_estimator Ergebnis entnehmen\n",
    "final_pipeline = Pipeline(steps=[('feature_selection',\n",
    "                 SelectFromModel(estimator=LinearSVC(dual=False, penalty='l1'),\n",
    "                                 threshold='mean')),\n",
    "                ('classifier',\n",
    "                 RandomForestClassifier(n_estimators=20, random_state=0))])\n",
    "\n",
    "train_labels = cross_val_predict(final_pipeline, X_train[:50000] , y_train[:50000], cv=10)\n",
    "\n",
    "# Precision/Recall/F-Wert berechnen\n",
    "\n",
    "print(classification_report(y_train[:50000], train_labels[:50000]))"
   ]
  },
  {
   "cell_type": "markdown",
   "id": "4b79fe1d-d9db-435c-9f14-c9dcd2a2487b",
   "metadata": {},
   "source": [
    "### Vorhersagen auf den Trainingsdaten"
   ]
  },
  {
   "cell_type": "code",
   "execution_count": 27,
   "id": "2f66ed47-73b4-4b73-b4dc-aacfefa8cb74",
   "metadata": {},
   "outputs": [
    {
     "name": "stderr",
     "output_type": "stream",
     "text": [
      "/home/user/.local/lib/python3.8/site-packages/sklearn/svm/_base.py:1206: ConvergenceWarning: Liblinear failed to converge, increase the number of iterations.\n",
      "  warnings.warn(\n"
     ]
    },
    {
     "name": "stdout",
     "output_type": "stream",
     "text": [
      "              precision    recall  f1-score   support\n",
      "\n",
      "           0       0.87      0.84      0.85       582\n",
      "           1       0.80      0.70      0.75       477\n",
      "           2       0.84      0.66      0.74       415\n",
      "           3       0.90      0.85      0.87       283\n",
      "           4       0.83      0.81      0.82      2977\n",
      "           5       0.63      0.76      0.69      3637\n",
      "           6       0.98      0.88      0.92       200\n",
      "           7       0.78      0.84      0.81      1262\n",
      "           8       0.81      0.75      0.78      1170\n",
      "           9       0.76      0.80      0.78      6089\n",
      "          10       0.81      0.81      0.81      3457\n",
      "          11       0.71      0.57      0.64       328\n",
      "          12       0.83      0.77      0.80      1618\n",
      "          13       0.64      0.68      0.66      1829\n",
      "          14       0.77      0.73      0.75      2073\n",
      "          15       0.66      0.60      0.63       358\n",
      "          16       0.78      0.71      0.74       139\n",
      "          17       0.76      0.78      0.77      2887\n",
      "          18       0.85      0.73      0.79       633\n",
      "          19       0.77      0.70      0.74       754\n",
      "          20       0.88      0.76      0.82       110\n",
      "          21       0.83      0.85      0.84      3885\n",
      "          22       0.85      0.79      0.82      1021\n",
      "          23       0.87      0.76      0.81        87\n",
      "          24       0.81      0.84      0.83      2304\n",
      "          25       0.84      0.79      0.81       889\n",
      "          26       0.76      0.72      0.74      1910\n",
      "          27       0.94      0.92      0.93       590\n",
      "          28       0.90      0.86      0.88      1156\n",
      "          29       0.82      0.76      0.79      1096\n",
      "          30       0.96      0.88      0.92       217\n",
      "          31       0.80      0.78      0.79      3545\n",
      "          32       0.80      0.70      0.75      1631\n",
      "          33       0.93      0.83      0.88       170\n",
      "          34       0.93      0.83      0.88       221\n",
      "\n",
      "    accuracy                           0.78     50000\n",
      "   macro avg       0.82      0.77      0.79     50000\n",
      "weighted avg       0.79      0.78      0.78     50000\n",
      "\n"
     ]
    }
   ],
   "source": [
    "# Parameter des Algorithmus setzen\n",
    "# Mit SelectFromModel-Parameter threshold=None und RandomForest criterion=gini\n",
    "\n",
    "pipeline1 = Pipeline(steps=[\n",
    "                ('feature_selection',\n",
    "                 SelectFromModel(estimator=LinearSVC(dual=False,\n",
    "                                                     penalty='l1'))),\n",
    "                ('classifier', RandomForestClassifier(n_estimators=20, random_state=0))])\n",
    "\n",
    "pipeline1.fit(X_train[:50000], y_train[:50000])\n",
    "\n",
    "train_labels1 = pipeline1.predict(X_train[:50000])\n",
    "      \n",
    "print(classification_report(y_train[:50000], train_labels1[:50000]))"
   ]
  },
  {
   "cell_type": "code",
   "execution_count": 29,
   "id": "3fbcc675-223b-43e8-8d4f-105683b62332",
   "metadata": {},
   "outputs": [
    {
     "name": "stderr",
     "output_type": "stream",
     "text": [
      "/home/user/.local/lib/python3.8/site-packages/sklearn/svm/_base.py:1206: ConvergenceWarning: Liblinear failed to converge, increase the number of iterations.\n",
      "  warnings.warn(\n"
     ]
    },
    {
     "name": "stdout",
     "output_type": "stream",
     "text": [
      "              precision    recall  f1-score   support\n",
      "\n",
      "           0       0.29      0.02      0.04       582\n",
      "           1       0.00      0.00      0.00       477\n",
      "           2       0.00      0.00      0.00       415\n",
      "           3       0.00      0.00      0.00       283\n",
      "           4       0.00      0.00      0.00      2977\n",
      "           5       0.25      0.00      0.00      3637\n",
      "           6       0.00      0.00      0.00       200\n",
      "           7       0.22      0.00      0.00      1262\n",
      "           8       0.00      0.00      0.00      1170\n",
      "           9       0.13      0.96      0.23      6089\n",
      "          10       0.38      0.00      0.01      3457\n",
      "          11       0.00      0.00      0.00       328\n",
      "          12       0.00      0.00      0.00      1618\n",
      "          13       0.00      0.00      0.00      1829\n",
      "          14       0.00      0.00      0.00      2073\n",
      "          15       0.00      0.00      0.00       358\n",
      "          16       0.00      0.00      0.00       139\n",
      "          17       0.00      0.00      0.00      2887\n",
      "          18       0.00      0.00      0.00       633\n",
      "          19       0.00      0.00      0.00       754\n",
      "          20       0.00      0.00      0.00       110\n",
      "          21       0.22      0.30      0.25      3885\n",
      "          22       0.15      0.08      0.10      1021\n",
      "          23       0.00      0.00      0.00        87\n",
      "          24       0.12      0.00      0.00      2304\n",
      "          25       0.00      0.00      0.00       889\n",
      "          26       0.00      0.00      0.00      1910\n",
      "          27       0.00      0.00      0.00       590\n",
      "          28       0.75      0.00      0.01      1156\n",
      "          29       0.00      0.00      0.00      1096\n",
      "          30       0.33      0.06      0.10       217\n",
      "          31       0.17      0.01      0.02      3545\n",
      "          32       0.00      0.00      0.00      1631\n",
      "          33       0.00      0.00      0.00       170\n",
      "          34       0.00      0.00      0.00       221\n",
      "\n",
      "    accuracy                           0.14     50000\n",
      "   macro avg       0.09      0.04      0.02     50000\n",
      "weighted avg       0.13      0.14      0.05     50000\n",
      "\n"
     ]
    },
    {
     "name": "stderr",
     "output_type": "stream",
     "text": [
      "/home/user/.local/lib/python3.8/site-packages/sklearn/metrics/_classification.py:1308: UndefinedMetricWarning: Precision and F-score are ill-defined and being set to 0.0 in labels with no predicted samples. Use `zero_division` parameter to control this behavior.\n",
      "  _warn_prf(average, modifier, msg_start, len(result))\n",
      "/home/user/.local/lib/python3.8/site-packages/sklearn/metrics/_classification.py:1308: UndefinedMetricWarning: Precision and F-score are ill-defined and being set to 0.0 in labels with no predicted samples. Use `zero_division` parameter to control this behavior.\n",
      "  _warn_prf(average, modifier, msg_start, len(result))\n",
      "/home/user/.local/lib/python3.8/site-packages/sklearn/metrics/_classification.py:1308: UndefinedMetricWarning: Precision and F-score are ill-defined and being set to 0.0 in labels with no predicted samples. Use `zero_division` parameter to control this behavior.\n",
      "  _warn_prf(average, modifier, msg_start, len(result))\n"
     ]
    }
   ],
   "source": [
    "# Parameter des Algorithmus setzen\n",
    "# Mit SelectFromModel-Parameter threshold='mean' und RandomForest criterion=gini\n",
    "\n",
    "pipeline2 = Pipeline(steps=[\n",
    "                ('feature_selection',\n",
    "                 SelectFromModel(estimator=LinearSVC(dual=False,\n",
    "                                                     penalty='l1'), threshold='mean')),\n",
    "                ('classifier', RandomForestClassifier(n_estimators=20, random_state=0))])\n",
    "\n",
    "pipeline2.fit(X_train[:50000], y_train[:50000])\n",
    "\n",
    "train_labels2 = pipeline2.predict(X_train[:50000])\n",
    "      \n",
    "print(classification_report(y_train[:50000], train_labels2[:50000]))"
   ]
  },
  {
   "cell_type": "markdown",
   "id": "2b9930da-0e8a-4946-b693-83c83b199b6b",
   "metadata": {},
   "source": [
    "### Vorhersage auf den Entwicklungsdaten --> X_dev"
   ]
  },
  {
   "cell_type": "code",
   "execution_count": 31,
   "id": "68ba8119-2716-4a83-a753-a06776c5825f",
   "metadata": {},
   "outputs": [
    {
     "name": "stderr",
     "output_type": "stream",
     "text": [
      "/home/user/.local/lib/python3.8/site-packages/sklearn/svm/_base.py:1206: ConvergenceWarning: Liblinear failed to converge, increase the number of iterations.\n",
      "  warnings.warn(\n"
     ]
    },
    {
     "name": "stdout",
     "output_type": "stream",
     "text": [
      "Default-Score des Klassifizierers: Accuracy= 0.14679698877971734 \n",
      "\n",
      "              precision    recall  f1-score   support\n",
      "\n",
      "           0       0.11      0.10      0.10      1141\n",
      "           1       0.03      0.02      0.03       913\n",
      "           2       0.03      0.02      0.02       846\n",
      "           3       0.01      0.01      0.01       519\n",
      "           4       0.16      0.16      0.16      5785\n",
      "           5       0.15      0.19      0.17      6853\n",
      "           6       0.05      0.04      0.04       395\n",
      "           7       0.12      0.12      0.12      2441\n",
      "           8       0.05      0.04      0.04      2291\n",
      "           9       0.19      0.22      0.21     11804\n",
      "          10       0.13      0.14      0.14      6772\n",
      "          11       0.02      0.02      0.02       618\n",
      "          12       0.11      0.10      0.10      3094\n",
      "          13       0.14      0.14      0.14      3542\n",
      "          14       0.15      0.14      0.15      4045\n",
      "          15       0.03      0.03      0.03       677\n",
      "          16       0.01      0.01      0.01       240\n",
      "          17       0.13      0.12      0.12      5772\n",
      "          18       0.08      0.06      0.07      1249\n",
      "          19       0.06      0.05      0.05      1499\n",
      "          20       0.03      0.02      0.02       203\n",
      "          21       0.31      0.32      0.32      7701\n",
      "          22       0.11      0.09      0.10      2078\n",
      "          23       0.00      0.00      0.00       179\n",
      "          24       0.17      0.19      0.18      4406\n",
      "          25       0.07      0.06      0.06      1766\n",
      "          26       0.07      0.06      0.06      3772\n",
      "          27       0.18      0.18      0.18      1142\n",
      "          28       0.19      0.20      0.19      2162\n",
      "          29       0.05      0.04      0.04      2278\n",
      "          30       0.11      0.09      0.10       403\n",
      "          31       0.13      0.13      0.13      6903\n",
      "          32       0.08      0.06      0.07      3247\n",
      "          33       0.05      0.03      0.04       343\n",
      "          34       0.03      0.02      0.03       423\n",
      "\n",
      "    accuracy                           0.15     97502\n",
      "   macro avg       0.09      0.09      0.09     97502\n",
      "weighted avg       0.14      0.15      0.14     97502\n",
      "\n"
     ]
    }
   ],
   "source": [
    "# Parameter des Algorithmus setzen\n",
    "# Mit SelectFromModel-Parameter threshold=None und RandomForest criterion=gini\n",
    "\n",
    "pipeline6 = Pipeline(steps=[\n",
    "                ('feature_selection',\n",
    "                 SelectFromModel(estimator=LinearSVC(dual=False,\n",
    "                                                     penalty='l1'))),\n",
    "                ('classifier', RandomForestClassifier(n_estimators=20, random_state=0))])\n",
    "\n",
    "pipeline6.fit(X_train[:50000], y_train[:50000])\n",
    "\n",
    "print(\"Default-Score des Klassifizierers: Accuracy=\",pipeline6.score(X_test1, y_test1), \"\\n\")\n",
    "\n",
    "train_labels6 = pipeline6.predict(X_dev)\n",
    "      \n",
    "print(classification_report(y_dev, train_labels6))"
   ]
  },
  {
   "cell_type": "code",
   "execution_count": 30,
   "id": "4e0b0556-8b65-4d06-8010-6ce79b199ea3",
   "metadata": {},
   "outputs": [
    {
     "name": "stderr",
     "output_type": "stream",
     "text": [
      "/home/user/.local/lib/python3.8/site-packages/sklearn/svm/_base.py:1206: ConvergenceWarning: Liblinear failed to converge, increase the number of iterations.\n",
      "  warnings.warn(\n"
     ]
    },
    {
     "name": "stdout",
     "output_type": "stream",
     "text": [
      "Default-Score des Klassifizierers: Accuracy= 0.1415509425447683 \n",
      "\n",
      "              precision    recall  f1-score   support\n",
      "\n",
      "           0       0.14      0.03      0.04      1141\n",
      "           1       0.00      0.00      0.00       913\n",
      "           2       0.00      0.00      0.00       846\n",
      "           3       0.00      0.00      0.00       519\n",
      "           4       0.00      0.00      0.00      5785\n",
      "           5       0.00      0.00      0.00      6853\n",
      "           6       0.00      0.00      0.00       395\n",
      "           7       0.00      0.00      0.00      2441\n",
      "           8       0.00      0.00      0.00      2291\n",
      "           9       0.13      0.96      0.23     11804\n",
      "          10       0.15      0.00      0.01      6772\n",
      "          11       0.00      0.00      0.00       618\n",
      "          12       0.00      0.00      0.00      3094\n",
      "          13       0.00      0.00      0.00      3542\n",
      "          14       0.00      0.00      0.00      4045\n",
      "          15       0.00      0.00      0.00       677\n",
      "          16       0.00      0.00      0.00       240\n",
      "          17       0.00      0.00      0.00      5772\n",
      "          18       0.91      0.01      0.02      1249\n",
      "          19       0.00      0.00      0.00      1499\n",
      "          20       0.00      0.00      0.00       203\n",
      "          21       0.21      0.28      0.24      7701\n",
      "          22       0.13      0.07      0.09      2078\n",
      "          23       0.00      0.00      0.00       179\n",
      "          24       0.11      0.00      0.00      4406\n",
      "          25       0.00      0.00      0.00      1766\n",
      "          26       0.00      0.00      0.00      3772\n",
      "          27       0.00      0.00      0.00      1142\n",
      "          28       0.00      0.00      0.00      2162\n",
      "          29       0.00      0.00      0.00      2278\n",
      "          30       0.23      0.04      0.07       403\n",
      "          31       0.15      0.02      0.04      6903\n",
      "          32       0.00      0.00      0.00      3247\n",
      "          33       0.00      0.00      0.00       343\n",
      "          34       0.00      0.00      0.00       423\n",
      "\n",
      "    accuracy                           0.14     97502\n",
      "   macro avg       0.06      0.04      0.02     97502\n",
      "weighted avg       0.08      0.14      0.05     97502\n",
      "\n"
     ]
    },
    {
     "name": "stderr",
     "output_type": "stream",
     "text": [
      "/home/user/.local/lib/python3.8/site-packages/sklearn/metrics/_classification.py:1308: UndefinedMetricWarning: Precision and F-score are ill-defined and being set to 0.0 in labels with no predicted samples. Use `zero_division` parameter to control this behavior.\n",
      "  _warn_prf(average, modifier, msg_start, len(result))\n",
      "/home/user/.local/lib/python3.8/site-packages/sklearn/metrics/_classification.py:1308: UndefinedMetricWarning: Precision and F-score are ill-defined and being set to 0.0 in labels with no predicted samples. Use `zero_division` parameter to control this behavior.\n",
      "  _warn_prf(average, modifier, msg_start, len(result))\n",
      "/home/user/.local/lib/python3.8/site-packages/sklearn/metrics/_classification.py:1308: UndefinedMetricWarning: Precision and F-score are ill-defined and being set to 0.0 in labels with no predicted samples. Use `zero_division` parameter to control this behavior.\n",
      "  _warn_prf(average, modifier, msg_start, len(result))\n"
     ]
    }
   ],
   "source": [
    "# Parameter des Algorithmus setzen\n",
    "# Mit SelectFromModel-Parameter threshold='mean' und RandomForest criterion=gini\n",
    "\n",
    "pipeline5 = Pipeline(steps=[\n",
    "                ('feature_selection',\n",
    "                 SelectFromModel(estimator=LinearSVC(dual=False,\n",
    "                                                     penalty='l1'), threshold='mean')),\n",
    "                ('classifier', RandomForestClassifier(n_estimators=20, random_state=0))])\n",
    "\n",
    "pipeline5.fit(X_train[:50000], y_train[:50000])\n",
    "\n",
    "print(\"Default-Score des Klassifizierers: Accuracy=\",pipeline5.score(X_test1, y_test1), \"\\n\")\n",
    "\n",
    "train_labels5 = pipeline5.predict(X_dev)\n",
    "      \n",
    "print(classification_report(y_dev, train_labels5))"
   ]
  },
  {
   "cell_type": "markdown",
   "id": "a25b2220-b561-4692-bc37-ae30aa84a03e",
   "metadata": {},
   "source": [
    "### Auswertung Trainings- vs. Testdaten\n",
    "- grundsätzlich haben die Trainingsdaten eine höhere Accuracy als die Entwicklungs- bzw. Testdaten\n",
    "----\n",
    "Trotz zufälliger Halbierung des Datensatzes, Eliminierung von NaN-Werten und Eingrenzung der Zielklassen, können aufgrund der zahlreichen Datensätze keine Schlüsse gezogen werden. Die Accuracy liegt bei allen Vorhersagen recht niedrig, da bei vielen Zielklassen die Precision und F-score `0.0` bewertet wurden und zu den jeweiligen Zielklassen keine aussagekräftigen Trainings- oder Testdaten zugeordnet werden konnten."
   ]
  },
  {
   "cell_type": "code",
   "execution_count": null,
   "id": "e36ac7d2-954c-4338-9fa1-ed4731a32585",
   "metadata": {},
   "outputs": [],
   "source": []
  }
 ],
 "metadata": {
  "kernelspec": {
   "display_name": "Python 3 (ipykernel)",
   "language": "python",
   "name": "python3"
  },
  "language_info": {
   "codemirror_mode": {
    "name": "ipython",
    "version": 3
   },
   "file_extension": ".py",
   "mimetype": "text/x-python",
   "name": "python",
   "nbconvert_exporter": "python",
   "pygments_lexer": "ipython3",
   "version": "3.8.10"
  }
 },
 "nbformat": 4,
 "nbformat_minor": 5
}
