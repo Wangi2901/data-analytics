{
 "cells": [
  {
   "cell_type": "markdown",
   "id": "bb112475",
   "metadata": {},
   "source": [
    "# 6. Klassifikation\n",
    "## Anforderungen an Projektumsetzung: Klassifikation"
   ]
  },
  {
   "cell_type": "markdown",
   "id": "209840c1",
   "metadata": {},
   "source": [
    "---\n",
    "**AUFGABE:**\n",
    "\n",
    "- Führen Sie mit dem Algorithmus Ihrer Wahl eine Klassifikationsaufgabe auf Ihren Daten durch.\n",
    "- Teilen Sie dazu zunächst die Daten auf, um Overfitting beim Trainieren des Algorithmus und bei der Parameterauswahl zu vermeiden. Erklären Sie die gewählte Strategie und die Größenverhältnisse.\n",
    "- Wählen Sie geeignete Features aus und setzen Sie die Parameter des Algorithmus. Beschreiben Sie das gewälhte Vorgehen für die Auswahl der Features und Parameter. Berichten Sie den Parameterraum und die final gewählten Parameter. Geben Sie die Performanz auf den Trainingsdaten (bzw. Entwicklungsdaten, falls verwendet) an.\n",
    "- Evaluieren Sie die Klassifikation auf den ungesehenen Testdaten. Betrachten Sie Precision und Recall sowie den F-Wert. Welches Maß ist für Ihre Anwendung wichtiger? Bewerten Sie Ihr Ergebnis. Ist es in der Praxis voraussichtlich zufriedenstellend?"
   ]
  },
  {
   "cell_type": "code",
   "execution_count": 1,
   "id": "b9f6cfe8",
   "metadata": {},
   "outputs": [],
   "source": [
    "# Imports für unten\n",
    "\n",
    "from sklearn.model_selection import train_test_split\n",
    "from sklearn.feature_extraction.text import TfidfVectorizer\n",
    "from sklearn.feature_selection import SelectFromModel\n",
    "from sklearn.svm import LinearSVC\n",
    "from sklearn.pipeline import Pipeline\n",
    "from sklearn.svm import SVC\n",
    "from sklearn.model_selection import GridSearchCV\n",
    "from sklearn.metrics import classification_report, confusion_matrix\n",
    "from sklearn.model_selection import cross_val_predict\n",
    "from sklearn.preprocessing import LabelEncoder\n",
    "import xgboost as xgb\n",
    "from xgboost import XGBClassifier\n",
    "import pandas as pd"
   ]
  },
  {
   "cell_type": "code",
   "execution_count": 2,
   "id": "858bdb16",
   "metadata": {},
   "outputs": [],
   "source": [
    "apps = pd.read_csv(\"Daten/Google-Playstore_Edit2.csv\")"
   ]
  },
  {
   "cell_type": "code",
   "execution_count": null,
   "id": "7b205c6b-e7b6-487c-924d-74e2adf9c68b",
   "metadata": {},
   "outputs": [],
   "source": []
  },
  {
   "cell_type": "code",
   "execution_count": 3,
   "id": "2aeb9b71-ab9e-4efe-bc08-fea5697ac2e6",
   "metadata": {
    "tags": []
   },
   "outputs": [],
   "source": [
    "# alle Kategorien löschen, die für uns als Unternehmen irrelevant und für eine Entwicklung ausgeschlossen sind\n",
    "less_apps = apps[apps['Category'] == 'Action'] + apps[apps['Category'] == 'Arcade'] + apps[apps['Category'] == 'Beauty'] + apps[apps['Category'] == 'Casino'] + apps[apps['Category'] == 'Comics'] + apps[apps['Category'] == 'Dating'] + apps[apps['Category'] == 'Educational'] + apps[apps['Category'] == 'Puzzle'] + apps[apps['Category'] == 'Racing'] + apps[apps['Category'] == 'Role Playing'] + apps[apps['Category'] == 'Shopping'] + apps[apps['Category'] == 'Trivia'] + apps[apps['Category'] == 'Video Players & Editors'] \n",
    "            \n",
    "apps.drop(less_apps.index, axis=0, inplace=True)            "
   ]
  },
  {
   "cell_type": "code",
   "execution_count": 4,
   "id": "28c07895-4c94-4b1f-afbd-843a9d365c81",
   "metadata": {},
   "outputs": [
    {
     "data": {
      "text/plain": [
       "Category\n",
       "Adventure             23196\n",
       "Art & Design          18538\n",
       "Auto & Vehicles       18278\n",
       "Board                 10588\n",
       "Books & Reference    116726\n",
       "Business             143761\n",
       "Card                   8179\n",
       "Casual                50797\n",
       "Communication         48159\n",
       "Education            241075\n",
       "Entertainment        138268\n",
       "Events                12839\n",
       "Finance               65456\n",
       "Food & Drink          73920\n",
       "Health & Fitness      83501\n",
       "House & Home          14369\n",
       "Libraries & Demo       5196\n",
       "Lifestyle            118324\n",
       "Maps & Navigation     26722\n",
       "Medical               32063\n",
       "Music                  4202\n",
       "Music & Audio        154898\n",
       "News & Magazines      42804\n",
       "Parenting              3810\n",
       "Personalization       89210\n",
       "Photography           35552\n",
       "Productivity          79686\n",
       "Simulation            23276\n",
       "Social                44729\n",
       "Sports                47478\n",
       "Strategy               8525\n",
       "Tools                143976\n",
       "Travel & Local        67282\n",
       "Weather                7245\n",
       "Word                   8630\n",
       "Name: Category, dtype: int64"
      ]
     },
     "execution_count": 4,
     "metadata": {},
     "output_type": "execute_result"
    }
   ],
   "source": [
    "cat = apps.groupby('Category')\n",
    "cat['Category'].count()"
   ]
  },
  {
   "cell_type": "code",
   "execution_count": 5,
   "id": "542c625d-644f-4d8f-a0e7-498620fca092",
   "metadata": {},
   "outputs": [],
   "source": [
    "# Datensatz random auf die Hälfte reduzieren und neues DataFrame erstellen\n",
    "half_apps = apps.sample(frac = 0.5)"
   ]
  },
  {
   "cell_type": "code",
   "execution_count": 6,
   "id": "110275fe",
   "metadata": {},
   "outputs": [],
   "source": [
    "# Alle Spalten mit Unique-Werten werden gedropped - zu viel Rechenkapa notwendig\n",
    "# apps_v2 = apps.copy()\n",
    "half_apps.drop(columns=['App Name', 'App Id', 'Developer Id', 'Developer Website','Minimum Android', 'Developer Email', 'Privacy Policy', 'Released', 'Scraped Time', 'Last Updated'], inplace=True)"
   ]
  },
  {
   "cell_type": "code",
   "execution_count": 7,
   "id": "987426a1",
   "metadata": {},
   "outputs": [],
   "source": [
    "# Umwandlung in Float-Werte\n",
    "half_apps['Free']             = half_apps['Free'].astype(float)\n",
    "half_apps['Ad Supported']     = half_apps['Ad Supported'].astype(float)\n",
    "half_apps['Editors Choice']   = half_apps['Editors Choice'].astype(float)\n",
    "half_apps['In App Purchases'] = half_apps['In App Purchases'].astype(float)\n",
    "half_apps['Maximum Installs'] = half_apps['Maximum Installs'].astype(float)"
   ]
  },
  {
   "cell_type": "code",
   "execution_count": 8,
   "id": "f1282b7b",
   "metadata": {
    "tags": []
   },
   "outputs": [
    {
     "data": {
      "text/plain": [
       "Category             object\n",
       "Rating              float64\n",
       "Rating Count        float64\n",
       "Installs             object\n",
       "Minimum Installs    float64\n",
       "Maximum Installs    float64\n",
       "Free                float64\n",
       "Price               float64\n",
       "Currency             object\n",
       "Size                float64\n",
       "Content Rating       object\n",
       "Ad Supported        float64\n",
       "In App Purchases    float64\n",
       "Editors Choice      float64\n",
       "Released Year       float64\n",
       "dtype: object"
      ]
     },
     "execution_count": 8,
     "metadata": {},
     "output_type": "execute_result"
    }
   ],
   "source": [
    "half_apps.dtypes"
   ]
  },
  {
   "cell_type": "code",
   "execution_count": 9,
   "id": "49dc358b",
   "metadata": {},
   "outputs": [
    {
     "data": {
      "text/html": [
       "<div>\n",
       "<style scoped>\n",
       "    .dataframe tbody tr th:only-of-type {\n",
       "        vertical-align: middle;\n",
       "    }\n",
       "\n",
       "    .dataframe tbody tr th {\n",
       "        vertical-align: top;\n",
       "    }\n",
       "\n",
       "    .dataframe thead th {\n",
       "        text-align: right;\n",
       "    }\n",
       "</style>\n",
       "<table border=\"1\" class=\"dataframe\">\n",
       "  <thead>\n",
       "    <tr style=\"text-align: right;\">\n",
       "      <th></th>\n",
       "      <th>Category</th>\n",
       "      <th>Installs</th>\n",
       "      <th>Currency</th>\n",
       "      <th>Content Rating</th>\n",
       "    </tr>\n",
       "  </thead>\n",
       "  <tbody>\n",
       "    <tr>\n",
       "      <th>1032252</th>\n",
       "      <td>Entertainment</td>\n",
       "      <td>10,000+</td>\n",
       "      <td>USD</td>\n",
       "      <td>Everyone</td>\n",
       "    </tr>\n",
       "    <tr>\n",
       "      <th>947580</th>\n",
       "      <td>Music &amp; Audio</td>\n",
       "      <td>100,000+</td>\n",
       "      <td>USD</td>\n",
       "      <td>Everyone</td>\n",
       "    </tr>\n",
       "    <tr>\n",
       "      <th>1431606</th>\n",
       "      <td>Sports</td>\n",
       "      <td>100+</td>\n",
       "      <td>USD</td>\n",
       "      <td>Everyone</td>\n",
       "    </tr>\n",
       "    <tr>\n",
       "      <th>838751</th>\n",
       "      <td>Casual</td>\n",
       "      <td>1,000,000+</td>\n",
       "      <td>USD</td>\n",
       "      <td>Everyone</td>\n",
       "    </tr>\n",
       "    <tr>\n",
       "      <th>1068578</th>\n",
       "      <td>Lifestyle</td>\n",
       "      <td>1,000+</td>\n",
       "      <td>USD</td>\n",
       "      <td>Everyone</td>\n",
       "    </tr>\n",
       "    <tr>\n",
       "      <th>...</th>\n",
       "      <td>...</td>\n",
       "      <td>...</td>\n",
       "      <td>...</td>\n",
       "      <td>...</td>\n",
       "    </tr>\n",
       "    <tr>\n",
       "      <th>905680</th>\n",
       "      <td>Tools</td>\n",
       "      <td>10,000+</td>\n",
       "      <td>USD</td>\n",
       "      <td>Everyone</td>\n",
       "    </tr>\n",
       "    <tr>\n",
       "      <th>1404030</th>\n",
       "      <td>Music &amp; Audio</td>\n",
       "      <td>50+</td>\n",
       "      <td>USD</td>\n",
       "      <td>Everyone</td>\n",
       "    </tr>\n",
       "    <tr>\n",
       "      <th>595624</th>\n",
       "      <td>Education</td>\n",
       "      <td>50,000+</td>\n",
       "      <td>USD</td>\n",
       "      <td>Everyone</td>\n",
       "    </tr>\n",
       "    <tr>\n",
       "      <th>86078</th>\n",
       "      <td>Casual</td>\n",
       "      <td>10+</td>\n",
       "      <td>USD</td>\n",
       "      <td>Everyone</td>\n",
       "    </tr>\n",
       "    <tr>\n",
       "      <th>780384</th>\n",
       "      <td>Simulation</td>\n",
       "      <td>10,000+</td>\n",
       "      <td>USD</td>\n",
       "      <td>Everyone</td>\n",
       "    </tr>\n",
       "  </tbody>\n",
       "</table>\n",
       "<p>975239 rows × 4 columns</p>\n",
       "</div>"
      ],
      "text/plain": [
       "              Category    Installs Currency Content Rating\n",
       "1032252  Entertainment     10,000+      USD       Everyone\n",
       "947580   Music & Audio    100,000+      USD       Everyone\n",
       "1431606         Sports        100+      USD       Everyone\n",
       "838751          Casual  1,000,000+      USD       Everyone\n",
       "1068578      Lifestyle      1,000+      USD       Everyone\n",
       "...                ...         ...      ...            ...\n",
       "905680           Tools     10,000+      USD       Everyone\n",
       "1404030  Music & Audio         50+      USD       Everyone\n",
       "595624       Education     50,000+      USD       Everyone\n",
       "86078           Casual         10+      USD       Everyone\n",
       "780384      Simulation     10,000+      USD       Everyone\n",
       "\n",
       "[975239 rows x 4 columns]"
      ]
     },
     "execution_count": 9,
     "metadata": {},
     "output_type": "execute_result"
    }
   ],
   "source": [
    "# Selektion von den Spalten vom Typ object\n",
    "half_apps = half_apps.dropna()\n",
    "half_apps.select_dtypes(include=['object'])"
   ]
  },
  {
   "cell_type": "code",
   "execution_count": 10,
   "id": "4eeb1fbb",
   "metadata": {},
   "outputs": [],
   "source": [
    "# Aufteilung in Listen mit numerischen und mit noch kategorischen Werten\n",
    "numerical_cols = list(half_apps.select_dtypes(include=\"float\").columns)\n",
    "categorical_cols = list(half_apps.select_dtypes(include=\"object\").columns)"
   ]
  },
  {
   "cell_type": "code",
   "execution_count": 11,
   "id": "aa83c631",
   "metadata": {},
   "outputs": [
    {
     "data": {
      "text/plain": [
       "['Installs', 'Currency', 'Content Rating']"
      ]
     },
     "execution_count": 11,
     "metadata": {},
     "output_type": "execute_result"
    }
   ],
   "source": [
    "# Löschen von Category, da dies dann als Zielklasse verwendet werden soll\n",
    "categorical_cols.remove(\"Category\")\n",
    "categorical_cols"
   ]
  },
  {
   "cell_type": "code",
   "execution_count": 12,
   "id": "9830fea4",
   "metadata": {},
   "outputs": [],
   "source": [
    "# Da Klassifikation nur mit numerischen Daten funktioniert, werden mittels\n",
    "# One-Hot-Endcoding aus den kategorischen Spalten, numerische Daten generiert\n",
    "X_dumm = pd.get_dummies(half_apps[categorical_cols])"
   ]
  },
  {
   "cell_type": "code",
   "execution_count": 13,
   "id": "f3605df2",
   "metadata": {},
   "outputs": [
    {
     "data": {
      "text/html": [
       "<div>\n",
       "<style scoped>\n",
       "    .dataframe tbody tr th:only-of-type {\n",
       "        vertical-align: middle;\n",
       "    }\n",
       "\n",
       "    .dataframe tbody tr th {\n",
       "        vertical-align: top;\n",
       "    }\n",
       "\n",
       "    .dataframe thead th {\n",
       "        text-align: right;\n",
       "    }\n",
       "</style>\n",
       "<table border=\"1\" class=\"dataframe\">\n",
       "  <thead>\n",
       "    <tr style=\"text-align: right;\">\n",
       "      <th></th>\n",
       "      <th>Installs_0+</th>\n",
       "      <th>Installs_1+</th>\n",
       "      <th>Installs_1,000+</th>\n",
       "      <th>Installs_1,000,000+</th>\n",
       "      <th>Installs_1,000,000,000+</th>\n",
       "      <th>Installs_10+</th>\n",
       "      <th>Installs_10,000+</th>\n",
       "      <th>Installs_10,000,000+</th>\n",
       "      <th>Installs_10,000,000,000+</th>\n",
       "      <th>Installs_100+</th>\n",
       "      <th>...</th>\n",
       "      <th>Currency_SGD</th>\n",
       "      <th>Currency_USD</th>\n",
       "      <th>Currency_VND</th>\n",
       "      <th>Currency_XXX</th>\n",
       "      <th>Content Rating_Adults only 18+</th>\n",
       "      <th>Content Rating_Everyone</th>\n",
       "      <th>Content Rating_Everyone 10+</th>\n",
       "      <th>Content Rating_Mature 17+</th>\n",
       "      <th>Content Rating_Teen</th>\n",
       "      <th>Content Rating_Unrated</th>\n",
       "    </tr>\n",
       "  </thead>\n",
       "  <tbody>\n",
       "    <tr>\n",
       "      <th>1032252</th>\n",
       "      <td>0</td>\n",
       "      <td>0</td>\n",
       "      <td>0</td>\n",
       "      <td>0</td>\n",
       "      <td>0</td>\n",
       "      <td>0</td>\n",
       "      <td>1</td>\n",
       "      <td>0</td>\n",
       "      <td>0</td>\n",
       "      <td>0</td>\n",
       "      <td>...</td>\n",
       "      <td>0</td>\n",
       "      <td>1</td>\n",
       "      <td>0</td>\n",
       "      <td>0</td>\n",
       "      <td>0</td>\n",
       "      <td>1</td>\n",
       "      <td>0</td>\n",
       "      <td>0</td>\n",
       "      <td>0</td>\n",
       "      <td>0</td>\n",
       "    </tr>\n",
       "    <tr>\n",
       "      <th>947580</th>\n",
       "      <td>0</td>\n",
       "      <td>0</td>\n",
       "      <td>0</td>\n",
       "      <td>0</td>\n",
       "      <td>0</td>\n",
       "      <td>0</td>\n",
       "      <td>0</td>\n",
       "      <td>0</td>\n",
       "      <td>0</td>\n",
       "      <td>0</td>\n",
       "      <td>...</td>\n",
       "      <td>0</td>\n",
       "      <td>1</td>\n",
       "      <td>0</td>\n",
       "      <td>0</td>\n",
       "      <td>0</td>\n",
       "      <td>1</td>\n",
       "      <td>0</td>\n",
       "      <td>0</td>\n",
       "      <td>0</td>\n",
       "      <td>0</td>\n",
       "    </tr>\n",
       "  </tbody>\n",
       "</table>\n",
       "<p>2 rows × 36 columns</p>\n",
       "</div>"
      ],
      "text/plain": [
       "         Installs_0+  Installs_1+  Installs_1,000+  Installs_1,000,000+  \\\n",
       "1032252            0            0                0                    0   \n",
       "947580             0            0                0                    0   \n",
       "\n",
       "         Installs_1,000,000,000+  Installs_10+  Installs_10,000+  \\\n",
       "1032252                        0             0                 1   \n",
       "947580                         0             0                 0   \n",
       "\n",
       "         Installs_10,000,000+  Installs_10,000,000,000+  Installs_100+  ...  \\\n",
       "1032252                     0                         0              0  ...   \n",
       "947580                      0                         0              0  ...   \n",
       "\n",
       "         Currency_SGD  Currency_USD  Currency_VND  Currency_XXX  \\\n",
       "1032252             0             1             0             0   \n",
       "947580              0             1             0             0   \n",
       "\n",
       "         Content Rating_Adults only 18+  Content Rating_Everyone  \\\n",
       "1032252                               0                        1   \n",
       "947580                                0                        1   \n",
       "\n",
       "         Content Rating_Everyone 10+  Content Rating_Mature 17+  \\\n",
       "1032252                            0                          0   \n",
       "947580                             0                          0   \n",
       "\n",
       "         Content Rating_Teen  Content Rating_Unrated  \n",
       "1032252                    0                       0  \n",
       "947580                     0                       0  \n",
       "\n",
       "[2 rows x 36 columns]"
      ]
     },
     "execution_count": 13,
     "metadata": {},
     "output_type": "execute_result"
    }
   ],
   "source": [
    "X_dumm.head(2)"
   ]
  },
  {
   "cell_type": "code",
   "execution_count": 14,
   "id": "1c53a7a2",
   "metadata": {},
   "outputs": [],
   "source": [
    "# Zusammenfügen beider numerischen Listen\n",
    "X = pd.concat([half_apps[numerical_cols], X_dumm], axis = 1)"
   ]
  },
  {
   "cell_type": "code",
   "execution_count": 15,
   "id": "b4723164",
   "metadata": {},
   "outputs": [
    {
     "data": {
      "text/html": [
       "<div>\n",
       "<style scoped>\n",
       "    .dataframe tbody tr th:only-of-type {\n",
       "        vertical-align: middle;\n",
       "    }\n",
       "\n",
       "    .dataframe tbody tr th {\n",
       "        vertical-align: top;\n",
       "    }\n",
       "\n",
       "    .dataframe thead th {\n",
       "        text-align: right;\n",
       "    }\n",
       "</style>\n",
       "<table border=\"1\" class=\"dataframe\">\n",
       "  <thead>\n",
       "    <tr style=\"text-align: right;\">\n",
       "      <th></th>\n",
       "      <th>Rating</th>\n",
       "      <th>Rating Count</th>\n",
       "      <th>Minimum Installs</th>\n",
       "      <th>Maximum Installs</th>\n",
       "      <th>Free</th>\n",
       "      <th>Price</th>\n",
       "      <th>Size</th>\n",
       "      <th>Ad Supported</th>\n",
       "      <th>In App Purchases</th>\n",
       "      <th>Editors Choice</th>\n",
       "      <th>...</th>\n",
       "      <th>Currency_SGD</th>\n",
       "      <th>Currency_USD</th>\n",
       "      <th>Currency_VND</th>\n",
       "      <th>Currency_XXX</th>\n",
       "      <th>Content Rating_Adults only 18+</th>\n",
       "      <th>Content Rating_Everyone</th>\n",
       "      <th>Content Rating_Everyone 10+</th>\n",
       "      <th>Content Rating_Mature 17+</th>\n",
       "      <th>Content Rating_Teen</th>\n",
       "      <th>Content Rating_Unrated</th>\n",
       "    </tr>\n",
       "  </thead>\n",
       "  <tbody>\n",
       "    <tr>\n",
       "      <th>1032252</th>\n",
       "      <td>3.5</td>\n",
       "      <td>56.0</td>\n",
       "      <td>10000.0</td>\n",
       "      <td>11426.0</td>\n",
       "      <td>1.0</td>\n",
       "      <td>0.0</td>\n",
       "      <td>0.0</td>\n",
       "      <td>1.0</td>\n",
       "      <td>0.0</td>\n",
       "      <td>0.0</td>\n",
       "      <td>...</td>\n",
       "      <td>0</td>\n",
       "      <td>1</td>\n",
       "      <td>0</td>\n",
       "      <td>0</td>\n",
       "      <td>0</td>\n",
       "      <td>1</td>\n",
       "      <td>0</td>\n",
       "      <td>0</td>\n",
       "      <td>0</td>\n",
       "      <td>0</td>\n",
       "    </tr>\n",
       "    <tr>\n",
       "      <th>947580</th>\n",
       "      <td>3.7</td>\n",
       "      <td>402.0</td>\n",
       "      <td>100000.0</td>\n",
       "      <td>130419.0</td>\n",
       "      <td>1.0</td>\n",
       "      <td>0.0</td>\n",
       "      <td>14.0</td>\n",
       "      <td>1.0</td>\n",
       "      <td>0.0</td>\n",
       "      <td>0.0</td>\n",
       "      <td>...</td>\n",
       "      <td>0</td>\n",
       "      <td>1</td>\n",
       "      <td>0</td>\n",
       "      <td>0</td>\n",
       "      <td>0</td>\n",
       "      <td>1</td>\n",
       "      <td>0</td>\n",
       "      <td>0</td>\n",
       "      <td>0</td>\n",
       "      <td>0</td>\n",
       "    </tr>\n",
       "    <tr>\n",
       "      <th>1431606</th>\n",
       "      <td>0.0</td>\n",
       "      <td>0.0</td>\n",
       "      <td>100.0</td>\n",
       "      <td>165.0</td>\n",
       "      <td>1.0</td>\n",
       "      <td>0.0</td>\n",
       "      <td>11.0</td>\n",
       "      <td>0.0</td>\n",
       "      <td>0.0</td>\n",
       "      <td>0.0</td>\n",
       "      <td>...</td>\n",
       "      <td>0</td>\n",
       "      <td>1</td>\n",
       "      <td>0</td>\n",
       "      <td>0</td>\n",
       "      <td>0</td>\n",
       "      <td>1</td>\n",
       "      <td>0</td>\n",
       "      <td>0</td>\n",
       "      <td>0</td>\n",
       "      <td>0</td>\n",
       "    </tr>\n",
       "    <tr>\n",
       "      <th>838751</th>\n",
       "      <td>3.9</td>\n",
       "      <td>13013.0</td>\n",
       "      <td>1000000.0</td>\n",
       "      <td>4066159.0</td>\n",
       "      <td>1.0</td>\n",
       "      <td>0.0</td>\n",
       "      <td>7.5</td>\n",
       "      <td>1.0</td>\n",
       "      <td>0.0</td>\n",
       "      <td>0.0</td>\n",
       "      <td>...</td>\n",
       "      <td>0</td>\n",
       "      <td>1</td>\n",
       "      <td>0</td>\n",
       "      <td>0</td>\n",
       "      <td>0</td>\n",
       "      <td>1</td>\n",
       "      <td>0</td>\n",
       "      <td>0</td>\n",
       "      <td>0</td>\n",
       "      <td>0</td>\n",
       "    </tr>\n",
       "    <tr>\n",
       "      <th>1068578</th>\n",
       "      <td>3.3</td>\n",
       "      <td>12.0</td>\n",
       "      <td>1000.0</td>\n",
       "      <td>2190.0</td>\n",
       "      <td>1.0</td>\n",
       "      <td>0.0</td>\n",
       "      <td>4.0</td>\n",
       "      <td>1.0</td>\n",
       "      <td>0.0</td>\n",
       "      <td>0.0</td>\n",
       "      <td>...</td>\n",
       "      <td>0</td>\n",
       "      <td>1</td>\n",
       "      <td>0</td>\n",
       "      <td>0</td>\n",
       "      <td>0</td>\n",
       "      <td>1</td>\n",
       "      <td>0</td>\n",
       "      <td>0</td>\n",
       "      <td>0</td>\n",
       "      <td>0</td>\n",
       "    </tr>\n",
       "  </tbody>\n",
       "</table>\n",
       "<p>5 rows × 47 columns</p>\n",
       "</div>"
      ],
      "text/plain": [
       "         Rating  Rating Count  Minimum Installs  Maximum Installs  Free  \\\n",
       "1032252     3.5          56.0           10000.0           11426.0   1.0   \n",
       "947580      3.7         402.0          100000.0          130419.0   1.0   \n",
       "1431606     0.0           0.0             100.0             165.0   1.0   \n",
       "838751      3.9       13013.0         1000000.0         4066159.0   1.0   \n",
       "1068578     3.3          12.0            1000.0            2190.0   1.0   \n",
       "\n",
       "         Price  Size  Ad Supported  In App Purchases  Editors Choice  ...  \\\n",
       "1032252    0.0   0.0           1.0               0.0             0.0  ...   \n",
       "947580     0.0  14.0           1.0               0.0             0.0  ...   \n",
       "1431606    0.0  11.0           0.0               0.0             0.0  ...   \n",
       "838751     0.0   7.5           1.0               0.0             0.0  ...   \n",
       "1068578    0.0   4.0           1.0               0.0             0.0  ...   \n",
       "\n",
       "         Currency_SGD  Currency_USD  Currency_VND  Currency_XXX  \\\n",
       "1032252             0             1             0             0   \n",
       "947580              0             1             0             0   \n",
       "1431606             0             1             0             0   \n",
       "838751              0             1             0             0   \n",
       "1068578             0             1             0             0   \n",
       "\n",
       "         Content Rating_Adults only 18+  Content Rating_Everyone  \\\n",
       "1032252                               0                        1   \n",
       "947580                                0                        1   \n",
       "1431606                               0                        1   \n",
       "838751                                0                        1   \n",
       "1068578                               0                        1   \n",
       "\n",
       "         Content Rating_Everyone 10+  Content Rating_Mature 17+  \\\n",
       "1032252                            0                          0   \n",
       "947580                             0                          0   \n",
       "1431606                            0                          0   \n",
       "838751                             0                          0   \n",
       "1068578                            0                          0   \n",
       "\n",
       "         Content Rating_Teen  Content Rating_Unrated  \n",
       "1032252                    0                       0  \n",
       "947580                     0                       0  \n",
       "1431606                    0                       0  \n",
       "838751                     0                       0  \n",
       "1068578                    0                       0  \n",
       "\n",
       "[5 rows x 47 columns]"
      ]
     },
     "execution_count": 15,
     "metadata": {},
     "output_type": "execute_result"
    }
   ],
   "source": [
    "X.head()"
   ]
  },
  {
   "cell_type": "code",
   "execution_count": 16,
   "id": "2cb8941b",
   "metadata": {},
   "outputs": [
    {
     "name": "stdout",
     "output_type": "stream",
     "text": [
      "X und y haben gleiche Anzahl: True\n"
     ]
    }
   ],
   "source": [
    "y = half_apps['Category'] #.copy()\n",
    "print(f\"X und y haben gleiche Anzahl: {X.shape[0] == y.shape[0]}\")"
   ]
  },
  {
   "cell_type": "code",
   "execution_count": 17,
   "id": "0e8433bd",
   "metadata": {},
   "outputs": [],
   "source": [
    "label_encoder = LabelEncoder()"
   ]
  },
  {
   "cell_type": "code",
   "execution_count": 18,
   "id": "3ea95f90",
   "metadata": {},
   "outputs": [],
   "source": [
    "y = label_encoder.fit_transform(y) # macht alles zu 0, 1, 2,3 ..."
   ]
  },
  {
   "cell_type": "code",
   "execution_count": 19,
   "id": "be4808e7",
   "metadata": {},
   "outputs": [],
   "source": [
    "# Daten in Trainings- und Test aufteilen\n",
    "X_train, X_test1, y_train, y_test1 = train_test_split(X, y, test_size=0.2, random_state=42, stratify=y)\n",
    "\n",
    "# Testdaten in Entwicklung und echten Test aufteilen (50-50, stratifiziert)\n",
    "X_dev, X_test, y_dev, y_test = train_test_split(X_test1, y_test1, test_size=0.5, stratify=y_test1, random_state=42)"
   ]
  },
  {
   "cell_type": "markdown",
   "id": "cb458c99-e0e6-4df0-9981-6261087c233b",
   "metadata": {},
   "source": [
    "- Gridsearch durchführen\n",
    "- manuelle Vorhersagen ebenso durchführen"
   ]
  },
  {
   "cell_type": "code",
   "execution_count": 22,
   "id": "dc27ea0c-0a9f-4085-9ab6-acdeb3c530b0",
   "metadata": {},
   "outputs": [
    {
     "name": "stdout",
     "output_type": "stream",
     "text": [
      "Fitting 5 folds for each of 4 candidates, totalling 20 fits\n",
      "[CV 1/5; 1/4] START classifier__booster=gbtree, feature_selection__threshold=None\n"
     ]
    },
    {
     "name": "stderr",
     "output_type": "stream",
     "text": [
      "/home/user/.local/lib/python3.8/site-packages/sklearn/svm/_base.py:1206: ConvergenceWarning: Liblinear failed to converge, increase the number of iterations.\n",
      "  warnings.warn(\n",
      "/usr/local/lib/python3.8/dist-packages/xgboost/sklearn.py:1224: UserWarning: The use of label encoder in XGBClassifier is deprecated and will be removed in a future release. To remove this warning, do the following: 1) Pass option use_label_encoder=False when constructing XGBClassifier object; and 2) Encode your labels (y) as integers starting with 0, i.e. 0, 1, 2, ..., [num_class - 1].\n",
      "  warnings.warn(label_encoder_deprecation_msg, UserWarning)\n"
     ]
    },
    {
     "name": "stdout",
     "output_type": "stream",
     "text": [
      "[10:33:14] WARNING: ../src/learner.cc:1115: Starting in XGBoost 1.3.0, the default evaluation metric used with the objective 'multi:softprob' was changed from 'merror' to 'mlogloss'. Explicitly set eval_metric if you'd like to restore the old behavior.\n",
      "[CV 1/5; 1/4] END classifier__booster=gbtree, feature_selection__threshold=None;, score=0.207 total time=13.3min\n",
      "[CV 2/5; 1/4] START classifier__booster=gbtree, feature_selection__threshold=None\n"
     ]
    },
    {
     "name": "stderr",
     "output_type": "stream",
     "text": [
      "/home/user/.local/lib/python3.8/site-packages/sklearn/svm/_base.py:1206: ConvergenceWarning: Liblinear failed to converge, increase the number of iterations.\n",
      "  warnings.warn(\n",
      "/usr/local/lib/python3.8/dist-packages/xgboost/sklearn.py:1224: UserWarning: The use of label encoder in XGBClassifier is deprecated and will be removed in a future release. To remove this warning, do the following: 1) Pass option use_label_encoder=False when constructing XGBClassifier object; and 2) Encode your labels (y) as integers starting with 0, i.e. 0, 1, 2, ..., [num_class - 1].\n",
      "  warnings.warn(label_encoder_deprecation_msg, UserWarning)\n"
     ]
    },
    {
     "name": "stdout",
     "output_type": "stream",
     "text": [
      "[10:46:40] WARNING: ../src/learner.cc:1115: Starting in XGBoost 1.3.0, the default evaluation metric used with the objective 'multi:softprob' was changed from 'merror' to 'mlogloss'. Explicitly set eval_metric if you'd like to restore the old behavior.\n",
      "[CV 2/5; 1/4] END classifier__booster=gbtree, feature_selection__threshold=None;, score=0.197 total time=13.7min\n",
      "[CV 3/5; 1/4] START classifier__booster=gbtree, feature_selection__threshold=None\n"
     ]
    },
    {
     "name": "stderr",
     "output_type": "stream",
     "text": [
      "/home/user/.local/lib/python3.8/site-packages/sklearn/svm/_base.py:1206: ConvergenceWarning: Liblinear failed to converge, increase the number of iterations.\n",
      "  warnings.warn(\n",
      "/usr/local/lib/python3.8/dist-packages/xgboost/sklearn.py:1224: UserWarning: The use of label encoder in XGBClassifier is deprecated and will be removed in a future release. To remove this warning, do the following: 1) Pass option use_label_encoder=False when constructing XGBClassifier object; and 2) Encode your labels (y) as integers starting with 0, i.e. 0, 1, 2, ..., [num_class - 1].\n",
      "  warnings.warn(label_encoder_deprecation_msg, UserWarning)\n"
     ]
    },
    {
     "name": "stdout",
     "output_type": "stream",
     "text": [
      "[11:00:19] WARNING: ../src/learner.cc:1115: Starting in XGBoost 1.3.0, the default evaluation metric used with the objective 'multi:softprob' was changed from 'merror' to 'mlogloss'. Explicitly set eval_metric if you'd like to restore the old behavior.\n",
      "[CV 3/5; 1/4] END classifier__booster=gbtree, feature_selection__threshold=None;, score=0.209 total time=13.3min\n",
      "[CV 4/5; 1/4] START classifier__booster=gbtree, feature_selection__threshold=None\n"
     ]
    },
    {
     "name": "stderr",
     "output_type": "stream",
     "text": [
      "/home/user/.local/lib/python3.8/site-packages/sklearn/svm/_base.py:1206: ConvergenceWarning: Liblinear failed to converge, increase the number of iterations.\n",
      "  warnings.warn(\n",
      "/usr/local/lib/python3.8/dist-packages/xgboost/sklearn.py:1224: UserWarning: The use of label encoder in XGBClassifier is deprecated and will be removed in a future release. To remove this warning, do the following: 1) Pass option use_label_encoder=False when constructing XGBClassifier object; and 2) Encode your labels (y) as integers starting with 0, i.e. 0, 1, 2, ..., [num_class - 1].\n",
      "  warnings.warn(label_encoder_deprecation_msg, UserWarning)\n"
     ]
    },
    {
     "name": "stdout",
     "output_type": "stream",
     "text": [
      "[11:13:36] WARNING: ../src/learner.cc:1115: Starting in XGBoost 1.3.0, the default evaluation metric used with the objective 'multi:softprob' was changed from 'merror' to 'mlogloss'. Explicitly set eval_metric if you'd like to restore the old behavior.\n",
      "[CV 4/5; 1/4] END classifier__booster=gbtree, feature_selection__threshold=None;, score=0.205 total time=13.4min\n",
      "[CV 5/5; 1/4] START classifier__booster=gbtree, feature_selection__threshold=None\n"
     ]
    },
    {
     "name": "stderr",
     "output_type": "stream",
     "text": [
      "/home/user/.local/lib/python3.8/site-packages/sklearn/svm/_base.py:1206: ConvergenceWarning: Liblinear failed to converge, increase the number of iterations.\n",
      "  warnings.warn(\n",
      "/usr/local/lib/python3.8/dist-packages/xgboost/sklearn.py:1224: UserWarning: The use of label encoder in XGBClassifier is deprecated and will be removed in a future release. To remove this warning, do the following: 1) Pass option use_label_encoder=False when constructing XGBClassifier object; and 2) Encode your labels (y) as integers starting with 0, i.e. 0, 1, 2, ..., [num_class - 1].\n",
      "  warnings.warn(label_encoder_deprecation_msg, UserWarning)\n"
     ]
    },
    {
     "name": "stdout",
     "output_type": "stream",
     "text": [
      "[11:26:56] WARNING: ../src/learner.cc:1115: Starting in XGBoost 1.3.0, the default evaluation metric used with the objective 'multi:softprob' was changed from 'merror' to 'mlogloss'. Explicitly set eval_metric if you'd like to restore the old behavior.\n",
      "[CV 5/5; 1/4] END classifier__booster=gbtree, feature_selection__threshold=None;, score=0.209 total time=11.9min\n",
      "[CV 1/5; 2/4] START classifier__booster=gbtree, feature_selection__threshold=mean\n"
     ]
    },
    {
     "name": "stderr",
     "output_type": "stream",
     "text": [
      "/home/user/.local/lib/python3.8/site-packages/sklearn/svm/_base.py:1206: ConvergenceWarning: Liblinear failed to converge, increase the number of iterations.\n",
      "  warnings.warn(\n",
      "/usr/local/lib/python3.8/dist-packages/xgboost/sklearn.py:1224: UserWarning: The use of label encoder in XGBClassifier is deprecated and will be removed in a future release. To remove this warning, do the following: 1) Pass option use_label_encoder=False when constructing XGBClassifier object; and 2) Encode your labels (y) as integers starting with 0, i.e. 0, 1, 2, ..., [num_class - 1].\n",
      "  warnings.warn(label_encoder_deprecation_msg, UserWarning)\n"
     ]
    },
    {
     "name": "stdout",
     "output_type": "stream",
     "text": [
      "[11:38:32] WARNING: ../src/learner.cc:1115: Starting in XGBoost 1.3.0, the default evaluation metric used with the objective 'multi:softprob' was changed from 'merror' to 'mlogloss'. Explicitly set eval_metric if you'd like to restore the old behavior.\n",
      "[CV 1/5; 2/4] END classifier__booster=gbtree, feature_selection__threshold=mean;, score=0.149 total time= 7.9min\n",
      "[CV 2/5; 2/4] START classifier__booster=gbtree, feature_selection__threshold=mean\n"
     ]
    },
    {
     "name": "stderr",
     "output_type": "stream",
     "text": [
      "/home/user/.local/lib/python3.8/site-packages/sklearn/svm/_base.py:1206: ConvergenceWarning: Liblinear failed to converge, increase the number of iterations.\n",
      "  warnings.warn(\n",
      "/usr/local/lib/python3.8/dist-packages/xgboost/sklearn.py:1224: UserWarning: The use of label encoder in XGBClassifier is deprecated and will be removed in a future release. To remove this warning, do the following: 1) Pass option use_label_encoder=False when constructing XGBClassifier object; and 2) Encode your labels (y) as integers starting with 0, i.e. 0, 1, 2, ..., [num_class - 1].\n",
      "  warnings.warn(label_encoder_deprecation_msg, UserWarning)\n"
     ]
    },
    {
     "name": "stdout",
     "output_type": "stream",
     "text": [
      "[11:46:21] WARNING: ../src/learner.cc:1115: Starting in XGBoost 1.3.0, the default evaluation metric used with the objective 'multi:softprob' was changed from 'merror' to 'mlogloss'. Explicitly set eval_metric if you'd like to restore the old behavior.\n",
      "[CV 2/5; 2/4] END classifier__booster=gbtree, feature_selection__threshold=mean;, score=0.147 total time= 8.6min\n",
      "[CV 3/5; 2/4] START classifier__booster=gbtree, feature_selection__threshold=mean\n"
     ]
    },
    {
     "name": "stderr",
     "output_type": "stream",
     "text": [
      "/home/user/.local/lib/python3.8/site-packages/sklearn/svm/_base.py:1206: ConvergenceWarning: Liblinear failed to converge, increase the number of iterations.\n",
      "  warnings.warn(\n",
      "/usr/local/lib/python3.8/dist-packages/xgboost/sklearn.py:1224: UserWarning: The use of label encoder in XGBClassifier is deprecated and will be removed in a future release. To remove this warning, do the following: 1) Pass option use_label_encoder=False when constructing XGBClassifier object; and 2) Encode your labels (y) as integers starting with 0, i.e. 0, 1, 2, ..., [num_class - 1].\n",
      "  warnings.warn(label_encoder_deprecation_msg, UserWarning)\n"
     ]
    },
    {
     "name": "stdout",
     "output_type": "stream",
     "text": [
      "[11:55:07] WARNING: ../src/learner.cc:1115: Starting in XGBoost 1.3.0, the default evaluation metric used with the objective 'multi:softprob' was changed from 'merror' to 'mlogloss'. Explicitly set eval_metric if you'd like to restore the old behavior.\n",
      "[CV 3/5; 2/4] END classifier__booster=gbtree, feature_selection__threshold=mean;, score=0.147 total time= 8.9min\n",
      "[CV 4/5; 2/4] START classifier__booster=gbtree, feature_selection__threshold=mean\n"
     ]
    },
    {
     "name": "stderr",
     "output_type": "stream",
     "text": [
      "/home/user/.local/lib/python3.8/site-packages/sklearn/svm/_base.py:1206: ConvergenceWarning: Liblinear failed to converge, increase the number of iterations.\n",
      "  warnings.warn(\n",
      "/usr/local/lib/python3.8/dist-packages/xgboost/sklearn.py:1224: UserWarning: The use of label encoder in XGBClassifier is deprecated and will be removed in a future release. To remove this warning, do the following: 1) Pass option use_label_encoder=False when constructing XGBClassifier object; and 2) Encode your labels (y) as integers starting with 0, i.e. 0, 1, 2, ..., [num_class - 1].\n",
      "  warnings.warn(label_encoder_deprecation_msg, UserWarning)\n"
     ]
    },
    {
     "name": "stdout",
     "output_type": "stream",
     "text": [
      "[12:03:56] WARNING: ../src/learner.cc:1115: Starting in XGBoost 1.3.0, the default evaluation metric used with the objective 'multi:softprob' was changed from 'merror' to 'mlogloss'. Explicitly set eval_metric if you'd like to restore the old behavior.\n",
      "[CV 4/5; 2/4] END classifier__booster=gbtree, feature_selection__threshold=mean;, score=0.151 total time= 8.4min\n",
      "[CV 5/5; 2/4] START classifier__booster=gbtree, feature_selection__threshold=mean\n"
     ]
    },
    {
     "name": "stderr",
     "output_type": "stream",
     "text": [
      "/home/user/.local/lib/python3.8/site-packages/sklearn/svm/_base.py:1206: ConvergenceWarning: Liblinear failed to converge, increase the number of iterations.\n",
      "  warnings.warn(\n",
      "/usr/local/lib/python3.8/dist-packages/xgboost/sklearn.py:1224: UserWarning: The use of label encoder in XGBClassifier is deprecated and will be removed in a future release. To remove this warning, do the following: 1) Pass option use_label_encoder=False when constructing XGBClassifier object; and 2) Encode your labels (y) as integers starting with 0, i.e. 0, 1, 2, ..., [num_class - 1].\n",
      "  warnings.warn(label_encoder_deprecation_msg, UserWarning)\n"
     ]
    },
    {
     "name": "stdout",
     "output_type": "stream",
     "text": [
      "[12:12:18] WARNING: ../src/learner.cc:1115: Starting in XGBoost 1.3.0, the default evaluation metric used with the objective 'multi:softprob' was changed from 'merror' to 'mlogloss'. Explicitly set eval_metric if you'd like to restore the old behavior.\n",
      "[CV 5/5; 2/4] END classifier__booster=gbtree, feature_selection__threshold=mean;, score=0.147 total time= 8.5min\n",
      "[CV 1/5; 3/4] START classifier__booster=gblinear, feature_selection__threshold=None\n"
     ]
    },
    {
     "name": "stderr",
     "output_type": "stream",
     "text": [
      "/home/user/.local/lib/python3.8/site-packages/sklearn/svm/_base.py:1206: ConvergenceWarning: Liblinear failed to converge, increase the number of iterations.\n",
      "  warnings.warn(\n",
      "/usr/local/lib/python3.8/dist-packages/xgboost/sklearn.py:1224: UserWarning: The use of label encoder in XGBClassifier is deprecated and will be removed in a future release. To remove this warning, do the following: 1) Pass option use_label_encoder=False when constructing XGBClassifier object; and 2) Encode your labels (y) as integers starting with 0, i.e. 0, 1, 2, ..., [num_class - 1].\n",
      "  warnings.warn(label_encoder_deprecation_msg, UserWarning)\n"
     ]
    },
    {
     "name": "stdout",
     "output_type": "stream",
     "text": [
      "[12:20:45] WARNING: ../src/learner.cc:1115: Starting in XGBoost 1.3.0, the default evaluation metric used with the objective 'multi:softprob' was changed from 'merror' to 'mlogloss'. Explicitly set eval_metric if you'd like to restore the old behavior.\n",
      "[CV 1/5; 3/4] END classifier__booster=gblinear, feature_selection__threshold=None;, score=0.161 total time= 2.5min\n",
      "[CV 2/5; 3/4] START classifier__booster=gblinear, feature_selection__threshold=None\n"
     ]
    },
    {
     "name": "stderr",
     "output_type": "stream",
     "text": [
      "/home/user/.local/lib/python3.8/site-packages/sklearn/svm/_base.py:1206: ConvergenceWarning: Liblinear failed to converge, increase the number of iterations.\n",
      "  warnings.warn(\n",
      "/usr/local/lib/python3.8/dist-packages/xgboost/sklearn.py:1224: UserWarning: The use of label encoder in XGBClassifier is deprecated and will be removed in a future release. To remove this warning, do the following: 1) Pass option use_label_encoder=False when constructing XGBClassifier object; and 2) Encode your labels (y) as integers starting with 0, i.e. 0, 1, 2, ..., [num_class - 1].\n",
      "  warnings.warn(label_encoder_deprecation_msg, UserWarning)\n"
     ]
    },
    {
     "name": "stdout",
     "output_type": "stream",
     "text": [
      "[12:23:14] WARNING: ../src/learner.cc:1115: Starting in XGBoost 1.3.0, the default evaluation metric used with the objective 'multi:softprob' was changed from 'merror' to 'mlogloss'. Explicitly set eval_metric if you'd like to restore the old behavior.\n",
      "[CV 2/5; 3/4] END classifier__booster=gblinear, feature_selection__threshold=None;, score=0.164 total time= 2.4min\n",
      "[CV 3/5; 3/4] START classifier__booster=gblinear, feature_selection__threshold=None\n"
     ]
    },
    {
     "name": "stderr",
     "output_type": "stream",
     "text": [
      "/home/user/.local/lib/python3.8/site-packages/sklearn/svm/_base.py:1206: ConvergenceWarning: Liblinear failed to converge, increase the number of iterations.\n",
      "  warnings.warn(\n",
      "/usr/local/lib/python3.8/dist-packages/xgboost/sklearn.py:1224: UserWarning: The use of label encoder in XGBClassifier is deprecated and will be removed in a future release. To remove this warning, do the following: 1) Pass option use_label_encoder=False when constructing XGBClassifier object; and 2) Encode your labels (y) as integers starting with 0, i.e. 0, 1, 2, ..., [num_class - 1].\n",
      "  warnings.warn(label_encoder_deprecation_msg, UserWarning)\n"
     ]
    },
    {
     "name": "stdout",
     "output_type": "stream",
     "text": [
      "[12:25:36] WARNING: ../src/learner.cc:1115: Starting in XGBoost 1.3.0, the default evaluation metric used with the objective 'multi:softprob' was changed from 'merror' to 'mlogloss'. Explicitly set eval_metric if you'd like to restore the old behavior.\n",
      "[CV 3/5; 3/4] END classifier__booster=gblinear, feature_selection__threshold=None;, score=0.166 total time= 2.5min\n",
      "[CV 4/5; 3/4] START classifier__booster=gblinear, feature_selection__threshold=None\n"
     ]
    },
    {
     "name": "stderr",
     "output_type": "stream",
     "text": [
      "/home/user/.local/lib/python3.8/site-packages/sklearn/svm/_base.py:1206: ConvergenceWarning: Liblinear failed to converge, increase the number of iterations.\n",
      "  warnings.warn(\n",
      "/usr/local/lib/python3.8/dist-packages/xgboost/sklearn.py:1224: UserWarning: The use of label encoder in XGBClassifier is deprecated and will be removed in a future release. To remove this warning, do the following: 1) Pass option use_label_encoder=False when constructing XGBClassifier object; and 2) Encode your labels (y) as integers starting with 0, i.e. 0, 1, 2, ..., [num_class - 1].\n",
      "  warnings.warn(label_encoder_deprecation_msg, UserWarning)\n"
     ]
    },
    {
     "name": "stdout",
     "output_type": "stream",
     "text": [
      "[12:28:24] WARNING: ../src/learner.cc:1115: Starting in XGBoost 1.3.0, the default evaluation metric used with the objective 'multi:softprob' was changed from 'merror' to 'mlogloss'. Explicitly set eval_metric if you'd like to restore the old behavior.\n",
      "[CV 4/5; 3/4] END classifier__booster=gblinear, feature_selection__threshold=None;, score=0.168 total time= 2.6min\n",
      "[CV 5/5; 3/4] START classifier__booster=gblinear, feature_selection__threshold=None\n"
     ]
    },
    {
     "name": "stderr",
     "output_type": "stream",
     "text": [
      "/home/user/.local/lib/python3.8/site-packages/sklearn/svm/_base.py:1206: ConvergenceWarning: Liblinear failed to converge, increase the number of iterations.\n",
      "  warnings.warn(\n",
      "/usr/local/lib/python3.8/dist-packages/xgboost/sklearn.py:1224: UserWarning: The use of label encoder in XGBClassifier is deprecated and will be removed in a future release. To remove this warning, do the following: 1) Pass option use_label_encoder=False when constructing XGBClassifier object; and 2) Encode your labels (y) as integers starting with 0, i.e. 0, 1, 2, ..., [num_class - 1].\n",
      "  warnings.warn(label_encoder_deprecation_msg, UserWarning)\n"
     ]
    },
    {
     "name": "stdout",
     "output_type": "stream",
     "text": [
      "[12:30:53] WARNING: ../src/learner.cc:1115: Starting in XGBoost 1.3.0, the default evaluation metric used with the objective 'multi:softprob' was changed from 'merror' to 'mlogloss'. Explicitly set eval_metric if you'd like to restore the old behavior.\n",
      "[CV 5/5; 3/4] END classifier__booster=gblinear, feature_selection__threshold=None;, score=0.165 total time= 2.5min\n",
      "[CV 1/5; 4/4] START classifier__booster=gblinear, feature_selection__threshold=mean\n"
     ]
    },
    {
     "name": "stderr",
     "output_type": "stream",
     "text": [
      "/home/user/.local/lib/python3.8/site-packages/sklearn/svm/_base.py:1206: ConvergenceWarning: Liblinear failed to converge, increase the number of iterations.\n",
      "  warnings.warn(\n",
      "/usr/local/lib/python3.8/dist-packages/xgboost/sklearn.py:1224: UserWarning: The use of label encoder in XGBClassifier is deprecated and will be removed in a future release. To remove this warning, do the following: 1) Pass option use_label_encoder=False when constructing XGBClassifier object; and 2) Encode your labels (y) as integers starting with 0, i.e. 0, 1, 2, ..., [num_class - 1].\n",
      "  warnings.warn(label_encoder_deprecation_msg, UserWarning)\n"
     ]
    },
    {
     "name": "stdout",
     "output_type": "stream",
     "text": [
      "[12:33:19] WARNING: ../src/learner.cc:1115: Starting in XGBoost 1.3.0, the default evaluation metric used with the objective 'multi:softprob' was changed from 'merror' to 'mlogloss'. Explicitly set eval_metric if you'd like to restore the old behavior.\n",
      "[CV 1/5; 4/4] END classifier__booster=gblinear, feature_selection__threshold=mean;, score=0.142 total time= 2.0min\n",
      "[CV 2/5; 4/4] START classifier__booster=gblinear, feature_selection__threshold=mean\n"
     ]
    },
    {
     "name": "stderr",
     "output_type": "stream",
     "text": [
      "/home/user/.local/lib/python3.8/site-packages/sklearn/svm/_base.py:1206: ConvergenceWarning: Liblinear failed to converge, increase the number of iterations.\n",
      "  warnings.warn(\n",
      "/usr/local/lib/python3.8/dist-packages/xgboost/sklearn.py:1224: UserWarning: The use of label encoder in XGBClassifier is deprecated and will be removed in a future release. To remove this warning, do the following: 1) Pass option use_label_encoder=False when constructing XGBClassifier object; and 2) Encode your labels (y) as integers starting with 0, i.e. 0, 1, 2, ..., [num_class - 1].\n",
      "  warnings.warn(label_encoder_deprecation_msg, UserWarning)\n"
     ]
    },
    {
     "name": "stdout",
     "output_type": "stream",
     "text": [
      "[12:35:15] WARNING: ../src/learner.cc:1115: Starting in XGBoost 1.3.0, the default evaluation metric used with the objective 'multi:softprob' was changed from 'merror' to 'mlogloss'. Explicitly set eval_metric if you'd like to restore the old behavior.\n",
      "[CV 2/5; 4/4] END classifier__booster=gblinear, feature_selection__threshold=mean;, score=0.142 total time= 1.9min\n",
      "[CV 3/5; 4/4] START classifier__booster=gblinear, feature_selection__threshold=mean\n"
     ]
    },
    {
     "name": "stderr",
     "output_type": "stream",
     "text": [
      "/home/user/.local/lib/python3.8/site-packages/sklearn/svm/_base.py:1206: ConvergenceWarning: Liblinear failed to converge, increase the number of iterations.\n",
      "  warnings.warn(\n",
      "/usr/local/lib/python3.8/dist-packages/xgboost/sklearn.py:1224: UserWarning: The use of label encoder in XGBClassifier is deprecated and will be removed in a future release. To remove this warning, do the following: 1) Pass option use_label_encoder=False when constructing XGBClassifier object; and 2) Encode your labels (y) as integers starting with 0, i.e. 0, 1, 2, ..., [num_class - 1].\n",
      "  warnings.warn(label_encoder_deprecation_msg, UserWarning)\n"
     ]
    },
    {
     "name": "stdout",
     "output_type": "stream",
     "text": [
      "[12:37:09] WARNING: ../src/learner.cc:1115: Starting in XGBoost 1.3.0, the default evaluation metric used with the objective 'multi:softprob' was changed from 'merror' to 'mlogloss'. Explicitly set eval_metric if you'd like to restore the old behavior.\n",
      "[CV 3/5; 4/4] END classifier__booster=gblinear, feature_selection__threshold=mean;, score=0.147 total time= 1.9min\n",
      "[CV 4/5; 4/4] START classifier__booster=gblinear, feature_selection__threshold=mean\n"
     ]
    },
    {
     "name": "stderr",
     "output_type": "stream",
     "text": [
      "/home/user/.local/lib/python3.8/site-packages/sklearn/svm/_base.py:1206: ConvergenceWarning: Liblinear failed to converge, increase the number of iterations.\n",
      "  warnings.warn(\n",
      "/usr/local/lib/python3.8/dist-packages/xgboost/sklearn.py:1224: UserWarning: The use of label encoder in XGBClassifier is deprecated and will be removed in a future release. To remove this warning, do the following: 1) Pass option use_label_encoder=False when constructing XGBClassifier object; and 2) Encode your labels (y) as integers starting with 0, i.e. 0, 1, 2, ..., [num_class - 1].\n",
      "  warnings.warn(label_encoder_deprecation_msg, UserWarning)\n"
     ]
    },
    {
     "name": "stdout",
     "output_type": "stream",
     "text": [
      "[12:38:55] WARNING: ../src/learner.cc:1115: Starting in XGBoost 1.3.0, the default evaluation metric used with the objective 'multi:softprob' was changed from 'merror' to 'mlogloss'. Explicitly set eval_metric if you'd like to restore the old behavior.\n",
      "[CV 4/5; 4/4] END classifier__booster=gblinear, feature_selection__threshold=mean;, score=0.143 total time= 1.8min\n",
      "[CV 5/5; 4/4] START classifier__booster=gblinear, feature_selection__threshold=mean\n"
     ]
    },
    {
     "name": "stderr",
     "output_type": "stream",
     "text": [
      "/home/user/.local/lib/python3.8/site-packages/sklearn/svm/_base.py:1206: ConvergenceWarning: Liblinear failed to converge, increase the number of iterations.\n",
      "  warnings.warn(\n",
      "/usr/local/lib/python3.8/dist-packages/xgboost/sklearn.py:1224: UserWarning: The use of label encoder in XGBClassifier is deprecated and will be removed in a future release. To remove this warning, do the following: 1) Pass option use_label_encoder=False when constructing XGBClassifier object; and 2) Encode your labels (y) as integers starting with 0, i.e. 0, 1, 2, ..., [num_class - 1].\n",
      "  warnings.warn(label_encoder_deprecation_msg, UserWarning)\n"
     ]
    },
    {
     "name": "stdout",
     "output_type": "stream",
     "text": [
      "[12:40:41] WARNING: ../src/learner.cc:1115: Starting in XGBoost 1.3.0, the default evaluation metric used with the objective 'multi:softprob' was changed from 'merror' to 'mlogloss'. Explicitly set eval_metric if you'd like to restore the old behavior.\n",
      "[CV 5/5; 4/4] END classifier__booster=gblinear, feature_selection__threshold=mean;, score=0.141 total time= 1.9min\n"
     ]
    },
    {
     "name": "stderr",
     "output_type": "stream",
     "text": [
      "/home/user/.local/lib/python3.8/site-packages/sklearn/svm/_base.py:1206: ConvergenceWarning: Liblinear failed to converge, increase the number of iterations.\n",
      "  warnings.warn(\n",
      "/usr/local/lib/python3.8/dist-packages/xgboost/sklearn.py:1224: UserWarning: The use of label encoder in XGBClassifier is deprecated and will be removed in a future release. To remove this warning, do the following: 1) Pass option use_label_encoder=False when constructing XGBClassifier object; and 2) Encode your labels (y) as integers starting with 0, i.e. 0, 1, 2, ..., [num_class - 1].\n",
      "  warnings.warn(label_encoder_deprecation_msg, UserWarning)\n"
     ]
    },
    {
     "name": "stdout",
     "output_type": "stream",
     "text": [
      "[12:43:02] WARNING: ../src/learner.cc:1115: Starting in XGBoost 1.3.0, the default evaluation metric used with the objective 'multi:softprob' was changed from 'merror' to 'mlogloss'. Explicitly set eval_metric if you'd like to restore the old behavior.\n"
     ]
    },
    {
     "data": {
      "text/plain": [
       "GridSearchCV(estimator=Pipeline(steps=[('feature_selection',\n",
       "                                        SelectFromModel(estimator=LinearSVC(dual=False,\n",
       "                                                                            penalty='l1'))),\n",
       "                                       ('classifier',\n",
       "                                        XGBClassifier(base_score=None,\n",
       "                                                      booster=None,\n",
       "                                                      colsample_bylevel=None,\n",
       "                                                      colsample_bynode=None,\n",
       "                                                      colsample_bytree=None,\n",
       "                                                      enable_categorical=False,\n",
       "                                                      gamma=None, gpu_id=None,\n",
       "                                                      importance_type=None,\n",
       "                                                      interaction_constraints=None,\n",
       "                                                      learn...\n",
       "                                                      monotone_constraints=None,\n",
       "                                                      n_estimators=100,\n",
       "                                                      n_jobs=None,\n",
       "                                                      num_parallel_tree=None,\n",
       "                                                      predictor=None,\n",
       "                                                      random_state=None,\n",
       "                                                      reg_alpha=None,\n",
       "                                                      reg_lambda=None,\n",
       "                                                      scale_pos_weight=None,\n",
       "                                                      subsample=None,\n",
       "                                                      tree_method=None,\n",
       "                                                      validate_parameters=None,\n",
       "                                                      verbosity=None))]),\n",
       "             param_grid={'classifier__booster': ('gbtree', 'gblinear'),\n",
       "                         'feature_selection__threshold': (None, 'mean')},\n",
       "             verbose=10)"
      ]
     },
     "execution_count": 22,
     "metadata": {},
     "output_type": "execute_result"
    }
   ],
   "source": [
    "# Parameter des Algorithmus setzen\n",
    "# Pipeline neu definieren - ohne Parametersetzen \n",
    "\n",
    "feature_selection=SelectFromModel(LinearSVC(penalty=\"l1\", dual=False))\n",
    "classifier = XGBClassifier()\n",
    "\n",
    "pipeline = Pipeline([('feature_selection', feature_selection), ('classifier', classifier)])\n",
    "\n",
    "# Parameterraum definieren: key ist schrittname__parametername, value die zu prüfenden Werte\n",
    "\n",
    "parameters = {  \n",
    "    'feature_selection__threshold': (None, 'mean'), \n",
    "    'classifier__booster': ('gbtree','gblinear'),\n",
    "}\n",
    "\n",
    "# Suche über den gesamten Parameterraum (cross validation über die Trainingsdaten)\n",
    "grid_search = GridSearchCV(pipeline, param_grid=parameters, verbose=10)\n",
    "\n",
    "grid_search.fit(X_train[:50000], y_train[:50000])"
   ]
  },
  {
   "cell_type": "code",
   "execution_count": 23,
   "id": "9ab5f240-932b-499f-87ed-0975cb141604",
   "metadata": {},
   "outputs": [
    {
     "name": "stdout",
     "output_type": "stream",
     "text": [
      "Pipeline(steps=[('feature_selection',\n",
      "                 SelectFromModel(estimator=LinearSVC(dual=False,\n",
      "                                                     penalty='l1'))),\n",
      "                ('classifier',\n",
      "                 XGBClassifier(base_score=0.5, booster='gbtree',\n",
      "                               colsample_bylevel=1, colsample_bynode=1,\n",
      "                               colsample_bytree=1, enable_categorical=False,\n",
      "                               gamma=0, gpu_id=-1, importance_type=None,\n",
      "                               interaction_constraints='',\n",
      "                               learning_rate=0.300000012, max_delta_step=0,\n",
      "                               max_depth=6, min_child_weight=1, missing=nan,\n",
      "                               monotone_constraints='()', n_estimators=100,\n",
      "                               n_jobs=8, num_parallel_tree=1,\n",
      "                               objective='multi:softprob', predictor='auto',\n",
      "                               random_state=0, reg_alpha=0, reg_lambda=1,\n",
      "                               scale_pos_weight=None, subsample=1,\n",
      "                               tree_method='exact', validate_parameters=1,\n",
      "                               verbosity=None))])\n"
     ]
    }
   ],
   "source": [
    "# Welche Parameterkombination ist die beste?\n",
    "print(grid_search.best_estimator_)"
   ]
  },
  {
   "cell_type": "code",
   "execution_count": 25,
   "id": "db530e32-6966-47ce-b929-cad1f2db2642",
   "metadata": {},
   "outputs": [
    {
     "name": "stderr",
     "output_type": "stream",
     "text": [
      "/home/user/.local/lib/python3.8/site-packages/sklearn/svm/_base.py:1206: ConvergenceWarning: Liblinear failed to converge, increase the number of iterations.\n",
      "  warnings.warn(\n",
      "/usr/local/lib/python3.8/dist-packages/xgboost/sklearn.py:1224: UserWarning: The use of label encoder in XGBClassifier is deprecated and will be removed in a future release. To remove this warning, do the following: 1) Pass option use_label_encoder=False when constructing XGBClassifier object; and 2) Encode your labels (y) as integers starting with 0, i.e. 0, 1, 2, ..., [num_class - 1].\n",
      "  warnings.warn(label_encoder_deprecation_msg, UserWarning)\n"
     ]
    },
    {
     "name": "stdout",
     "output_type": "stream",
     "text": [
      "[13:47:43] WARNING: ../src/learner.cc:1115: Starting in XGBoost 1.3.0, the default evaluation metric used with the objective 'multi:softprob' was changed from 'merror' to 'mlogloss'. Explicitly set eval_metric if you'd like to restore the old behavior.\n"
     ]
    },
    {
     "name": "stderr",
     "output_type": "stream",
     "text": [
      "/home/user/.local/lib/python3.8/site-packages/sklearn/svm/_base.py:1206: ConvergenceWarning: Liblinear failed to converge, increase the number of iterations.\n",
      "  warnings.warn(\n",
      "/usr/local/lib/python3.8/dist-packages/xgboost/sklearn.py:1224: UserWarning: The use of label encoder in XGBClassifier is deprecated and will be removed in a future release. To remove this warning, do the following: 1) Pass option use_label_encoder=False when constructing XGBClassifier object; and 2) Encode your labels (y) as integers starting with 0, i.e. 0, 1, 2, ..., [num_class - 1].\n",
      "  warnings.warn(label_encoder_deprecation_msg, UserWarning)\n"
     ]
    },
    {
     "name": "stdout",
     "output_type": "stream",
     "text": [
      "[13:57:50] WARNING: ../src/learner.cc:1115: Starting in XGBoost 1.3.0, the default evaluation metric used with the objective 'multi:softprob' was changed from 'merror' to 'mlogloss'. Explicitly set eval_metric if you'd like to restore the old behavior.\n"
     ]
    },
    {
     "name": "stderr",
     "output_type": "stream",
     "text": [
      "/home/user/.local/lib/python3.8/site-packages/sklearn/svm/_base.py:1206: ConvergenceWarning: Liblinear failed to converge, increase the number of iterations.\n",
      "  warnings.warn(\n",
      "/usr/local/lib/python3.8/dist-packages/xgboost/sklearn.py:1224: UserWarning: The use of label encoder in XGBClassifier is deprecated and will be removed in a future release. To remove this warning, do the following: 1) Pass option use_label_encoder=False when constructing XGBClassifier object; and 2) Encode your labels (y) as integers starting with 0, i.e. 0, 1, 2, ..., [num_class - 1].\n",
      "  warnings.warn(label_encoder_deprecation_msg, UserWarning)\n"
     ]
    },
    {
     "name": "stdout",
     "output_type": "stream",
     "text": [
      "[14:07:57] WARNING: ../src/learner.cc:1115: Starting in XGBoost 1.3.0, the default evaluation metric used with the objective 'multi:softprob' was changed from 'merror' to 'mlogloss'. Explicitly set eval_metric if you'd like to restore the old behavior.\n"
     ]
    },
    {
     "name": "stderr",
     "output_type": "stream",
     "text": [
      "/home/user/.local/lib/python3.8/site-packages/sklearn/svm/_base.py:1206: ConvergenceWarning: Liblinear failed to converge, increase the number of iterations.\n",
      "  warnings.warn(\n",
      "/usr/local/lib/python3.8/dist-packages/xgboost/sklearn.py:1224: UserWarning: The use of label encoder in XGBClassifier is deprecated and will be removed in a future release. To remove this warning, do the following: 1) Pass option use_label_encoder=False when constructing XGBClassifier object; and 2) Encode your labels (y) as integers starting with 0, i.e. 0, 1, 2, ..., [num_class - 1].\n",
      "  warnings.warn(label_encoder_deprecation_msg, UserWarning)\n"
     ]
    },
    {
     "name": "stdout",
     "output_type": "stream",
     "text": [
      "[14:18:08] WARNING: ../src/learner.cc:1115: Starting in XGBoost 1.3.0, the default evaluation metric used with the objective 'multi:softprob' was changed from 'merror' to 'mlogloss'. Explicitly set eval_metric if you'd like to restore the old behavior.\n"
     ]
    },
    {
     "name": "stderr",
     "output_type": "stream",
     "text": [
      "/home/user/.local/lib/python3.8/site-packages/sklearn/svm/_base.py:1206: ConvergenceWarning: Liblinear failed to converge, increase the number of iterations.\n",
      "  warnings.warn(\n",
      "/usr/local/lib/python3.8/dist-packages/xgboost/sklearn.py:1224: UserWarning: The use of label encoder in XGBClassifier is deprecated and will be removed in a future release. To remove this warning, do the following: 1) Pass option use_label_encoder=False when constructing XGBClassifier object; and 2) Encode your labels (y) as integers starting with 0, i.e. 0, 1, 2, ..., [num_class - 1].\n",
      "  warnings.warn(label_encoder_deprecation_msg, UserWarning)\n"
     ]
    },
    {
     "name": "stdout",
     "output_type": "stream",
     "text": [
      "[14:28:31] WARNING: ../src/learner.cc:1115: Starting in XGBoost 1.3.0, the default evaluation metric used with the objective 'multi:softprob' was changed from 'merror' to 'mlogloss'. Explicitly set eval_metric if you'd like to restore the old behavior.\n"
     ]
    },
    {
     "name": "stderr",
     "output_type": "stream",
     "text": [
      "/home/user/.local/lib/python3.8/site-packages/sklearn/svm/_base.py:1206: ConvergenceWarning: Liblinear failed to converge, increase the number of iterations.\n",
      "  warnings.warn(\n",
      "/usr/local/lib/python3.8/dist-packages/xgboost/sklearn.py:1224: UserWarning: The use of label encoder in XGBClassifier is deprecated and will be removed in a future release. To remove this warning, do the following: 1) Pass option use_label_encoder=False when constructing XGBClassifier object; and 2) Encode your labels (y) as integers starting with 0, i.e. 0, 1, 2, ..., [num_class - 1].\n",
      "  warnings.warn(label_encoder_deprecation_msg, UserWarning)\n"
     ]
    },
    {
     "name": "stdout",
     "output_type": "stream",
     "text": [
      "[14:38:49] WARNING: ../src/learner.cc:1115: Starting in XGBoost 1.3.0, the default evaluation metric used with the objective 'multi:softprob' was changed from 'merror' to 'mlogloss'. Explicitly set eval_metric if you'd like to restore the old behavior.\n"
     ]
    },
    {
     "name": "stderr",
     "output_type": "stream",
     "text": [
      "/home/user/.local/lib/python3.8/site-packages/sklearn/svm/_base.py:1206: ConvergenceWarning: Liblinear failed to converge, increase the number of iterations.\n",
      "  warnings.warn(\n",
      "/usr/local/lib/python3.8/dist-packages/xgboost/sklearn.py:1224: UserWarning: The use of label encoder in XGBClassifier is deprecated and will be removed in a future release. To remove this warning, do the following: 1) Pass option use_label_encoder=False when constructing XGBClassifier object; and 2) Encode your labels (y) as integers starting with 0, i.e. 0, 1, 2, ..., [num_class - 1].\n",
      "  warnings.warn(label_encoder_deprecation_msg, UserWarning)\n"
     ]
    },
    {
     "name": "stdout",
     "output_type": "stream",
     "text": [
      "[14:50:03] WARNING: ../src/learner.cc:1115: Starting in XGBoost 1.3.0, the default evaluation metric used with the objective 'multi:softprob' was changed from 'merror' to 'mlogloss'. Explicitly set eval_metric if you'd like to restore the old behavior.\n"
     ]
    },
    {
     "name": "stderr",
     "output_type": "stream",
     "text": [
      "/home/user/.local/lib/python3.8/site-packages/sklearn/svm/_base.py:1206: ConvergenceWarning: Liblinear failed to converge, increase the number of iterations.\n",
      "  warnings.warn(\n",
      "/usr/local/lib/python3.8/dist-packages/xgboost/sklearn.py:1224: UserWarning: The use of label encoder in XGBClassifier is deprecated and will be removed in a future release. To remove this warning, do the following: 1) Pass option use_label_encoder=False when constructing XGBClassifier object; and 2) Encode your labels (y) as integers starting with 0, i.e. 0, 1, 2, ..., [num_class - 1].\n",
      "  warnings.warn(label_encoder_deprecation_msg, UserWarning)\n"
     ]
    },
    {
     "name": "stdout",
     "output_type": "stream",
     "text": [
      "[15:00:18] WARNING: ../src/learner.cc:1115: Starting in XGBoost 1.3.0, the default evaluation metric used with the objective 'multi:softprob' was changed from 'merror' to 'mlogloss'. Explicitly set eval_metric if you'd like to restore the old behavior.\n"
     ]
    },
    {
     "name": "stderr",
     "output_type": "stream",
     "text": [
      "/home/user/.local/lib/python3.8/site-packages/sklearn/svm/_base.py:1206: ConvergenceWarning: Liblinear failed to converge, increase the number of iterations.\n",
      "  warnings.warn(\n",
      "/usr/local/lib/python3.8/dist-packages/xgboost/sklearn.py:1224: UserWarning: The use of label encoder in XGBClassifier is deprecated and will be removed in a future release. To remove this warning, do the following: 1) Pass option use_label_encoder=False when constructing XGBClassifier object; and 2) Encode your labels (y) as integers starting with 0, i.e. 0, 1, 2, ..., [num_class - 1].\n",
      "  warnings.warn(label_encoder_deprecation_msg, UserWarning)\n"
     ]
    },
    {
     "name": "stdout",
     "output_type": "stream",
     "text": [
      "[15:12:31] WARNING: ../src/learner.cc:1115: Starting in XGBoost 1.3.0, the default evaluation metric used with the objective 'multi:softprob' was changed from 'merror' to 'mlogloss'. Explicitly set eval_metric if you'd like to restore the old behavior.\n"
     ]
    },
    {
     "name": "stderr",
     "output_type": "stream",
     "text": [
      "/home/user/.local/lib/python3.8/site-packages/sklearn/svm/_base.py:1206: ConvergenceWarning: Liblinear failed to converge, increase the number of iterations.\n",
      "  warnings.warn(\n",
      "/usr/local/lib/python3.8/dist-packages/xgboost/sklearn.py:1224: UserWarning: The use of label encoder in XGBClassifier is deprecated and will be removed in a future release. To remove this warning, do the following: 1) Pass option use_label_encoder=False when constructing XGBClassifier object; and 2) Encode your labels (y) as integers starting with 0, i.e. 0, 1, 2, ..., [num_class - 1].\n",
      "  warnings.warn(label_encoder_deprecation_msg, UserWarning)\n"
     ]
    },
    {
     "name": "stdout",
     "output_type": "stream",
     "text": [
      "[15:41:51] WARNING: ../src/learner.cc:1115: Starting in XGBoost 1.3.0, the default evaluation metric used with the objective 'multi:softprob' was changed from 'merror' to 'mlogloss'. Explicitly set eval_metric if you'd like to restore the old behavior.\n",
      "              precision    recall  f1-score   support\n",
      "\n",
      "           0       0.19      0.10      0.13       572\n",
      "           1       0.07      0.00      0.01       467\n",
      "           2       0.06      0.00      0.01       405\n",
      "           3       0.03      0.01      0.01       287\n",
      "           4       0.21      0.23      0.22      2955\n",
      "           5       0.17      0.41      0.24      3546\n",
      "           6       0.07      0.02      0.04       210\n",
      "           7       0.17      0.18      0.18      1233\n",
      "           8       0.15      0.03      0.05      1140\n",
      "           9       0.19      0.38      0.25      6060\n",
      "          10       0.17      0.18      0.17      3444\n",
      "          11       0.02      0.00      0.01       344\n",
      "          12       0.21      0.10      0.14      1592\n",
      "          13       0.24      0.16      0.19      1826\n",
      "          14       0.32      0.11      0.16      2049\n",
      "          15       0.00      0.00      0.00       353\n",
      "          16       0.00      0.00      0.00       127\n",
      "          17       0.23      0.13      0.17      3023\n",
      "          18       0.30      0.06      0.10       664\n",
      "          19       0.14      0.01      0.03       756\n",
      "          20       0.05      0.02      0.03       113\n",
      "          21       0.31      0.43      0.36      4042\n",
      "          22       0.25      0.09      0.13      1078\n",
      "          23       0.00      0.00      0.00        66\n",
      "          24       0.21      0.26      0.23      2248\n",
      "          25       0.10      0.03      0.05       869\n",
      "          26       0.07      0.01      0.02      1926\n",
      "          27       0.24      0.27      0.25       607\n",
      "          28       0.26      0.30      0.28      1109\n",
      "          29       0.10      0.01      0.03      1176\n",
      "          30       0.14      0.05      0.08       196\n",
      "          31       0.19      0.21      0.20      3470\n",
      "          32       0.17      0.04      0.06      1664\n",
      "          33       0.03      0.01      0.01       183\n",
      "          34       0.08      0.03      0.04       200\n",
      "\n",
      "    accuracy                           0.21     50000\n",
      "   macro avg       0.15      0.11      0.11     50000\n",
      "weighted avg       0.19      0.21      0.18     50000\n",
      "\n"
     ]
    }
   ],
   "source": [
    "# Pipeline für die beste Feature-Kombination definieren\n",
    "# Parameter aus dem .best_estimator Ergebnis entnehmen\n",
    "final_pipeline = Pipeline(steps=[('feature_selection',\n",
    "                 SelectFromModel(estimator=LinearSVC(dual=False,\n",
    "                                                     penalty='l1'))),\n",
    "                ('classifier',\n",
    "                 XGBClassifier(base_score=0.5, booster='gbtree',\n",
    "                               colsample_bylevel=1, colsample_bynode=1,\n",
    "                               colsample_bytree=1, enable_categorical=False,\n",
    "                               gamma=0, gpu_id=-1, importance_type=None,\n",
    "                               interaction_constraints='',\n",
    "                               learning_rate=0.300000012, max_delta_step=0,\n",
    "                               max_depth=6, min_child_weight=1, \n",
    "                               monotone_constraints='()', n_estimators=100,\n",
    "                               n_jobs=8, num_parallel_tree=1,\n",
    "                               objective='multi:softprob', predictor='auto',\n",
    "                               random_state=0, reg_alpha=0, reg_lambda=1,\n",
    "                               scale_pos_weight=None, subsample=1,\n",
    "                               tree_method='exact', validate_parameters=1,\n",
    "                               verbosity=None))])\n",
    "\n",
    "train_labels = cross_val_predict(final_pipeline, X_train[:50000] , y_train[:50000], cv=10)\n",
    "\n",
    "# Precision/Recall/F-Wert berechnen\n",
    "\n",
    "print(classification_report(y_train[:50000], train_labels[:50000]))"
   ]
  },
  {
   "cell_type": "markdown",
   "id": "4b79fe1d-d9db-435c-9f14-c9dcd2a2487b",
   "metadata": {},
   "source": [
    "### Vorhersagen auf den Trainingsdaten"
   ]
  },
  {
   "cell_type": "code",
   "execution_count": 27,
   "id": "2f66ed47-73b4-4b73-b4dc-aacfefa8cb74",
   "metadata": {},
   "outputs": [
    {
     "name": "stderr",
     "output_type": "stream",
     "text": [
      "/home/user/.local/lib/python3.8/site-packages/sklearn/svm/_base.py:1206: ConvergenceWarning: Liblinear failed to converge, increase the number of iterations.\n",
      "  warnings.warn(\n",
      "/usr/local/lib/python3.8/dist-packages/xgboost/sklearn.py:1224: UserWarning: The use of label encoder in XGBClassifier is deprecated and will be removed in a future release. To remove this warning, do the following: 1) Pass option use_label_encoder=False when constructing XGBClassifier object; and 2) Encode your labels (y) as integers starting with 0, i.e. 0, 1, 2, ..., [num_class - 1].\n",
      "  warnings.warn(label_encoder_deprecation_msg, UserWarning)\n"
     ]
    },
    {
     "name": "stdout",
     "output_type": "stream",
     "text": [
      "[15:53:00] WARNING: ../src/learner.cc:1115: Starting in XGBoost 1.3.0, the default evaluation metric used with the objective 'multi:softprob' was changed from 'merror' to 'mlogloss'. Explicitly set eval_metric if you'd like to restore the old behavior.\n",
      "              precision    recall  f1-score   support\n",
      "\n",
      "           0       0.74      0.40      0.52       572\n",
      "           1       0.75      0.08      0.14       467\n",
      "           2       0.84      0.12      0.21       405\n",
      "           3       0.80      0.26      0.39       287\n",
      "           4       0.36      0.37      0.36      2955\n",
      "           5       0.23      0.57      0.33      3546\n",
      "           6       0.83      0.42      0.56       210\n",
      "           7       0.39      0.43      0.41      1233\n",
      "           8       0.67      0.16      0.26      1140\n",
      "           9       0.26      0.52      0.35      6060\n",
      "          10       0.31      0.32      0.31      3444\n",
      "          11       0.67      0.12      0.20       344\n",
      "          12       0.47      0.24      0.32      1592\n",
      "          13       0.37      0.25      0.30      1826\n",
      "          14       0.58      0.21      0.30      2049\n",
      "          15       0.73      0.10      0.18       353\n",
      "          16       0.90      0.20      0.33       127\n",
      "          17       0.41      0.25      0.31      3023\n",
      "          18       0.71      0.16      0.27       664\n",
      "          19       0.84      0.10      0.18       756\n",
      "          20       0.73      0.42      0.53       113\n",
      "          21       0.40      0.55      0.47      4042\n",
      "          22       0.63      0.21      0.32      1078\n",
      "          23       0.96      0.38      0.54        66\n",
      "          24       0.36      0.43      0.39      2248\n",
      "          25       0.49      0.17      0.25       869\n",
      "          26       0.64      0.11      0.19      1926\n",
      "          27       0.57      0.60      0.58       607\n",
      "          28       0.46      0.49      0.48      1109\n",
      "          29       0.78      0.14      0.24      1176\n",
      "          30       0.92      0.53      0.67       196\n",
      "          31       0.34      0.35      0.34      3470\n",
      "          32       0.64      0.14      0.23      1664\n",
      "          33       0.88      0.31      0.45       183\n",
      "          34       0.79      0.35      0.48       200\n",
      "\n",
      "    accuracy                           0.35     50000\n",
      "   macro avg       0.61      0.30      0.35     50000\n",
      "weighted avg       0.45      0.35      0.34     50000\n",
      "\n"
     ]
    }
   ],
   "source": [
    "# Parameter des Algorithmus setzen\n",
    "pipeline1 = Pipeline(steps=[('feature_selection',\n",
    "                 SelectFromModel(estimator=LinearSVC(dual=False,\n",
    "                                                     penalty='l1'))),\n",
    "                ('classifier',\n",
    "                 XGBClassifier(base_score=0.5, booster='gbtree',\n",
    "                               colsample_bylevel=1, colsample_bynode=1,\n",
    "                               colsample_bytree=1, enable_categorical=False,\n",
    "                               gamma=0, gpu_id=-1, importance_type=None,\n",
    "                               interaction_constraints='',\n",
    "                               learning_rate=0.300000012, max_delta_step=0,\n",
    "                               max_depth=6, min_child_weight=1, \n",
    "                               monotone_constraints='()', n_estimators=100,\n",
    "                               n_jobs=8, num_parallel_tree=1,\n",
    "                               objective='multi:softprob', predictor='auto',\n",
    "                               random_state=0, reg_alpha=0, reg_lambda=1,\n",
    "                               scale_pos_weight=None, subsample=1,\n",
    "                               tree_method='exact', validate_parameters=1,\n",
    "                               verbosity=None))])\n",
    "\n",
    "pipeline1.fit(X_train[:50000], y_train[:50000])\n",
    "\n",
    "train_labels1 = pipeline1.predict(X_train[:50000])\n",
    "      \n",
    "print(classification_report(y_train[:50000], train_labels1[:50000]))"
   ]
  },
  {
   "cell_type": "markdown",
   "id": "2b9930da-0e8a-4946-b693-83c83b199b6b",
   "metadata": {},
   "source": [
    "### Vorhersage auf den Entwicklungsdaten --> X_dev"
   ]
  },
  {
   "cell_type": "code",
   "execution_count": 29,
   "id": "4e0b0556-8b65-4d06-8010-6ce79b199ea3",
   "metadata": {},
   "outputs": [
    {
     "name": "stderr",
     "output_type": "stream",
     "text": [
      "/home/user/.local/lib/python3.8/site-packages/sklearn/svm/_base.py:1206: ConvergenceWarning: Liblinear failed to converge, increase the number of iterations.\n",
      "  warnings.warn(\n",
      "/usr/local/lib/python3.8/dist-packages/xgboost/sklearn.py:1224: UserWarning: The use of label encoder in XGBClassifier is deprecated and will be removed in a future release. To remove this warning, do the following: 1) Pass option use_label_encoder=False when constructing XGBClassifier object; and 2) Encode your labels (y) as integers starting with 0, i.e. 0, 1, 2, ..., [num_class - 1].\n",
      "  warnings.warn(label_encoder_deprecation_msg, UserWarning)\n"
     ]
    },
    {
     "name": "stdout",
     "output_type": "stream",
     "text": [
      "[16:30:34] WARNING: ../src/learner.cc:1115: Starting in XGBoost 1.3.0, the default evaluation metric used with the objective 'multi:softprob' was changed from 'merror' to 'mlogloss'. Explicitly set eval_metric if you'd like to restore the old behavior.\n",
      "Default-Score des Klassifizierers: Accuracy= 0.20610311307985726 \n",
      "\n",
      "              precision    recall  f1-score   support\n",
      "\n",
      "           0       0.19      0.09      0.12      1123\n",
      "           1       0.04      0.00      0.00       907\n",
      "           2       0.05      0.00      0.01       847\n",
      "           3       0.02      0.00      0.01       523\n",
      "           4       0.21      0.22      0.22      5766\n",
      "           5       0.17      0.41      0.24      6837\n",
      "           6       0.09      0.03      0.05       397\n",
      "           7       0.19      0.20      0.19      2438\n",
      "           8       0.18      0.03      0.05      2313\n",
      "           9       0.19      0.38      0.25     11781\n",
      "          10       0.17      0.18      0.18      6759\n",
      "          11       0.05      0.01      0.01       623\n",
      "          12       0.21      0.11      0.14      3105\n",
      "          13       0.25      0.17      0.20      3566\n",
      "          14       0.34      0.13      0.19      4025\n",
      "          15       0.17      0.01      0.02       681\n",
      "          16       0.05      0.00      0.01       247\n",
      "          17       0.22      0.13      0.17      5770\n",
      "          18       0.22      0.04      0.07      1241\n",
      "          19       0.15      0.01      0.02      1511\n",
      "          20       0.08      0.02      0.03       205\n",
      "          21       0.31      0.44      0.36      7680\n",
      "          22       0.27      0.09      0.14      2095\n",
      "          23       0.00      0.00      0.00       185\n",
      "          24       0.21      0.25      0.23      4442\n",
      "          25       0.14      0.04      0.06      1760\n",
      "          26       0.08      0.01      0.02      3764\n",
      "          27       0.24      0.28      0.26      1131\n",
      "          28       0.27      0.31      0.28      2159\n",
      "          29       0.17      0.02      0.04      2301\n",
      "          30       0.20      0.08      0.11       407\n",
      "          31       0.19      0.20      0.19      6930\n",
      "          32       0.17      0.03      0.06      3238\n",
      "          33       0.10      0.02      0.03       348\n",
      "          34       0.08      0.02      0.03       419\n",
      "\n",
      "    accuracy                           0.21     97524\n",
      "   macro avg       0.16      0.11      0.11     97524\n",
      "weighted avg       0.20      0.21      0.18     97524\n",
      "\n"
     ]
    }
   ],
   "source": [
    "# Parameter des Algorithmus setzen\n",
    "pipeline5 = Pipeline(steps=[('feature_selection',\n",
    "                 SelectFromModel(estimator=LinearSVC(dual=False,\n",
    "                                                     penalty='l1'))),\n",
    "                ('classifier',\n",
    "                 XGBClassifier(base_score=0.5, booster='gbtree',\n",
    "                               colsample_bylevel=1, colsample_bynode=1,\n",
    "                               colsample_bytree=1, enable_categorical=False,\n",
    "                               gamma=0, gpu_id=-1, importance_type=None,\n",
    "                               interaction_constraints='',\n",
    "                               learning_rate=0.300000012, max_delta_step=0,\n",
    "                               max_depth=6, min_child_weight=1, \n",
    "                               monotone_constraints='()', n_estimators=100,\n",
    "                               n_jobs=8, num_parallel_tree=1,\n",
    "                               objective='multi:softprob', predictor='auto',\n",
    "                               random_state=0, reg_alpha=0, reg_lambda=1,\n",
    "                               scale_pos_weight=None, subsample=1,\n",
    "                               tree_method='exact', validate_parameters=1,\n",
    "                               verbosity=None))])\n",
    "pipeline5.fit(X_train[:50000], y_train[:50000])\n",
    "\n",
    "print(\"Default-Score des Klassifizierers: Accuracy=\",pipeline5.score(X_test1, y_test1), \"\\n\")\n",
    "\n",
    "train_labels5 = pipeline5.predict(X_dev)\n",
    "      \n",
    "print(classification_report(y_dev, train_labels5))"
   ]
  },
  {
   "cell_type": "markdown",
   "id": "a25b2220-b561-4692-bc37-ae30aa84a03e",
   "metadata": {},
   "source": [
    "### Auswertung Trainings- vs. Testdaten\n",
    "- grundsätzlich haben die Trainingsdaten eine höhere Accuracy als die Entwicklungs- bzw. Testdaten\n",
    "----\n",
    "Trotz zufälliger Halbierung des Datensatzes, Eliminierung von NaN-Werten und Eingrenzung der Zielklassen, können aufgrund der zahlreichen Datensätze keine Schlüsse gezogen werden. Die Accuracy liegt bei allen Vorhersagen recht niedrig, da bei vielen Zielklassen die Precision und F-score `0.0` bewertet wurden und zu den jeweiligen Zielklassen keine aussagekräftigen Trainings- oder Testdaten zugeordnet werden konnten."
   ]
  },
  {
   "cell_type": "code",
   "execution_count": null,
   "id": "e36ac7d2-954c-4338-9fa1-ed4731a32585",
   "metadata": {},
   "outputs": [],
   "source": []
  }
 ],
 "metadata": {
  "kernelspec": {
   "display_name": "Python 3 (ipykernel)",
   "language": "python",
   "name": "python3"
  },
  "language_info": {
   "codemirror_mode": {
    "name": "ipython",
    "version": 3
   },
   "file_extension": ".py",
   "mimetype": "text/x-python",
   "name": "python",
   "nbconvert_exporter": "python",
   "pygments_lexer": "ipython3",
   "version": "3.8.10"
  }
 },
 "nbformat": 4,
 "nbformat_minor": 5
}
