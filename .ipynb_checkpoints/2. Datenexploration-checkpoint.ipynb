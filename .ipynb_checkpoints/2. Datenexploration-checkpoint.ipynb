{
 "cells": [
  {
   "cell_type": "markdown",
   "id": "0eb6a115-78e7-424f-890c-6d4bedffa52d",
   "metadata": {},
   "source": [
    "# 2. Datenexploration – Data Understanding und Data Preparation\n",
    "## Anforderungen an Projektumsetzung: Datenexploration\n",
    "-----\n",
    "- Erstellen Sie jeweils eine Visualisierung zu jedem der folgenden Charttypen. Beschreiben Sie textuell was Sie in dem Chart sehen und ggfs. eine Interpretation\n",
    "    - Line-Chart\n",
    "    - Bar-Chart\n",
    "    - Histogramm\n",
    "    - Box-Plot\n",
    "    - Scatter-Plot\n",
    "- Sortieren Sie den Datensatz entweder dauerhaft oder für eine bestimmte Analyse - warum ist diese Sortierung sinnvoll?\n",
    "- Erstellen Sie eine statistische Zusammenfassung von mindestens 1 Spalte\n",
    "- Führen Sie mindestens eine Gruppierung durch - warum war diese sinnvoll?\n",
    "- Dokumentieren Sie jeweils mindestens eine Erkenntnis bzgl. Datenstruktur, Daten und geschäftliche Domäne\n",
    "### Annahme:\n",
    "Wir sind ein Unternehmen, welches Anwendungen zur Finanzverwaltung entwickelt. Die aktuellste Anwendung befindet sich seit einem Monat auf dem Markt.\n",
    "\n",
    "#### Eigenschaften der App:\n",
    " - **Kategorie:** Finance\n",
    " - **Free of Charge:** True\n",
    " - **Rating:** 4.1"
   ]
  },
  {
   "cell_type": "code",
   "execution_count": 1,
   "id": "e9395b70-255e-42a3-9343-ea87d31723be",
   "metadata": {},
   "outputs": [],
   "source": [
    "import numpy as np\n",
    "import pandas as pd\n",
    "import matplotlib.pyplot as plt\n",
    "import seaborn as sns\n",
    "\n",
    "apps = pd.read_csv(\"Daten/Google-Playstore.csv\")"
   ]
  },
  {
   "cell_type": "markdown",
   "id": "48a0292b-75da-444c-a9fa-d2a390675175",
   "metadata": {},
   "source": [
    "---\n",
    "**AUFGABE:**\n",
    "\n",
    "Erstellen Sie ein **Line-Chart**."
   ]
  },
  {
   "cell_type": "code",
   "execution_count": 2,
   "id": "0c7c07ff-5e27-414f-a668-de8349f2d182",
   "metadata": {},
   "outputs": [
    {
     "data": {
      "text/html": [
       "<div>\n",
       "<style scoped>\n",
       "    .dataframe tbody tr th:only-of-type {\n",
       "        vertical-align: middle;\n",
       "    }\n",
       "\n",
       "    .dataframe tbody tr th {\n",
       "        vertical-align: top;\n",
       "    }\n",
       "\n",
       "    .dataframe thead th {\n",
       "        text-align: right;\n",
       "    }\n",
       "</style>\n",
       "<table border=\"1\" class=\"dataframe\">\n",
       "  <thead>\n",
       "    <tr style=\"text-align: right;\">\n",
       "      <th></th>\n",
       "      <th>App Name</th>\n",
       "      <th>App Id</th>\n",
       "      <th>Category</th>\n",
       "      <th>Rating</th>\n",
       "      <th>Rating Count</th>\n",
       "      <th>Installs</th>\n",
       "      <th>Minimum Installs</th>\n",
       "      <th>Maximum Installs</th>\n",
       "      <th>Free</th>\n",
       "      <th>Price</th>\n",
       "      <th>...</th>\n",
       "      <th>Developer Email</th>\n",
       "      <th>Released</th>\n",
       "      <th>Last Updated</th>\n",
       "      <th>Content Rating</th>\n",
       "      <th>Privacy Policy</th>\n",
       "      <th>Ad Supported</th>\n",
       "      <th>In App Purchases</th>\n",
       "      <th>Editors Choice</th>\n",
       "      <th>Scraped Time</th>\n",
       "      <th>Released Year</th>\n",
       "    </tr>\n",
       "  </thead>\n",
       "  <tbody>\n",
       "    <tr>\n",
       "      <th>0</th>\n",
       "      <td>Gakondo</td>\n",
       "      <td>com.ishakwe.gakondo</td>\n",
       "      <td>Adventure</td>\n",
       "      <td>0.0</td>\n",
       "      <td>0.0</td>\n",
       "      <td>10+</td>\n",
       "      <td>10.0</td>\n",
       "      <td>15</td>\n",
       "      <td>True</td>\n",
       "      <td>0.0</td>\n",
       "      <td>...</td>\n",
       "      <td>jean21101999@gmail.com</td>\n",
       "      <td>2020-02-26</td>\n",
       "      <td>2020-02-26</td>\n",
       "      <td>Everyone</td>\n",
       "      <td>https://beniyizibyose.tk/projects/</td>\n",
       "      <td>False</td>\n",
       "      <td>False</td>\n",
       "      <td>False</td>\n",
       "      <td>2021-06-15 20:19:35</td>\n",
       "      <td>2020.0</td>\n",
       "    </tr>\n",
       "    <tr>\n",
       "      <th>1</th>\n",
       "      <td>Ampere Battery Info</td>\n",
       "      <td>com.webserveis.batteryinfo</td>\n",
       "      <td>Tools</td>\n",
       "      <td>4.4</td>\n",
       "      <td>64.0</td>\n",
       "      <td>5,000+</td>\n",
       "      <td>5000.0</td>\n",
       "      <td>7662</td>\n",
       "      <td>True</td>\n",
       "      <td>0.0</td>\n",
       "      <td>...</td>\n",
       "      <td>webserveis@gmail.com</td>\n",
       "      <td>2020-05-21</td>\n",
       "      <td>2021-05-06</td>\n",
       "      <td>Everyone</td>\n",
       "      <td>https://dev4phones.wordpress.com/licencia-de-uso/</td>\n",
       "      <td>True</td>\n",
       "      <td>False</td>\n",
       "      <td>False</td>\n",
       "      <td>2021-06-15 20:19:35</td>\n",
       "      <td>2020.0</td>\n",
       "    </tr>\n",
       "    <tr>\n",
       "      <th>2</th>\n",
       "      <td>Vibook</td>\n",
       "      <td>com.doantiepvien.crm</td>\n",
       "      <td>Productivity</td>\n",
       "      <td>0.0</td>\n",
       "      <td>0.0</td>\n",
       "      <td>50+</td>\n",
       "      <td>50.0</td>\n",
       "      <td>58</td>\n",
       "      <td>True</td>\n",
       "      <td>0.0</td>\n",
       "      <td>...</td>\n",
       "      <td>vnacrewit@gmail.com</td>\n",
       "      <td>2019-08-09</td>\n",
       "      <td>2019-08-19</td>\n",
       "      <td>Everyone</td>\n",
       "      <td>https://www.vietnamairlines.com/vn/en/terms-an...</td>\n",
       "      <td>False</td>\n",
       "      <td>False</td>\n",
       "      <td>False</td>\n",
       "      <td>2021-06-15 20:19:35</td>\n",
       "      <td>2019.0</td>\n",
       "    </tr>\n",
       "    <tr>\n",
       "      <th>3</th>\n",
       "      <td>Smart City Trichy Public Service Vehicles 17UC...</td>\n",
       "      <td>cst.stJoseph.ug17ucs548</td>\n",
       "      <td>Communication</td>\n",
       "      <td>5.0</td>\n",
       "      <td>5.0</td>\n",
       "      <td>10+</td>\n",
       "      <td>10.0</td>\n",
       "      <td>19</td>\n",
       "      <td>True</td>\n",
       "      <td>0.0</td>\n",
       "      <td>...</td>\n",
       "      <td>climatesmarttech2@gmail.com</td>\n",
       "      <td>2018-09-10</td>\n",
       "      <td>2018-10-13</td>\n",
       "      <td>Everyone</td>\n",
       "      <td>NaN</td>\n",
       "      <td>True</td>\n",
       "      <td>False</td>\n",
       "      <td>False</td>\n",
       "      <td>2021-06-15 20:19:35</td>\n",
       "      <td>2018.0</td>\n",
       "    </tr>\n",
       "    <tr>\n",
       "      <th>4</th>\n",
       "      <td>GROW.me</td>\n",
       "      <td>com.horodyski.grower</td>\n",
       "      <td>Tools</td>\n",
       "      <td>0.0</td>\n",
       "      <td>0.0</td>\n",
       "      <td>100+</td>\n",
       "      <td>100.0</td>\n",
       "      <td>478</td>\n",
       "      <td>True</td>\n",
       "      <td>0.0</td>\n",
       "      <td>...</td>\n",
       "      <td>rmilekhorodyski@gmail.com</td>\n",
       "      <td>2020-02-21</td>\n",
       "      <td>2018-11-12</td>\n",
       "      <td>Everyone</td>\n",
       "      <td>http://www.horodyski.com.pl</td>\n",
       "      <td>False</td>\n",
       "      <td>False</td>\n",
       "      <td>False</td>\n",
       "      <td>2021-06-15 20:19:35</td>\n",
       "      <td>2020.0</td>\n",
       "    </tr>\n",
       "  </tbody>\n",
       "</table>\n",
       "<p>5 rows × 25 columns</p>\n",
       "</div>"
      ],
      "text/plain": [
       "                                            App Name  \\\n",
       "0                                            Gakondo   \n",
       "1                                Ampere Battery Info   \n",
       "2                                             Vibook   \n",
       "3  Smart City Trichy Public Service Vehicles 17UC...   \n",
       "4                                            GROW.me   \n",
       "\n",
       "                       App Id       Category  Rating  Rating Count Installs  \\\n",
       "0         com.ishakwe.gakondo      Adventure     0.0           0.0      10+   \n",
       "1  com.webserveis.batteryinfo          Tools     4.4          64.0   5,000+   \n",
       "2        com.doantiepvien.crm   Productivity     0.0           0.0      50+   \n",
       "3     cst.stJoseph.ug17ucs548  Communication     5.0           5.0      10+   \n",
       "4        com.horodyski.grower          Tools     0.0           0.0     100+   \n",
       "\n",
       "   Minimum Installs  Maximum Installs  Free  Price  ...  \\\n",
       "0              10.0                15  True    0.0  ...   \n",
       "1            5000.0              7662  True    0.0  ...   \n",
       "2              50.0                58  True    0.0  ...   \n",
       "3              10.0                19  True    0.0  ...   \n",
       "4             100.0               478  True    0.0  ...   \n",
       "\n",
       "               Developer Email   Released Last Updated Content Rating  \\\n",
       "0       jean21101999@gmail.com 2020-02-26   2020-02-26       Everyone   \n",
       "1         webserveis@gmail.com 2020-05-21   2021-05-06       Everyone   \n",
       "2          vnacrewit@gmail.com 2019-08-09   2019-08-19       Everyone   \n",
       "3  climatesmarttech2@gmail.com 2018-09-10   2018-10-13       Everyone   \n",
       "4    rmilekhorodyski@gmail.com 2020-02-21   2018-11-12       Everyone   \n",
       "\n",
       "                                      Privacy Policy Ad Supported  \\\n",
       "0                 https://beniyizibyose.tk/projects/        False   \n",
       "1  https://dev4phones.wordpress.com/licencia-de-uso/         True   \n",
       "2  https://www.vietnamairlines.com/vn/en/terms-an...        False   \n",
       "3                                                NaN         True   \n",
       "4                        http://www.horodyski.com.pl        False   \n",
       "\n",
       "  In App Purchases Editors Choice         Scraped Time Released Year  \n",
       "0            False          False  2021-06-15 20:19:35        2020.0  \n",
       "1            False          False  2021-06-15 20:19:35        2020.0  \n",
       "2            False          False  2021-06-15 20:19:35        2019.0  \n",
       "3            False          False  2021-06-15 20:19:35        2018.0  \n",
       "4            False          False  2021-06-15 20:19:35        2020.0  \n",
       "\n",
       "[5 rows x 25 columns]"
      ]
     },
     "execution_count": 2,
     "metadata": {},
     "output_type": "execute_result"
    }
   ],
   "source": [
    "# Spalte `Released` und `Last Updated` in Datetime-Format umwandeln \n",
    "apps['Released']      = pd.to_datetime(apps['Released'], format='%b %d, %Y')\n",
    "apps['Last Updated']  = pd.to_datetime(apps['Last Updated'], format='%b %d, %Y')\n",
    "apps['Released Year'] = pd.DatetimeIndex(apps['Released']).year\n",
    "apps.head()"
   ]
  },
  {
   "cell_type": "code",
   "execution_count": 3,
   "id": "0978b08f-3496-4e75-b404-b321ee72fa97",
   "metadata": {},
   "outputs": [
    {
     "data": {
      "text/plain": [
       "Free    2267876\n",
       "dtype: int64"
      ]
     },
     "execution_count": 3,
     "metadata": {},
     "output_type": "execute_result"
    }
   ],
   "source": [
    "# Filter nach alles kostenlosen Apps und zähle diese\n",
    "free_apps = apps['Free'] == True\n",
    "apps.loc[free_apps, ['Free']].count()"
   ]
  },
  {
   "cell_type": "code",
   "execution_count": 4,
   "id": "5b0e7edf-5f09-4697-8c7e-33f8310f8f17",
   "metadata": {},
   "outputs": [
    {
     "data": {
      "text/html": [
       "<div>\n",
       "<style scoped>\n",
       "    .dataframe tbody tr th:only-of-type {\n",
       "        vertical-align: middle;\n",
       "    }\n",
       "\n",
       "    .dataframe tbody tr th {\n",
       "        vertical-align: top;\n",
       "    }\n",
       "\n",
       "    .dataframe thead th {\n",
       "        text-align: right;\n",
       "    }\n",
       "</style>\n",
       "<table border=\"1\" class=\"dataframe\">\n",
       "  <thead>\n",
       "    <tr style=\"text-align: right;\">\n",
       "      <th></th>\n",
       "      <th>Released Year</th>\n",
       "    </tr>\n",
       "  </thead>\n",
       "  <tbody>\n",
       "    <tr>\n",
       "      <th>0</th>\n",
       "      <td>2020.0</td>\n",
       "    </tr>\n",
       "    <tr>\n",
       "      <th>1</th>\n",
       "      <td>2020.0</td>\n",
       "    </tr>\n",
       "    <tr>\n",
       "      <th>2</th>\n",
       "      <td>2019.0</td>\n",
       "    </tr>\n",
       "    <tr>\n",
       "      <th>3</th>\n",
       "      <td>2018.0</td>\n",
       "    </tr>\n",
       "    <tr>\n",
       "      <th>4</th>\n",
       "      <td>2020.0</td>\n",
       "    </tr>\n",
       "    <tr>\n",
       "      <th>...</th>\n",
       "      <td>...</td>\n",
       "    </tr>\n",
       "    <tr>\n",
       "      <th>2312937</th>\n",
       "      <td>2020.0</td>\n",
       "    </tr>\n",
       "    <tr>\n",
       "      <th>2312938</th>\n",
       "      <td>2018.0</td>\n",
       "    </tr>\n",
       "    <tr>\n",
       "      <th>2312940</th>\n",
       "      <td>2018.0</td>\n",
       "    </tr>\n",
       "    <tr>\n",
       "      <th>2312941</th>\n",
       "      <td>2018.0</td>\n",
       "    </tr>\n",
       "    <tr>\n",
       "      <th>2312943</th>\n",
       "      <td>2019.0</td>\n",
       "    </tr>\n",
       "  </tbody>\n",
       "</table>\n",
       "<p>1360113 rows × 1 columns</p>\n",
       "</div>"
      ],
      "text/plain": [
       "         Released Year\n",
       "0               2020.0\n",
       "1               2020.0\n",
       "2               2019.0\n",
       "3               2018.0\n",
       "4               2020.0\n",
       "...                ...\n",
       "2312937         2020.0\n",
       "2312938         2018.0\n",
       "2312940         2018.0\n",
       "2312941         2018.0\n",
       "2312943         2019.0\n",
       "\n",
       "[1360113 rows x 1 columns]"
      ]
     },
     "execution_count": 4,
     "metadata": {},
     "output_type": "execute_result"
    }
   ],
   "source": [
    "fst_year = apps['Released Year'] == 2018.\n",
    "scd_year = apps['Released Year'] == 2019.\n",
    "trd_year = apps['Released Year'] == 2020.\n",
    "many_years     = fst_year | scd_year | trd_year\n",
    "apps.loc[many_years, ['Released Year']]"
   ]
  },
  {
   "cell_type": "code",
   "execution_count": 5,
   "id": "5ee2210d-1c97-4385-9215-cbbfdb1be5aa",
   "metadata": {},
   "outputs": [
    {
     "data": {
      "text/plain": [
       "Free    329145\n",
       "dtype: int64"
      ]
     },
     "execution_count": 5,
     "metadata": {},
     "output_type": "execute_result"
    }
   ],
   "source": [
    "fst_true   = fst_year & free_apps\n",
    "eight_true = apps.loc[fst_true, ['Free']].count()\n",
    "apps.loc[fst_true, ['Free']].count()"
   ]
  },
  {
   "cell_type": "code",
   "execution_count": 6,
   "id": "53f603bd-8956-41bd-8744-fa090256382f",
   "metadata": {},
   "outputs": [
    {
     "data": {
      "text/plain": [
       "Free    5421\n",
       "dtype: int64"
      ]
     },
     "execution_count": 6,
     "metadata": {},
     "output_type": "execute_result"
    }
   ],
   "source": [
    "fst_false   = fst_year & ~free_apps\n",
    "eight_false = apps.loc[fst_false, ['Free']].count()\n",
    "apps.loc[fst_false, ['Free']].count()"
   ]
  },
  {
   "cell_type": "code",
   "execution_count": 7,
   "id": "64eac8e6-7ab7-4e3d-ac3b-c1e7367a19c2",
   "metadata": {},
   "outputs": [
    {
     "data": {
      "text/plain": [
       "Free    475280\n",
       "dtype: int64"
      ]
     },
     "execution_count": 7,
     "metadata": {},
     "output_type": "execute_result"
    }
   ],
   "source": [
    "scd_true  = scd_year & free_apps\n",
    "nine_true = apps.loc[scd_true, ['Free']].count()\n",
    "apps.loc[scd_true, ['Free']].count()"
   ]
  },
  {
   "cell_type": "code",
   "execution_count": 8,
   "id": "eb7c0196-f99b-4cc4-a67a-589e20bd2dcd",
   "metadata": {},
   "outputs": [
    {
     "data": {
      "text/plain": [
       "Free    5385\n",
       "dtype: int64"
      ]
     },
     "execution_count": 8,
     "metadata": {},
     "output_type": "execute_result"
    }
   ],
   "source": [
    "scd_false  = scd_year & ~free_apps\n",
    "nine_false = apps.loc[scd_false, ['Free']].count()\n",
    "apps.loc[scd_false, ['Free']].count()"
   ]
  },
  {
   "cell_type": "code",
   "execution_count": 9,
   "id": "2969df1f-e5bd-496a-ae8e-f2b2c1c12618",
   "metadata": {},
   "outputs": [
    {
     "data": {
      "text/plain": [
       "Free    539628\n",
       "dtype: int64"
      ]
     },
     "execution_count": 9,
     "metadata": {},
     "output_type": "execute_result"
    }
   ],
   "source": [
    "trd_true  = trd_year & free_apps\n",
    "twen_true = apps.loc[trd_true, ['Free']].count()\n",
    "apps.loc[trd_true, ['Free']].count()"
   ]
  },
  {
   "cell_type": "code",
   "execution_count": 10,
   "id": "47670d32-ce97-4867-b183-de040cf461ea",
   "metadata": {},
   "outputs": [
    {
     "data": {
      "text/plain": [
       "Free    5254\n",
       "dtype: int64"
      ]
     },
     "execution_count": 10,
     "metadata": {},
     "output_type": "execute_result"
    }
   ],
   "source": [
    "trd_false  = trd_year & ~free_apps\n",
    "twen_false = apps.loc[trd_false, ['Free']].count()\n",
    "apps.loc[trd_false, ['Free']].count()"
   ]
  },
  {
   "cell_type": "code",
   "execution_count": 11,
   "id": "eb0fa64e-fbce-46ae-8cbd-8b12bb03ef70",
   "metadata": {},
   "outputs": [
    {
     "data": {
      "image/png": "[encoded data removed]",
      "text/plain": [
       "<Figure size 720x432 with 1 Axes>"
      ]
     },
     "metadata": {
      "needs_background": "light"
     },
     "output_type": "display_data"
    }
   ],
   "source": [
    "# Line-Chart\n",
    "fig, ax = plt.subplots(figsize=(10,6))\n",
    "\n",
    "free = [eight_true, nine_true, twen_true]\n",
    "x = [2018, 2019, 2020]\n",
    "ax.plot(x, free, 'b', label='Free apps')\n",
    "\n",
    "nonfree = [eight_false, nine_false, twen_false]\n",
    "x = [2018, 2019, 2020]\n",
    "ax.plot(x, nonfree, 'r', label='Non-free apps')\n",
    "\n",
    "plt.title('How many free or non-free apps are released per year?')\n",
    "ax.legend(loc='upper center')\n",
    "ax.grid(True)\n",
    "\n",
    "plt.show()"
   ]
  },
  {
   "cell_type": "markdown",
   "id": "132cb722-4432-430f-8cd0-1c77d7d7e872",
   "metadata": {},
   "source": [
    "---\n",
    "**AUFGABE:**\n",
    "\n",
    "Erstellen Sie ein **Bar-Chart**."
   ]
  },
  {
   "cell_type": "code",
   "execution_count": 12,
   "id": "62a69beb-303d-401e-b5e3-ca7eefa7fe6b",
   "metadata": {},
   "outputs": [
    {
     "data": {
      "text/plain": [
       "array([  45068, 2267876])"
      ]
     },
     "execution_count": 12,
     "metadata": {},
     "output_type": "execute_result"
    }
   ],
   "source": [
    "gr_charge = apps.groupby('Free')\n",
    "gr_charge['Free'].count().values"
   ]
  },
  {
   "cell_type": "code",
   "execution_count": 13,
   "id": "e6d801f7-f861-4b46-93cf-836443abbaa0",
   "metadata": {},
   "outputs": [
    {
     "data": {
      "text/plain": [
       "0      0.00\n",
       "1      0.00\n",
       "2      0.00\n",
       "3      0.00\n",
       "4      0.00\n",
       "273    1.99\n",
       "296    4.99\n",
       "417    0.99\n",
       "554    2.99\n",
       "618    0.99\n",
       "Name: Price, dtype: float64"
      ]
     },
     "execution_count": 13,
     "metadata": {},
     "output_type": "execute_result"
    }
   ],
   "source": [
    "gr_charge['Price'].head()"
   ]
  },
  {
   "cell_type": "code",
   "execution_count": 14,
   "id": "b9e5f9fa-4d33-4c44-bb89-f97df1e47668",
   "metadata": {},
   "outputs": [
    {
     "data": {
      "image/png": "[encoded data removed]",
      "text/plain": [
       "<Figure size 1080x432 with 1 Axes>"
      ]
     },
     "metadata": {
      "needs_background": "light"
     },
     "output_type": "display_data"
    }
   ],
   "source": [
    "# Bar-Chart (Free or Not)\n",
    "fig, ax = plt.subplots(figsize=(15,6))\n",
    "plt.style.use(\"seaborn\")\n",
    "\n",
    "cost_bars = ax.barh(['kostenpflichtig','kostenlos'], width = gr_charge['Free'].count().values)\n",
    "ax.bar_label(cost_bars, padding=10)\n",
    "ax.invert_yaxis()\n",
    "ax.set_title('Summe der kostenlosen und kostenpflichtigen Apps')\n",
    "fig.tight_layout()\n",
    "plt.show()"
   ]
  },
  {
   "cell_type": "markdown",
   "id": "04952212-b387-4db3-9fa8-b688f4a21630",
   "metadata": {},
   "source": [
    "---\n",
    "**AUFGABE:**\n",
    "\n",
    "Erstellen Sie ein **Histogramm**."
   ]
  },
  {
   "cell_type": "code",
   "execution_count": 15,
   "id": "8e90c35c-baa1-425d-bce1-7b5911c9aa52",
   "metadata": {},
   "outputs": [
    {
     "data": {
      "image/png": "[encoded data removed]",
      "text/plain": [
       "<Figure size 720x432 with 1 Axes>"
      ]
     },
     "metadata": {},
     "output_type": "display_data"
    }
   ],
   "source": [
    "fig, ax = plt.subplots(figsize=(10,6))\n",
    "ax.hist(apps['Rating'], bins=[0.0, 0.25, 0.5, 0.75, 1.0, 1.25, 1.5, 1.75, 2.0, 2.25, 2.5, 2.75, 3.0, 3.25, 3.5, 3.75, 4.0, 4.25, 4.5, 4.75, 5.0])\n",
    "ax.set_xlabel(\"Rating\")\n",
    "ax.set_ylabel(\"Apps count in Ratings\")\n",
    "plt.show()"
   ]
  },
  {
   "cell_type": "markdown",
   "id": "6f7422b6-add3-4acb-9380-55387924d7f6",
   "metadata": {},
   "source": [
    "---\n",
    "**AUFGABE:**\n",
    "\n",
    "Erstellen Sie einen **Box-Plot**."
   ]
  },
  {
   "cell_type": "code",
   "execution_count": 16,
   "id": "389e97ac-5061-44f0-ab96-6121acae751d",
   "metadata": {},
   "outputs": [
    {
     "name": "stdout",
     "output_type": "stream",
     "text": [
      "Schwellenwert: 18259.0\n",
      "\n"
     ]
    },
    {
     "data": {
      "image/png": "[encoded data removed]",
      "text/plain": [
       "<Figure size 720x720 with 2 Axes>"
      ]
     },
     "metadata": {},
     "output_type": "display_data"
    }
   ],
   "source": [
    "# Berechnung Schwellenwert\n",
    "Q1 = apps['Maximum Installs'].quantile(0.25)\n",
    "Q2 = apps['Maximum Installs'].quantile(0.75)\n",
    "upper_threshold = Q2 + 1.5 * (Q2 - Q1)\n",
    "print(\"Schwellenwert: \" + str(upper_threshold) + '\\n')\n",
    "\n",
    "apps_18300 = apps[apps['Maximum Installs'] <= 18300]\n",
    "fig, ax = plt.subplots(ncols=2, figsize=(10,10))\n",
    "ax[0].boxplot(apps['Maximum Installs'], labels=['Anzahl Installationen'])\n",
    "\n",
    "# Eliminieren der Outliers\n",
    "ax[1].boxplot(apps_18300['Maximum Installs'], labels=['Anzahl Installationen'])\n",
    "plt.show()"
   ]
  },
  {
   "cell_type": "markdown",
   "id": "528b4b86-38b1-4e33-b131-4cfba822e371",
   "metadata": {},
   "source": [
    "---\n",
    "**AUFGABE:**\n",
    "\n",
    "Erstellen Sie einen **Scatter-Plot**."
   ]
  },
  {
   "cell_type": "code",
   "execution_count": 17,
   "id": "71555f65-e85b-47e1-bbea-508e252d69bc",
   "metadata": {},
   "outputs": [
    {
     "data": {
      "image/png": "[encoded data removed]",
      "text/plain": [
       "<Figure size 1800x720 with 1 Axes>"
      ]
     },
     "metadata": {},
     "output_type": "display_data"
    }
   ],
   "source": [
    "# Scatter-Plot --> Welche kostenpflictige App wurde in welchem Jahr released\n",
    "fig, ax = plt.subplots(figsize=(25,10))\n",
    "ax.scatter(x=apps['Released'], y=apps['Price'], marker='.')\n",
    "plt.show()"
   ]
  },
  {
   "cell_type": "markdown",
   "id": "8d81e73d-efed-4813-a98a-5783c799e7d5",
   "metadata": {},
   "source": [
    "---\n",
    "**AUFGABE:**\n",
    "\n",
    "Erstellen Sie eine statistische Zusammenfassung von mindestens 1 Spalte.\n",
    "\n",
    "Vorgehen:\n",
    "- Strings entfernen\n",
    "- Umwandlung der Werte in float\n",
    "- Apps in KB in MB umrechnen\n",
    "- Appps mit \"Varies with device\" durch 0.0 ersetzen"
   ]
  },
  {
   "cell_type": "code",
   "execution_count": 18,
   "id": "24da35f1-47ff-47ca-ba07-e2249e296437",
   "metadata": {},
   "outputs": [
    {
     "data": {
      "text/plain": [
       "81         0.127\n",
       "244        0.531\n",
       "289        0.343\n",
       "313        1.018\n",
       "417        0.886\n",
       "           ...  \n",
       "2312620    0.028\n",
       "2312658    0.419\n",
       "2312695    0.634\n",
       "2312924    0.925\n",
       "2312927    0.994\n",
       "Name: Size, Length: 36253, dtype: float64"
      ]
     },
     "execution_count": 18,
     "metadata": {},
     "output_type": "execute_result"
    }
   ],
   "source": [
    "# Kopie erstellen\n",
    "apps_in_kb = apps.copy()\n",
    "apps_in_kb = apps[apps.Size.str.contains('k', na=False)].copy()\n",
    "apps_in_kb[\"Size\"]\n",
    "\n",
    "# Strings entfernen\n",
    "apps_in_kb[\"Size\"] = apps_in_kb[\"Size\"].str.replace(\"k\", \"\")\n",
    "apps_in_kb[\"Size\"] = apps_in_kb[\"Size\"].str.replace(\",\", \"\")\n",
    "\n",
    "# String in float umwandeln\n",
    "apps_in_kb[\"Size\"]= pd.to_numeric(apps_in_kb[\"Size\"], errors='raise')\n",
    "\n",
    "# KB in MB umrechnen\n",
    "apps_in_kb[\"Size\"] = apps_in_kb[\"Size\"] / 1000.0\n",
    "apps_in_kb[\"Size\"]"
   ]
  },
  {
   "cell_type": "code",
   "execution_count": 19,
   "id": "8124e394-7b00-46e7-9d7d-bff800ffc5e7",
   "metadata": {},
   "outputs": [],
   "source": [
    "# Kopie erstellen\n",
    "apps_in_mb = apps.copy()\n",
    "apps_in_mb = apps_in_mb[apps_in_mb.Size.str.contains('M', na=False)].copy()\n",
    "\n",
    "# Strings entfernen\n",
    "apps_in_mb[\"Size\"] = apps_in_mb[\"Size\"].str.replace(\"M\", \"\")\n",
    "apps_in_mb[\"Size\"] = apps_in_mb[\"Size\"].str.replace(\",\", \"\")\n",
    "\n",
    "# String in float umwandeln\n",
    "apps_in_mb[\"Size\"]= pd.to_numeric(apps_in_mb[\"Size\"], errors='raise')"
   ]
  },
  {
   "cell_type": "code",
   "execution_count": 20,
   "id": "82c95409-ce93-4f82-95c5-2d2d82e55055",
   "metadata": {},
   "outputs": [],
   "source": [
    "# Kopie erstellen\n",
    "apps_varies = apps.copy()\n",
    "apps_varies = apps_varies[apps_varies.Size.str.contains('Varies with device', na=False)].copy()\n",
    "\n",
    "# Strings entfernen und durch 0.0 ersetzen \n",
    "apps_varies[\"Size\"] = apps_varies[\"Size\"].str.replace(\"Varies with device\", \"0.0\")\n",
    "\n",
    "# String in float umandeln\n",
    "apps_varies[\"Size\"]= pd.to_numeric(apps_varies[\"Size\"], errors='raise')"
   ]
  },
  {
   "cell_type": "code",
   "execution_count": 21,
   "id": "ed6fcbf7-93ed-4c0f-bffb-4119598136cc",
   "metadata": {},
   "outputs": [
    {
     "data": {
      "text/plain": [
       "81         0.127\n",
       "244        0.531\n",
       "289        0.343\n",
       "313        1.018\n",
       "417        0.886\n",
       "           ...  \n",
       "2312738    0.000\n",
       "2312745    0.000\n",
       "2312751    0.000\n",
       "2312755    0.000\n",
       "2312842    0.000\n",
       "Name: Size, Length: 2312735, dtype: float64"
      ]
     },
     "execution_count": 21,
     "metadata": {},
     "output_type": "execute_result"
    }
   ],
   "source": [
    "# Daten zusammenführen\n",
    "apps_concated = pd.concat([apps_in_kb, apps_in_mb, apps_varies], ignore_index = False )\n",
    "apps_concated.Size  # NaN Werte nicht enthalten"
   ]
  },
  {
   "cell_type": "code",
   "execution_count": 22,
   "id": "84ef190e-80f1-4dcd-87f6-f48ed3c8f6ab",
   "metadata": {},
   "outputs": [
    {
     "name": "stdout",
     "output_type": "stream",
     "text": [
      "Durchschnittliche Größe der Apps: 18.58\n",
      "Größe der Apps:\n",
      "MIN:  0.00\n",
      "Q1:   4.50\n",
      "MED:  9.70\n",
      "Q3:  24.00\n",
      "MAX: 1020.00\n",
      "\n",
      "Größe aller Apps summiert in GB: 42972.85\n"
     ]
    }
   ],
   "source": [
    "# Statistische Auswertung\n",
    "size = apps_concated.Size\n",
    "\n",
    "print(f'Durchschnittliche Größe der Apps: {size.mean():.2f}')\n",
    "print(f'Größe der Apps:')\n",
    "print(f'MIN: {size.min():5.2f}')\n",
    "print(f'Q1:  {size.quantile(0.25):5.2f}')\n",
    "print(f'MED: {size.quantile(0.50):5.2f}')\n",
    "print(f'Q3:  {size.quantile(0.75):5.2f}')\n",
    "print(f'MAX: {size.max():5.2f}')\n",
    "\n",
    "print(f'\\nGröße aller Apps summiert in GB: {size.sum() / 1000.0:.2f}')"
   ]
  },
  {
   "cell_type": "code",
   "execution_count": 23,
   "id": "a3424e5e-896d-4daa-907d-5880159f9a7e",
   "metadata": {},
   "outputs": [
    {
     "data": {
      "text/plain": [
       "App Name                        Gakondo\n",
       "App Id              com.ishakwe.gakondo\n",
       "Category                      Adventure\n",
       "Rating                              0.0\n",
       "Rating Count                        0.0\n",
       "Installs                            10+\n",
       "Minimum Installs                   10.0\n",
       "Maximum Installs                     15\n",
       "Free                               True\n",
       "Price                               0.0\n",
       "Currency                            USD\n",
       "Size                               10.0\n",
       "Name: 0, dtype: object"
      ]
     },
     "execution_count": 23,
     "metadata": {},
     "output_type": "execute_result"
    }
   ],
   "source": [
    "apps_concated.loc[0, 'App Name':'Size']"
   ]
  },
  {
   "cell_type": "code",
   "execution_count": 24,
   "id": "62635a94-1664-4845-84a4-91b079b0fe21",
   "metadata": {},
   "outputs": [],
   "source": [
    "conv_apps = apps_concated"
   ]
  },
  {
   "cell_type": "markdown",
   "id": "18e6e5b6-ac19-40fc-98be-9607a8e3ff76",
   "metadata": {},
   "source": [
    "---\n",
    "**AUFGABE:**\n",
    "\n",
    "Führen Sie mindestens eine Gruppierung durch - warum war diese sinnvoll?\n",
    "\n",
    "- Gruppierung wird bei Kategorien durchgeführt, damit ...\n",
    "    - die einzelnen Kategorien angezeigt werden und\n",
    "    - man die Anzahl von Apps innerhalb einer Kategorie erhält"
   ]
  },
  {
   "cell_type": "code",
   "execution_count": 25,
   "id": "f330c943-8011-4693-99d8-342f0b658256",
   "metadata": {},
   "outputs": [
    {
     "data": {
      "text/plain": [
       "Category\n",
       "Action                      27547\n",
       "Adventure                   23196\n",
       "Arcade                      53784\n",
       "Art & Design                18538\n",
       "Auto & Vehicles             18278\n",
       "Beauty                      11771\n",
       "Board                       10588\n",
       "Books & Reference          116726\n",
       "Business                   143761\n",
       "Card                         8179\n",
       "Casino                       5076\n",
       "Casual                      50797\n",
       "Comics                       2862\n",
       "Communication               48159\n",
       "Dating                       6523\n",
       "Education                  241075\n",
       "Educational                 21304\n",
       "Entertainment              138268\n",
       "Events                      12839\n",
       "Finance                     65456\n",
       "Food & Drink                73920\n",
       "Health & Fitness            83501\n",
       "House & Home                14369\n",
       "Libraries & Demo             5196\n",
       "Lifestyle                  118324\n",
       "Maps & Navigation           26722\n",
       "Medical                     32063\n",
       "Music                        4202\n",
       "Music & Audio              154898\n",
       "News & Magazines            42804\n",
       "Parenting                    3810\n",
       "Personalization             89210\n",
       "Photography                 35552\n",
       "Productivity                79686\n",
       "Puzzle                      51160\n",
       "Racing                      10362\n",
       "Role Playing                10027\n",
       "Shopping                    75253\n",
       "Simulation                  23276\n",
       "Social                      44729\n",
       "Sports                      47478\n",
       "Strategy                     8525\n",
       "Tools                      143976\n",
       "Travel & Local              67282\n",
       "Trivia                      11794\n",
       "Video Players & Editors     14014\n",
       "Weather                      7245\n",
       "Word                         8630\n",
       "Name: Category, dtype: int64"
      ]
     },
     "execution_count": 25,
     "metadata": {},
     "output_type": "execute_result"
    }
   ],
   "source": [
    "cat_groups = conv_apps.groupby('Category')\n",
    "cat_groups['Category'].count()"
   ]
  },
  {
   "cell_type": "markdown",
   "id": "2ea47aa8-7bc6-424d-b426-7b5b07a65e08",
   "metadata": {},
   "source": [
    "---\n",
    "**AUFGABE:**\n",
    "\n",
    "\n",
    "Sortieren Sie den Datensatz entweder dauerhaft oder für eine bestimmte Analyse – warum ist diese Sortierung sinnvoll?\n",
    "\n",
    "- Der Datensatz wird sortiert nach absteigender Bewertung, also mit der höchsten Bewertung\n",
    "- Es wird wieder gruppiert nach Kategorie\n",
    "- Um die bestbewerteste App pro Kategorie zu erhalten, wird mit `head(1)` der erste Eintrag angezeigt – da der Datensatz sortiert ist, ist es auch die mit der höchsten Bewertung"
   ]
  },
  {
   "cell_type": "code",
   "execution_count": 26,
   "id": "7e181c59-9a73-49f6-9673-d9577d896076",
   "metadata": {},
   "outputs": [
    {
     "data": {
      "text/html": [
       "<div>\n",
       "<style scoped>\n",
       "    .dataframe tbody tr th:only-of-type {\n",
       "        vertical-align: middle;\n",
       "    }\n",
       "\n",
       "    .dataframe tbody tr th {\n",
       "        vertical-align: top;\n",
       "    }\n",
       "\n",
       "    .dataframe thead th {\n",
       "        text-align: right;\n",
       "    }\n",
       "</style>\n",
       "<table border=\"1\" class=\"dataframe\">\n",
       "  <thead>\n",
       "    <tr style=\"text-align: right;\">\n",
       "      <th></th>\n",
       "      <th>App Name</th>\n",
       "      <th>App Id</th>\n",
       "      <th>Category</th>\n",
       "      <th>Rating</th>\n",
       "      <th>Rating Count</th>\n",
       "      <th>Installs</th>\n",
       "      <th>Minimum Installs</th>\n",
       "      <th>Maximum Installs</th>\n",
       "      <th>Free</th>\n",
       "      <th>Price</th>\n",
       "      <th>...</th>\n",
       "      <th>Developer Email</th>\n",
       "      <th>Released</th>\n",
       "      <th>Last Updated</th>\n",
       "      <th>Content Rating</th>\n",
       "      <th>Privacy Policy</th>\n",
       "      <th>Ad Supported</th>\n",
       "      <th>In App Purchases</th>\n",
       "      <th>Editors Choice</th>\n",
       "      <th>Scraped Time</th>\n",
       "      <th>Released Year</th>\n",
       "    </tr>\n",
       "  </thead>\n",
       "  <tbody>\n",
       "    <tr>\n",
       "      <th>220626</th>\n",
       "      <td>BBD Store - Best Budget Deals</td>\n",
       "      <td>com.app.BBD_Store</td>\n",
       "      <td>Shopping</td>\n",
       "      <td>5.0</td>\n",
       "      <td>20.0</td>\n",
       "      <td>100+</td>\n",
       "      <td>100.0</td>\n",
       "      <td>179</td>\n",
       "      <td>True</td>\n",
       "      <td>0.0</td>\n",
       "      <td>...</td>\n",
       "      <td>bbdstore9137@gmail.com</td>\n",
       "      <td>2020-12-31</td>\n",
       "      <td>2021-05-27</td>\n",
       "      <td>Everyone</td>\n",
       "      <td>https://bbd-store-0.flycricket.io/privacy.html</td>\n",
       "      <td>True</td>\n",
       "      <td>False</td>\n",
       "      <td>False</td>\n",
       "      <td>2021-06-16 00:05:22</td>\n",
       "      <td>2020.0</td>\n",
       "    </tr>\n",
       "    <tr>\n",
       "      <th>1564039</th>\n",
       "      <td>아가펫츠</td>\n",
       "      <td>com.suholdings.agapets</td>\n",
       "      <td>Lifestyle</td>\n",
       "      <td>5.0</td>\n",
       "      <td>8.0</td>\n",
       "      <td>100+</td>\n",
       "      <td>100.0</td>\n",
       "      <td>152</td>\n",
       "      <td>True</td>\n",
       "      <td>0.0</td>\n",
       "      <td>...</td>\n",
       "      <td>info@agapets.com</td>\n",
       "      <td>2020-06-16</td>\n",
       "      <td>2020-08-06</td>\n",
       "      <td>Teen</td>\n",
       "      <td>http://www.agapets.com/terms/terms_privacy.html</td>\n",
       "      <td>True</td>\n",
       "      <td>False</td>\n",
       "      <td>False</td>\n",
       "      <td>2021-06-16 02:17:56</td>\n",
       "      <td>2020.0</td>\n",
       "    </tr>\n",
       "    <tr>\n",
       "      <th>540797</th>\n",
       "      <td>Zákamenné</td>\n",
       "      <td>com.impoinfo.zakamenne</td>\n",
       "      <td>Communication</td>\n",
       "      <td>5.0</td>\n",
       "      <td>8.0</td>\n",
       "      <td>1,000+</td>\n",
       "      <td>1000.0</td>\n",
       "      <td>1338</td>\n",
       "      <td>True</td>\n",
       "      <td>0.0</td>\n",
       "      <td>...</td>\n",
       "      <td>adsupra.com@gmail.com</td>\n",
       "      <td>2020-06-25</td>\n",
       "      <td>2020-01-20</td>\n",
       "      <td>Everyone</td>\n",
       "      <td>http://www.impoinfo.com/policy_sk.html</td>\n",
       "      <td>False</td>\n",
       "      <td>False</td>\n",
       "      <td>False</td>\n",
       "      <td>2021-06-16 05:12:07</td>\n",
       "      <td>2020.0</td>\n",
       "    </tr>\n",
       "    <tr>\n",
       "      <th>1806745</th>\n",
       "      <td>Parihans social app</td>\n",
       "      <td>com.wParihansVideocallingandmessenger_11521310</td>\n",
       "      <td>Social</td>\n",
       "      <td>5.0</td>\n",
       "      <td>22.0</td>\n",
       "      <td>100+</td>\n",
       "      <td>100.0</td>\n",
       "      <td>145</td>\n",
       "      <td>True</td>\n",
       "      <td>0.0</td>\n",
       "      <td>...</td>\n",
       "      <td>parihans2931@gmail.com</td>\n",
       "      <td>2020-07-10</td>\n",
       "      <td>2020-12-02</td>\n",
       "      <td>Teen</td>\n",
       "      <td>https://sites.google.com/view/parihans-vlog/pr...</td>\n",
       "      <td>False</td>\n",
       "      <td>False</td>\n",
       "      <td>False</td>\n",
       "      <td>2021-06-16 05:39:39</td>\n",
       "      <td>2020.0</td>\n",
       "    </tr>\n",
       "    <tr>\n",
       "      <th>369826</th>\n",
       "      <td>CHATRIS 2019 - Match 3 Puzzle Game</td>\n",
       "      <td>com.Doosin.CHATRIS1</td>\n",
       "      <td>Puzzle</td>\n",
       "      <td>5.0</td>\n",
       "      <td>13.0</td>\n",
       "      <td>50+</td>\n",
       "      <td>50.0</td>\n",
       "      <td>69</td>\n",
       "      <td>True</td>\n",
       "      <td>0.0</td>\n",
       "      <td>...</td>\n",
       "      <td>doosin97@gmail.com</td>\n",
       "      <td>2019-09-11</td>\n",
       "      <td>2019-09-12</td>\n",
       "      <td>Everyone</td>\n",
       "      <td>https://blog.naver.com/hd9172/221612868565</td>\n",
       "      <td>True</td>\n",
       "      <td>True</td>\n",
       "      <td>False</td>\n",
       "      <td>2021-06-16 02:36:45</td>\n",
       "      <td>2019.0</td>\n",
       "    </tr>\n",
       "  </tbody>\n",
       "</table>\n",
       "<p>5 rows × 25 columns</p>\n",
       "</div>"
      ],
      "text/plain": [
       "                                   App Name  \\\n",
       "220626        BBD Store - Best Budget Deals   \n",
       "1564039                                아가펫츠   \n",
       "540797                            Zákamenné   \n",
       "1806745                 Parihans social app   \n",
       "369826   CHATRIS 2019 - Match 3 Puzzle Game   \n",
       "\n",
       "                                                 App Id       Category  \\\n",
       "220626                                com.app.BBD_Store       Shopping   \n",
       "1564039                          com.suholdings.agapets      Lifestyle   \n",
       "540797                           com.impoinfo.zakamenne  Communication   \n",
       "1806745  com.wParihansVideocallingandmessenger_11521310         Social   \n",
       "369826                              com.Doosin.CHATRIS1         Puzzle   \n",
       "\n",
       "         Rating  Rating Count Installs  Minimum Installs  Maximum Installs  \\\n",
       "220626      5.0          20.0     100+             100.0               179   \n",
       "1564039     5.0           8.0     100+             100.0               152   \n",
       "540797      5.0           8.0   1,000+            1000.0              1338   \n",
       "1806745     5.0          22.0     100+             100.0               145   \n",
       "369826      5.0          13.0      50+              50.0                69   \n",
       "\n",
       "         Free  Price  ...         Developer Email   Released Last Updated  \\\n",
       "220626   True    0.0  ...  bbdstore9137@gmail.com 2020-12-31   2021-05-27   \n",
       "1564039  True    0.0  ...        info@agapets.com 2020-06-16   2020-08-06   \n",
       "540797   True    0.0  ...   adsupra.com@gmail.com 2020-06-25   2020-01-20   \n",
       "1806745  True    0.0  ...  parihans2931@gmail.com 2020-07-10   2020-12-02   \n",
       "369826   True    0.0  ...      doosin97@gmail.com 2019-09-11   2019-09-12   \n",
       "\n",
       "        Content Rating                                     Privacy Policy  \\\n",
       "220626        Everyone     https://bbd-store-0.flycricket.io/privacy.html   \n",
       "1564039           Teen    http://www.agapets.com/terms/terms_privacy.html   \n",
       "540797        Everyone             http://www.impoinfo.com/policy_sk.html   \n",
       "1806745           Teen  https://sites.google.com/view/parihans-vlog/pr...   \n",
       "369826        Everyone         https://blog.naver.com/hd9172/221612868565   \n",
       "\n",
       "        Ad Supported In App Purchases Editors Choice         Scraped Time  \\\n",
       "220626          True            False          False  2021-06-16 00:05:22   \n",
       "1564039         True            False          False  2021-06-16 02:17:56   \n",
       "540797         False            False          False  2021-06-16 05:12:07   \n",
       "1806745        False            False          False  2021-06-16 05:39:39   \n",
       "369826          True             True          False  2021-06-16 02:36:45   \n",
       "\n",
       "        Released Year  \n",
       "220626         2020.0  \n",
       "1564039        2020.0  \n",
       "540797         2020.0  \n",
       "1806745        2020.0  \n",
       "369826         2019.0  \n",
       "\n",
       "[5 rows x 25 columns]"
      ]
     },
     "execution_count": 26,
     "metadata": {},
     "output_type": "execute_result"
    }
   ],
   "source": [
    "conv_apps.sort_values('Rating', ascending=False, inplace=True)\n",
    "best_catapp = conv_apps.groupby('Category').head(1)\n",
    "best_catapp.head()"
   ]
  },
  {
   "cell_type": "markdown",
   "id": "3df20426-43a9-4264-83a0-e423cd4ed9ab",
   "metadata": {},
   "source": [
    "---\n",
    "**AUFGABE:**\n",
    "\n",
    "Dokumentieren Sie jeweils mindestens eine Erkenntnis bzgl. Datenstruktur, Daten und geschäftliche Domäne."
   ]
  },
  {
   "cell_type": "markdown",
   "id": "4573a463-34ab-413d-9964-bbc046d9573b",
   "metadata": {},
   "source": [
    "In diesem Datensatz existieren neben den Informationen zu den Anwendungen ebenso zahlreiche Informationen über die Hersteller/Entwickler. Der aktuelle Datensatz ist zufällig angeordnet und besitzt ebenso Informationen die keinen wirtschaftlichen Mehrwert einem Unternehmen bei der Analyse der Daten bietet oder nicht aussagekräftig sind. Damit diese eine bessere Erkenntnis über ihre Anwendungen und  Konkurrenzprodukte erlangen, sollte eine sinnvolle Sortierung innerhalb des Datensatzes vorhanden sein. Mit einer absteigenden Sortierung innerhalb einer Gruppierung und einer zusätzlichen Erhebung der textuellen Bewertungen könnte der Hersteller informative Schlüsse zu seiner eigenen Anwendung ziehen. Durch die Sortierung und Gruppierung sieht der Hersteller vergleichbare Produkte zu seiner Anwendung von anderen Unternehmen. Die zusätzliche Erhebung von textuellen Bewertungen ermöglicht wiederum eine zusätzliche Analyse, um bspw. funktionale und nicht-funktionale Anforderungen zu der Anwendung aus den Bewertungen zu filtern und erfassen."
   ]
  },
  {
   "cell_type": "code",
   "execution_count": 27,
   "id": "27fca284-01af-416f-805b-14c463e7a1b3",
   "metadata": {},
   "outputs": [],
   "source": [
    "apps_Req2 = conv_apps\n",
    "apps_Req2.to_csv('Daten/Google-Playstore_Edit2.csv', index = False)"
   ]
  },
  {
   "cell_type": "code",
   "execution_count": null,
   "id": "68bdc74b-cc95-493f-b6fc-173680d29698",
   "metadata": {},
   "outputs": [],
   "source": []
  }
 ],
 "metadata": {
  "kernelspec": {
   "display_name": "Python 3 (ipykernel)",
   "language": "python",
   "name": "python3"
  },
  "language_info": {
   "codemirror_mode": {
    "name": "ipython",
    "version": 3
   },
   "file_extension": ".py",
   "mimetype": "text/x-python",
   "name": "python",
   "nbconvert_exporter": "python",
   "pygments_lexer": "ipython3",
   "version": "3.8.10"
  }
 },
 "nbformat": 4,
 "nbformat_minor": 5
}
