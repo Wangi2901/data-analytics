{
 "cells": [
  {
   "cell_type": "markdown",
   "id": "0eb6a115-78e7-424f-890c-6d4bedffa52d",
   "metadata": {},
   "source": [
    "# 2. Datenexploration – Data Understanding und Data Preparation\n",
    "## Anforderungen an Projektumsetzung: Datenexploration"
   ]
  },
  {
   "cell_type": "code",
   "execution_count": 3,
   "id": "e9395b70-255e-42a3-9343-ea87d31723be",
   "metadata": {},
   "outputs": [],
   "source": [
    "import numpy as np\n",
    "import pandas as pd\n",
    "import matplotlib.pyplot as plt\n",
    "import seaborn as sns\n",
    "\n",
    "apps = pd.read_csv(\"Daten/Google-Playstore.csv\")"
   ]
  },
  {
   "cell_type": "markdown",
   "id": "48a0292b-75da-444c-a9fa-d2a390675175",
   "metadata": {},
   "source": [
    "---\n",
    "**AUFGABE:**\n",
    "\n",
    "Erstellen Sie ein **Line-Chart**."
   ]
  },
  {
   "cell_type": "code",
   "execution_count": 9,
   "id": "0c7c07ff-5e27-414f-a668-de8349f2d182",
   "metadata": {},
   "outputs": [
    {
     "data": {
      "text/html": [
       "<div>\n",
       "<style scoped>\n",
       "    .dataframe tbody tr th:only-of-type {\n",
       "        vertical-align: middle;\n",
       "    }\n",
       "\n",
       "    .dataframe tbody tr th {\n",
       "        vertical-align: top;\n",
       "    }\n",
       "\n",
       "    .dataframe thead th {\n",
       "        text-align: right;\n",
       "    }\n",
       "</style>\n",
       "<table border=\"1\" class=\"dataframe\">\n",
       "  <thead>\n",
       "    <tr style=\"text-align: right;\">\n",
       "      <th></th>\n",
       "      <th>App Name</th>\n",
       "      <th>Category</th>\n",
       "      <th>Rating</th>\n",
       "      <th>Number of Rating</th>\n",
       "      <th>Installs</th>\n",
       "      <th>Minimum Installs</th>\n",
       "      <th>Maximum Installs</th>\n",
       "      <th>Free of Charge</th>\n",
       "      <th>App Price</th>\n",
       "      <th>Currency</th>\n",
       "      <th>...</th>\n",
       "      <th>Developer Id</th>\n",
       "      <th>Developer Website</th>\n",
       "      <th>Released</th>\n",
       "      <th>Last Updated</th>\n",
       "      <th>Content Rating</th>\n",
       "      <th>Privacy Policy</th>\n",
       "      <th>Ad Supported</th>\n",
       "      <th>In App Purchases</th>\n",
       "      <th>Editors Choice</th>\n",
       "      <th>Released Year</th>\n",
       "    </tr>\n",
       "  </thead>\n",
       "  <tbody>\n",
       "    <tr>\n",
       "      <th>0</th>\n",
       "      <td>Gakondo</td>\n",
       "      <td>Adventure</td>\n",
       "      <td>0.0</td>\n",
       "      <td>0.0</td>\n",
       "      <td>10+</td>\n",
       "      <td>10.0</td>\n",
       "      <td>15</td>\n",
       "      <td>True</td>\n",
       "      <td>0.0</td>\n",
       "      <td>USD</td>\n",
       "      <td>...</td>\n",
       "      <td>Jean Confident Irénée NIYIZIBYOSE</td>\n",
       "      <td>https://beniyizibyose.tk/#/</td>\n",
       "      <td>2020-02-26</td>\n",
       "      <td>2020-02-26</td>\n",
       "      <td>Everyone</td>\n",
       "      <td>https://beniyizibyose.tk/projects/</td>\n",
       "      <td>False</td>\n",
       "      <td>False</td>\n",
       "      <td>False</td>\n",
       "      <td>2020.0</td>\n",
       "    </tr>\n",
       "    <tr>\n",
       "      <th>1</th>\n",
       "      <td>Ampere Battery Info</td>\n",
       "      <td>Tools</td>\n",
       "      <td>4.4</td>\n",
       "      <td>64.0</td>\n",
       "      <td>5,000+</td>\n",
       "      <td>5000.0</td>\n",
       "      <td>7662</td>\n",
       "      <td>True</td>\n",
       "      <td>0.0</td>\n",
       "      <td>USD</td>\n",
       "      <td>...</td>\n",
       "      <td>Webserveis</td>\n",
       "      <td>https://webserveis.netlify.app/</td>\n",
       "      <td>2020-05-21</td>\n",
       "      <td>2021-05-06</td>\n",
       "      <td>Everyone</td>\n",
       "      <td>https://dev4phones.wordpress.com/licencia-de-uso/</td>\n",
       "      <td>True</td>\n",
       "      <td>False</td>\n",
       "      <td>False</td>\n",
       "      <td>2020.0</td>\n",
       "    </tr>\n",
       "    <tr>\n",
       "      <th>2</th>\n",
       "      <td>Vibook</td>\n",
       "      <td>Productivity</td>\n",
       "      <td>0.0</td>\n",
       "      <td>0.0</td>\n",
       "      <td>50+</td>\n",
       "      <td>50.0</td>\n",
       "      <td>58</td>\n",
       "      <td>True</td>\n",
       "      <td>0.0</td>\n",
       "      <td>USD</td>\n",
       "      <td>...</td>\n",
       "      <td>Cabin Crew</td>\n",
       "      <td>NaN</td>\n",
       "      <td>2019-08-09</td>\n",
       "      <td>2019-08-19</td>\n",
       "      <td>Everyone</td>\n",
       "      <td>https://www.vietnamairlines.com/vn/en/terms-an...</td>\n",
       "      <td>False</td>\n",
       "      <td>False</td>\n",
       "      <td>False</td>\n",
       "      <td>2019.0</td>\n",
       "    </tr>\n",
       "    <tr>\n",
       "      <th>3</th>\n",
       "      <td>Smart City Trichy Public Service Vehicles 17UC...</td>\n",
       "      <td>Communication</td>\n",
       "      <td>5.0</td>\n",
       "      <td>5.0</td>\n",
       "      <td>10+</td>\n",
       "      <td>10.0</td>\n",
       "      <td>19</td>\n",
       "      <td>True</td>\n",
       "      <td>0.0</td>\n",
       "      <td>USD</td>\n",
       "      <td>...</td>\n",
       "      <td>Climate Smart Tech2</td>\n",
       "      <td>http://www.climatesmarttech.com/</td>\n",
       "      <td>2018-09-10</td>\n",
       "      <td>2018-10-13</td>\n",
       "      <td>Everyone</td>\n",
       "      <td>NaN</td>\n",
       "      <td>True</td>\n",
       "      <td>False</td>\n",
       "      <td>False</td>\n",
       "      <td>2018.0</td>\n",
       "    </tr>\n",
       "    <tr>\n",
       "      <th>4</th>\n",
       "      <td>GROW.me</td>\n",
       "      <td>Tools</td>\n",
       "      <td>0.0</td>\n",
       "      <td>0.0</td>\n",
       "      <td>100+</td>\n",
       "      <td>100.0</td>\n",
       "      <td>478</td>\n",
       "      <td>True</td>\n",
       "      <td>0.0</td>\n",
       "      <td>USD</td>\n",
       "      <td>...</td>\n",
       "      <td>Rafal Milek-Horodyski</td>\n",
       "      <td>http://www.horodyski.com.pl</td>\n",
       "      <td>2020-02-21</td>\n",
       "      <td>2018-11-12</td>\n",
       "      <td>Everyone</td>\n",
       "      <td>http://www.horodyski.com.pl</td>\n",
       "      <td>False</td>\n",
       "      <td>False</td>\n",
       "      <td>False</td>\n",
       "      <td>2020.0</td>\n",
       "    </tr>\n",
       "  </tbody>\n",
       "</table>\n",
       "<p>5 rows × 24 columns</p>\n",
       "</div>"
      ],
      "text/plain": [
       "                                            App Name       Category  Rating  \\\n",
       "0                                            Gakondo      Adventure     0.0   \n",
       "1                                Ampere Battery Info          Tools     4.4   \n",
       "2                                             Vibook   Productivity     0.0   \n",
       "3  Smart City Trichy Public Service Vehicles 17UC...  Communication     5.0   \n",
       "4                                            GROW.me          Tools     0.0   \n",
       "\n",
       "   Number of Rating Installs  Minimum Installs  Maximum Installs  \\\n",
       "0               0.0      10+              10.0                15   \n",
       "1              64.0   5,000+            5000.0              7662   \n",
       "2               0.0      50+              50.0                58   \n",
       "3               5.0      10+              10.0                19   \n",
       "4               0.0     100+             100.0               478   \n",
       "\n",
       "   Free of Charge  App Price Currency  ...                       Developer Id  \\\n",
       "0            True        0.0      USD  ...  Jean Confident Irénée NIYIZIBYOSE   \n",
       "1            True        0.0      USD  ...                         Webserveis   \n",
       "2            True        0.0      USD  ...                         Cabin Crew   \n",
       "3            True        0.0      USD  ...                Climate Smart Tech2   \n",
       "4            True        0.0      USD  ...              Rafal Milek-Horodyski   \n",
       "\n",
       "                  Developer Website   Released Last Updated Content Rating  \\\n",
       "0       https://beniyizibyose.tk/#/ 2020-02-26   2020-02-26       Everyone   \n",
       "1   https://webserveis.netlify.app/ 2020-05-21   2021-05-06       Everyone   \n",
       "2                               NaN 2019-08-09   2019-08-19       Everyone   \n",
       "3  http://www.climatesmarttech.com/ 2018-09-10   2018-10-13       Everyone   \n",
       "4       http://www.horodyski.com.pl 2020-02-21   2018-11-12       Everyone   \n",
       "\n",
       "                                      Privacy Policy Ad Supported  \\\n",
       "0                 https://beniyizibyose.tk/projects/        False   \n",
       "1  https://dev4phones.wordpress.com/licencia-de-uso/         True   \n",
       "2  https://www.vietnamairlines.com/vn/en/terms-an...        False   \n",
       "3                                                NaN         True   \n",
       "4                        http://www.horodyski.com.pl        False   \n",
       "\n",
       "  In App Purchases Editors Choice Released Year  \n",
       "0            False          False        2020.0  \n",
       "1            False          False        2020.0  \n",
       "2            False          False        2019.0  \n",
       "3            False          False        2018.0  \n",
       "4            False          False        2020.0  \n",
       "\n",
       "[5 rows x 24 columns]"
      ]
     },
     "execution_count": 9,
     "metadata": {},
     "output_type": "execute_result"
    }
   ],
   "source": [
    "# Spalte `Released` und `Last Updated` in Datetime-Format umwandeln \n",
    "apps['Released']      = pd.to_datetime(apps['Released'], format='%b %d, %Y')\n",
    "apps['Last Updated']  = pd.to_datetime(apps['Last Updated'], format='%b %d, %Y')\n",
    "apps['Released Year'] = pd.DatetimeIndex(apps['Released']).year\n",
    "apps.head()"
   ]
  },
  {
   "cell_type": "code",
   "execution_count": 10,
   "id": "0978b08f-3496-4e75-b404-b321ee72fa97",
   "metadata": {},
   "outputs": [
    {
     "data": {
      "text/plain": [
       "Free of Charge    2267876\n",
       "dtype: int64"
      ]
     },
     "execution_count": 10,
     "metadata": {},
     "output_type": "execute_result"
    }
   ],
   "source": [
    "# Filter nach alles kostenlosen Apps und zähle diese\n",
    "free_apps = apps['Free of Charge'] == True\n",
    "apps.loc[free_apps, ['Free of Charge']].count()"
   ]
  },
  {
   "cell_type": "code",
   "execution_count": 11,
   "id": "5b0e7edf-5f09-4697-8c7e-33f8310f8f17",
   "metadata": {},
   "outputs": [
    {
     "data": {
      "text/html": [
       "<div>\n",
       "<style scoped>\n",
       "    .dataframe tbody tr th:only-of-type {\n",
       "        vertical-align: middle;\n",
       "    }\n",
       "\n",
       "    .dataframe tbody tr th {\n",
       "        vertical-align: top;\n",
       "    }\n",
       "\n",
       "    .dataframe thead th {\n",
       "        text-align: right;\n",
       "    }\n",
       "</style>\n",
       "<table border=\"1\" class=\"dataframe\">\n",
       "  <thead>\n",
       "    <tr style=\"text-align: right;\">\n",
       "      <th></th>\n",
       "      <th>Released Year</th>\n",
       "    </tr>\n",
       "  </thead>\n",
       "  <tbody>\n",
       "    <tr>\n",
       "      <th>0</th>\n",
       "      <td>2020.0</td>\n",
       "    </tr>\n",
       "    <tr>\n",
       "      <th>1</th>\n",
       "      <td>2020.0</td>\n",
       "    </tr>\n",
       "    <tr>\n",
       "      <th>2</th>\n",
       "      <td>2019.0</td>\n",
       "    </tr>\n",
       "    <tr>\n",
       "      <th>3</th>\n",
       "      <td>2018.0</td>\n",
       "    </tr>\n",
       "    <tr>\n",
       "      <th>4</th>\n",
       "      <td>2020.0</td>\n",
       "    </tr>\n",
       "    <tr>\n",
       "      <th>...</th>\n",
       "      <td>...</td>\n",
       "    </tr>\n",
       "    <tr>\n",
       "      <th>2312937</th>\n",
       "      <td>2020.0</td>\n",
       "    </tr>\n",
       "    <tr>\n",
       "      <th>2312938</th>\n",
       "      <td>2018.0</td>\n",
       "    </tr>\n",
       "    <tr>\n",
       "      <th>2312940</th>\n",
       "      <td>2018.0</td>\n",
       "    </tr>\n",
       "    <tr>\n",
       "      <th>2312941</th>\n",
       "      <td>2018.0</td>\n",
       "    </tr>\n",
       "    <tr>\n",
       "      <th>2312943</th>\n",
       "      <td>2019.0</td>\n",
       "    </tr>\n",
       "  </tbody>\n",
       "</table>\n",
       "<p>1360113 rows × 1 columns</p>\n",
       "</div>"
      ],
      "text/plain": [
       "         Released Year\n",
       "0               2020.0\n",
       "1               2020.0\n",
       "2               2019.0\n",
       "3               2018.0\n",
       "4               2020.0\n",
       "...                ...\n",
       "2312937         2020.0\n",
       "2312938         2018.0\n",
       "2312940         2018.0\n",
       "2312941         2018.0\n",
       "2312943         2019.0\n",
       "\n",
       "[1360113 rows x 1 columns]"
      ]
     },
     "execution_count": 11,
     "metadata": {},
     "output_type": "execute_result"
    }
   ],
   "source": [
    "fst_year = apps['Released Year'] == 2018.\n",
    "scd_year = apps['Released Year'] == 2019.\n",
    "trd_year = apps['Released Year'] == 2020.\n",
    "many     = fst_year | scd_year | trd_year\n",
    "apps.loc[many, ['Released Year']]"
   ]
  },
  {
   "cell_type": "code",
   "execution_count": 12,
   "id": "5ee2210d-1c97-4385-9215-cbbfdb1be5aa",
   "metadata": {},
   "outputs": [
    {
     "data": {
      "text/plain": [
       "Free of Charge    329145\n",
       "dtype: int64"
      ]
     },
     "execution_count": 12,
     "metadata": {},
     "output_type": "execute_result"
    }
   ],
   "source": [
    "fst_true   = fst_year & free_apps\n",
    "eight_true = apps.loc[fst_true, ['Free of Charge']].count()\n",
    "apps.loc[fst_true, ['Free of Charge']].count()"
   ]
  },
  {
   "cell_type": "code",
   "execution_count": 13,
   "id": "53f603bd-8956-41bd-8744-fa090256382f",
   "metadata": {},
   "outputs": [
    {
     "data": {
      "text/plain": [
       "Free of Charge    5421\n",
       "dtype: int64"
      ]
     },
     "execution_count": 13,
     "metadata": {},
     "output_type": "execute_result"
    }
   ],
   "source": [
    "fst_false   = fst_year & ~free_apps\n",
    "eight_false = apps.loc[fst_false, ['Free of Charge']].count()\n",
    "apps.loc[fst_false, ['Free of Charge']].count()"
   ]
  },
  {
   "cell_type": "code",
   "execution_count": 14,
   "id": "64eac8e6-7ab7-4e3d-ac3b-c1e7367a19c2",
   "metadata": {},
   "outputs": [
    {
     "data": {
      "text/plain": [
       "Free of Charge    475280\n",
       "dtype: int64"
      ]
     },
     "execution_count": 14,
     "metadata": {},
     "output_type": "execute_result"
    }
   ],
   "source": [
    "scd_true  = scd_year & free_apps\n",
    "nine_true = apps.loc[scd_true, ['Free of Charge']].count()\n",
    "apps.loc[scd_true, ['Free of Charge']].count()"
   ]
  },
  {
   "cell_type": "code",
   "execution_count": 16,
   "id": "eb7c0196-f99b-4cc4-a67a-589e20bd2dcd",
   "metadata": {},
   "outputs": [
    {
     "data": {
      "text/plain": [
       "Free of Charge    5385\n",
       "dtype: int64"
      ]
     },
     "execution_count": 16,
     "metadata": {},
     "output_type": "execute_result"
    }
   ],
   "source": [
    "scd_false  = scd_year & ~free_apps\n",
    "nine_false = apps.loc[scd_false, ['Free of Charge']].count()\n",
    "apps.loc[scd_false, ['Free of Charge']].count()"
   ]
  },
  {
   "cell_type": "code",
   "execution_count": 17,
   "id": "2969df1f-e5bd-496a-ae8e-f2b2c1c12618",
   "metadata": {},
   "outputs": [
    {
     "data": {
      "text/plain": [
       "Free of Charge    539628\n",
       "dtype: int64"
      ]
     },
     "execution_count": 17,
     "metadata": {},
     "output_type": "execute_result"
    }
   ],
   "source": [
    "trd_true  = trd_year & free_apps\n",
    "twen_true = apps.loc[trd_true, ['Free of Charge']].count()\n",
    "apps.loc[trd_true, ['Free of Charge']].count()"
   ]
  },
  {
   "cell_type": "code",
   "execution_count": 18,
   "id": "47670d32-ce97-4867-b183-de040cf461ea",
   "metadata": {},
   "outputs": [
    {
     "data": {
      "text/plain": [
       "Free of Charge    5254\n",
       "dtype: int64"
      ]
     },
     "execution_count": 18,
     "metadata": {},
     "output_type": "execute_result"
    }
   ],
   "source": [
    "trd_false  = trd_year & ~free_apps\n",
    "twen_false = apps.loc[trd_false, ['Free of Charge']].count()\n",
    "apps.loc[trd_false, ['Free of Charge']].count()"
   ]
  },
  {
   "cell_type": "code",
   "execution_count": 19,
   "id": "eb0fa64e-fbce-46ae-8cbd-8b12bb03ef70",
   "metadata": {},
   "outputs": [
    {
     "data": {
      "image/png": "[encoded data removed]",
      "text/plain": [
       "<Figure size 720x432 with 1 Axes>"
      ]
     },
     "metadata": {
      "needs_background": "light"
     },
     "output_type": "display_data"
    }
   ],
   "source": [
    "# Line-Chart\n",
    "fig, ax = plt.subplots(figsize=(10,6))\n",
    "\n",
    "free = [eight_true, nine_true, twen_true]\n",
    "x = [2018.0, 2019.0, 2020.0]\n",
    "ax.plot(x, free, 'b')\n",
    "\n",
    "nonfree = [eight_false, nine_false, twen_false]\n",
    "x = [2018.0, 2019.0, 2020.0]\n",
    "ax.plot(x, nonfree, 'r')\n",
    "\n",
    "plt.title('How many free or non-free apps are released per year?')\n",
    "ax.grid(True)\n",
    "   \n",
    "plt.show()"
   ]
  },
  {
   "cell_type": "markdown",
   "id": "132cb722-4432-430f-8cd0-1c77d7d7e872",
   "metadata": {},
   "source": [
    "---\n",
    "**AUFGABE:**\n",
    "\n",
    "Erstellen Sie ein **Bar-Chart**."
   ]
  },
  {
   "cell_type": "code",
   "execution_count": 23,
   "id": "62a69beb-303d-401e-b5e3-ca7eefa7fe6b",
   "metadata": {},
   "outputs": [
    {
     "data": {
      "text/plain": [
       "array([  45068, 2267876], dtype=int64)"
      ]
     },
     "execution_count": 23,
     "metadata": {},
     "output_type": "execute_result"
    }
   ],
   "source": [
    "gr_charge = apps.groupby('Free of Charge')\n",
    "gr_charge['Free of Charge'].count().values"
   ]
  },
  {
   "cell_type": "code",
   "execution_count": 24,
   "id": "e6d801f7-f861-4b46-93cf-836443abbaa0",
   "metadata": {},
   "outputs": [
    {
     "data": {
      "text/plain": [
       "0      0.00\n",
       "1      0.00\n",
       "2      0.00\n",
       "3      0.00\n",
       "4      0.00\n",
       "273    1.99\n",
       "296    4.99\n",
       "417    0.99\n",
       "554    2.99\n",
       "618    0.99\n",
       "Name: App Price, dtype: float64"
      ]
     },
     "execution_count": 24,
     "metadata": {},
     "output_type": "execute_result"
    }
   ],
   "source": [
    "gr_charge['App Price'].head()"
   ]
  },
  {
   "cell_type": "code",
   "execution_count": 36,
   "id": "b9e5f9fa-4d33-4c44-bb89-f97df1e47668",
   "metadata": {},
   "outputs": [
    {
     "data": {
      "image/png": "[encoded data removed]",
      "text/plain": [
       "<Figure size 720x360 with 1 Axes>"
      ]
     },
     "metadata": {},
     "output_type": "display_data"
    }
   ],
   "source": [
    "# Bar-Chart (Free or Not)\n",
    "fig, ax = plt.subplots(figsize=(10,5))\n",
    "\n",
    "plt.style.use(\"seaborn\")\n",
    "cost_bars = ax.barh(['kostenpflichtig','kostenlos'], width = gr_charge['Free of Charge'].count().values)\n",
    "ax.bar_label(cost_bars, padding=10)\n",
    "ax.invert_yaxis()\n",
    "ax.set_title('Summe der kostenlosen und kostenpflichtigen Apps')\n",
    "fig.tight_layout()\n",
    "plt.show()"
   ]
  },
  {
   "cell_type": "markdown",
   "id": "04952212-b387-4db3-9fa8-b688f4a21630",
   "metadata": {},
   "source": [
    "---\n",
    "**AUFGABE:**\n",
    "\n",
    "Erstellen Sie ein **Histogramm**."
   ]
  },
  {
   "cell_type": "code",
   "execution_count": 42,
   "id": "8e90c35c-baa1-425d-bce1-7b5911c9aa52",
   "metadata": {},
   "outputs": [
    {
     "data": {
      "image/png": "[encoded data removed]",
      "text/plain": [
       "<Figure size 1080x360 with 1 Axes>"
      ]
     },
     "metadata": {},
     "output_type": "display_data"
    }
   ],
   "source": [
    "fig, ax = plt.subplots(figsize=(15,5))\n",
    "ax.hist(apps['Rating'], bins=[0.0, 0.25, 0.5, 0.75, 1.0, 1.25, 1.5, 1.75, 2.0, 2.25, 2.5, 2.75, 3.0, 3.25, 3.5, 3.75, 4.0, 4.25, 4.5, 4.75, 5.0])\n",
    "plt.show()"
   ]
  },
  {
   "cell_type": "markdown",
   "id": "6f7422b6-add3-4acb-9380-55387924d7f6",
   "metadata": {},
   "source": [
    "---\n",
    "**AUFGABE:**\n",
    "\n",
    "Erstellen Sie einen **Box-Plott**."
   ]
  },
  {
   "cell_type": "code",
   "execution_count": 46,
   "id": "389e97ac-5061-44f0-ab96-6121acae751d",
   "metadata": {},
   "outputs": [
    {
     "name": "stdout",
     "output_type": "stream",
     "text": [
      "Schwellenwert: 18259.0\n",
      "\n"
     ]
    },
    {
     "data": {
      "image/png": "[encoded data removed]",
      "text/plain": [
       "<Figure size 720x720 with 2 Axes>"
      ]
     },
     "metadata": {},
     "output_type": "display_data"
    }
   ],
   "source": [
    "# Berechnung Schwellenwert\n",
    "Q1 = apps['Maximum Installs'].quantile(0.25)\n",
    "Q2 = apps['Maximum Installs'].quantile(0.75)\n",
    "upper_threshold = Q2 + 1.5 * (Q2 - Q1)\n",
    "print(\"Schwellenwert: \" + str(upper_threshold) + '\\n')\n",
    "\n",
    "apps_18300 = apps[apps['Maximum Installs'] <= 18300]\n",
    "fig, ax = plt.subplots(ncols=2, figsize=(10,10))\n",
    "ax[0].boxplot(apps['Maximum Installs'], labels=['Anzahl Installationen'])\n",
    "ax[1].boxplot(apps_18300['Maximum Installs'], labels=['Anzahl Installationen'])\n",
    "plt.show()"
   ]
  },
  {
   "cell_type": "markdown",
   "id": "528b4b86-38b1-4e33-b131-4cfba822e371",
   "metadata": {},
   "source": [
    "---\n",
    "**AUFGABE:**\n",
    "\n",
    "Erstellen Sie einen **Scatter-Plott**."
   ]
  },
  {
   "cell_type": "code",
   "execution_count": 49,
   "id": "71555f65-e85b-47e1-bbea-508e252d69bc",
   "metadata": {},
   "outputs": [
    {
     "data": {
      "image/png": "[encoded data removed]",
      "text/plain": [
       "<Figure size 1800x720 with 1 Axes>"
      ]
     },
     "metadata": {},
     "output_type": "display_data"
    }
   ],
   "source": [
    "apps[apps['App Price'] > 390.]\n",
    "\n",
    "# Scatter-Plot --> Welche kostenpflictige App wurde in welchem Jahr released\n",
    "fig, ax = plt.subplots(figsize=(25,10))\n",
    "ax.scatter(x=apps['Released'], y=apps['App Price'], marker='.')\n",
    "plt.show()"
   ]
  },
  {
   "cell_type": "markdown",
   "id": "8d81e73d-efed-4813-a98a-5783c799e7d5",
   "metadata": {},
   "source": [
    "---\n",
    "**AUFGABE:**\n",
    "\n",
    "Erstellen Sie eine statistische Zusammenfassung von mindestens 1 Spalte.\n",
    "\n",
    "Vorgehen:\n",
    "- Strings entfernen\n",
    "- Umwandlung der Werte in float\n",
    "- Apps in KB in MB umrechnen\n",
    "- Appps mit \"Varies with device\" durch 0.0 ersetzen"
   ]
  },
  {
   "cell_type": "code",
   "execution_count": 54,
   "id": "24da35f1-47ff-47ca-ba07-e2249e296437",
   "metadata": {},
   "outputs": [
    {
     "data": {
      "text/plain": [
       "81         0.127\n",
       "244        0.531\n",
       "289        0.343\n",
       "313        1.018\n",
       "417        0.886\n",
       "           ...  \n",
       "2312620    0.028\n",
       "2312658    0.419\n",
       "2312695    0.634\n",
       "2312924    0.925\n",
       "2312927    0.994\n",
       "Name: Size, Length: 36253, dtype: float64"
      ]
     },
     "execution_count": 54,
     "metadata": {},
     "output_type": "execute_result"
    }
   ],
   "source": [
    "# Kopie erstellen\n",
    "apps_in_kb = apps.copy()\n",
    "apps_in_kb = apps[apps.Size.str.contains('k', na=False)].copy()\n",
    "apps_in_kb[\"Size\"]\n",
    "\n",
    "# Strings entfernen\n",
    "apps_in_kb[\"Size\"] = apps_in_kb[\"Size\"].str.replace(\"k\", \"\")\n",
    "apps_in_kb[\"Size\"] = apps_in_kb[\"Size\"].str.replace(\",\", \"\")\n",
    "\n",
    "# String in float umwandeln\n",
    "apps_in_kb[\"Size\"]= pd.to_numeric(apps_in_kb[\"Size\"], errors='raise')\n",
    "\n",
    "# KB in MB umrechnen\n",
    "apps_in_kb[\"Size\"] = apps_in_kb[\"Size\"] / 1000.0\n",
    "apps_in_kb[\"Size\"]"
   ]
  },
  {
   "cell_type": "code",
   "execution_count": 55,
   "id": "8124e394-7b00-46e7-9d7d-bff800ffc5e7",
   "metadata": {},
   "outputs": [],
   "source": [
    "# Kopie erstellen\n",
    "apps_in_mb = apps.copy()\n",
    "apps_in_mb = apps_in_mb[apps_in_mb.Size.str.contains('M', na=False)].copy()\n",
    "\n",
    "# Strings entfernen\n",
    "apps_in_mb[\"Size\"] = apps_in_mb[\"Size\"].str.replace(\"M\", \"\")\n",
    "apps_in_mb[\"Size\"] = apps_in_mb[\"Size\"].str.replace(\",\", \"\")\n",
    "\n",
    "# String in float umwandeln\n",
    "apps_in_mb[\"Size\"]= pd.to_numeric(apps_in_mb[\"Size\"], errors='raise')"
   ]
  },
  {
   "cell_type": "code",
   "execution_count": 56,
   "id": "82c95409-ce93-4f82-95c5-2d2d82e55055",
   "metadata": {},
   "outputs": [],
   "source": [
    "# Kopie erstellen\n",
    "apps_varies = apps.copy()\n",
    "apps_varies = apps_varies[apps_varies.Size.str.contains('Varies with device', na=False)].copy()\n",
    "\n",
    "# Strings entfernen und durch 0.0 ersetzen \n",
    "apps_varies[\"Size\"] = apps_varies[\"Size\"].str.replace(\"Varies with device\", \"0.0\")\n",
    "\n",
    "# String in float umandeln\n",
    "apps_varies[\"Size\"]= pd.to_numeric(apps_varies[\"Size\"], errors='raise')"
   ]
  },
  {
   "cell_type": "code",
   "execution_count": 57,
   "id": "ed6fcbf7-93ed-4c0f-bffb-4119598136cc",
   "metadata": {},
   "outputs": [
    {
     "data": {
      "text/plain": [
       "81         0.127\n",
       "244        0.531\n",
       "289        0.343\n",
       "313        1.018\n",
       "417        0.886\n",
       "           ...  \n",
       "2312738    0.000\n",
       "2312745    0.000\n",
       "2312751    0.000\n",
       "2312755    0.000\n",
       "2312842    0.000\n",
       "Name: Size, Length: 2312735, dtype: float64"
      ]
     },
     "execution_count": 57,
     "metadata": {},
     "output_type": "execute_result"
    }
   ],
   "source": [
    "# Daten zusammenführen\n",
    "apps_concated = pd.concat([apps_in_kb, apps_in_mb, apps_varies], ignore_index = False )\n",
    "apps_concated.Size  # NaN Werte nicht enthalten"
   ]
  },
  {
   "cell_type": "code",
   "execution_count": 64,
   "id": "84ef190e-80f1-4dcd-87f6-f48ed3c8f6ab",
   "metadata": {},
   "outputs": [
    {
     "name": "stdout",
     "output_type": "stream",
     "text": [
      "Durchschnittliche Größe der Apps: 18.58\n",
      "Größe der Apps:\n",
      "MIN:  0.00\n",
      "Q1:   4.50\n",
      "MED:  9.70\n",
      "Q3:  24.00\n",
      "MAX: 1020.00\n",
      "\n",
      "Größe aller Apps summiert in GB: 42972.85\n"
     ]
    }
   ],
   "source": [
    "# Statistische Auswertung\n",
    "size = apps_concated.Size\n",
    "\n",
    "print(f'Durchschnittliche Größe der Apps: {size.mean():.2f}')\n",
    "print(f'Größe der Apps:')\n",
    "print(f'MIN: {size.min():5.2f}')\n",
    "print(f'Q1:  {size.quantile(0.25):5.2f}')\n",
    "print(f'MED: {size.quantile(0.50):5.2f}')\n",
    "print(f'Q3:  {size.quantile(0.75):5.2f}')\n",
    "print(f'MAX: {size.max():5.2f}')\n",
    "\n",
    "print(f'\\nGröße aller Apps summiert in GB: {size.sum() / 1000.0:.2f}')"
   ]
  },
  {
   "cell_type": "markdown",
   "id": "18e6e5b6-ac19-40fc-98be-9607a8e3ff76",
   "metadata": {},
   "source": [
    "---\n",
    "**AUFGABE:**\n",
    "\n",
    "Führen Sie mindestens eine Gruppierung durch - warum war diese sinnvoll?\n",
    "\n",
    "- Gruppierung wird bei Kategorien durchgeführt, damit ...\n",
    "    - die einzelnen Kategorien angezeigt werden und\n",
    "    - man die Anzahl von Apps innerhalb einer Kategorie erhält"
   ]
  },
  {
   "cell_type": "code",
   "execution_count": 65,
   "id": "f330c943-8011-4693-99d8-342f0b658256",
   "metadata": {},
   "outputs": [
    {
     "data": {
      "text/plain": [
       "Category\n",
       "Action                      27555\n",
       "Adventure                   23203\n",
       "Arcade                      53792\n",
       "Art & Design                18539\n",
       "Auto & Vehicles             18280\n",
       "Beauty                      11772\n",
       "Board                       10588\n",
       "Books & Reference          116728\n",
       "Business                   143771\n",
       "Card                         8179\n",
       "Casino                       5076\n",
       "Casual                      50813\n",
       "Comics                       2862\n",
       "Communication               48167\n",
       "Dating                       6524\n",
       "Education                  241090\n",
       "Educational                 21308\n",
       "Entertainment              138276\n",
       "Events                      12841\n",
       "Finance                     65466\n",
       "Food & Drink                73927\n",
       "Health & Fitness            83510\n",
       "House & Home                14369\n",
       "Libraries & Demo             5198\n",
       "Lifestyle                  118331\n",
       "Maps & Navigation           26722\n",
       "Medical                     32065\n",
       "Music                        4202\n",
       "Music & Audio              154906\n",
       "News & Magazines            42807\n",
       "Parenting                    3810\n",
       "Personalization             89210\n",
       "Photography                 35552\n",
       "Productivity                79698\n",
       "Puzzle                      51168\n",
       "Racing                      10362\n",
       "Role Playing                10034\n",
       "Shopping                    75256\n",
       "Simulation                  23282\n",
       "Social                      44734\n",
       "Sports                      47483\n",
       "Strategy                     8526\n",
       "Tools                      143988\n",
       "Travel & Local              67288\n",
       "Trivia                      11795\n",
       "Video Players & Editors     14015\n",
       "Weather                      7246\n",
       "Word                         8630\n",
       "Name: Category, dtype: int64"
      ]
     },
     "execution_count": 65,
     "metadata": {},
     "output_type": "execute_result"
    }
   ],
   "source": [
    "cat_groups = apps.groupby('Category')\n",
    "cat_groups['Category'].count()"
   ]
  },
  {
   "cell_type": "markdown",
   "id": "2ea47aa8-7bc6-424d-b426-7b5b07a65e08",
   "metadata": {},
   "source": [
    "---\n",
    "**AUFGABE:**\n",
    "\n",
    "\n",
    "Sortieren Sie den Datensatz entweder dauerhaft oder für eine bestimmte Analyse – warum ist diese Sortierung sinnvoll?\n",
    "\n",
    "- Der Datensatz wird sortiert nach absteigender Bewertung, also mit der höchsten Bewertung\n",
    "- Es wird wieder gruppiert nach Kategorie\n",
    "- Um die bestbewerteste App pro Kategorie zu erhalten, wird mit `head(1)` der erste Eintrag angezeigt – da der Datensatz sortiert ist, ist es auch die mit der höchsten Bewertung"
   ]
  },
  {
   "cell_type": "code",
   "execution_count": 70,
   "id": "7e181c59-9a73-49f6-9673-d9577d896076",
   "metadata": {},
   "outputs": [
    {
     "data": {
      "text/html": [
       "<div>\n",
       "<style scoped>\n",
       "    .dataframe tbody tr th:only-of-type {\n",
       "        vertical-align: middle;\n",
       "    }\n",
       "\n",
       "    .dataframe tbody tr th {\n",
       "        vertical-align: top;\n",
       "    }\n",
       "\n",
       "    .dataframe thead th {\n",
       "        text-align: right;\n",
       "    }\n",
       "</style>\n",
       "<table border=\"1\" class=\"dataframe\">\n",
       "  <thead>\n",
       "    <tr style=\"text-align: right;\">\n",
       "      <th></th>\n",
       "      <th>App Name</th>\n",
       "      <th>Category</th>\n",
       "      <th>Rating</th>\n",
       "      <th>Number of Rating</th>\n",
       "      <th>Installs</th>\n",
       "      <th>Minimum Installs</th>\n",
       "      <th>Maximum Installs</th>\n",
       "      <th>Free of Charge</th>\n",
       "      <th>App Price</th>\n",
       "      <th>Currency</th>\n",
       "      <th>...</th>\n",
       "      <th>Developer Id</th>\n",
       "      <th>Developer Website</th>\n",
       "      <th>Released</th>\n",
       "      <th>Last Updated</th>\n",
       "      <th>Content Rating</th>\n",
       "      <th>Privacy Policy</th>\n",
       "      <th>Ad Supported</th>\n",
       "      <th>In App Purchases</th>\n",
       "      <th>Editors Choice</th>\n",
       "      <th>Released Year</th>\n",
       "    </tr>\n",
       "  </thead>\n",
       "  <tbody>\n",
       "    <tr>\n",
       "      <th>2312943</th>\n",
       "      <td>Biliyor Musun - Sonsuz Yarış</td>\n",
       "      <td>Trivia</td>\n",
       "      <td>5.0</td>\n",
       "      <td>12.0</td>\n",
       "      <td>100+</td>\n",
       "      <td>100.0</td>\n",
       "      <td>354</td>\n",
       "      <td>True</td>\n",
       "      <td>0.0</td>\n",
       "      <td>USD</td>\n",
       "      <td>...</td>\n",
       "      <td>Y Yazılım</td>\n",
       "      <td>NaN</td>\n",
       "      <td>2019-08-09</td>\n",
       "      <td>2019-08-19</td>\n",
       "      <td>Everyone</td>\n",
       "      <td>https://biliyor-musun-sons.flycricket.io/priva...</td>\n",
       "      <td>True</td>\n",
       "      <td>False</td>\n",
       "      <td>False</td>\n",
       "      <td>2019.0</td>\n",
       "    </tr>\n",
       "    <tr>\n",
       "      <th>648768</th>\n",
       "      <td>Kusnap</td>\n",
       "      <td>Shopping</td>\n",
       "      <td>5.0</td>\n",
       "      <td>8.0</td>\n",
       "      <td>1,000+</td>\n",
       "      <td>1000.0</td>\n",
       "      <td>1222</td>\n",
       "      <td>True</td>\n",
       "      <td>0.0</td>\n",
       "      <td>USD</td>\n",
       "      <td>...</td>\n",
       "      <td>Padgar Limited</td>\n",
       "      <td>https://www.kusnap.com</td>\n",
       "      <td>2020-03-02</td>\n",
       "      <td>2020-08-23</td>\n",
       "      <td>Everyone</td>\n",
       "      <td>https://kusnap.com/privacy-policy</td>\n",
       "      <td>False</td>\n",
       "      <td>False</td>\n",
       "      <td>False</td>\n",
       "      <td>2020.0</td>\n",
       "    </tr>\n",
       "    <tr>\n",
       "      <th>648882</th>\n",
       "      <td>OneRow - Блоки в один ряд!</td>\n",
       "      <td>Puzzle</td>\n",
       "      <td>5.0</td>\n",
       "      <td>8.0</td>\n",
       "      <td>100+</td>\n",
       "      <td>100.0</td>\n",
       "      <td>167</td>\n",
       "      <td>True</td>\n",
       "      <td>0.0</td>\n",
       "      <td>USD</td>\n",
       "      <td>...</td>\n",
       "      <td>CoDeV</td>\n",
       "      <td>https://codev.kz</td>\n",
       "      <td>2020-03-01</td>\n",
       "      <td>2020-03-01</td>\n",
       "      <td>Everyone</td>\n",
       "      <td>NaN</td>\n",
       "      <td>True</td>\n",
       "      <td>False</td>\n",
       "      <td>False</td>\n",
       "      <td>2020.0</td>\n",
       "    </tr>\n",
       "    <tr>\n",
       "      <th>1089944</th>\n",
       "      <td>Sarana Muamalah Muslim (SMM)</td>\n",
       "      <td>Lifestyle</td>\n",
       "      <td>5.0</td>\n",
       "      <td>17.0</td>\n",
       "      <td>100+</td>\n",
       "      <td>100.0</td>\n",
       "      <td>297</td>\n",
       "      <td>True</td>\n",
       "      <td>0.0</td>\n",
       "      <td>USD</td>\n",
       "      <td>...</td>\n",
       "      <td>BEST CHOICE</td>\n",
       "      <td>https://saranamuamalahmuslim.com</td>\n",
       "      <td>2019-10-11</td>\n",
       "      <td>2019-10-12</td>\n",
       "      <td>Everyone</td>\n",
       "      <td>https://saranamuamalahmuslim.com/privacy</td>\n",
       "      <td>False</td>\n",
       "      <td>False</td>\n",
       "      <td>False</td>\n",
       "      <td>2019.0</td>\n",
       "    </tr>\n",
       "    <tr>\n",
       "      <th>1089961</th>\n",
       "      <td>Barajeel-براجيل</td>\n",
       "      <td>Productivity</td>\n",
       "      <td>5.0</td>\n",
       "      <td>7.0</td>\n",
       "      <td>50+</td>\n",
       "      <td>50.0</td>\n",
       "      <td>65</td>\n",
       "      <td>True</td>\n",
       "      <td>0.0</td>\n",
       "      <td>USD</td>\n",
       "      <td>...</td>\n",
       "      <td>Barajeel company</td>\n",
       "      <td>NaN</td>\n",
       "      <td>2019-12-08</td>\n",
       "      <td>2020-01-12</td>\n",
       "      <td>Everyone</td>\n",
       "      <td>https://raw.githubusercontent.com/eslamfaisal/...</td>\n",
       "      <td>False</td>\n",
       "      <td>False</td>\n",
       "      <td>False</td>\n",
       "      <td>2019.0</td>\n",
       "    </tr>\n",
       "  </tbody>\n",
       "</table>\n",
       "<p>5 rows × 24 columns</p>\n",
       "</div>"
      ],
      "text/plain": [
       "                             App Name      Category  Rating  Number of Rating  \\\n",
       "2312943  Biliyor Musun - Sonsuz Yarış        Trivia     5.0              12.0   \n",
       "648768                         Kusnap      Shopping     5.0               8.0   \n",
       "648882     OneRow - Блоки в один ряд!        Puzzle     5.0               8.0   \n",
       "1089944  Sarana Muamalah Muslim (SMM)     Lifestyle     5.0              17.0   \n",
       "1089961               Barajeel-براجيل  Productivity     5.0               7.0   \n",
       "\n",
       "        Installs  Minimum Installs  Maximum Installs  Free of Charge  \\\n",
       "2312943     100+             100.0               354            True   \n",
       "648768    1,000+            1000.0              1222            True   \n",
       "648882      100+             100.0               167            True   \n",
       "1089944     100+             100.0               297            True   \n",
       "1089961      50+              50.0                65            True   \n",
       "\n",
       "         App Price Currency  ...      Developer Id  \\\n",
       "2312943        0.0      USD  ...         Y Yazılım   \n",
       "648768         0.0      USD  ...    Padgar Limited   \n",
       "648882         0.0      USD  ...             CoDeV   \n",
       "1089944        0.0      USD  ...       BEST CHOICE   \n",
       "1089961        0.0      USD  ...  Barajeel company   \n",
       "\n",
       "                        Developer Website   Released Last Updated  \\\n",
       "2312943                               NaN 2019-08-09   2019-08-19   \n",
       "648768             https://www.kusnap.com 2020-03-02   2020-08-23   \n",
       "648882                   https://codev.kz 2020-03-01   2020-03-01   \n",
       "1089944  https://saranamuamalahmuslim.com 2019-10-11   2019-10-12   \n",
       "1089961                               NaN 2019-12-08   2020-01-12   \n",
       "\n",
       "        Content Rating                                     Privacy Policy  \\\n",
       "2312943       Everyone  https://biliyor-musun-sons.flycricket.io/priva...   \n",
       "648768        Everyone                  https://kusnap.com/privacy-policy   \n",
       "648882        Everyone                                                NaN   \n",
       "1089944       Everyone           https://saranamuamalahmuslim.com/privacy   \n",
       "1089961       Everyone  https://raw.githubusercontent.com/eslamfaisal/...   \n",
       "\n",
       "        Ad Supported In App Purchases Editors Choice Released Year  \n",
       "2312943         True            False          False        2019.0  \n",
       "648768         False            False          False        2020.0  \n",
       "648882          True            False          False        2020.0  \n",
       "1089944        False            False          False        2019.0  \n",
       "1089961        False            False          False        2019.0  \n",
       "\n",
       "[5 rows x 24 columns]"
      ]
     },
     "execution_count": 70,
     "metadata": {},
     "output_type": "execute_result"
    }
   ],
   "source": [
    "apps.sort_values('Rating', ascending=False, inplace=True)\n",
    "best_catapp = apps.groupby('Category').head(1)\n",
    "best_catapp.head()"
   ]
  },
  {
   "cell_type": "markdown",
   "id": "3df20426-43a9-4264-83a0-e423cd4ed9ab",
   "metadata": {},
   "source": [
    "---\n",
    "**AUFGABE:**\n",
    "\n",
    "Dokumentieren Sie jeweils mindestens eine Erkenntnis bzgl. Datenstruktur, Daten und geschäftliche Domäne."
   ]
  },
  {
   "cell_type": "markdown",
   "id": "4573a463-34ab-413d-9964-bbc046d9573b",
   "metadata": {},
   "source": [
    "In diesem Datensatz existieren neben den Informationen zu den Anwendungen ebenso zahlreiche Informationen über die Hersteller/Entwickler. Der aktuelle Datensatz ist zufällig angeordnet und besitzt ebenso Informationen die keinen wirtschaftlichen Mehrwert einem Unternehmen bei der Analyse der Daten bietet oder nicht aussagekräftig sind. Damit diese eine bessere Erkenntnis über ihre Anwendungen und  Konkurrenzprodukte erlangen, sollte eine sinnvolle Sortierung innerhalb des Datensatzes vorhanden sein. Mit einer absteigenden Sortierung innerhalb einer Gruppierung und einer zusätzlichen Erhebung der textuellen Bewertungen könnte der Hersteller informative Schlüsse zu seiner eigenen Anwendung ziehen. Durch die Sortierung und Gruppierung sieht der Hersteller vergleichbare Produkte zu seiner Anwendung von anderen Unternehmen. Die zusätzliche Erhebung von textuellen Bewertungen ermöglicht wiederum eine zusätzliche Analyse, um bspw. funktionale und nicht-funktionale Anforderungen zu der Anwendung aus den Bewertungen zu filtern und erfassen."
   ]
  }
 ],
 "metadata": {
  "kernelspec": {
   "display_name": "Python 3 (ipykernel)",
   "language": "python",
   "name": "python3"
  },
  "language_info": {
   "codemirror_mode": {
    "name": "ipython",
    "version": 3
   },
   "file_extension": ".py",
   "mimetype": "text/x-python",
   "name": "python",
   "nbconvert_exporter": "python",
   "pygments_lexer": "ipython3",
   "version": "3.9.0"
  }
 },
 "nbformat": 4,
 "nbformat_minor": 5
}
