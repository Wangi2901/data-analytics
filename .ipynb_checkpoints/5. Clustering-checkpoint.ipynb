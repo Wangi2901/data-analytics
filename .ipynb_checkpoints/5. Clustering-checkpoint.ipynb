{
 "cells": [
  {
   "cell_type": "markdown",
   "id": "6de6a336-14a3-4432-b51d-f63cd218f9cb",
   "metadata": {},
   "source": [
    "# 5. Clustering - Modeling\n",
    "## Anforderungen an Projektumsetzung: Clustering"
   ]
  },
  {
   "cell_type": "markdown",
   "id": "6d18317f-66dd-41d1-ac10-3bec77bbecb5",
   "metadata": {},
   "source": [
    "---\n",
    "**AUFGABE:**\n",
    "\n",
    "Führen Sie mit dem Algorithmus Ihrer Wahl eine Clusteranalyse auf Ihren Daten durch."
   ]
  },
  {
   "cell_type": "code",
   "execution_count": 1,
   "id": "94ddde89-e88f-4062-9a6f-c1a6be4f8004",
   "metadata": {},
   "outputs": [],
   "source": [
    "# Imports\n",
    "\n",
    "from sklearn import cluster, datasets\n",
    "\n",
    "import matplotlib.pyplot as plt\n",
    "\n",
    "from sklearn import metrics\n",
    "\n",
    "import pandas as pd"
   ]
  },
  {
   "cell_type": "code",
   "execution_count": 3,
   "id": "ae74a8c8-955a-473c-9f26-fbb56845ef23",
   "metadata": {},
   "outputs": [],
   "source": [
    "apps = pd.read_csv(\"Daten/Google-Playstore.csv\")"
   ]
  },
  {
   "cell_type": "code",
   "execution_count": 4,
   "id": "d28fed55-ad2a-4f88-946e-c6cced6db811",
   "metadata": {},
   "outputs": [
    {
     "name": "stdout",
     "output_type": "stream",
     "text": [
      "                                                  App Name  \\\n",
      "0                                                  Gakondo   \n",
      "1                                      Ampere Battery Info   \n",
      "2                                                   Vibook   \n",
      "3        Smart City Trichy Public Service Vehicles 17UC...   \n",
      "4                                                  GROW.me   \n",
      "...                                                    ...   \n",
      "2312939                                           大俠客—熱血歸來   \n",
      "2312940                                         ORU Online   \n",
      "2312941                                     Data Structure   \n",
      "2312942                                        Devi Suktam   \n",
      "2312943                       Biliyor Musun - Sonsuz Yarış   \n",
      "\n",
      "                                       App Id       Category  Rating  \\\n",
      "0                         com.ishakwe.gakondo      Adventure     0.0   \n",
      "1                  com.webserveis.batteryinfo          Tools     4.4   \n",
      "2                        com.doantiepvien.crm   Productivity     0.0   \n",
      "3                     cst.stJoseph.ug17ucs548  Communication     5.0   \n",
      "4                        com.horodyski.grower          Tools     0.0   \n",
      "...                                       ...            ...     ...   \n",
      "2312939                         com.rxsj.ssjj   Role Playing     4.3   \n",
      "2312940              com.threedream.oruonline      Education     0.0   \n",
      "2312941  datastructure.appoworld.datastucture      Education     0.0   \n",
      "2312942                     ishan.devi.suktam  Music & Audio     3.5   \n",
      "2312943             com.yyazilim.biliyormusun         Trivia     5.0   \n",
      "\n",
      "         Rating Count  Installs  Minimum Installs  Maximum Installs  Free  \\\n",
      "0                 0.0       10+              10.0                15  True   \n",
      "1                64.0    5,000+            5000.0              7662  True   \n",
      "2                 0.0       50+              50.0                58  True   \n",
      "3                 5.0       10+              10.0                19  True   \n",
      "4                 0.0      100+             100.0               478  True   \n",
      "...               ...       ...               ...               ...   ...   \n",
      "2312939       16775.0  100,000+          100000.0            337109  True   \n",
      "2312940           0.0      100+             100.0               430  True   \n",
      "2312941           0.0      100+             100.0               202  True   \n",
      "2312942           8.0    1,000+            1000.0              2635  True   \n",
      "2312943          12.0      100+             100.0               354  True   \n",
      "\n",
      "         Price  ...                  Developer Website  \\\n",
      "0          0.0  ...        https://beniyizibyose.tk/#/   \n",
      "1          0.0  ...    https://webserveis.netlify.app/   \n",
      "2          0.0  ...                                NaN   \n",
      "3          0.0  ...   http://www.climatesmarttech.com/   \n",
      "4          0.0  ...        http://www.horodyski.com.pl   \n",
      "...        ...  ...                                ...   \n",
      "2312939    0.0  ...          http://www.4399sy.com.hk/   \n",
      "2312940    0.0  ...                http://www.oru.edu/   \n",
      "2312941    0.0  ...                                NaN   \n",
      "2312942    0.0  ...  https://a70f78905.app-ads-txt.com   \n",
      "2312943    0.0  ...                                NaN   \n",
      "\n",
      "                      Developer Email      Released  Last Updated  \\\n",
      "0              jean21101999@gmail.com  Feb 26, 2020  Feb 26, 2020   \n",
      "1                webserveis@gmail.com  May 21, 2020  May 06, 2021   \n",
      "2                 vnacrewit@gmail.com   Aug 9, 2019  Aug 19, 2019   \n",
      "3         climatesmarttech2@gmail.com  Sep 10, 2018  Oct 13, 2018   \n",
      "4           rmilekhorodyski@gmail.com  Feb 21, 2020  Nov 12, 2018   \n",
      "...                               ...           ...           ...   \n",
      "2312939           ssjjcomhk@gmail.com           NaN  Jun 01, 2021   \n",
      "2312940     3DreamDeveloper@gmail.com  Jan 17, 2018  Feb 02, 2018   \n",
      "2312941  appoworld.official@gmail.com  Aug 19, 2018  Aug 19, 2018   \n",
      "2312942           ruchisono@gmail.com   Aug 1, 2016  May 05, 2021   \n",
      "2312943     yyazilimdevelop@gmail.com   Aug 9, 2019  Aug 19, 2019   \n",
      "\n",
      "        Content Rating                                     Privacy Policy  \\\n",
      "0             Everyone                 https://beniyizibyose.tk/projects/   \n",
      "1             Everyone  https://dev4phones.wordpress.com/licencia-de-uso/   \n",
      "2             Everyone  https://www.vietnamairlines.com/vn/en/terms-an...   \n",
      "3             Everyone                                                NaN   \n",
      "4             Everyone                        http://www.horodyski.com.pl   \n",
      "...                ...                                                ...   \n",
      "2312939           Teen             http://a.4399sy.com.hk/user/aggreement   \n",
      "2312940       Everyone    http://www.oru.edu/about-oru/privacy-policy.php   \n",
      "2312941       Everyone  https://appoworld.000webhostapp.com/datastruct...   \n",
      "2312942       Everyone  https://docs.google.com/document/d/1x-9reZuLRX...   \n",
      "2312943       Everyone  https://biliyor-musun-sons.flycricket.io/priva...   \n",
      "\n",
      "        Ad Supported In App Purchases Editors Choice         Scraped Time  \n",
      "0              False            False          False  2021-06-15 20:19:35  \n",
      "1               True            False          False  2021-06-15 20:19:35  \n",
      "2              False            False          False  2021-06-15 20:19:35  \n",
      "3               True            False          False  2021-06-15 20:19:35  \n",
      "4              False            False          False  2021-06-15 20:19:35  \n",
      "...              ...              ...            ...                  ...  \n",
      "2312939        False            False          False  2021-06-16 12:59:18  \n",
      "2312940        False            False          False  2021-06-16 12:59:19  \n",
      "2312941        False            False          False  2021-06-16 12:59:19  \n",
      "2312942         True            False          False  2021-06-16 12:59:19  \n",
      "2312943         True            False          False  2021-06-16 12:59:19  \n",
      "\n",
      "[2312944 rows x 24 columns]\n"
     ]
    }
   ],
   "source": [
    "print(apps)"
   ]
  },
  {
   "cell_type": "code",
   "execution_count": 17,
   "id": "202c99c0-0317-4efc-8d0b-10f1cd5739e2",
   "metadata": {},
   "outputs": [],
   "source": [
    "# Evalutation ohne Zielklassen, da kein target vorhanden\n",
    "dataset = apps[['Rating', 'Price']].dropna()"
   ]
  },
  {
   "cell_type": "code",
   "execution_count": 13,
   "id": "a7f2d65f-74a4-4f48-9167-8a2161e24d0f",
   "metadata": {},
   "outputs": [],
   "source": [
    "kmeans = cluster.KMeans(n_clusters=6, random_state=6).fit(dataset)"
   ]
  },
  {
   "cell_type": "code",
   "execution_count": 14,
   "id": "7b4ff527-5a3a-4eca-88b4-d1e70439bb9e",
   "metadata": {},
   "outputs": [
    {
     "name": "stdout",
     "output_type": "stream",
     "text": [
      "[1 0 1 ... 1 0 0]\n"
     ]
    }
   ],
   "source": [
    "print(kmeans.labels_)"
   ]
  },
  {
   "cell_type": "code",
   "execution_count": 15,
   "id": "443ff8fa-9558-4dde-914f-18209568a7f0",
   "metadata": {},
   "outputs": [
    {
     "name": "stdout",
     "output_type": "stream",
     "text": [
      "Cluster_label: 0 Anzahl der Apps:  1209755\n",
      "Cluster_label: 1 Anzahl der Apps:  1073963\n",
      "Cluster_label: 2 Anzahl der Apps:  68\n",
      "Cluster_label: 3 Anzahl der Apps:  547\n",
      "Cluster_label: 4 Anzahl der Apps:  5635\n",
      "Cluster_label: 5 Anzahl der Apps:  93\n"
     ]
    }
   ],
   "source": [
    "for i in range(0,6):\n",
    "    print(\"Cluster_label:\", i, \"Anzahl der Apps: \", list(kmeans.labels_).count(i))"
   ]
  },
  {
   "cell_type": "code",
   "execution_count": 16,
   "id": "e9b6020b-8b8a-4da4-811f-38212082a752",
   "metadata": {},
   "outputs": [
    {
     "data": {
      "text/plain": [
       "array([[4.13472860e+00, 4.46899988e-02],\n",
       "       [2.71870632e-02, 3.51354663e-02],\n",
       "       [7.72058824e-01, 3.60769230e+02],\n",
       "       [1.43071298e+00, 6.23735145e+01],\n",
       "       [2.34129547e+00, 1.27262223e+01],\n",
       "       [1.25376344e+00, 1.81389103e+02]])"
      ]
     },
     "execution_count": 16,
     "metadata": {},
     "output_type": "execute_result"
    }
   ],
   "source": [
    "kmeans.cluster_centers_"
   ]
  },
  {
   "cell_type": "markdown",
   "id": "80fac4a0-0fef-46a1-8248-a48f3ffc562d",
   "metadata": {},
   "source": [
    "- Es wurden 6 Cluster gewählt, weil es Bewertungen von 1.0 bis 5.0 existieren. Zu dem gibt es Apps, die keine Bewertungen haben und in diesem Datensatz mit 0.0 gesetzt wurden. \n",
    "- In dieser Clusteranalyse wurde das \n",
    "    - Clusterlabel 0: 1209755 mal indentifiziert und\n",
    "    - Clusterlabel 5: 93 mal indetifziert.\n",
    "- Clusterlabel 0 hat die Rating-Zentroide bei durchschnittlich  4.134, welche ebenso durchschnittlich bei 0.04 USD liegen.\n",
    "- Das Clusterlabel 2 wiederum hat die Rating-Zentroide bei durchschnittlich 0.772, welche bei durchschnittlich 360.76 USD liegen."
   ]
  },
  {
   "cell_type": "markdown",
   "id": "495beff6-92aa-432f-be84-62e622b14a47",
   "metadata": {},
   "source": [
    "---\n",
    "**AUFGABE:**\n",
    "\n",
    "Setzen Sie die Parameter des Algorithmus mit Hilfe überwachter oder unüberwachter Evaluationsmethoden. \n",
    "Begründen Sie die Auswahl des Evaluationsalgorithmus."
   ]
  },
  {
   "cell_type": "code",
   "execution_count": null,
   "id": "427b7639-32fb-4ed5-bfa8-842501dfc151",
   "metadata": {},
   "outputs": [],
   "source": []
  },
  {
   "cell_type": "markdown",
   "id": "4d31f528-9f3c-446a-a0b7-0015a8aceef6",
   "metadata": {},
   "source": [
    "---\n",
    "**AUFGABE:**\n",
    "\n",
    "Betrachten Sie die gebildeten Cluster. \n",
    "Wie gut sind sie intuitiv? \n",
    "Welche Informationen über Ihren Datensatz ziehen Sie daraus? \n",
    "Leiten sich weitere Schritte der Datenbereinigung oder der Datenaufbereitung ab?"
   ]
  },
  {
   "cell_type": "code",
   "execution_count": null,
   "id": "9536a5e7-be3f-42ab-9587-22d0c450fea1",
   "metadata": {},
   "outputs": [],
   "source": []
  },
  {
   "cell_type": "markdown",
   "id": "93fe7032-37a7-4282-ae79-3f63bc9a91e8",
   "metadata": {},
   "source": [
    "---\n",
    "**AUFGABE:**\n",
    "\n",
    "Können Sie in Ihrem Projektkontext Clustering noch für weitere Zwecke (z.B. Outlier Detection oder Profilerstellung) verwenden? \n",
    "(Dies ist nicht immer der Fall.) Skizzieren Sie ggf. kurz ein mögliches Vorgehen."
   ]
  },
  {
   "cell_type": "code",
   "execution_count": null,
   "id": "168fe7e8-d6c1-4184-a038-b95d46bb935b",
   "metadata": {},
   "outputs": [],
   "source": []
  }
 ],
 "metadata": {
  "kernelspec": {
   "display_name": "Python 3 (ipykernel)",
   "language": "python",
   "name": "python3"
  },
  "language_info": {
   "codemirror_mode": {
    "name": "ipython",
    "version": 3
   },
   "file_extension": ".py",
   "mimetype": "text/x-python",
   "name": "python",
   "nbconvert_exporter": "python",
   "pygments_lexer": "ipython3",
   "version": "3.8.10"
  }
 },
 "nbformat": 4,
 "nbformat_minor": 5
}
